{
 "cells": [
  {
   "cell_type": "code",
   "execution_count": 1,
   "metadata": {},
   "outputs": [],
   "source": [
    "import numpy as np\n",
    "import tensorflow as tf\n",
    "from tensorflow import keras\n",
    "\n",
    "from keras import layers\n",
    "from keras import regularizers\n",
    "from keras import backend as K\n",
    "from keras import Sequential, Input\n",
    "from keras.optimizers import SGD, Adam\n",
    "from keras.losses import categorical_crossentropy\n",
    "from keras.callbacks import LearningRateScheduler\n",
    "\n",
    "import matplotlib.pyplot as plt\n",
    "\n",
    "import math\n",
    "\n",
    "from utils.constants import CLASSES, IMAGE_SIZE\n",
    "from utils.load_dataset import load_dataset"
   ]
  },
  {
   "cell_type": "code",
   "execution_count": 2,
   "metadata": {},
   "outputs": [],
   "source": [
    "# make the result reproducible\n",
    "keras.utils.set_random_seed(42)"
   ]
  },
  {
   "cell_type": "code",
   "execution_count": 3,
   "metadata": {},
   "outputs": [
    {
     "name": "stdout",
     "output_type": "stream",
     "text": [
      "[PhysicalDevice(name='/physical_device:CPU:0', device_type='CPU'), PhysicalDevice(name='/physical_device:GPU:0', device_type='GPU')]\n"
     ]
    }
   ],
   "source": [
    "physical_devices = tf.config.list_physical_devices()\n",
    "print(physical_devices)"
   ]
  },
  {
   "cell_type": "code",
   "execution_count": 4,
   "metadata": {},
   "outputs": [],
   "source": [
    "tf.config.set_visible_devices(physical_devices[1], 'GPU')"
   ]
  },
  {
   "cell_type": "markdown",
   "metadata": {},
   "source": [
    "## Building Dataset"
   ]
  },
  {
   "cell_type": "markdown",
   "metadata": {},
   "source": [
    "### Attributes description\n",
    "\n",
    "- a1 - face containing flag: (1-with face, 0-without face),\n",
    "- a2 - image number in current class (person) beginning from 0,\n",
    "- a3 - class (person) number beginning from 0,\n",
    "- a4 - sex (0 - woman, 1 - man)\n",
    "- a5 - race (0- white, 1 - negro, 2 - indian, ...)\n",
    "- a6 - age (0 - baby, 1 - young, 2 - middle-age, 3 - old) \n",
    "- a7 - binokulars (0 - without, 1 - transparent, 2 - dark)\n",
    "- a8 - emotional expression (not state!) (0 - sad, 1 - neutral, 2 - happy)"
   ]
  },
  {
   "cell_type": "code",
   "execution_count": 5,
   "metadata": {},
   "outputs": [],
   "source": [
    "DIRPATH = './data'\n",
    "X_train, X_test, y_train, y_test = load_dataset(DIRPATH)"
   ]
  },
  {
   "cell_type": "markdown",
   "metadata": {},
   "source": [
    "## Building a model"
   ]
  },
  {
   "cell_type": "markdown",
   "metadata": {},
   "source": [
    "Testing LeNet-5 Architecture"
   ]
  },
  {
   "cell_type": "code",
   "execution_count": 6,
   "metadata": {},
   "outputs": [
    {
     "name": "stdout",
     "output_type": "stream",
     "text": [
      "Model: \"sequential\"\n",
      "_________________________________________________________________\n",
      " Layer (type)                Output Shape              Param #   \n",
      "=================================================================\n",
      " conv2d (Conv2D)             (None, 24, 24, 6)         156       \n",
      "                                                                 \n",
      " max_pooling2d (MaxPooling2D  (None, 12, 12, 6)        0         \n",
      " )                                                               \n",
      "                                                                 \n",
      " dropout (Dropout)           (None, 12, 12, 6)         0         \n",
      "                                                                 \n",
      " conv2d_1 (Conv2D)           (None, 12, 12, 16)        2416      \n",
      "                                                                 \n",
      " max_pooling2d_1 (MaxPooling  (None, 6, 6, 16)         0         \n",
      " 2D)                                                             \n",
      "                                                                 \n",
      " dropout_1 (Dropout)         (None, 6, 6, 16)          0         \n",
      "                                                                 \n",
      " conv2d_2 (Conv2D)           (None, 6, 6, 120)         48120     \n",
      "                                                                 \n",
      " flatten (Flatten)           (None, 4320)              0         \n",
      "                                                                 \n",
      " dropout_2 (Dropout)         (None, 4320)              0         \n",
      "                                                                 \n",
      " dense (Dense)               (None, 84)                362964    \n",
      "                                                                 \n",
      " dense_1 (Dense)             (None, 48)                4080      \n",
      "                                                                 \n",
      "=================================================================\n",
      "Total params: 417,736\n",
      "Trainable params: 417,736\n",
      "Non-trainable params: 0\n",
      "_________________________________________________________________\n"
     ]
    }
   ],
   "source": [
    "from functools import partial\n",
    "\n",
    "conv_regularizer = regularizers.l2(0.0006124219567560658)\n",
    "dense_regularizer = regularizers.l2(0.03011157028527752)\n",
    "\n",
    "activation_def = 'tanh'\n",
    "\n",
    "# {'conv_regularizer': 0.0006124219567560658, 'dense_regularizer': 0.03011157028527752, 'dropout_1': 0.3433425343566813, 'dropout_2': 0.1625206873530064, 'dropout_3': 0.019169937499455086}.\n",
    "\n",
    "DefaultConv2D = partial(tf.keras.layers.Conv2D, kernel_size=5, padding=\"same\", activation=activation_def,\n",
    "                        kernel_regularizer=conv_regularizer) # kernel_initializer=\"he_normal\")\n",
    "\n",
    "model = Sequential(\n",
    "  [\n",
    "    Input(shape=(IMAGE_SIZE, IMAGE_SIZE, 1)),\n",
    "    DefaultConv2D(6),\n",
    "    layers.MaxPooling2D(pool_size=2, strides=2),\n",
    "\n",
    "    layers.Dropout(0.3433425343566813),\n",
    "    DefaultConv2D(16),\n",
    "    layers.MaxPooling2D(pool_size=2, strides=2),\n",
    "\n",
    "    layers.Dropout(0.1625206873530064),\n",
    "    DefaultConv2D(120),\n",
    "\n",
    "    layers.Flatten(),\n",
    "    layers.Dropout(0.019169937499455086),\n",
    "    layers.Dense(84, activation=activation_def, kernel_regularizer=dense_regularizer),\n",
    "    layers.Dense(CLASSES, activation='softmax'),\n",
    "  ]\n",
    ")\n",
    "\n",
    "model.summary()"
   ]
  },
  {
   "cell_type": "code",
   "execution_count": 7,
   "metadata": {},
   "outputs": [],
   "source": [
    "# def get_lr_metric(optimizer):\n",
    "#   def lr(y_true, y_pred):\n",
    "#     return optimizer._decayed_lr(tf.float32) # I use ._decayed_lr method instead of .lr\n",
    "#   return lr\n",
    "\n",
    "# lr_metric = get_lr_metric(optimizer)\n",
    "# model.compile(loss=categorical_crossentropy, optimizer=optimizer, metrics=[\"accuracy\", lr_metric])\n",
    "\n",
    "\n",
    "optimizer = Adam(learning_rate=0.001)\n",
    "model.compile(loss=categorical_crossentropy, optimizer=optimizer, metrics=[\"accuracy\"])"
   ]
  },
  {
   "cell_type": "code",
   "execution_count": 8,
   "metadata": {},
   "outputs": [],
   "source": [
    "# def step_decay(epoch):\n",
    "#   initial_lrate = 0.1\n",
    "#   drop = 0.9\n",
    "#   epochs_drop = 10.0\n",
    "#   lrate = initial_lrate * math.pow(drop,  \n",
    "#           math.floor((1+epoch)/epochs_drop))\n",
    "#   return lrate\n",
    " \n",
    "# lrate_scheduler_callback = LearningRateScheduler(step_decay)"
   ]
  },
  {
   "cell_type": "markdown",
   "metadata": {},
   "source": [
    "## Training Preparation"
   ]
  },
  {
   "cell_type": "code",
   "execution_count": 9,
   "metadata": {},
   "outputs": [],
   "source": [
    "CHECKPOINT_PATH = 'models/checkpoints/famous48_test_model_v2_best.keras'"
   ]
  },
  {
   "cell_type": "code",
   "execution_count": 10,
   "metadata": {},
   "outputs": [],
   "source": [
    "model_checkpoint_callback = keras.callbacks.ModelCheckpoint(\n",
    "  filepath=CHECKPOINT_PATH,\n",
    "  save_weights_only=False,\n",
    "  monitor='val_accuracy',\n",
    "  mode='max',\n",
    "  save_best_only=True,\n",
    ")"
   ]
  },
  {
   "cell_type": "code",
   "execution_count": 11,
   "metadata": {},
   "outputs": [
    {
     "name": "stdout",
     "output_type": "stream",
     "text": [
      "Epoch 1/100\n",
      "22/22 [==============================] - 3s 22ms/step - loss: 6.3005 - accuracy: 0.0565 - val_loss: 4.4307 - val_accuracy: 0.0512\n",
      "Epoch 2/100\n",
      "22/22 [==============================] - 0s 10ms/step - loss: 3.7762 - accuracy: 0.1635 - val_loss: 3.2106 - val_accuracy: 0.2495\n",
      "Epoch 3/100\n",
      "22/22 [==============================] - 0s 10ms/step - loss: 3.0656 - accuracy: 0.2833 - val_loss: 2.7797 - val_accuracy: 0.3739\n",
      "Epoch 4/100\n",
      "22/22 [==============================] - 0s 10ms/step - loss: 2.7683 - accuracy: 0.3599 - val_loss: 2.5625 - val_accuracy: 0.3976\n",
      "Epoch 5/100\n",
      "22/22 [==============================] - 0s 10ms/step - loss: 2.5774 - accuracy: 0.4081 - val_loss: 2.3971 - val_accuracy: 0.4470\n",
      "Epoch 6/100\n",
      "22/22 [==============================] - 0s 10ms/step - loss: 2.4351 - accuracy: 0.4417 - val_loss: 2.3208 - val_accuracy: 0.4580\n",
      "Epoch 7/100\n",
      "22/22 [==============================] - 0s 10ms/step - loss: 2.3334 - accuracy: 0.4671 - val_loss: 2.1984 - val_accuracy: 0.4909\n",
      "Epoch 8/100\n",
      "22/22 [==============================] - 0s 10ms/step - loss: 2.2335 - accuracy: 0.4984 - val_loss: 2.0876 - val_accuracy: 0.5448\n",
      "Epoch 9/100\n",
      "22/22 [==============================] - 0s 10ms/step - loss: 2.1870 - accuracy: 0.5046 - val_loss: 2.0243 - val_accuracy: 0.5393\n",
      "Epoch 10/100\n",
      "22/22 [==============================] - 0s 10ms/step - loss: 2.0982 - accuracy: 0.5283 - val_loss: 1.9946 - val_accuracy: 0.5539\n",
      "Epoch 11/100\n",
      "22/22 [==============================] - 0s 10ms/step - loss: 2.0256 - accuracy: 0.5498 - val_loss: 1.8852 - val_accuracy: 0.5887\n",
      "Epoch 12/100\n",
      "22/22 [==============================] - 0s 10ms/step - loss: 1.9639 - accuracy: 0.5759 - val_loss: 1.8704 - val_accuracy: 0.5923\n",
      "Epoch 13/100\n",
      "22/22 [==============================] - 0s 10ms/step - loss: 1.9502 - accuracy: 0.5773 - val_loss: 1.8627 - val_accuracy: 0.5750\n",
      "Epoch 14/100\n",
      "22/22 [==============================] - 0s 10ms/step - loss: 1.9140 - accuracy: 0.5807 - val_loss: 1.7947 - val_accuracy: 0.6188\n",
      "Epoch 15/100\n",
      "22/22 [==============================] - 0s 10ms/step - loss: 1.8823 - accuracy: 0.5837 - val_loss: 1.7540 - val_accuracy: 0.6307\n",
      "Epoch 16/100\n",
      "22/22 [==============================] - 0s 11ms/step - loss: 1.8168 - accuracy: 0.6047 - val_loss: 1.6801 - val_accuracy: 0.6453\n",
      "Epoch 17/100\n",
      "22/22 [==============================] - 0s 10ms/step - loss: 1.7819 - accuracy: 0.6191 - val_loss: 1.6876 - val_accuracy: 0.6389\n",
      "Epoch 18/100\n",
      "22/22 [==============================] - 0s 10ms/step - loss: 1.7445 - accuracy: 0.6278 - val_loss: 1.6438 - val_accuracy: 0.6682\n",
      "Epoch 19/100\n",
      "22/22 [==============================] - 0s 10ms/step - loss: 1.7322 - accuracy: 0.6296 - val_loss: 1.6352 - val_accuracy: 0.6481\n",
      "Epoch 20/100\n",
      "22/22 [==============================] - 0s 10ms/step - loss: 1.7192 - accuracy: 0.6367 - val_loss: 1.6186 - val_accuracy: 0.6746\n",
      "Epoch 21/100\n",
      "22/22 [==============================] - 0s 10ms/step - loss: 1.6611 - accuracy: 0.6468 - val_loss: 1.5489 - val_accuracy: 0.6773\n",
      "Epoch 22/100\n",
      "22/22 [==============================] - 0s 10ms/step - loss: 1.6416 - accuracy: 0.6479 - val_loss: 1.5500 - val_accuracy: 0.6837\n",
      "Epoch 23/100\n",
      "22/22 [==============================] - 0s 10ms/step - loss: 1.6309 - accuracy: 0.6543 - val_loss: 1.5470 - val_accuracy: 0.6801\n",
      "Epoch 24/100\n",
      "22/22 [==============================] - 0s 10ms/step - loss: 1.6223 - accuracy: 0.6628 - val_loss: 1.5184 - val_accuracy: 0.6892\n",
      "Epoch 25/100\n",
      "22/22 [==============================] - 0s 10ms/step - loss: 1.5887 - accuracy: 0.6696 - val_loss: 1.4919 - val_accuracy: 0.6910\n",
      "Epoch 26/100\n",
      "22/22 [==============================] - 0s 10ms/step - loss: 1.5639 - accuracy: 0.6804 - val_loss: 1.5271 - val_accuracy: 0.6846\n",
      "Epoch 27/100\n",
      "22/22 [==============================] - 0s 10ms/step - loss: 1.5659 - accuracy: 0.6818 - val_loss: 1.5020 - val_accuracy: 0.6901\n",
      "Epoch 28/100\n",
      "22/22 [==============================] - 0s 10ms/step - loss: 1.5380 - accuracy: 0.6852 - val_loss: 1.4678 - val_accuracy: 0.7057\n",
      "Epoch 29/100\n",
      "22/22 [==============================] - 0s 10ms/step - loss: 1.5107 - accuracy: 0.6884 - val_loss: 1.4645 - val_accuracy: 0.7029\n",
      "Epoch 30/100\n",
      "22/22 [==============================] - 0s 10ms/step - loss: 1.5000 - accuracy: 0.7000 - val_loss: 1.4343 - val_accuracy: 0.7130\n",
      "Epoch 31/100\n",
      "22/22 [==============================] - 0s 10ms/step - loss: 1.4958 - accuracy: 0.7023 - val_loss: 1.4484 - val_accuracy: 0.7185\n",
      "Epoch 32/100\n",
      "22/22 [==============================] - 0s 10ms/step - loss: 1.4662 - accuracy: 0.7101 - val_loss: 1.4128 - val_accuracy: 0.7285\n",
      "Epoch 33/100\n",
      "22/22 [==============================] - 0s 10ms/step - loss: 1.4592 - accuracy: 0.7032 - val_loss: 1.4150 - val_accuracy: 0.7249\n",
      "Epoch 34/100\n",
      "22/22 [==============================] - 0s 10ms/step - loss: 1.4446 - accuracy: 0.7138 - val_loss: 1.4468 - val_accuracy: 0.7212\n",
      "Epoch 35/100\n",
      "22/22 [==============================] - 0s 9ms/step - loss: 1.4429 - accuracy: 0.7085 - val_loss: 1.3538 - val_accuracy: 0.7431\n",
      "Epoch 36/100\n",
      "22/22 [==============================] - 0s 9ms/step - loss: 1.4051 - accuracy: 0.7238 - val_loss: 1.3824 - val_accuracy: 0.7121\n",
      "Epoch 37/100\n",
      "22/22 [==============================] - 0s 10ms/step - loss: 1.3949 - accuracy: 0.7273 - val_loss: 1.3882 - val_accuracy: 0.7239\n",
      "Epoch 38/100\n",
      "22/22 [==============================] - 0s 10ms/step - loss: 1.3909 - accuracy: 0.7234 - val_loss: 1.3340 - val_accuracy: 0.7404\n",
      "Epoch 39/100\n",
      "22/22 [==============================] - 0s 9ms/step - loss: 1.3886 - accuracy: 0.7291 - val_loss: 1.3395 - val_accuracy: 0.7431\n",
      "Epoch 40/100\n",
      "22/22 [==============================] - 0s 10ms/step - loss: 1.3862 - accuracy: 0.7414 - val_loss: 1.3842 - val_accuracy: 0.7340\n",
      "Epoch 41/100\n",
      "22/22 [==============================] - 0s 10ms/step - loss: 1.3629 - accuracy: 0.7318 - val_loss: 1.3210 - val_accuracy: 0.7422\n",
      "Epoch 42/100\n",
      "22/22 [==============================] - 0s 10ms/step - loss: 1.3308 - accuracy: 0.7453 - val_loss: 1.3212 - val_accuracy: 0.7468\n",
      "Epoch 43/100\n",
      "22/22 [==============================] - 0s 10ms/step - loss: 1.3366 - accuracy: 0.7490 - val_loss: 1.3276 - val_accuracy: 0.7413\n",
      "Epoch 44/100\n",
      "22/22 [==============================] - 0s 9ms/step - loss: 1.3502 - accuracy: 0.7401 - val_loss: 1.3276 - val_accuracy: 0.7505\n",
      "Epoch 45/100\n",
      "22/22 [==============================] - 0s 9ms/step - loss: 1.3279 - accuracy: 0.7485 - val_loss: 1.3038 - val_accuracy: 0.7569\n",
      "Epoch 46/100\n",
      "22/22 [==============================] - 0s 10ms/step - loss: 1.3157 - accuracy: 0.7524 - val_loss: 1.2946 - val_accuracy: 0.7477\n",
      "Epoch 47/100\n",
      "22/22 [==============================] - 0s 10ms/step - loss: 1.3207 - accuracy: 0.7478 - val_loss: 1.3067 - val_accuracy: 0.7477\n",
      "Epoch 48/100\n",
      "22/22 [==============================] - 0s 10ms/step - loss: 1.3126 - accuracy: 0.7503 - val_loss: 1.3174 - val_accuracy: 0.7505\n",
      "Epoch 49/100\n",
      "22/22 [==============================] - 0s 10ms/step - loss: 1.2950 - accuracy: 0.7529 - val_loss: 1.2880 - val_accuracy: 0.7678\n",
      "Epoch 50/100\n",
      "22/22 [==============================] - 0s 10ms/step - loss: 1.2742 - accuracy: 0.7661 - val_loss: 1.2862 - val_accuracy: 0.7514\n",
      "Epoch 51/100\n",
      "22/22 [==============================] - 0s 10ms/step - loss: 1.2601 - accuracy: 0.7709 - val_loss: 1.2832 - val_accuracy: 0.7550\n",
      "Epoch 52/100\n",
      "22/22 [==============================] - 0s 10ms/step - loss: 1.2667 - accuracy: 0.7668 - val_loss: 1.2850 - val_accuracy: 0.7541\n",
      "Epoch 53/100\n",
      "22/22 [==============================] - 0s 10ms/step - loss: 1.2649 - accuracy: 0.7677 - val_loss: 1.2721 - val_accuracy: 0.7559\n",
      "Epoch 54/100\n",
      "22/22 [==============================] - 0s 10ms/step - loss: 1.2651 - accuracy: 0.7654 - val_loss: 1.2670 - val_accuracy: 0.7779\n",
      "Epoch 55/100\n",
      "22/22 [==============================] - 0s 10ms/step - loss: 1.2466 - accuracy: 0.7755 - val_loss: 1.2515 - val_accuracy: 0.7559\n",
      "Epoch 56/100\n",
      "22/22 [==============================] - 0s 11ms/step - loss: 1.2578 - accuracy: 0.7666 - val_loss: 1.2649 - val_accuracy: 0.7678\n",
      "Epoch 57/100\n",
      "22/22 [==============================] - 0s 10ms/step - loss: 1.2382 - accuracy: 0.7737 - val_loss: 1.2233 - val_accuracy: 0.7788\n",
      "Epoch 58/100\n",
      "22/22 [==============================] - 0s 10ms/step - loss: 1.2237 - accuracy: 0.7775 - val_loss: 1.2820 - val_accuracy: 0.7505\n",
      "Epoch 59/100\n",
      "22/22 [==============================] - 0s 10ms/step - loss: 1.2145 - accuracy: 0.7803 - val_loss: 1.2362 - val_accuracy: 0.7815\n",
      "Epoch 60/100\n",
      "22/22 [==============================] - 0s 10ms/step - loss: 1.1873 - accuracy: 0.7874 - val_loss: 1.2325 - val_accuracy: 0.7742\n",
      "Epoch 61/100\n",
      "22/22 [==============================] - 0s 10ms/step - loss: 1.2192 - accuracy: 0.7766 - val_loss: 1.2298 - val_accuracy: 0.7687\n",
      "Epoch 62/100\n",
      "22/22 [==============================] - 0s 10ms/step - loss: 1.1774 - accuracy: 0.7926 - val_loss: 1.2139 - val_accuracy: 0.7925\n",
      "Epoch 63/100\n",
      "22/22 [==============================] - 0s 10ms/step - loss: 1.1762 - accuracy: 0.7906 - val_loss: 1.2422 - val_accuracy: 0.7724\n",
      "Epoch 64/100\n",
      "22/22 [==============================] - 0s 10ms/step - loss: 1.1767 - accuracy: 0.7949 - val_loss: 1.2191 - val_accuracy: 0.7861\n",
      "Epoch 65/100\n",
      "22/22 [==============================] - 0s 10ms/step - loss: 1.1651 - accuracy: 0.7949 - val_loss: 1.1952 - val_accuracy: 0.7852\n",
      "Epoch 66/100\n",
      "22/22 [==============================] - 0s 9ms/step - loss: 1.1679 - accuracy: 0.7940 - val_loss: 1.1823 - val_accuracy: 0.7852\n",
      "Epoch 67/100\n",
      "22/22 [==============================] - 0s 10ms/step - loss: 1.1469 - accuracy: 0.7922 - val_loss: 1.1959 - val_accuracy: 0.7888\n",
      "Epoch 68/100\n",
      "22/22 [==============================] - 0s 9ms/step - loss: 1.1467 - accuracy: 0.8000 - val_loss: 1.1892 - val_accuracy: 0.7843\n",
      "Epoch 69/100\n",
      "22/22 [==============================] - 0s 10ms/step - loss: 1.1403 - accuracy: 0.7963 - val_loss: 1.1942 - val_accuracy: 0.7907\n",
      "Epoch 70/100\n",
      "22/22 [==============================] - 0s 10ms/step - loss: 1.1339 - accuracy: 0.8043 - val_loss: 1.2005 - val_accuracy: 0.7925\n",
      "Epoch 71/100\n",
      "22/22 [==============================] - 0s 10ms/step - loss: 1.1182 - accuracy: 0.8086 - val_loss: 1.1808 - val_accuracy: 0.7852\n",
      "Epoch 72/100\n",
      "22/22 [==============================] - 0s 10ms/step - loss: 1.1196 - accuracy: 0.8105 - val_loss: 1.1952 - val_accuracy: 0.7834\n",
      "Epoch 73/100\n",
      "22/22 [==============================] - 0s 10ms/step - loss: 1.1139 - accuracy: 0.8054 - val_loss: 1.1572 - val_accuracy: 0.7916\n",
      "Epoch 74/100\n",
      "22/22 [==============================] - 0s 10ms/step - loss: 1.1298 - accuracy: 0.8066 - val_loss: 1.2117 - val_accuracy: 0.7824\n",
      "Epoch 75/100\n",
      "22/22 [==============================] - 0s 9ms/step - loss: 1.1244 - accuracy: 0.8102 - val_loss: 1.1671 - val_accuracy: 0.7788\n",
      "Epoch 76/100\n",
      "22/22 [==============================] - 0s 10ms/step - loss: 1.1152 - accuracy: 0.8041 - val_loss: 1.2014 - val_accuracy: 0.7751\n",
      "Epoch 77/100\n",
      "22/22 [==============================] - 0s 10ms/step - loss: 1.0976 - accuracy: 0.8150 - val_loss: 1.1808 - val_accuracy: 0.7925\n",
      "Epoch 78/100\n",
      "22/22 [==============================] - 0s 10ms/step - loss: 1.1202 - accuracy: 0.8043 - val_loss: 1.1204 - val_accuracy: 0.8163\n",
      "Epoch 79/100\n",
      "22/22 [==============================] - 0s 10ms/step - loss: 1.0814 - accuracy: 0.8187 - val_loss: 1.1514 - val_accuracy: 0.8071\n",
      "Epoch 80/100\n",
      "22/22 [==============================] - 0s 9ms/step - loss: 1.0909 - accuracy: 0.8141 - val_loss: 1.1900 - val_accuracy: 0.7852\n",
      "Epoch 81/100\n",
      "22/22 [==============================] - 0s 10ms/step - loss: 1.0950 - accuracy: 0.8150 - val_loss: 1.1921 - val_accuracy: 0.7852\n",
      "Epoch 82/100\n",
      "22/22 [==============================] - 0s 10ms/step - loss: 1.1056 - accuracy: 0.8093 - val_loss: 1.1821 - val_accuracy: 0.7980\n",
      "Epoch 83/100\n",
      "22/22 [==============================] - 0s 10ms/step - loss: 1.1018 - accuracy: 0.8118 - val_loss: 1.1759 - val_accuracy: 0.7980\n",
      "Epoch 84/100\n",
      "22/22 [==============================] - 0s 10ms/step - loss: 1.0709 - accuracy: 0.8189 - val_loss: 1.1578 - val_accuracy: 0.8053\n",
      "Epoch 85/100\n",
      "22/22 [==============================] - 0s 10ms/step - loss: 1.0704 - accuracy: 0.8217 - val_loss: 1.1739 - val_accuracy: 0.7916\n",
      "Epoch 86/100\n",
      "22/22 [==============================] - 0s 10ms/step - loss: 1.0626 - accuracy: 0.8258 - val_loss: 1.1230 - val_accuracy: 0.8163\n",
      "Epoch 87/100\n",
      "22/22 [==============================] - 0s 11ms/step - loss: 1.0726 - accuracy: 0.8185 - val_loss: 1.1341 - val_accuracy: 0.8090\n",
      "Epoch 88/100\n",
      "22/22 [==============================] - 0s 10ms/step - loss: 1.0494 - accuracy: 0.8290 - val_loss: 1.1623 - val_accuracy: 0.8035\n",
      "Epoch 89/100\n",
      "22/22 [==============================] - 0s 10ms/step - loss: 1.0531 - accuracy: 0.8262 - val_loss: 1.1516 - val_accuracy: 0.7962\n",
      "Epoch 90/100\n",
      "22/22 [==============================] - 0s 10ms/step - loss: 1.0508 - accuracy: 0.8288 - val_loss: 1.1300 - val_accuracy: 0.7925\n",
      "Epoch 91/100\n",
      "22/22 [==============================] - 0s 10ms/step - loss: 1.0332 - accuracy: 0.8374 - val_loss: 1.1464 - val_accuracy: 0.8026\n",
      "Epoch 92/100\n",
      "22/22 [==============================] - 0s 10ms/step - loss: 1.0323 - accuracy: 0.8315 - val_loss: 1.1174 - val_accuracy: 0.8062\n",
      "Epoch 93/100\n",
      "22/22 [==============================] - 0s 10ms/step - loss: 1.0456 - accuracy: 0.8349 - val_loss: 1.1151 - val_accuracy: 0.8144\n",
      "Epoch 94/100\n",
      "22/22 [==============================] - 0s 10ms/step - loss: 1.0192 - accuracy: 0.8349 - val_loss: 1.1131 - val_accuracy: 0.8099\n",
      "Epoch 95/100\n",
      "22/22 [==============================] - 0s 10ms/step - loss: 1.0124 - accuracy: 0.8372 - val_loss: 1.1120 - val_accuracy: 0.8163\n",
      "Epoch 96/100\n",
      "22/22 [==============================] - 0s 10ms/step - loss: 1.0249 - accuracy: 0.8324 - val_loss: 1.1313 - val_accuracy: 0.8026\n",
      "Epoch 97/100\n",
      "22/22 [==============================] - 0s 10ms/step - loss: 1.0210 - accuracy: 0.8361 - val_loss: 1.1272 - val_accuracy: 0.8053\n",
      "Epoch 98/100\n",
      "22/22 [==============================] - 0s 10ms/step - loss: 1.0190 - accuracy: 0.8333 - val_loss: 1.1014 - val_accuracy: 0.8181\n",
      "Epoch 99/100\n",
      "22/22 [==============================] - 0s 9ms/step - loss: 1.0139 - accuracy: 0.8416 - val_loss: 1.1173 - val_accuracy: 0.8154\n",
      "Epoch 100/100\n",
      "22/22 [==============================] - 0s 10ms/step - loss: 0.9949 - accuracy: 0.8409 - val_loss: 1.1182 - val_accuracy: 0.8099\n",
      "CPU times: total: 31.3 s\n",
      "Wall time: 24.7 s\n"
     ]
    }
   ],
   "source": [
    "%%time\n",
    "batch_size = 200\n",
    "epochs = 100\n",
    "\n",
    "history = model.fit(\n",
    "  X_train, y_train,\n",
    "  batch_size=batch_size,\n",
    "  epochs=epochs,\n",
    "  validation_split=0.2,\n",
    "  shuffle=True,\n",
    "  # callbacks=[model_checkpoint_callback, lrate_scheduler_callback]\n",
    ")"
   ]
  },
  {
   "cell_type": "code",
   "execution_count": 12,
   "metadata": {},
   "outputs": [
    {
     "name": "stdout",
     "output_type": "stream",
     "text": [
      "train set accuracy: 0.841\n",
      "train loss: 0.995\n",
      "validation set accuracy: 0.81\n",
      "validation set loss: 1.118\n"
     ]
    }
   ],
   "source": [
    "length = len(history.history['accuracy'])\n",
    "print(\"train set accuracy:\", round(history.history['accuracy'][length-1], 3))\n",
    "print(\"train loss:\", round(history.history['loss'][length-1], 3))\n",
    "print(\"validation set accuracy:\", round(history.history['val_accuracy'][length-1], 3))\n",
    "print(\"validation set loss:\", round(history.history['val_loss'][length-1], 3))"
   ]
  },
  {
   "cell_type": "code",
   "execution_count": 13,
   "metadata": {},
   "outputs": [
    {
     "name": "stdout",
     "output_type": "stream",
     "text": [
      "43/43 [==============================] - 0s 3ms/step - loss: 1.1149 - accuracy: 0.8091\n",
      "test set accuracy: 0.809\n",
      "test set loss: 1.115\n"
     ]
    }
   ],
   "source": [
    "results = model.evaluate(X_test, y_test)\n",
    "print(\"test set accuracy:\", round(results[1], 3))\n",
    "print(\"test set loss:\", round(results[0], 3))"
   ]
  },
  {
   "cell_type": "code",
   "execution_count": 14,
   "metadata": {},
   "outputs": [
    {
     "data": {
      "image/png": "[encoded data removed]",
      "text/plain": [
       "<Figure size 1000x600 with 1 Axes>"
      ]
     },
     "metadata": {},
     "output_type": "display_data"
    }
   ],
   "source": [
    "plt.figure(figsize=(10, 6))\n",
    "plt.plot(history.history['accuracy'])\n",
    "plt.plot(history.history['val_accuracy'])\n",
    "plt.title('model accuracy')\n",
    "plt.ylabel('accuracy')\n",
    "plt.xlabel('epoch')\n",
    "plt.legend(['train', 'val'], loc='upper left')\n",
    "plt.show()"
   ]
  }
 ],
 "metadata": {
  "kernelspec": {
   "display_name": "env_torch",
   "language": "python",
   "name": "python3"
  },
  "language_info": {
   "codemirror_mode": {
    "name": "ipython",
    "version": 3
   },
   "file_extension": ".py",
   "mimetype": "text/x-python",
   "name": "python",
   "nbconvert_exporter": "python",
   "pygments_lexer": "ipython3",
   "version": "3.10.13"
  }
 },
 "nbformat": 4,
 "nbformat_minor": 2
}
