{
 "cells": [
  {
   "cell_type": "code",
   "execution_count": 8,
   "metadata": {},
   "outputs": [],
   "source": [
    "import numpy as np\n",
    "import tensorflow as tf\n",
    "from tensorflow import keras\n",
    "\n",
    "from keras import layers\n",
    "from keras import regularizers\n",
    "from keras import backend as K\n",
    "from keras import Sequential, Input\n",
    "from keras.optimizers import SGD, Adam\n",
    "from keras.losses import categorical_crossentropy\n",
    "from keras.callbacks import LearningRateScheduler\n",
    "\n",
    "import matplotlib.pyplot as plt\n",
    "\n",
    "import math\n",
    "\n",
    "from utils.constants import CLASSES, IMAGE_SIZE\n",
    "from utils.load_dataset import load_dataset"
   ]
  },
  {
   "cell_type": "code",
   "execution_count": 9,
   "metadata": {},
   "outputs": [],
   "source": [
    "# make the result reproducible\n",
    "keras.utils.set_random_seed(42)"
   ]
  },
  {
   "cell_type": "code",
   "execution_count": 10,
   "metadata": {},
   "outputs": [
    {
     "name": "stdout",
     "output_type": "stream",
     "text": [
      "[PhysicalDevice(name='/physical_device:CPU:0', device_type='CPU'), PhysicalDevice(name='/physical_device:GPU:0', device_type='GPU')]\n"
     ]
    }
   ],
   "source": [
    "physical_devices = tf.config.list_physical_devices()\n",
    "print(physical_devices)"
   ]
  },
  {
   "cell_type": "code",
   "execution_count": 11,
   "metadata": {},
   "outputs": [],
   "source": [
    "tf.config.set_visible_devices(physical_devices[1], 'GPU')"
   ]
  },
  {
   "cell_type": "markdown",
   "metadata": {},
   "source": [
    "## Building Dataset"
   ]
  },
  {
   "cell_type": "markdown",
   "metadata": {},
   "source": [
    "### Attributes description\n",
    "\n",
    "- a1 - face containing flag: (1-with face, 0-without face),\n",
    "- a2 - image number in current class (person) beginning from 0,\n",
    "- a3 - class (person) number beginning from 0,\n",
    "- a4 - sex (0 - woman, 1 - man)\n",
    "- a5 - race (0- white, 1 - black, 2 - indian, ...)\n",
    "- a6 - age (0 - baby, 1 - young, 2 - middle-age, 3 - old) \n",
    "- a7 - binokulars (0 - without, 1 - transparent, 2 - dark)\n",
    "- a8 - emotional expression (not state!) (0 - sad, 1 - neutral, 2 - happy)"
   ]
  },
  {
   "cell_type": "code",
   "execution_count": 12,
   "metadata": {},
   "outputs": [],
   "source": [
    "DIRPATH = './data'\n",
    "X_train, X_test, y_train, y_test = load_dataset(DIRPATH)"
   ]
  },
  {
   "cell_type": "markdown",
   "metadata": {},
   "source": [
    "## Building a model"
   ]
  },
  {
   "cell_type": "markdown",
   "metadata": {},
   "source": [
    "Testing LeNet-5 Architecture"
   ]
  },
  {
   "cell_type": "code",
   "execution_count": 13,
   "metadata": {},
   "outputs": [
    {
     "name": "stdout",
     "output_type": "stream",
     "text": [
      "Model: \"sequential_1\"\n",
      "_________________________________________________________________\n",
      " Layer (type)                Output Shape              Param #   \n",
      "=================================================================\n",
      " conv2d_6 (Conv2D)           (None, 24, 24, 6)         156       \n",
      "                                                                 \n",
      " max_pooling2d_4 (MaxPooling  (None, 12, 12, 6)        0         \n",
      " 2D)                                                             \n",
      "                                                                 \n",
      " dropout_6 (Dropout)         (None, 12, 12, 6)         0         \n",
      "                                                                 \n",
      " conv2d_7 (Conv2D)           (None, 12, 12, 16)        2416      \n",
      "                                                                 \n",
      " max_pooling2d_5 (MaxPooling  (None, 6, 6, 16)         0         \n",
      " 2D)                                                             \n",
      "                                                                 \n",
      " dropout_7 (Dropout)         (None, 6, 6, 16)          0         \n",
      "                                                                 \n",
      " conv2d_8 (Conv2D)           (None, 6, 6, 120)         48120     \n",
      "                                                                 \n",
      " flatten_2 (Flatten)         (None, 4320)              0         \n",
      "                                                                 \n",
      " dropout_8 (Dropout)         (None, 4320)              0         \n",
      "                                                                 \n",
      " dense_2 (Dense)             (None, 84)                362964    \n",
      "                                                                 \n",
      " dense_3 (Dense)             (None, 48)                4080      \n",
      "                                                                 \n",
      "=================================================================\n",
      "Total params: 417,736\n",
      "Trainable params: 417,736\n",
      "Non-trainable params: 0\n",
      "_________________________________________________________________\n"
     ]
    }
   ],
   "source": [
    "from functools import partial\n",
    "\n",
    "conv_regularizer = regularizers.l2(0.0006)\n",
    "dense_regularizer = regularizers.l2(0.01)\n",
    "\n",
    "activation_def = 'tanh'\n",
    "\n",
    "# {'conv_regularizer': 0.0006124219567560658, 'dense_regularizer': 0.03011157028527752, 'dropout_1': 0.3433425343566813, 'dropout_2': 0.1625206873530064, 'dropout_3': 0.019169937499455086}.\n",
    "\n",
    "DefaultConv2D = partial(tf.keras.layers.Conv2D, kernel_size=5, padding=\"same\", activation=activation_def,\n",
    "                        kernel_regularizer=conv_regularizer) # kernel_initializer=\"he_normal\")\n",
    "\n",
    "model = Sequential(\n",
    "  [\n",
    "    Input(shape=(IMAGE_SIZE, IMAGE_SIZE, 1)),\n",
    "    DefaultConv2D(6),\n",
    "    layers.MaxPooling2D(pool_size=2, strides=2),\n",
    "\n",
    "    layers.Dropout(0.45),\n",
    "    DefaultConv2D(16),\n",
    "    layers.MaxPooling2D(pool_size=2, strides=2),\n",
    "\n",
    "    layers.Dropout(0.3),\n",
    "    DefaultConv2D(120),\n",
    "\n",
    "    layers.Flatten(),\n",
    "    layers.Dropout(0.15),\n",
    "    layers.Dense(84, activation=activation_def, kernel_regularizer=dense_regularizer),\n",
    "    layers.Dense(CLASSES, activation='softmax'),\n",
    "  ]\n",
    ")\n",
    "\n",
    "model.summary()"
   ]
  },
  {
   "cell_type": "code",
   "execution_count": 14,
   "metadata": {},
   "outputs": [],
   "source": [
    "# def get_lr_metric(optimizer):\n",
    "#   def lr(y_true, y_pred):\n",
    "#     return optimizer._decayed_lr(tf.float32) # I use ._decayed_lr method instead of .lr\n",
    "#   return lr\n",
    "\n",
    "# lr_metric = get_lr_metric(optimizer)\n",
    "# model.compile(loss=categorical_crossentropy, optimizer=optimizer, metrics=[\"accuracy\", lr_metric])\n",
    "\n",
    "\n",
    "optimizer = Adam(learning_rate=0.001)\n",
    "model.compile(loss=categorical_crossentropy, optimizer=optimizer, metrics=[\"accuracy\"])"
   ]
  },
  {
   "cell_type": "code",
   "execution_count": 15,
   "metadata": {},
   "outputs": [],
   "source": [
    "# def step_decay(epoch):\n",
    "#   initial_lrate = 0.1\n",
    "#   drop = 0.9\n",
    "#   epochs_drop = 10.0\n",
    "#   lrate = initial_lrate * math.pow(drop,  \n",
    "#           math.floor((1+epoch)/epochs_drop))\n",
    "#   return lrate\n",
    " \n",
    "# lrate_scheduler_callback = LearningRateScheduler(step_decay)"
   ]
  },
  {
   "cell_type": "markdown",
   "metadata": {},
   "source": [
    "## Training Preparation"
   ]
  },
  {
   "cell_type": "code",
   "execution_count": 16,
   "metadata": {},
   "outputs": [],
   "source": [
    "CHECKPOINT_PATH = 'models/checkpoints/famous48_test_model_v2_best.keras'"
   ]
  },
  {
   "cell_type": "code",
   "execution_count": 17,
   "metadata": {},
   "outputs": [],
   "source": [
    "model_checkpoint_callback = keras.callbacks.ModelCheckpoint(\n",
    "  filepath=CHECKPOINT_PATH,\n",
    "  save_weights_only=False,\n",
    "  monitor='val_accuracy',\n",
    "  mode='max',\n",
    "  save_best_only=True,\n",
    ")"
   ]
  },
  {
   "cell_type": "code",
   "execution_count": 18,
   "metadata": {},
   "outputs": [
    {
     "name": "stdout",
     "output_type": "stream",
     "text": [
      "Epoch 1/100\n",
      "22/22 [==============================] - 3s 23ms/step - loss: 4.9976 - accuracy: 0.0569 - val_loss: 4.3955 - val_accuracy: 0.0704\n",
      "Epoch 2/100\n",
      "22/22 [==============================] - 0s 10ms/step - loss: 3.9023 - accuracy: 0.1763 - val_loss: 3.3405 - val_accuracy: 0.2550\n",
      "Epoch 3/100\n",
      "22/22 [==============================] - 0s 10ms/step - loss: 3.1167 - accuracy: 0.2849 - val_loss: 2.7844 - val_accuracy: 0.3592\n",
      "Epoch 4/100\n",
      "22/22 [==============================] - 0s 10ms/step - loss: 2.7607 - accuracy: 0.3640 - val_loss: 2.5245 - val_accuracy: 0.4086\n",
      "Epoch 5/100\n",
      "22/22 [==============================] - 0s 10ms/step - loss: 2.5380 - accuracy: 0.4099 - val_loss: 2.3141 - val_accuracy: 0.4625\n",
      "Epoch 6/100\n",
      "22/22 [==============================] - 0s 10ms/step - loss: 2.3782 - accuracy: 0.4458 - val_loss: 2.2226 - val_accuracy: 0.4872\n",
      "Epoch 7/100\n",
      "22/22 [==============================] - 0s 10ms/step - loss: 2.2923 - accuracy: 0.4678 - val_loss: 2.0761 - val_accuracy: 0.5210\n",
      "Epoch 8/100\n",
      "22/22 [==============================] - 0s 10ms/step - loss: 2.1880 - accuracy: 0.4945 - val_loss: 1.9677 - val_accuracy: 0.5558\n",
      "Epoch 9/100\n",
      "22/22 [==============================] - 0s 10ms/step - loss: 2.1323 - accuracy: 0.5146 - val_loss: 1.9160 - val_accuracy: 0.5558\n",
      "Epoch 10/100\n",
      "22/22 [==============================] - 0s 10ms/step - loss: 2.0543 - accuracy: 0.5299 - val_loss: 1.8691 - val_accuracy: 0.5823\n",
      "Epoch 11/100\n",
      "22/22 [==============================] - 0s 10ms/step - loss: 1.9782 - accuracy: 0.5478 - val_loss: 1.7503 - val_accuracy: 0.6170\n",
      "Epoch 12/100\n",
      "22/22 [==============================] - 0s 10ms/step - loss: 1.9362 - accuracy: 0.5604 - val_loss: 1.7645 - val_accuracy: 0.6097\n",
      "Epoch 13/100\n",
      "22/22 [==============================] - 0s 10ms/step - loss: 1.9162 - accuracy: 0.5601 - val_loss: 1.7622 - val_accuracy: 0.6051\n",
      "Epoch 14/100\n",
      "22/22 [==============================] - 0s 11ms/step - loss: 1.8757 - accuracy: 0.5732 - val_loss: 1.6878 - val_accuracy: 0.6417\n",
      "Epoch 15/100\n",
      "22/22 [==============================] - 0s 10ms/step - loss: 1.8364 - accuracy: 0.5800 - val_loss: 1.6692 - val_accuracy: 0.6298\n",
      "Epoch 16/100\n",
      "22/22 [==============================] - 0s 10ms/step - loss: 1.8009 - accuracy: 0.5878 - val_loss: 1.5799 - val_accuracy: 0.6709\n",
      "Epoch 17/100\n",
      "22/22 [==============================] - 0s 10ms/step - loss: 1.7782 - accuracy: 0.6052 - val_loss: 1.5930 - val_accuracy: 0.6600\n",
      "Epoch 18/100\n",
      "22/22 [==============================] - 0s 10ms/step - loss: 1.7339 - accuracy: 0.6116 - val_loss: 1.5447 - val_accuracy: 0.6709\n",
      "Epoch 19/100\n",
      "22/22 [==============================] - 0s 10ms/step - loss: 1.7114 - accuracy: 0.6107 - val_loss: 1.5317 - val_accuracy: 0.6645\n",
      "Epoch 20/100\n",
      "22/22 [==============================] - 0s 10ms/step - loss: 1.6974 - accuracy: 0.6198 - val_loss: 1.5055 - val_accuracy: 0.6691\n",
      "Epoch 21/100\n",
      "22/22 [==============================] - 0s 10ms/step - loss: 1.6466 - accuracy: 0.6365 - val_loss: 1.4393 - val_accuracy: 0.6993\n",
      "Epoch 22/100\n",
      "22/22 [==============================] - 0s 10ms/step - loss: 1.6403 - accuracy: 0.6262 - val_loss: 1.4395 - val_accuracy: 0.6910\n",
      "Epoch 23/100\n",
      "22/22 [==============================] - 0s 10ms/step - loss: 1.6117 - accuracy: 0.6392 - val_loss: 1.4179 - val_accuracy: 0.7020\n",
      "Epoch 24/100\n",
      "22/22 [==============================] - 0s 10ms/step - loss: 1.6093 - accuracy: 0.6484 - val_loss: 1.4108 - val_accuracy: 0.7121\n",
      "Epoch 25/100\n",
      "22/22 [==============================] - 0s 11ms/step - loss: 1.5657 - accuracy: 0.6635 - val_loss: 1.4036 - val_accuracy: 0.7002\n",
      "Epoch 26/100\n",
      "22/22 [==============================] - 0s 11ms/step - loss: 1.5563 - accuracy: 0.6630 - val_loss: 1.4214 - val_accuracy: 0.6993\n",
      "Epoch 27/100\n",
      "22/22 [==============================] - 0s 10ms/step - loss: 1.5601 - accuracy: 0.6587 - val_loss: 1.4071 - val_accuracy: 0.6984\n",
      "Epoch 28/100\n",
      "22/22 [==============================] - 0s 10ms/step - loss: 1.5355 - accuracy: 0.6696 - val_loss: 1.3783 - val_accuracy: 0.7121\n",
      "Epoch 29/100\n",
      "22/22 [==============================] - 0s 10ms/step - loss: 1.5110 - accuracy: 0.6676 - val_loss: 1.3545 - val_accuracy: 0.7239\n",
      "Epoch 30/100\n",
      "22/22 [==============================] - 0s 10ms/step - loss: 1.5067 - accuracy: 0.6717 - val_loss: 1.3298 - val_accuracy: 0.7276\n",
      "Epoch 31/100\n",
      "22/22 [==============================] - 0s 10ms/step - loss: 1.4779 - accuracy: 0.6875 - val_loss: 1.3271 - val_accuracy: 0.7276\n",
      "Epoch 32/100\n",
      "22/22 [==============================] - 0s 10ms/step - loss: 1.4610 - accuracy: 0.6966 - val_loss: 1.3397 - val_accuracy: 0.7313\n",
      "Epoch 33/100\n",
      "22/22 [==============================] - 0s 10ms/step - loss: 1.4519 - accuracy: 0.6877 - val_loss: 1.3215 - val_accuracy: 0.7276\n",
      "Epoch 34/100\n",
      "22/22 [==============================] - 0s 11ms/step - loss: 1.4445 - accuracy: 0.6941 - val_loss: 1.2964 - val_accuracy: 0.7386\n",
      "Epoch 35/100\n",
      "22/22 [==============================] - 0s 10ms/step - loss: 1.4279 - accuracy: 0.6991 - val_loss: 1.2576 - val_accuracy: 0.7532\n",
      "Epoch 36/100\n",
      "22/22 [==============================] - 0s 10ms/step - loss: 1.4032 - accuracy: 0.7062 - val_loss: 1.2973 - val_accuracy: 0.7303\n",
      "Epoch 37/100\n",
      "22/22 [==============================] - 0s 10ms/step - loss: 1.4152 - accuracy: 0.7010 - val_loss: 1.2935 - val_accuracy: 0.7340\n",
      "Epoch 38/100\n",
      "22/22 [==============================] - 0s 10ms/step - loss: 1.4052 - accuracy: 0.6989 - val_loss: 1.2457 - val_accuracy: 0.7550\n",
      "Epoch 39/100\n",
      "22/22 [==============================] - 0s 10ms/step - loss: 1.3843 - accuracy: 0.7149 - val_loss: 1.2460 - val_accuracy: 0.7486\n",
      "Epoch 40/100\n",
      "22/22 [==============================] - 0s 10ms/step - loss: 1.3627 - accuracy: 0.7149 - val_loss: 1.2503 - val_accuracy: 0.7651\n",
      "Epoch 41/100\n",
      "22/22 [==============================] - 0s 10ms/step - loss: 1.3658 - accuracy: 0.7154 - val_loss: 1.2455 - val_accuracy: 0.7441\n",
      "Epoch 42/100\n",
      "22/22 [==============================] - 0s 10ms/step - loss: 1.3593 - accuracy: 0.7188 - val_loss: 1.2296 - val_accuracy: 0.7687\n",
      "Epoch 43/100\n",
      "22/22 [==============================] - 0s 10ms/step - loss: 1.3491 - accuracy: 0.7202 - val_loss: 1.2411 - val_accuracy: 0.7495\n",
      "Epoch 44/100\n",
      "22/22 [==============================] - 0s 10ms/step - loss: 1.3460 - accuracy: 0.7151 - val_loss: 1.2340 - val_accuracy: 0.7495\n",
      "Epoch 45/100\n",
      "22/22 [==============================] - 0s 10ms/step - loss: 1.3285 - accuracy: 0.7279 - val_loss: 1.1943 - val_accuracy: 0.7733\n",
      "Epoch 46/100\n",
      "22/22 [==============================] - 0s 10ms/step - loss: 1.3082 - accuracy: 0.7309 - val_loss: 1.1954 - val_accuracy: 0.7687\n",
      "Epoch 47/100\n",
      "22/22 [==============================] - 0s 10ms/step - loss: 1.3187 - accuracy: 0.7215 - val_loss: 1.2101 - val_accuracy: 0.7532\n",
      "Epoch 48/100\n",
      "22/22 [==============================] - 0s 10ms/step - loss: 1.3132 - accuracy: 0.7243 - val_loss: 1.2281 - val_accuracy: 0.7468\n",
      "Epoch 49/100\n",
      "22/22 [==============================] - 0s 10ms/step - loss: 1.3121 - accuracy: 0.7337 - val_loss: 1.1790 - val_accuracy: 0.7715\n",
      "Epoch 50/100\n",
      "22/22 [==============================] - 0s 10ms/step - loss: 1.2829 - accuracy: 0.7346 - val_loss: 1.2124 - val_accuracy: 0.7495\n",
      "Epoch 51/100\n",
      "22/22 [==============================] - 0s 10ms/step - loss: 1.2821 - accuracy: 0.7426 - val_loss: 1.1772 - val_accuracy: 0.7724\n",
      "Epoch 52/100\n",
      "22/22 [==============================] - 0s 10ms/step - loss: 1.2680 - accuracy: 0.7364 - val_loss: 1.2119 - val_accuracy: 0.7614\n",
      "Epoch 53/100\n",
      "22/22 [==============================] - 0s 10ms/step - loss: 1.2777 - accuracy: 0.7369 - val_loss: 1.1833 - val_accuracy: 0.7596\n",
      "Epoch 54/100\n",
      "22/22 [==============================] - 0s 10ms/step - loss: 1.2814 - accuracy: 0.7371 - val_loss: 1.1683 - val_accuracy: 0.7733\n",
      "Epoch 55/100\n",
      "22/22 [==============================] - 0s 10ms/step - loss: 1.2725 - accuracy: 0.7396 - val_loss: 1.1819 - val_accuracy: 0.7715\n",
      "Epoch 56/100\n",
      "22/22 [==============================] - 0s 10ms/step - loss: 1.2680 - accuracy: 0.7369 - val_loss: 1.1616 - val_accuracy: 0.7733\n",
      "Epoch 57/100\n",
      "22/22 [==============================] - 0s 10ms/step - loss: 1.2500 - accuracy: 0.7497 - val_loss: 1.1372 - val_accuracy: 0.7943\n",
      "Epoch 58/100\n",
      "22/22 [==============================] - 0s 10ms/step - loss: 1.2380 - accuracy: 0.7494 - val_loss: 1.1515 - val_accuracy: 0.7788\n",
      "Epoch 59/100\n",
      "22/22 [==============================] - 0s 10ms/step - loss: 1.2408 - accuracy: 0.7492 - val_loss: 1.1370 - val_accuracy: 0.7943\n",
      "Epoch 60/100\n",
      "22/22 [==============================] - 0s 10ms/step - loss: 1.2187 - accuracy: 0.7615 - val_loss: 1.1398 - val_accuracy: 0.7907\n",
      "Epoch 61/100\n",
      "22/22 [==============================] - 0s 10ms/step - loss: 1.2247 - accuracy: 0.7526 - val_loss: 1.1583 - val_accuracy: 0.7843\n",
      "Epoch 62/100\n",
      "22/22 [==============================] - 0s 10ms/step - loss: 1.2223 - accuracy: 0.7565 - val_loss: 1.1474 - val_accuracy: 0.7962\n",
      "Epoch 63/100\n",
      "22/22 [==============================] - 0s 10ms/step - loss: 1.2150 - accuracy: 0.7570 - val_loss: 1.1484 - val_accuracy: 0.7916\n",
      "Epoch 64/100\n",
      "22/22 [==============================] - 0s 10ms/step - loss: 1.1979 - accuracy: 0.7501 - val_loss: 1.1389 - val_accuracy: 0.7879\n",
      "Epoch 65/100\n",
      "22/22 [==============================] - 0s 10ms/step - loss: 1.1817 - accuracy: 0.7641 - val_loss: 1.1155 - val_accuracy: 0.7806\n",
      "Epoch 66/100\n",
      "22/22 [==============================] - 0s 10ms/step - loss: 1.1877 - accuracy: 0.7666 - val_loss: 1.0962 - val_accuracy: 0.7934\n",
      "Epoch 67/100\n",
      "22/22 [==============================] - 0s 10ms/step - loss: 1.1602 - accuracy: 0.7741 - val_loss: 1.1318 - val_accuracy: 0.7879\n",
      "Epoch 68/100\n",
      "22/22 [==============================] - 0s 11ms/step - loss: 1.1548 - accuracy: 0.7714 - val_loss: 1.1142 - val_accuracy: 0.7925\n",
      "Epoch 69/100\n",
      "22/22 [==============================] - 0s 10ms/step - loss: 1.1535 - accuracy: 0.7734 - val_loss: 1.1300 - val_accuracy: 0.7815\n",
      "Epoch 70/100\n",
      "22/22 [==============================] - 0s 10ms/step - loss: 1.1460 - accuracy: 0.7794 - val_loss: 1.1068 - val_accuracy: 0.7879\n",
      "Epoch 71/100\n",
      "22/22 [==============================] - 0s 10ms/step - loss: 1.1429 - accuracy: 0.7746 - val_loss: 1.1092 - val_accuracy: 0.7888\n",
      "Epoch 72/100\n",
      "22/22 [==============================] - 0s 10ms/step - loss: 1.1283 - accuracy: 0.7775 - val_loss: 1.0840 - val_accuracy: 0.8016\n",
      "Epoch 73/100\n",
      "22/22 [==============================] - 0s 10ms/step - loss: 1.1373 - accuracy: 0.7775 - val_loss: 1.0884 - val_accuracy: 0.7916\n",
      "Epoch 74/100\n",
      "22/22 [==============================] - 0s 10ms/step - loss: 1.1427 - accuracy: 0.7775 - val_loss: 1.0947 - val_accuracy: 0.7916\n",
      "Epoch 75/100\n",
      "22/22 [==============================] - 0s 10ms/step - loss: 1.1302 - accuracy: 0.7780 - val_loss: 1.0541 - val_accuracy: 0.8044\n",
      "Epoch 76/100\n",
      "22/22 [==============================] - 0s 9ms/step - loss: 1.1284 - accuracy: 0.7780 - val_loss: 1.0950 - val_accuracy: 0.7943\n",
      "Epoch 77/100\n",
      "22/22 [==============================] - 0s 10ms/step - loss: 1.1190 - accuracy: 0.7892 - val_loss: 1.0686 - val_accuracy: 0.8007\n",
      "Epoch 78/100\n",
      "22/22 [==============================] - 0s 10ms/step - loss: 1.1279 - accuracy: 0.7858 - val_loss: 1.0752 - val_accuracy: 0.7852\n",
      "Epoch 79/100\n",
      "22/22 [==============================] - 0s 10ms/step - loss: 1.1046 - accuracy: 0.7926 - val_loss: 1.0908 - val_accuracy: 0.8007\n",
      "Epoch 80/100\n",
      "22/22 [==============================] - 0s 10ms/step - loss: 1.1132 - accuracy: 0.7846 - val_loss: 1.0879 - val_accuracy: 0.8053\n",
      "Epoch 81/100\n",
      "22/22 [==============================] - 0s 10ms/step - loss: 1.1333 - accuracy: 0.7759 - val_loss: 1.0679 - val_accuracy: 0.8007\n",
      "Epoch 82/100\n",
      "22/22 [==============================] - 0s 10ms/step - loss: 1.1225 - accuracy: 0.7862 - val_loss: 1.0594 - val_accuracy: 0.8062\n",
      "Epoch 83/100\n",
      "22/22 [==============================] - 0s 10ms/step - loss: 1.1038 - accuracy: 0.7865 - val_loss: 1.0836 - val_accuracy: 0.7989\n",
      "Epoch 84/100\n",
      "22/22 [==============================] - 0s 10ms/step - loss: 1.0923 - accuracy: 0.7940 - val_loss: 1.0812 - val_accuracy: 0.8026\n",
      "Epoch 85/100\n",
      "22/22 [==============================] - 0s 10ms/step - loss: 1.0808 - accuracy: 0.7904 - val_loss: 1.0716 - val_accuracy: 0.8062\n",
      "Epoch 86/100\n",
      "22/22 [==============================] - 0s 10ms/step - loss: 1.0998 - accuracy: 0.7876 - val_loss: 1.0513 - val_accuracy: 0.8099\n",
      "Epoch 87/100\n",
      "22/22 [==============================] - 0s 12ms/step - loss: 1.0835 - accuracy: 0.7933 - val_loss: 1.0445 - val_accuracy: 0.8071\n",
      "Epoch 88/100\n",
      "22/22 [==============================] - 0s 10ms/step - loss: 1.0796 - accuracy: 0.7892 - val_loss: 1.0865 - val_accuracy: 0.7962\n",
      "Epoch 89/100\n",
      "22/22 [==============================] - 0s 10ms/step - loss: 1.0673 - accuracy: 0.7986 - val_loss: 1.0590 - val_accuracy: 0.8053\n",
      "Epoch 90/100\n",
      "22/22 [==============================] - 0s 10ms/step - loss: 1.0927 - accuracy: 0.7945 - val_loss: 1.0559 - val_accuracy: 0.8007\n",
      "Epoch 91/100\n",
      "22/22 [==============================] - 0s 10ms/step - loss: 1.0721 - accuracy: 0.8048 - val_loss: 1.0582 - val_accuracy: 0.8099\n",
      "Epoch 92/100\n",
      "22/22 [==============================] - 0s 10ms/step - loss: 1.0834 - accuracy: 0.7913 - val_loss: 1.0472 - val_accuracy: 0.8181\n",
      "Epoch 93/100\n",
      "22/22 [==============================] - 0s 10ms/step - loss: 1.0788 - accuracy: 0.7965 - val_loss: 1.0542 - val_accuracy: 0.8117\n",
      "Epoch 94/100\n",
      "22/22 [==============================] - 0s 10ms/step - loss: 1.0390 - accuracy: 0.8171 - val_loss: 1.0678 - val_accuracy: 0.8053\n",
      "Epoch 95/100\n",
      "22/22 [==============================] - 0s 10ms/step - loss: 1.0552 - accuracy: 0.8018 - val_loss: 1.0562 - val_accuracy: 0.8199\n",
      "Epoch 96/100\n",
      "22/22 [==============================] - 0s 10ms/step - loss: 1.0445 - accuracy: 0.8082 - val_loss: 1.0827 - val_accuracy: 0.7907\n",
      "Epoch 97/100\n",
      "22/22 [==============================] - 0s 10ms/step - loss: 1.0559 - accuracy: 0.8064 - val_loss: 1.0392 - val_accuracy: 0.8172\n",
      "Epoch 98/100\n",
      "22/22 [==============================] - 0s 10ms/step - loss: 1.0366 - accuracy: 0.8022 - val_loss: 1.0578 - val_accuracy: 0.8190\n",
      "Epoch 99/100\n",
      "22/22 [==============================] - 0s 10ms/step - loss: 1.0294 - accuracy: 0.8137 - val_loss: 1.0511 - val_accuracy: 0.8080\n",
      "Epoch 100/100\n",
      "22/22 [==============================] - 0s 10ms/step - loss: 1.0429 - accuracy: 0.8093 - val_loss: 1.0580 - val_accuracy: 0.8172\n",
      "CPU times: total: 33.9 s\n",
      "Wall time: 25.3 s\n"
     ]
    }
   ],
   "source": [
    "%%time\n",
    "batch_size = 200\n",
    "epochs = 100\n",
    "\n",
    "history = model.fit(\n",
    "  X_train, y_train,\n",
    "  batch_size=batch_size,\n",
    "  epochs=epochs,\n",
    "  validation_split=0.2,\n",
    "  shuffle=True,\n",
    "  # callbacks=[model_checkpoint_callback, lrate_scheduler_callback]\n",
    ")"
   ]
  },
  {
   "cell_type": "code",
   "execution_count": 19,
   "metadata": {},
   "outputs": [
    {
     "name": "stdout",
     "output_type": "stream",
     "text": [
      "train set accuracy: 0.809\n",
      "train loss: 1.043\n",
      "validation set accuracy: 0.817\n",
      "validation set loss: 1.058\n"
     ]
    }
   ],
   "source": [
    "length = len(history.history['accuracy'])\n",
    "print(\"train set accuracy:\", round(history.history['accuracy'][length-1], 3))\n",
    "print(\"train loss:\", round(history.history['loss'][length-1], 3))\n",
    "print(\"validation set accuracy:\", round(history.history['val_accuracy'][length-1], 3))\n",
    "print(\"validation set loss:\", round(history.history['val_loss'][length-1], 3))"
   ]
  },
  {
   "cell_type": "code",
   "execution_count": 20,
   "metadata": {},
   "outputs": [
    {
     "name": "stdout",
     "output_type": "stream",
     "text": [
      "43/43 [==============================] - 0s 4ms/step - loss: 1.0520 - accuracy: 0.8149\n",
      "test set accuracy: 0.815\n",
      "test set loss: 1.052\n"
     ]
    }
   ],
   "source": [
    "results = model.evaluate(X_test, y_test)\n",
    "print(\"test set accuracy:\", round(results[1], 3))\n",
    "print(\"test set loss:\", round(results[0], 3))"
   ]
  },
  {
   "cell_type": "code",
   "execution_count": 21,
   "metadata": {},
   "outputs": [
    {
     "data": {
      "image/png": "[encoded data removed]",
      "text/plain": [
       "<Figure size 1000x600 with 1 Axes>"
      ]
     },
     "metadata": {},
     "output_type": "display_data"
    }
   ],
   "source": [
    "plt.figure(figsize=(10, 6))\n",
    "plt.plot(history.history['accuracy'])\n",
    "plt.plot(history.history['val_accuracy'])\n",
    "plt.title('model accuracy')\n",
    "plt.ylabel('accuracy')\n",
    "plt.xlabel('epoch')\n",
    "plt.legend(['train', 'val'], loc='upper left')\n",
    "plt.show()"
   ]
  }
 ],
 "metadata": {
  "kernelspec": {
   "display_name": "env_torch",
   "language": "python",
   "name": "python3"
  },
  "language_info": {
   "codemirror_mode": {
    "name": "ipython",
    "version": 3
   },
   "file_extension": ".py",
   "mimetype": "text/x-python",
   "name": "python",
   "nbconvert_exporter": "python",
   "pygments_lexer": "ipython3",
   "version": "3.10.13"
  }
 },
 "nbformat": 4,
 "nbformat_minor": 2
}
