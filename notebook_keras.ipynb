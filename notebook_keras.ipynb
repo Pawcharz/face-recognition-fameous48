{
 "cells": [
  {
   "cell_type": "code",
   "execution_count": 212,
   "metadata": {},
   "outputs": [],
   "source": [
    "import numpy as np\n",
    "import tensorflow as tf\n",
    "from tensorflow import keras\n",
    "\n",
    "from keras import layers\n",
    "from keras import regularizers\n",
    "\n",
    "import re"
   ]
  },
  {
   "cell_type": "code",
   "execution_count": 213,
   "metadata": {},
   "outputs": [],
   "source": [
    "from keras import backend as K\n",
    "K.clear_session()"
   ]
  },
  {
   "cell_type": "code",
   "execution_count": 214,
   "metadata": {},
   "outputs": [
    {
     "name": "stdout",
     "output_type": "stream",
     "text": [
      "[PhysicalDevice(name='/physical_device:CPU:0', device_type='CPU'), PhysicalDevice(name='/physical_device:GPU:0', device_type='GPU')]\n"
     ]
    }
   ],
   "source": [
    "physical_devices = tf.config.list_physical_devices()\n",
    "CLASSES = 48\n",
    "IMAGE_SIZE = 24\n",
    "\n",
    "print(physical_devices)"
   ]
  },
  {
   "cell_type": "code",
   "execution_count": 215,
   "metadata": {},
   "outputs": [],
   "source": [
    "tf.config.set_visible_devices(physical_devices[1], 'GPU')"
   ]
  },
  {
   "cell_type": "markdown",
   "metadata": {},
   "source": [
    "## Building Dataset"
   ]
  },
  {
   "cell_type": "markdown",
   "metadata": {},
   "source": [
    "### Attributes description\n",
    "\n",
    "- a1 - face containing flag: (1-with face, 0-without face),\n",
    "- a2 - image number in current class (person) beginning from 0,\n",
    "- a3 - class (person) number beginning from 0,\n",
    "- a4 - sex (0 - woman, 1 - man)\n",
    "- a5 - race (0- white, 1 - negro, 2 - indian, ...)\n",
    "- a6 - age (0 - baby, 1 - young, 2 - middle-age, 3 - old) \n",
    "- a7 - binokulars (0 - without, 1 - transparent, 2 - dark)\n",
    "- a8 - emotional expression (not state!) (0 - sad, 1 - neutral, 2 - happy)"
   ]
  },
  {
   "cell_type": "code",
   "execution_count": 216,
   "metadata": {},
   "outputs": [],
   "source": [
    "def read_file(filename):\n",
    "  \n",
    "  with open(filename, 'r') as file:\n",
    "    lines = file.readlines()\n",
    "    \n",
    "    # Remove newLines\n",
    "    for i, line in enumerate(lines):\n",
    "      lines[i] = line.replace('\\n', '')\n",
    "    \n",
    "    # We assume these are integers\n",
    "    EXAMPLES_NR = int(lines[0])\n",
    "    PIXELS_NR = int(lines[1])\n",
    "    \n",
    "    inputs = list()\n",
    "    labels = np.zeros(EXAMPLES_NR, dtype=int)\n",
    "    \n",
    "    examples_raw = lines[2:EXAMPLES_NR+2]\n",
    "    \n",
    "    for i, example_raw in enumerate(examples_raw):\n",
    "      # Split by spaces (treats multiple as one)\n",
    "      tokens = re.split('\\s+', example_raw)\n",
    "      \n",
    "      pixel_values = np.array(tokens[0:PIXELS_NR])\n",
    "      attributes = tokens[PIXELS_NR:]\n",
    "      \n",
    "      pixel_values = np.array(pixel_values, dtype=float)\n",
    "      pixel_values = pixel_values.reshape([IMAGE_SIZE, IMAGE_SIZE])\n",
    "      \n",
    "      inputs.append(pixel_values)\n",
    "      labels[i] = int(attributes[2])\n",
    "      \n",
    "    inputs = np.array(inputs)\n",
    "  return inputs, labels"
   ]
  },
  {
   "cell_type": "code",
   "execution_count": 217,
   "metadata": {},
   "outputs": [
    {
     "name": "stdout",
     "output_type": "stream",
     "text": [
      "2321 2321\n",
      "2208 2208\n",
      "2306 2306\n"
     ]
    }
   ],
   "source": [
    "# classes 0-15\n",
    "X_0, y_0 = read_file('./data/x24x24.txt')\n",
    "# classes 16-31\n",
    "X_1, y_1 = read_file('./data/y24x24.txt')\n",
    "# # classes 32-48\n",
    "X_2, y_2 = read_file('./data/z24x24.txt')\n",
    "\n",
    "print(len(X_0), len(y_0))\n",
    "print(len(X_1), len(y_1))\n",
    "print(len(X_2), len(y_2))"
   ]
  },
  {
   "cell_type": "code",
   "execution_count": 218,
   "metadata": {},
   "outputs": [
    {
     "name": "stdout",
     "output_type": "stream",
     "text": [
      "6835 6835\n"
     ]
    }
   ],
   "source": [
    "from sklearn.model_selection import train_test_split\n",
    "\n",
    "# Concatenate train and test images\n",
    "X = np.concatenate((X_0, X_1, X_2))\n",
    "y = np.concatenate((y_0, y_1, y_2))\n",
    "print(len(X), len(y))\n",
    "\n",
    "N_TRAIN_EXAMPLES=int(len(X) * 0.8)\n",
    "N_TEST_EXAMPLES=len(X) - N_TRAIN_EXAMPLES\n",
    "\n",
    "\n",
    "X_train, X_test, y_train, y_test = train_test_split(X, y, train_size=N_TRAIN_EXAMPLES, test_size=N_TEST_EXAMPLES, random_state=1)\n",
    "\n",
    "# One-Hot encoding\n",
    "# Getting dummy variables\n",
    "y_train_fixed = np.zeros((y_train.shape[0], CLASSES))\n",
    "# y_valid_fixed = np.zeros((y_valid.shape[0], 10))\n",
    "y_test_fixed = np.zeros((y_test.shape[0], CLASSES))\n",
    "\n",
    "for i, value in enumerate(y_train):\n",
    "  y_train_fixed[i][value] = 1\n",
    "  \n",
    "for i, value in enumerate(y_test):\n",
    "  y_test_fixed[i][value] = 1"
   ]
  },
  {
   "cell_type": "code",
   "execution_count": 219,
   "metadata": {},
   "outputs": [
    {
     "name": "stdout",
     "output_type": "stream",
     "text": [
      "1367\n"
     ]
    }
   ],
   "source": [
    "print(len(X_test))"
   ]
  },
  {
   "cell_type": "markdown",
   "metadata": {},
   "source": [
    "## Building a model"
   ]
  },
  {
   "cell_type": "markdown",
   "metadata": {},
   "source": [
    "I decided to down-scale the alexNet as it was for the long time the SOTA Convolutional Neural Network Architecture\n",
    "\n",
    "Full AlexNet implementation in keras:\n",
    "\n",
    "```py\n",
    "  keras.Input(shape=(227, 227, 3)),\n",
    "  layers.Conv2D(96, kernel_size=11, strides=4, padding='same', activation=\"relu\"),\n",
    "  layers.MaxPooling2D(pool_size=3, strides=2),\n",
    "  layers.Conv2D(256, kernel_size=5, padding='same', activation=\"relu\"),\n",
    "  layers.MaxPooling2D(pool_size=3, strides=2),\n",
    "  layers.Conv2D(384, kernel_size=3, padding='same', activation=\"relu\"),\n",
    "  layers.Conv2D(384, kernel_size=3, padding='same', activation=\"relu\"),\n",
    "  layers.Conv2D(256, kernel_size=3, padding='same', activation=\"relu\"),\n",
    "  layers.MaxPooling2D(pool_size=3, strides=2),\n",
    "  layers.Dropout(0.5),\n",
    "  layers.Dense(4096, activation=\"relu\"),\n",
    "  layers.Dropout(0.5),\n",
    "  layers.Dense(4096, activation=\"relu\"),\n",
    "  layers.Dense(CLASSES, activation=\"softmax\")\n",
    "```"
   ]
  },
  {
   "cell_type": "code",
   "execution_count": 242,
   "metadata": {},
   "outputs": [
    {
     "name": "stdout",
     "output_type": "stream",
     "text": [
      "Model: \"sequential_4\"\n",
      "_________________________________________________________________\n",
      " Layer (type)                Output Shape              Param #   \n",
      "=================================================================\n",
      " conv2d_20 (Conv2D)          (None, 24, 24, 96)        960       \n",
      "                                                                 \n",
      " leaky_re_lu_15 (LeakyReLU)  (None, 24, 24, 96)        0         \n",
      "                                                                 \n",
      " conv2d_21 (Conv2D)          (None, 24, 24, 256)       614656    \n",
      "                                                                 \n",
      " max_pooling2d_8 (MaxPooling  (None, 11, 11, 256)      0         \n",
      " 2D)                                                             \n",
      "                                                                 \n",
      " leaky_re_lu_16 (LeakyReLU)  (None, 11, 11, 256)       0         \n",
      "                                                                 \n",
      " conv2d_22 (Conv2D)          (None, 11, 11, 384)       885120    \n",
      "                                                                 \n",
      " leaky_re_lu_17 (LeakyReLU)  (None, 11, 11, 384)       0         \n",
      "                                                                 \n",
      " dropout_6 (Dropout)         (None, 11, 11, 384)       0         \n",
      "                                                                 \n",
      " conv2d_23 (Conv2D)          (None, 6, 6, 384)         1327488   \n",
      "                                                                 \n",
      " dropout_7 (Dropout)         (None, 6, 6, 384)         0         \n",
      "                                                                 \n",
      " leaky_re_lu_18 (LeakyReLU)  (None, 6, 6, 384)         0         \n",
      "                                                                 \n",
      " conv2d_24 (Conv2D)          (None, 6, 6, 256)         884992    \n",
      "                                                                 \n",
      " max_pooling2d_9 (MaxPooling  (None, 2, 2, 256)        0         \n",
      " 2D)                                                             \n",
      "                                                                 \n",
      " flatten_4 (Flatten)         (None, 1024)              0         \n",
      "                                                                 \n",
      " dropout_8 (Dropout)         (None, 1024)              0         \n",
      "                                                                 \n",
      " leaky_re_lu_19 (LeakyReLU)  (None, 1024)              0         \n",
      "                                                                 \n",
      " dense_8 (Dense)             (None, 256)               262400    \n",
      "                                                                 \n",
      " dense_9 (Dense)             (None, 48)                12336     \n",
      "                                                                 \n",
      "=================================================================\n",
      "Total params: 3,987,952\n",
      "Trainable params: 3,987,952\n",
      "Non-trainable params: 0\n",
      "_________________________________________________________________\n"
     ]
    }
   ],
   "source": [
    "from keras import Sequential, Input\n",
    "\n",
    "conv_regularizer = regularizers.l2(l=0.002)\n",
    "dense_regularizer = regularizers.l2(l=0.03)\n",
    "\n",
    "model = keras.Sequential(\n",
    "  [\n",
    "    Input(shape=(IMAGE_SIZE, IMAGE_SIZE, 1)),\n",
    "    layers.Conv2D(96, kernel_size=3, strides=1, padding='same', kernel_regularizer=conv_regularizer),\n",
    "    layers.LeakyReLU(),\n",
    "    layers.Conv2D(256, kernel_size=5, padding='same', kernel_regularizer=conv_regularizer),\n",
    "    \n",
    "    layers.MaxPooling2D(pool_size=3, strides=2),\n",
    "    \n",
    "    layers.LeakyReLU(),\n",
    "    layers.Conv2D(384, kernel_size=3, padding='same', kernel_regularizer=conv_regularizer),\n",
    "    layers.LeakyReLU(),\n",
    "    layers.Dropout(0.3),\n",
    "    layers.Conv2D(384, kernel_size=3, strides=2, padding='same', kernel_regularizer=conv_regularizer),\n",
    "    layers.Dropout(0.4),\n",
    "    layers.LeakyReLU(),\n",
    "    layers.Conv2D(256, kernel_size=3, padding='same', kernel_regularizer=conv_regularizer),\n",
    "    \n",
    "    layers.MaxPooling2D(pool_size=3, strides=2),\n",
    "    \n",
    "    layers.Flatten(),\n",
    "    layers.Dropout(0.5),\n",
    "    layers.LeakyReLU(),\n",
    "    layers.Dense(256, kernel_regularizer=dense_regularizer),\n",
    "    layers.Dense(CLASSES, activation='softmax'),\n",
    "  ]\n",
    ")\n",
    "\n",
    "model.summary()"
   ]
  },
  {
   "cell_type": "code",
   "execution_count": 247,
   "metadata": {},
   "outputs": [],
   "source": [
    "from keras.optimizers import SGD, Adam\n",
    "from keras.losses import categorical_crossentropy\n",
    "\n",
    "optimizer = Adam(learning_rate=0.00025)\n",
    "\n",
    "model.compile(loss=categorical_crossentropy, optimizer=optimizer, metrics=[\"accuracy\"])"
   ]
  },
  {
   "cell_type": "markdown",
   "metadata": {},
   "source": [
    "## Training Preparation"
   ]
  },
  {
   "cell_type": "code",
   "execution_count": 248,
   "metadata": {},
   "outputs": [],
   "source": [
    "CHECKPOINT_PATH = 'models/checkpoints/famous48_test_model_v1_best.keras'"
   ]
  },
  {
   "cell_type": "code",
   "execution_count": 249,
   "metadata": {},
   "outputs": [],
   "source": [
    "model_checkpoint_callback = keras.callbacks.ModelCheckpoint(\n",
    "  filepath=CHECKPOINT_PATH,\n",
    "  save_weights_only=False,\n",
    "  monitor='val_accuracy',\n",
    "  mode='max',\n",
    "  save_best_only=True,\n",
    ")"
   ]
  },
  {
   "cell_type": "code",
   "execution_count": 252,
   "metadata": {},
   "outputs": [
    {
     "name": "stdout",
     "output_type": "stream",
     "text": [
      "Epoch 1/100\n",
      "22/22 [==============================] - 3s 123ms/step - loss: 0.9838 - accuracy: 0.9216 - val_loss: 1.3534 - val_accuracy: 0.8135\n",
      "Epoch 2/100\n",
      "22/22 [==============================] - 3s 121ms/step - loss: 0.9747 - accuracy: 0.9246 - val_loss: 1.3839 - val_accuracy: 0.8044\n",
      "Epoch 3/100\n",
      "22/22 [==============================] - 3s 125ms/step - loss: 0.9876 - accuracy: 0.9152 - val_loss: 1.3300 - val_accuracy: 0.8190\n",
      "Epoch 4/100\n",
      "22/22 [==============================] - 3s 126ms/step - loss: 0.9716 - accuracy: 0.9188 - val_loss: 1.2676 - val_accuracy: 0.8364\n",
      "Epoch 5/100\n",
      "22/22 [==============================] - 3s 121ms/step - loss: 0.9445 - accuracy: 0.9319 - val_loss: 1.2704 - val_accuracy: 0.8318\n",
      "Epoch 6/100\n",
      "22/22 [==============================] - 3s 122ms/step - loss: 0.9440 - accuracy: 0.9248 - val_loss: 1.2912 - val_accuracy: 0.8300\n",
      "Epoch 7/100\n",
      "22/22 [==============================] - 3s 122ms/step - loss: 0.9310 - accuracy: 0.9296 - val_loss: 1.3029 - val_accuracy: 0.8282\n",
      "Epoch 8/100\n",
      "22/22 [==============================] - 3s 122ms/step - loss: 0.9554 - accuracy: 0.9172 - val_loss: 1.3366 - val_accuracy: 0.8016\n",
      "Epoch 9/100\n",
      "22/22 [==============================] - 3s 122ms/step - loss: 0.9580 - accuracy: 0.9202 - val_loss: 1.3089 - val_accuracy: 0.8108\n",
      "Epoch 10/100\n",
      "22/22 [==============================] - 3s 122ms/step - loss: 0.9317 - accuracy: 0.9250 - val_loss: 1.2993 - val_accuracy: 0.8199\n",
      "Epoch 11/100\n",
      "22/22 [==============================] - 3s 122ms/step - loss: 0.9354 - accuracy: 0.9252 - val_loss: 1.2784 - val_accuracy: 0.8227\n",
      "Epoch 12/100\n",
      "22/22 [==============================] - 3s 122ms/step - loss: 0.9139 - accuracy: 0.9289 - val_loss: 1.2736 - val_accuracy: 0.8254\n",
      "Epoch 13/100\n",
      "22/22 [==============================] - 3s 122ms/step - loss: 0.8972 - accuracy: 0.9335 - val_loss: 1.2891 - val_accuracy: 0.8208\n",
      "Epoch 14/100\n",
      "22/22 [==============================] - 3s 123ms/step - loss: 0.8988 - accuracy: 0.9337 - val_loss: 1.2774 - val_accuracy: 0.8327\n",
      "Epoch 15/100\n",
      "22/22 [==============================] - 3s 122ms/step - loss: 0.8892 - accuracy: 0.9351 - val_loss: 1.3023 - val_accuracy: 0.8108\n",
      "Epoch 16/100\n",
      "22/22 [==============================] - 3s 122ms/step - loss: 0.8938 - accuracy: 0.9310 - val_loss: 1.2790 - val_accuracy: 0.8272\n",
      "Epoch 17/100\n",
      "22/22 [==============================] - 3s 122ms/step - loss: 0.8810 - accuracy: 0.9358 - val_loss: 1.2594 - val_accuracy: 0.8181\n",
      "Epoch 18/100\n",
      "22/22 [==============================] - 3s 124ms/step - loss: 0.8863 - accuracy: 0.9312 - val_loss: 1.2253 - val_accuracy: 0.8254\n",
      "Epoch 19/100\n",
      "22/22 [==============================] - 3s 123ms/step - loss: 0.8641 - accuracy: 0.9417 - val_loss: 1.2355 - val_accuracy: 0.8300\n",
      "Epoch 20/100\n",
      "22/22 [==============================] - 3s 130ms/step - loss: 0.8697 - accuracy: 0.9344 - val_loss: 1.2408 - val_accuracy: 0.8245\n",
      "Epoch 21/100\n",
      "22/22 [==============================] - 3s 126ms/step - loss: 0.8575 - accuracy: 0.9424 - val_loss: 1.2181 - val_accuracy: 0.8291\n",
      "Epoch 22/100\n",
      "22/22 [==============================] - 3s 126ms/step - loss: 0.8333 - accuracy: 0.9463 - val_loss: 1.2078 - val_accuracy: 0.8272\n",
      "Epoch 23/100\n",
      "22/22 [==============================] - 3s 124ms/step - loss: 0.8327 - accuracy: 0.9408 - val_loss: 1.2277 - val_accuracy: 0.8300\n",
      "Epoch 24/100\n",
      "22/22 [==============================] - 3s 122ms/step - loss: 0.8338 - accuracy: 0.9417 - val_loss: 1.1824 - val_accuracy: 0.8300\n",
      "Epoch 25/100\n",
      "22/22 [==============================] - 3s 123ms/step - loss: 0.8238 - accuracy: 0.9472 - val_loss: 1.2322 - val_accuracy: 0.8190\n",
      "Epoch 26/100\n",
      "22/22 [==============================] - 3s 122ms/step - loss: 0.8313 - accuracy: 0.9435 - val_loss: 1.2077 - val_accuracy: 0.8236\n",
      "Epoch 27/100\n",
      "22/22 [==============================] - 3s 123ms/step - loss: 0.8249 - accuracy: 0.9415 - val_loss: 1.2309 - val_accuracy: 0.8199\n",
      "Epoch 28/100\n",
      "22/22 [==============================] - 3s 123ms/step - loss: 0.8034 - accuracy: 0.9467 - val_loss: 1.1972 - val_accuracy: 0.8199\n",
      "Epoch 29/100\n",
      "22/22 [==============================] - 3s 122ms/step - loss: 0.7995 - accuracy: 0.9504 - val_loss: 1.1995 - val_accuracy: 0.8218\n",
      "Epoch 30/100\n",
      "22/22 [==============================] - 3s 123ms/step - loss: 0.8088 - accuracy: 0.9447 - val_loss: 1.2529 - val_accuracy: 0.8236\n",
      "Epoch 31/100\n",
      "22/22 [==============================] - 3s 125ms/step - loss: 0.8213 - accuracy: 0.9355 - val_loss: 1.1848 - val_accuracy: 0.8218\n",
      "Epoch 32/100\n",
      "22/22 [==============================] - 3s 125ms/step - loss: 0.8051 - accuracy: 0.9472 - val_loss: 1.1755 - val_accuracy: 0.8272\n",
      "Epoch 33/100\n",
      "22/22 [==============================] - 3s 129ms/step - loss: 0.7901 - accuracy: 0.9431 - val_loss: 1.1591 - val_accuracy: 0.8410\n",
      "Epoch 34/100\n",
      "22/22 [==============================] - 3s 124ms/step - loss: 0.7972 - accuracy: 0.9490 - val_loss: 1.1731 - val_accuracy: 0.8309\n",
      "Epoch 35/100\n",
      "22/22 [==============================] - 3s 127ms/step - loss: 0.7976 - accuracy: 0.9431 - val_loss: 1.1895 - val_accuracy: 0.8291\n",
      "Epoch 36/100\n",
      "22/22 [==============================] - 3s 124ms/step - loss: 0.7785 - accuracy: 0.9504 - val_loss: 1.1770 - val_accuracy: 0.8208\n",
      "Epoch 37/100\n",
      "22/22 [==============================] - 3s 123ms/step - loss: 0.7728 - accuracy: 0.9522 - val_loss: 1.2218 - val_accuracy: 0.8263\n",
      "Epoch 38/100\n",
      "22/22 [==============================] - 3s 126ms/step - loss: 0.7970 - accuracy: 0.9415 - val_loss: 1.1999 - val_accuracy: 0.8245\n",
      "Epoch 39/100\n",
      "22/22 [==============================] - 3s 125ms/step - loss: 0.7851 - accuracy: 0.9454 - val_loss: 1.2122 - val_accuracy: 0.8062\n",
      "Epoch 40/100\n",
      "22/22 [==============================] - 3s 124ms/step - loss: 0.7783 - accuracy: 0.9481 - val_loss: 1.1454 - val_accuracy: 0.8400\n",
      "Epoch 41/100\n",
      "22/22 [==============================] - 3s 126ms/step - loss: 0.7614 - accuracy: 0.9531 - val_loss: 1.2110 - val_accuracy: 0.8181\n",
      "Epoch 42/100\n",
      "22/22 [==============================] - 3s 125ms/step - loss: 0.7742 - accuracy: 0.9486 - val_loss: 1.1514 - val_accuracy: 0.8263\n",
      "Epoch 43/100\n",
      "22/22 [==============================] - 3s 125ms/step - loss: 0.7727 - accuracy: 0.9474 - val_loss: 1.1916 - val_accuracy: 0.8126\n",
      "Epoch 44/100\n",
      "22/22 [==============================] - 3s 125ms/step - loss: 0.7636 - accuracy: 0.9504 - val_loss: 1.1207 - val_accuracy: 0.8410\n",
      "Epoch 45/100\n",
      "22/22 [==============================] - 3s 125ms/step - loss: 0.7539 - accuracy: 0.9522 - val_loss: 1.1561 - val_accuracy: 0.8236\n",
      "Epoch 46/100\n",
      "22/22 [==============================] - 3s 124ms/step - loss: 0.7684 - accuracy: 0.9442 - val_loss: 1.1603 - val_accuracy: 0.8282\n",
      "Epoch 47/100\n",
      "22/22 [==============================] - 3s 124ms/step - loss: 0.7490 - accuracy: 0.9524 - val_loss: 1.1509 - val_accuracy: 0.8291\n",
      "Epoch 48/100\n",
      "22/22 [==============================] - 3s 125ms/step - loss: 0.7523 - accuracy: 0.9506 - val_loss: 1.1361 - val_accuracy: 0.8272\n",
      "Epoch 49/100\n",
      "22/22 [==============================] - 3s 125ms/step - loss: 0.7640 - accuracy: 0.9463 - val_loss: 1.1505 - val_accuracy: 0.8227\n",
      "Epoch 50/100\n",
      "22/22 [==============================] - 3s 123ms/step - loss: 0.7584 - accuracy: 0.9447 - val_loss: 1.1700 - val_accuracy: 0.8199\n",
      "Epoch 51/100\n",
      "22/22 [==============================] - 3s 125ms/step - loss: 0.7762 - accuracy: 0.9385 - val_loss: 1.2089 - val_accuracy: 0.8135\n",
      "Epoch 52/100\n",
      "22/22 [==============================] - 3s 124ms/step - loss: 0.7533 - accuracy: 0.9504 - val_loss: 1.2081 - val_accuracy: 0.8218\n",
      "Epoch 53/100\n",
      "22/22 [==============================] - 3s 123ms/step - loss: 0.7527 - accuracy: 0.9520 - val_loss: 1.1556 - val_accuracy: 0.8300\n",
      "Epoch 54/100\n",
      "22/22 [==============================] - 3s 125ms/step - loss: 0.7439 - accuracy: 0.9511 - val_loss: 1.1504 - val_accuracy: 0.8318\n",
      "Epoch 55/100\n",
      "22/22 [==============================] - 3s 123ms/step - loss: 0.7297 - accuracy: 0.9543 - val_loss: 1.1353 - val_accuracy: 0.8410\n",
      "Epoch 56/100\n",
      "22/22 [==============================] - 3s 123ms/step - loss: 0.7432 - accuracy: 0.9492 - val_loss: 1.1466 - val_accuracy: 0.8254\n",
      "Epoch 57/100\n",
      "22/22 [==============================] - 3s 123ms/step - loss: 0.7324 - accuracy: 0.9499 - val_loss: 1.1471 - val_accuracy: 0.8272\n",
      "Epoch 58/100\n",
      "22/22 [==============================] - 3s 123ms/step - loss: 0.7309 - accuracy: 0.9531 - val_loss: 1.1492 - val_accuracy: 0.8336\n",
      "Epoch 59/100\n",
      "22/22 [==============================] - 3s 127ms/step - loss: 0.7356 - accuracy: 0.9518 - val_loss: 1.0971 - val_accuracy: 0.8428\n",
      "Epoch 60/100\n",
      "22/22 [==============================] - 3s 123ms/step - loss: 0.7085 - accuracy: 0.9611 - val_loss: 1.1142 - val_accuracy: 0.8428\n",
      "Epoch 61/100\n",
      "22/22 [==============================] - 3s 123ms/step - loss: 0.7133 - accuracy: 0.9584 - val_loss: 1.1609 - val_accuracy: 0.8245\n",
      "Epoch 62/100\n",
      "22/22 [==============================] - 3s 123ms/step - loss: 0.7292 - accuracy: 0.9511 - val_loss: 1.1950 - val_accuracy: 0.8090\n",
      "Epoch 63/100\n",
      "22/22 [==============================] - 3s 123ms/step - loss: 0.7283 - accuracy: 0.9515 - val_loss: 1.1302 - val_accuracy: 0.8336\n",
      "Epoch 64/100\n",
      "22/22 [==============================] - 3s 123ms/step - loss: 0.7335 - accuracy: 0.9490 - val_loss: 1.1535 - val_accuracy: 0.8272\n",
      "Epoch 65/100\n",
      "22/22 [==============================] - 3s 126ms/step - loss: 0.7173 - accuracy: 0.9529 - val_loss: 1.1338 - val_accuracy: 0.8364\n",
      "Epoch 66/100\n",
      "22/22 [==============================] - 3s 126ms/step - loss: 0.7376 - accuracy: 0.9479 - val_loss: 1.1674 - val_accuracy: 0.8272\n",
      "Epoch 67/100\n",
      "22/22 [==============================] - 3s 126ms/step - loss: 0.7167 - accuracy: 0.9552 - val_loss: 1.1699 - val_accuracy: 0.8172\n",
      "Epoch 68/100\n",
      "22/22 [==============================] - 3s 128ms/step - loss: 0.7166 - accuracy: 0.9556 - val_loss: 1.1391 - val_accuracy: 0.8245\n",
      "Epoch 69/100\n",
      "22/22 [==============================] - 3s 125ms/step - loss: 0.7151 - accuracy: 0.9559 - val_loss: 1.1195 - val_accuracy: 0.8227\n",
      "Epoch 70/100\n",
      "22/22 [==============================] - 3s 127ms/step - loss: 0.7154 - accuracy: 0.9513 - val_loss: 1.1022 - val_accuracy: 0.8437\n",
      "Epoch 71/100\n",
      "22/22 [==============================] - 3s 123ms/step - loss: 0.6922 - accuracy: 0.9625 - val_loss: 1.1252 - val_accuracy: 0.8318\n",
      "Epoch 72/100\n",
      "22/22 [==============================] - 3s 123ms/step - loss: 0.6982 - accuracy: 0.9554 - val_loss: 1.1104 - val_accuracy: 0.8346\n",
      "Epoch 73/100\n",
      "22/22 [==============================] - 3s 122ms/step - loss: 0.7070 - accuracy: 0.9545 - val_loss: 1.1190 - val_accuracy: 0.8336\n",
      "Epoch 74/100\n",
      "22/22 [==============================] - 3s 122ms/step - loss: 0.6917 - accuracy: 0.9600 - val_loss: 1.1166 - val_accuracy: 0.8346\n",
      "Epoch 75/100\n",
      "22/22 [==============================] - 3s 122ms/step - loss: 0.6983 - accuracy: 0.9568 - val_loss: 1.1158 - val_accuracy: 0.8382\n",
      "Epoch 76/100\n",
      "22/22 [==============================] - 3s 122ms/step - loss: 0.6965 - accuracy: 0.9575 - val_loss: 1.1374 - val_accuracy: 0.8245\n",
      "Epoch 77/100\n",
      "22/22 [==============================] - 3s 124ms/step - loss: 0.6795 - accuracy: 0.9634 - val_loss: 1.0795 - val_accuracy: 0.8446\n",
      "Epoch 78/100\n",
      "22/22 [==============================] - 3s 123ms/step - loss: 0.6709 - accuracy: 0.9641 - val_loss: 1.0875 - val_accuracy: 0.8336\n",
      "Epoch 79/100\n",
      "22/22 [==============================] - 3s 125ms/step - loss: 0.6898 - accuracy: 0.9554 - val_loss: 1.1034 - val_accuracy: 0.8382\n",
      "Epoch 80/100\n",
      "22/22 [==============================] - 3s 124ms/step - loss: 0.6878 - accuracy: 0.9620 - val_loss: 1.1424 - val_accuracy: 0.8163\n",
      "Epoch 81/100\n",
      "22/22 [==============================] - 3s 127ms/step - loss: 0.6843 - accuracy: 0.9593 - val_loss: 1.1449 - val_accuracy: 0.8245\n",
      "Epoch 82/100\n",
      "22/22 [==============================] - 3s 124ms/step - loss: 0.6784 - accuracy: 0.9609 - val_loss: 1.1726 - val_accuracy: 0.8144\n",
      "Epoch 83/100\n",
      "22/22 [==============================] - 3s 130ms/step - loss: 0.6749 - accuracy: 0.9577 - val_loss: 1.1257 - val_accuracy: 0.8300\n",
      "Epoch 84/100\n",
      "22/22 [==============================] - 3s 125ms/step - loss: 0.6958 - accuracy: 0.9538 - val_loss: 1.1528 - val_accuracy: 0.8254\n",
      "Epoch 85/100\n",
      " 2/22 [=>............................] - ETA: 2s - loss: 0.6696 - accuracy: 0.9650"
     ]
    },
    {
     "ename": "KeyboardInterrupt",
     "evalue": "",
     "output_type": "error",
     "traceback": [
      "\u001b[1;31m---------------------------------------------------------------------------\u001b[0m",
      "\u001b[1;31mKeyboardInterrupt\u001b[0m                         Traceback (most recent call last)",
      "File \u001b[1;32m<timed exec>:4\u001b[0m\n",
      "File \u001b[1;32mc:\\Users\\Pawel\\anaconda3\\envs\\tf_gpu_2\\lib\\site-packages\\keras\\utils\\traceback_utils.py:65\u001b[0m, in \u001b[0;36mfilter_traceback.<locals>.error_handler\u001b[1;34m(*args, **kwargs)\u001b[0m\n\u001b[0;32m     63\u001b[0m filtered_tb \u001b[38;5;241m=\u001b[39m \u001b[38;5;28;01mNone\u001b[39;00m\n\u001b[0;32m     64\u001b[0m \u001b[38;5;28;01mtry\u001b[39;00m:\n\u001b[1;32m---> 65\u001b[0m     \u001b[38;5;28;01mreturn\u001b[39;00m fn(\u001b[38;5;241m*\u001b[39margs, \u001b[38;5;241m*\u001b[39m\u001b[38;5;241m*\u001b[39mkwargs)\n\u001b[0;32m     66\u001b[0m \u001b[38;5;28;01mexcept\u001b[39;00m \u001b[38;5;167;01mException\u001b[39;00m \u001b[38;5;28;01mas\u001b[39;00m e:\n\u001b[0;32m     67\u001b[0m     filtered_tb \u001b[38;5;241m=\u001b[39m _process_traceback_frames(e\u001b[38;5;241m.\u001b[39m__traceback__)\n",
      "File \u001b[1;32mc:\\Users\\Pawel\\anaconda3\\envs\\tf_gpu_2\\lib\\site-packages\\keras\\engine\\training.py:1570\u001b[0m, in \u001b[0;36mModel.fit\u001b[1;34m(self, x, y, batch_size, epochs, verbose, callbacks, validation_split, validation_data, shuffle, class_weight, sample_weight, initial_epoch, steps_per_epoch, validation_steps, validation_batch_size, validation_freq, max_queue_size, workers, use_multiprocessing)\u001b[0m\n\u001b[0;32m   1568\u001b[0m logs \u001b[38;5;241m=\u001b[39m tmp_logs\n\u001b[0;32m   1569\u001b[0m end_step \u001b[38;5;241m=\u001b[39m step \u001b[38;5;241m+\u001b[39m data_handler\u001b[38;5;241m.\u001b[39mstep_increment\n\u001b[1;32m-> 1570\u001b[0m \u001b[43mcallbacks\u001b[49m\u001b[38;5;241;43m.\u001b[39;49m\u001b[43mon_train_batch_end\u001b[49m\u001b[43m(\u001b[49m\u001b[43mend_step\u001b[49m\u001b[43m,\u001b[49m\u001b[43m \u001b[49m\u001b[43mlogs\u001b[49m\u001b[43m)\u001b[49m\n\u001b[0;32m   1571\u001b[0m \u001b[38;5;28;01mif\u001b[39;00m \u001b[38;5;28mself\u001b[39m\u001b[38;5;241m.\u001b[39mstop_training:\n\u001b[0;32m   1572\u001b[0m     \u001b[38;5;28;01mbreak\u001b[39;00m\n",
      "File \u001b[1;32mc:\\Users\\Pawel\\anaconda3\\envs\\tf_gpu_2\\lib\\site-packages\\keras\\callbacks.py:470\u001b[0m, in \u001b[0;36mCallbackList.on_train_batch_end\u001b[1;34m(self, batch, logs)\u001b[0m\n\u001b[0;32m    463\u001b[0m \u001b[38;5;250m\u001b[39m\u001b[38;5;124;03m\"\"\"Calls the `on_train_batch_end` methods of its callbacks.\u001b[39;00m\n\u001b[0;32m    464\u001b[0m \n\u001b[0;32m    465\u001b[0m \u001b[38;5;124;03mArgs:\u001b[39;00m\n\u001b[0;32m    466\u001b[0m \u001b[38;5;124;03m    batch: Integer, index of batch within the current epoch.\u001b[39;00m\n\u001b[0;32m    467\u001b[0m \u001b[38;5;124;03m    logs: Dict. Aggregated metric results up until this batch.\u001b[39;00m\n\u001b[0;32m    468\u001b[0m \u001b[38;5;124;03m\"\"\"\u001b[39;00m\n\u001b[0;32m    469\u001b[0m \u001b[38;5;28;01mif\u001b[39;00m \u001b[38;5;28mself\u001b[39m\u001b[38;5;241m.\u001b[39m_should_call_train_batch_hooks:\n\u001b[1;32m--> 470\u001b[0m     \u001b[38;5;28;43mself\u001b[39;49m\u001b[38;5;241;43m.\u001b[39;49m\u001b[43m_call_batch_hook\u001b[49m\u001b[43m(\u001b[49m\u001b[43mModeKeys\u001b[49m\u001b[38;5;241;43m.\u001b[39;49m\u001b[43mTRAIN\u001b[49m\u001b[43m,\u001b[49m\u001b[43m \u001b[49m\u001b[38;5;124;43m\"\u001b[39;49m\u001b[38;5;124;43mend\u001b[39;49m\u001b[38;5;124;43m\"\u001b[39;49m\u001b[43m,\u001b[49m\u001b[43m \u001b[49m\u001b[43mbatch\u001b[49m\u001b[43m,\u001b[49m\u001b[43m \u001b[49m\u001b[43mlogs\u001b[49m\u001b[38;5;241;43m=\u001b[39;49m\u001b[43mlogs\u001b[49m\u001b[43m)\u001b[49m\n",
      "File \u001b[1;32mc:\\Users\\Pawel\\anaconda3\\envs\\tf_gpu_2\\lib\\site-packages\\keras\\callbacks.py:317\u001b[0m, in \u001b[0;36mCallbackList._call_batch_hook\u001b[1;34m(self, mode, hook, batch, logs)\u001b[0m\n\u001b[0;32m    315\u001b[0m     \u001b[38;5;28mself\u001b[39m\u001b[38;5;241m.\u001b[39m_call_batch_begin_hook(mode, batch, logs)\n\u001b[0;32m    316\u001b[0m \u001b[38;5;28;01melif\u001b[39;00m hook \u001b[38;5;241m==\u001b[39m \u001b[38;5;124m\"\u001b[39m\u001b[38;5;124mend\u001b[39m\u001b[38;5;124m\"\u001b[39m:\n\u001b[1;32m--> 317\u001b[0m     \u001b[38;5;28;43mself\u001b[39;49m\u001b[38;5;241;43m.\u001b[39;49m\u001b[43m_call_batch_end_hook\u001b[49m\u001b[43m(\u001b[49m\u001b[43mmode\u001b[49m\u001b[43m,\u001b[49m\u001b[43m \u001b[49m\u001b[43mbatch\u001b[49m\u001b[43m,\u001b[49m\u001b[43m \u001b[49m\u001b[43mlogs\u001b[49m\u001b[43m)\u001b[49m\n\u001b[0;32m    318\u001b[0m \u001b[38;5;28;01melse\u001b[39;00m:\n\u001b[0;32m    319\u001b[0m     \u001b[38;5;28;01mraise\u001b[39;00m \u001b[38;5;167;01mValueError\u001b[39;00m(\n\u001b[0;32m    320\u001b[0m         \u001b[38;5;124mf\u001b[39m\u001b[38;5;124m\"\u001b[39m\u001b[38;5;124mUnrecognized hook: \u001b[39m\u001b[38;5;132;01m{\u001b[39;00mhook\u001b[38;5;132;01m}\u001b[39;00m\u001b[38;5;124m. \u001b[39m\u001b[38;5;124m\"\u001b[39m\n\u001b[0;32m    321\u001b[0m         \u001b[38;5;124m'\u001b[39m\u001b[38;5;124mExpected values are [\u001b[39m\u001b[38;5;124m\"\u001b[39m\u001b[38;5;124mbegin\u001b[39m\u001b[38;5;124m\"\u001b[39m\u001b[38;5;124m, \u001b[39m\u001b[38;5;124m\"\u001b[39m\u001b[38;5;124mend\u001b[39m\u001b[38;5;124m\"\u001b[39m\u001b[38;5;124m]\u001b[39m\u001b[38;5;124m'\u001b[39m\n\u001b[0;32m    322\u001b[0m     )\n",
      "File \u001b[1;32mc:\\Users\\Pawel\\anaconda3\\envs\\tf_gpu_2\\lib\\site-packages\\keras\\callbacks.py:340\u001b[0m, in \u001b[0;36mCallbackList._call_batch_end_hook\u001b[1;34m(self, mode, batch, logs)\u001b[0m\n\u001b[0;32m    337\u001b[0m     batch_time \u001b[38;5;241m=\u001b[39m time\u001b[38;5;241m.\u001b[39mtime() \u001b[38;5;241m-\u001b[39m \u001b[38;5;28mself\u001b[39m\u001b[38;5;241m.\u001b[39m_batch_start_time\n\u001b[0;32m    338\u001b[0m     \u001b[38;5;28mself\u001b[39m\u001b[38;5;241m.\u001b[39m_batch_times\u001b[38;5;241m.\u001b[39mappend(batch_time)\n\u001b[1;32m--> 340\u001b[0m \u001b[38;5;28;43mself\u001b[39;49m\u001b[38;5;241;43m.\u001b[39;49m\u001b[43m_call_batch_hook_helper\u001b[49m\u001b[43m(\u001b[49m\u001b[43mhook_name\u001b[49m\u001b[43m,\u001b[49m\u001b[43m \u001b[49m\u001b[43mbatch\u001b[49m\u001b[43m,\u001b[49m\u001b[43m \u001b[49m\u001b[43mlogs\u001b[49m\u001b[43m)\u001b[49m\n\u001b[0;32m    342\u001b[0m \u001b[38;5;28;01mif\u001b[39;00m \u001b[38;5;28mlen\u001b[39m(\u001b[38;5;28mself\u001b[39m\u001b[38;5;241m.\u001b[39m_batch_times) \u001b[38;5;241m>\u001b[39m\u001b[38;5;241m=\u001b[39m \u001b[38;5;28mself\u001b[39m\u001b[38;5;241m.\u001b[39m_num_batches_for_timing_check:\n\u001b[0;32m    343\u001b[0m     end_hook_name \u001b[38;5;241m=\u001b[39m hook_name\n",
      "File \u001b[1;32mc:\\Users\\Pawel\\anaconda3\\envs\\tf_gpu_2\\lib\\site-packages\\keras\\callbacks.py:388\u001b[0m, in \u001b[0;36mCallbackList._call_batch_hook_helper\u001b[1;34m(self, hook_name, batch, logs)\u001b[0m\n\u001b[0;32m    386\u001b[0m \u001b[38;5;28;01mfor\u001b[39;00m callback \u001b[38;5;129;01min\u001b[39;00m \u001b[38;5;28mself\u001b[39m\u001b[38;5;241m.\u001b[39mcallbacks:\n\u001b[0;32m    387\u001b[0m     hook \u001b[38;5;241m=\u001b[39m \u001b[38;5;28mgetattr\u001b[39m(callback, hook_name)\n\u001b[1;32m--> 388\u001b[0m     \u001b[43mhook\u001b[49m\u001b[43m(\u001b[49m\u001b[43mbatch\u001b[49m\u001b[43m,\u001b[49m\u001b[43m \u001b[49m\u001b[43mlogs\u001b[49m\u001b[43m)\u001b[49m\n\u001b[0;32m    390\u001b[0m \u001b[38;5;28;01mif\u001b[39;00m \u001b[38;5;28mself\u001b[39m\u001b[38;5;241m.\u001b[39m_check_timing:\n\u001b[0;32m    391\u001b[0m     \u001b[38;5;28;01mif\u001b[39;00m hook_name \u001b[38;5;129;01mnot\u001b[39;00m \u001b[38;5;129;01min\u001b[39;00m \u001b[38;5;28mself\u001b[39m\u001b[38;5;241m.\u001b[39m_hook_times:\n",
      "File \u001b[1;32mc:\\Users\\Pawel\\anaconda3\\envs\\tf_gpu_2\\lib\\site-packages\\keras\\callbacks.py:1081\u001b[0m, in \u001b[0;36mProgbarLogger.on_train_batch_end\u001b[1;34m(self, batch, logs)\u001b[0m\n\u001b[0;32m   1080\u001b[0m \u001b[38;5;28;01mdef\u001b[39;00m \u001b[38;5;21mon_train_batch_end\u001b[39m(\u001b[38;5;28mself\u001b[39m, batch, logs\u001b[38;5;241m=\u001b[39m\u001b[38;5;28;01mNone\u001b[39;00m):\n\u001b[1;32m-> 1081\u001b[0m     \u001b[38;5;28;43mself\u001b[39;49m\u001b[38;5;241;43m.\u001b[39;49m\u001b[43m_batch_update_progbar\u001b[49m\u001b[43m(\u001b[49m\u001b[43mbatch\u001b[49m\u001b[43m,\u001b[49m\u001b[43m \u001b[49m\u001b[43mlogs\u001b[49m\u001b[43m)\u001b[49m\n",
      "File \u001b[1;32mc:\\Users\\Pawel\\anaconda3\\envs\\tf_gpu_2\\lib\\site-packages\\keras\\callbacks.py:1157\u001b[0m, in \u001b[0;36mProgbarLogger._batch_update_progbar\u001b[1;34m(self, batch, logs)\u001b[0m\n\u001b[0;32m   1153\u001b[0m     \u001b[38;5;28mself\u001b[39m\u001b[38;5;241m.\u001b[39mseen \u001b[38;5;241m+\u001b[39m\u001b[38;5;241m=\u001b[39m add_seen\n\u001b[0;32m   1155\u001b[0m \u001b[38;5;28;01mif\u001b[39;00m \u001b[38;5;28mself\u001b[39m\u001b[38;5;241m.\u001b[39mverbose \u001b[38;5;241m==\u001b[39m \u001b[38;5;241m1\u001b[39m:\n\u001b[0;32m   1156\u001b[0m     \u001b[38;5;66;03m# Only block async when verbose = 1.\u001b[39;00m\n\u001b[1;32m-> 1157\u001b[0m     logs \u001b[38;5;241m=\u001b[39m \u001b[43mtf_utils\u001b[49m\u001b[38;5;241;43m.\u001b[39;49m\u001b[43msync_to_numpy_or_python_type\u001b[49m\u001b[43m(\u001b[49m\u001b[43mlogs\u001b[49m\u001b[43m)\u001b[49m\n\u001b[0;32m   1158\u001b[0m     \u001b[38;5;28mself\u001b[39m\u001b[38;5;241m.\u001b[39mprogbar\u001b[38;5;241m.\u001b[39mupdate(\u001b[38;5;28mself\u001b[39m\u001b[38;5;241m.\u001b[39mseen, \u001b[38;5;28mlist\u001b[39m(logs\u001b[38;5;241m.\u001b[39mitems()), finalize\u001b[38;5;241m=\u001b[39m\u001b[38;5;28;01mFalse\u001b[39;00m)\n",
      "File \u001b[1;32mc:\\Users\\Pawel\\anaconda3\\envs\\tf_gpu_2\\lib\\site-packages\\keras\\utils\\tf_utils.py:635\u001b[0m, in \u001b[0;36msync_to_numpy_or_python_type\u001b[1;34m(tensors)\u001b[0m\n\u001b[0;32m    632\u001b[0m         \u001b[38;5;28;01mreturn\u001b[39;00m t\n\u001b[0;32m    633\u001b[0m     \u001b[38;5;28;01mreturn\u001b[39;00m t\u001b[38;5;241m.\u001b[39mitem() \u001b[38;5;28;01mif\u001b[39;00m np\u001b[38;5;241m.\u001b[39mndim(t) \u001b[38;5;241m==\u001b[39m \u001b[38;5;241m0\u001b[39m \u001b[38;5;28;01melse\u001b[39;00m t\n\u001b[1;32m--> 635\u001b[0m \u001b[38;5;28;01mreturn\u001b[39;00m \u001b[43mtf\u001b[49m\u001b[38;5;241;43m.\u001b[39;49m\u001b[43mnest\u001b[49m\u001b[38;5;241;43m.\u001b[39;49m\u001b[43mmap_structure\u001b[49m\u001b[43m(\u001b[49m\u001b[43m_to_single_numpy_or_python_type\u001b[49m\u001b[43m,\u001b[49m\u001b[43m \u001b[49m\u001b[43mtensors\u001b[49m\u001b[43m)\u001b[49m\n",
      "File \u001b[1;32mc:\\Users\\Pawel\\anaconda3\\envs\\tf_gpu_2\\lib\\site-packages\\tensorflow\\python\\util\\nest.py:917\u001b[0m, in \u001b[0;36mmap_structure\u001b[1;34m(func, *structure, **kwargs)\u001b[0m\n\u001b[0;32m    913\u001b[0m flat_structure \u001b[38;5;241m=\u001b[39m (flatten(s, expand_composites) \u001b[38;5;28;01mfor\u001b[39;00m s \u001b[38;5;129;01min\u001b[39;00m structure)\n\u001b[0;32m    914\u001b[0m entries \u001b[38;5;241m=\u001b[39m \u001b[38;5;28mzip\u001b[39m(\u001b[38;5;241m*\u001b[39mflat_structure)\n\u001b[0;32m    916\u001b[0m \u001b[38;5;28;01mreturn\u001b[39;00m pack_sequence_as(\n\u001b[1;32m--> 917\u001b[0m     structure[\u001b[38;5;241m0\u001b[39m], [func(\u001b[38;5;241m*\u001b[39mx) \u001b[38;5;28;01mfor\u001b[39;00m x \u001b[38;5;129;01min\u001b[39;00m entries],\n\u001b[0;32m    918\u001b[0m     expand_composites\u001b[38;5;241m=\u001b[39mexpand_composites)\n",
      "File \u001b[1;32mc:\\Users\\Pawel\\anaconda3\\envs\\tf_gpu_2\\lib\\site-packages\\tensorflow\\python\\util\\nest.py:917\u001b[0m, in \u001b[0;36m<listcomp>\u001b[1;34m(.0)\u001b[0m\n\u001b[0;32m    913\u001b[0m flat_structure \u001b[38;5;241m=\u001b[39m (flatten(s, expand_composites) \u001b[38;5;28;01mfor\u001b[39;00m s \u001b[38;5;129;01min\u001b[39;00m structure)\n\u001b[0;32m    914\u001b[0m entries \u001b[38;5;241m=\u001b[39m \u001b[38;5;28mzip\u001b[39m(\u001b[38;5;241m*\u001b[39mflat_structure)\n\u001b[0;32m    916\u001b[0m \u001b[38;5;28;01mreturn\u001b[39;00m pack_sequence_as(\n\u001b[1;32m--> 917\u001b[0m     structure[\u001b[38;5;241m0\u001b[39m], [\u001b[43mfunc\u001b[49m\u001b[43m(\u001b[49m\u001b[38;5;241;43m*\u001b[39;49m\u001b[43mx\u001b[49m\u001b[43m)\u001b[49m \u001b[38;5;28;01mfor\u001b[39;00m x \u001b[38;5;129;01min\u001b[39;00m entries],\n\u001b[0;32m    918\u001b[0m     expand_composites\u001b[38;5;241m=\u001b[39mexpand_composites)\n",
      "File \u001b[1;32mc:\\Users\\Pawel\\anaconda3\\envs\\tf_gpu_2\\lib\\site-packages\\keras\\utils\\tf_utils.py:628\u001b[0m, in \u001b[0;36msync_to_numpy_or_python_type.<locals>._to_single_numpy_or_python_type\u001b[1;34m(t)\u001b[0m\n\u001b[0;32m    625\u001b[0m \u001b[38;5;28;01mdef\u001b[39;00m \u001b[38;5;21m_to_single_numpy_or_python_type\u001b[39m(t):\n\u001b[0;32m    626\u001b[0m     \u001b[38;5;66;03m# Don't turn ragged or sparse tensors to NumPy.\u001b[39;00m\n\u001b[0;32m    627\u001b[0m     \u001b[38;5;28;01mif\u001b[39;00m \u001b[38;5;28misinstance\u001b[39m(t, tf\u001b[38;5;241m.\u001b[39mTensor):\n\u001b[1;32m--> 628\u001b[0m         t \u001b[38;5;241m=\u001b[39m \u001b[43mt\u001b[49m\u001b[38;5;241;43m.\u001b[39;49m\u001b[43mnumpy\u001b[49m\u001b[43m(\u001b[49m\u001b[43m)\u001b[49m\n\u001b[0;32m    629\u001b[0m     \u001b[38;5;66;03m# Strings, ragged and sparse tensors don't have .item(). Return them\u001b[39;00m\n\u001b[0;32m    630\u001b[0m     \u001b[38;5;66;03m# as-is.\u001b[39;00m\n\u001b[0;32m    631\u001b[0m     \u001b[38;5;28;01mif\u001b[39;00m \u001b[38;5;129;01mnot\u001b[39;00m \u001b[38;5;28misinstance\u001b[39m(t, (np\u001b[38;5;241m.\u001b[39mndarray, np\u001b[38;5;241m.\u001b[39mgeneric)):\n",
      "File \u001b[1;32mc:\\Users\\Pawel\\anaconda3\\envs\\tf_gpu_2\\lib\\site-packages\\tensorflow\\python\\framework\\ops.py:1157\u001b[0m, in \u001b[0;36m_EagerTensorBase.numpy\u001b[1;34m(self)\u001b[0m\n\u001b[0;32m   1134\u001b[0m \u001b[38;5;250m\u001b[39m\u001b[38;5;124;03m\"\"\"Copy of the contents of this Tensor into a NumPy array or scalar.\u001b[39;00m\n\u001b[0;32m   1135\u001b[0m \n\u001b[0;32m   1136\u001b[0m \u001b[38;5;124;03mUnlike NumPy arrays, Tensors are immutable, so this method has to copy\u001b[39;00m\n\u001b[1;32m   (...)\u001b[0m\n\u001b[0;32m   1154\u001b[0m \u001b[38;5;124;03m    NumPy dtype.\u001b[39;00m\n\u001b[0;32m   1155\u001b[0m \u001b[38;5;124;03m\"\"\"\u001b[39;00m\n\u001b[0;32m   1156\u001b[0m \u001b[38;5;66;03m# TODO(slebedev): Consider avoiding a copy for non-CPU or remote tensors.\u001b[39;00m\n\u001b[1;32m-> 1157\u001b[0m maybe_arr \u001b[38;5;241m=\u001b[39m \u001b[38;5;28;43mself\u001b[39;49m\u001b[38;5;241;43m.\u001b[39;49m\u001b[43m_numpy\u001b[49m\u001b[43m(\u001b[49m\u001b[43m)\u001b[49m  \u001b[38;5;66;03m# pylint: disable=protected-access\u001b[39;00m\n\u001b[0;32m   1158\u001b[0m \u001b[38;5;28;01mreturn\u001b[39;00m maybe_arr\u001b[38;5;241m.\u001b[39mcopy() \u001b[38;5;28;01mif\u001b[39;00m \u001b[38;5;28misinstance\u001b[39m(maybe_arr, np\u001b[38;5;241m.\u001b[39mndarray) \u001b[38;5;28;01melse\u001b[39;00m maybe_arr\n",
      "File \u001b[1;32mc:\\Users\\Pawel\\anaconda3\\envs\\tf_gpu_2\\lib\\site-packages\\tensorflow\\python\\framework\\ops.py:1123\u001b[0m, in \u001b[0;36m_EagerTensorBase._numpy\u001b[1;34m(self)\u001b[0m\n\u001b[0;32m   1121\u001b[0m \u001b[38;5;28;01mdef\u001b[39;00m \u001b[38;5;21m_numpy\u001b[39m(\u001b[38;5;28mself\u001b[39m):\n\u001b[0;32m   1122\u001b[0m   \u001b[38;5;28;01mtry\u001b[39;00m:\n\u001b[1;32m-> 1123\u001b[0m     \u001b[38;5;28;01mreturn\u001b[39;00m \u001b[38;5;28;43mself\u001b[39;49m\u001b[38;5;241;43m.\u001b[39;49m\u001b[43m_numpy_internal\u001b[49m\u001b[43m(\u001b[49m\u001b[43m)\u001b[49m\n\u001b[0;32m   1124\u001b[0m   \u001b[38;5;28;01mexcept\u001b[39;00m core\u001b[38;5;241m.\u001b[39m_NotOkStatusException \u001b[38;5;28;01mas\u001b[39;00m e:  \u001b[38;5;66;03m# pylint: disable=protected-access\u001b[39;00m\n\u001b[0;32m   1125\u001b[0m     \u001b[38;5;28;01mraise\u001b[39;00m core\u001b[38;5;241m.\u001b[39m_status_to_exception(e) \u001b[38;5;28;01mfrom\u001b[39;00m \u001b[38;5;28;01mNone\u001b[39;00m\n",
      "\u001b[1;31mKeyboardInterrupt\u001b[0m: "
     ]
    }
   ],
   "source": [
    "%%time\n",
    "batch_size = 200\n",
    "epochs = 100\n",
    "\n",
    "history = model.fit(\n",
    "  X_train, y_train_fixed,\n",
    "  batch_size=batch_size,\n",
    "  epochs=epochs,\n",
    "  validation_split=0.2,\n",
    "  shuffle=True,\n",
    "  callbacks=[model_checkpoint_callback]\n",
    ")"
   ]
  },
  {
   "cell_type": "code",
   "execution_count": 253,
   "metadata": {},
   "outputs": [
    {
     "name": "stdout",
     "output_type": "stream",
     "text": [
      "43/43 [==============================] - 1s 14ms/step - loss: 1.1817 - accuracy: 0.8303\n"
     ]
    },
    {
     "data": {
      "text/plain": [
       "[1.1817303895950317, 0.8302853107452393]"
      ]
     },
     "execution_count": 253,
     "metadata": {},
     "output_type": "execute_result"
    }
   ],
   "source": [
    "model.evaluate(X_test, y_test_fixed)"
   ]
  }
 ],
 "metadata": {
  "kernelspec": {
   "display_name": "env_torch",
   "language": "python",
   "name": "python3"
  },
  "language_info": {
   "codemirror_mode": {
    "name": "ipython",
    "version": 3
   },
   "file_extension": ".py",
   "mimetype": "text/x-python",
   "name": "python",
   "nbconvert_exporter": "python",
   "pygments_lexer": "ipython3",
   "version": "3.10.13"
  }
 },
 "nbformat": 4,
 "nbformat_minor": 2
}
