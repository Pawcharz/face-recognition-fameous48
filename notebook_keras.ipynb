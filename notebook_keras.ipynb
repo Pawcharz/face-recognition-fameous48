{
 "cells": [
  {
   "cell_type": "code",
   "execution_count": 285,
   "metadata": {},
   "outputs": [],
   "source": [
    "import numpy as np\n",
    "import tensorflow as tf\n",
    "from tensorflow import keras\n",
    "\n",
    "from keras import layers\n",
    "from keras import regularizers\n",
    "\n",
    "import re"
   ]
  },
  {
   "cell_type": "code",
   "execution_count": 286,
   "metadata": {},
   "outputs": [],
   "source": [
    "from keras import backend as K\n",
    "K.clear_session()"
   ]
  },
  {
   "cell_type": "code",
   "execution_count": 287,
   "metadata": {},
   "outputs": [
    {
     "name": "stdout",
     "output_type": "stream",
     "text": [
      "[PhysicalDevice(name='/physical_device:CPU:0', device_type='CPU'), PhysicalDevice(name='/physical_device:GPU:0', device_type='GPU')]\n"
     ]
    }
   ],
   "source": [
    "physical_devices = tf.config.list_physical_devices()\n",
    "CLASSES = 48\n",
    "IMAGE_SIZE = 24\n",
    "\n",
    "print(physical_devices)"
   ]
  },
  {
   "cell_type": "code",
   "execution_count": 288,
   "metadata": {},
   "outputs": [],
   "source": [
    "tf.config.set_visible_devices(physical_devices[1], 'GPU')"
   ]
  },
  {
   "cell_type": "markdown",
   "metadata": {},
   "source": [
    "## Building Dataset"
   ]
  },
  {
   "cell_type": "markdown",
   "metadata": {},
   "source": [
    "### Attributes description\n",
    "\n",
    "- a1 - face containing flag: (1-with face, 0-without face),\n",
    "- a2 - image number in current class (person) beginning from 0,\n",
    "- a3 - class (person) number beginning from 0,\n",
    "- a4 - sex (0 - woman, 1 - man)\n",
    "- a5 - race (0- white, 1 - negro, 2 - indian, ...)\n",
    "- a6 - age (0 - baby, 1 - young, 2 - middle-age, 3 - old) \n",
    "- a7 - binokulars (0 - without, 1 - transparent, 2 - dark)\n",
    "- a8 - emotional expression (not state!) (0 - sad, 1 - neutral, 2 - happy)"
   ]
  },
  {
   "cell_type": "code",
   "execution_count": 289,
   "metadata": {},
   "outputs": [],
   "source": [
    "def read_file(filename):\n",
    "  \n",
    "  with open(filename, 'r') as file:\n",
    "    lines = file.readlines()\n",
    "    \n",
    "    # Remove newLines\n",
    "    for i, line in enumerate(lines):\n",
    "      lines[i] = line.replace('\\n', '')\n",
    "    \n",
    "    # We assume these are integers\n",
    "    EXAMPLES_NR = int(lines[0])\n",
    "    PIXELS_NR = int(lines[1])\n",
    "    \n",
    "    inputs = list()\n",
    "    labels = np.zeros(EXAMPLES_NR, dtype=int)\n",
    "    \n",
    "    examples_raw = lines[2:EXAMPLES_NR+2]\n",
    "    \n",
    "    for i, example_raw in enumerate(examples_raw):\n",
    "      # Split by spaces (treats multiple as one)\n",
    "      tokens = re.split('\\s+', example_raw)\n",
    "      \n",
    "      pixel_values = np.array(tokens[0:PIXELS_NR])\n",
    "      attributes = tokens[PIXELS_NR:]\n",
    "      \n",
    "      pixel_values = np.array(pixel_values, dtype=float)\n",
    "      pixel_values = pixel_values.reshape([IMAGE_SIZE, IMAGE_SIZE])\n",
    "      \n",
    "      inputs.append(pixel_values)\n",
    "      labels[i] = int(attributes[2])\n",
    "      \n",
    "    inputs = np.array(inputs)\n",
    "  return inputs, labels"
   ]
  },
  {
   "cell_type": "code",
   "execution_count": 290,
   "metadata": {},
   "outputs": [
    {
     "name": "stdout",
     "output_type": "stream",
     "text": [
      "2321 2321\n",
      "2208 2208\n",
      "2306 2306\n"
     ]
    }
   ],
   "source": [
    "# classes 0-15\n",
    "X_0, y_0 = read_file('./data/x24x24.txt')\n",
    "# classes 16-31\n",
    "X_1, y_1 = read_file('./data/y24x24.txt')\n",
    "# # classes 32-48\n",
    "X_2, y_2 = read_file('./data/z24x24.txt')\n",
    "\n",
    "print(len(X_0), len(y_0))\n",
    "print(len(X_1), len(y_1))\n",
    "print(len(X_2), len(y_2))"
   ]
  },
  {
   "cell_type": "code",
   "execution_count": 291,
   "metadata": {},
   "outputs": [
    {
     "name": "stdout",
     "output_type": "stream",
     "text": [
      "6835 6835\n"
     ]
    }
   ],
   "source": [
    "from sklearn.model_selection import train_test_split\n",
    "\n",
    "# Concatenate train and test images\n",
    "X = np.concatenate((X_0, X_1, X_2))\n",
    "y = np.concatenate((y_0, y_1, y_2))\n",
    "print(len(X), len(y))\n",
    "\n",
    "N_TRAIN_EXAMPLES=int(len(X) * 0.8)\n",
    "N_TEST_EXAMPLES=len(X) - N_TRAIN_EXAMPLES\n",
    "\n",
    "\n",
    "X_train, X_test, y_train, y_test = train_test_split(X, y, train_size=N_TRAIN_EXAMPLES, test_size=N_TEST_EXAMPLES, random_state=1)\n",
    "\n",
    "# One-Hot encoding\n",
    "# Getting dummy variables\n",
    "y_train_fixed = np.zeros((y_train.shape[0], CLASSES))\n",
    "# y_valid_fixed = np.zeros((y_valid.shape[0], 10))\n",
    "y_test_fixed = np.zeros((y_test.shape[0], CLASSES))\n",
    "\n",
    "for i, value in enumerate(y_train):\n",
    "  y_train_fixed[i][value] = 1\n",
    "  \n",
    "for i, value in enumerate(y_test):\n",
    "  y_test_fixed[i][value] = 1"
   ]
  },
  {
   "cell_type": "code",
   "execution_count": 292,
   "metadata": {},
   "outputs": [
    {
     "name": "stdout",
     "output_type": "stream",
     "text": [
      "1367\n"
     ]
    }
   ],
   "source": [
    "print(len(X_test))"
   ]
  },
  {
   "cell_type": "markdown",
   "metadata": {},
   "source": [
    "## Building a model"
   ]
  },
  {
   "cell_type": "markdown",
   "metadata": {},
   "source": [
    "I decided to down-scale the alexNet as it was for the long time the SOTA Convolutional Neural Network Architecture\n",
    "\n",
    "Full AlexNet implementation in keras:\n",
    "\n",
    "```py\n",
    "  keras.Input(shape=(227, 227, 3)),\n",
    "  layers.Conv2D(96, kernel_size=11, strides=4, padding='same', activation=\"relu\"),\n",
    "  layers.MaxPooling2D(pool_size=3, strides=2),\n",
    "  layers.Conv2D(256, kernel_size=5, padding='same', activation=\"relu\"),\n",
    "  layers.MaxPooling2D(pool_size=3, strides=2),\n",
    "  layers.Conv2D(384, kernel_size=3, padding='same', activation=\"relu\"),\n",
    "  layers.Conv2D(384, kernel_size=3, padding='same', activation=\"relu\"),\n",
    "  layers.Conv2D(256, kernel_size=3, padding='same', activation=\"relu\"),\n",
    "  layers.MaxPooling2D(pool_size=3, strides=2),\n",
    "  layers.Dropout(0.5),\n",
    "  layers.Dense(4096, activation=\"relu\"),\n",
    "  layers.Dropout(0.5),\n",
    "  layers.Dense(4096, activation=\"relu\"),\n",
    "  layers.Dense(CLASSES, activation=\"softmax\")\n",
    "```"
   ]
  },
  {
   "cell_type": "code",
   "execution_count": 293,
   "metadata": {},
   "outputs": [
    {
     "name": "stdout",
     "output_type": "stream",
     "text": [
      "Model: \"sequential\"\n",
      "_________________________________________________________________\n",
      " Layer (type)                Output Shape              Param #   \n",
      "=================================================================\n",
      " conv2d (Conv2D)             (None, 24, 24, 24)        240       \n",
      "                                                                 \n",
      " leaky_re_lu (LeakyReLU)     (None, 24, 24, 24)        0         \n",
      "                                                                 \n",
      " conv2d_1 (Conv2D)           (None, 24, 24, 64)        38464     \n",
      "                                                                 \n",
      " max_pooling2d (MaxPooling2D  (None, 11, 11, 64)       0         \n",
      " )                                                               \n",
      "                                                                 \n",
      " leaky_re_lu_1 (LeakyReLU)   (None, 11, 11, 64)        0         \n",
      "                                                                 \n",
      " conv2d_2 (Conv2D)           (None, 11, 11, 96)        55392     \n",
      "                                                                 \n",
      " leaky_re_lu_2 (LeakyReLU)   (None, 11, 11, 96)        0         \n",
      "                                                                 \n",
      " dropout (Dropout)           (None, 11, 11, 96)        0         \n",
      "                                                                 \n",
      " conv2d_3 (Conv2D)           (None, 6, 6, 96)          83040     \n",
      "                                                                 \n",
      " dropout_1 (Dropout)         (None, 6, 6, 96)          0         \n",
      "                                                                 \n",
      " leaky_re_lu_3 (LeakyReLU)   (None, 6, 6, 96)          0         \n",
      "                                                                 \n",
      " conv2d_4 (Conv2D)           (None, 6, 6, 64)          55360     \n",
      "                                                                 \n",
      " max_pooling2d_1 (MaxPooling  (None, 2, 2, 64)         0         \n",
      " 2D)                                                             \n",
      "                                                                 \n",
      " flatten (Flatten)           (None, 256)               0         \n",
      "                                                                 \n",
      " dropout_2 (Dropout)         (None, 256)               0         \n",
      "                                                                 \n",
      " leaky_re_lu_4 (LeakyReLU)   (None, 256)               0         \n",
      "                                                                 \n",
      " dense (Dense)               (None, 128)               32896     \n",
      "                                                                 \n",
      " dense_1 (Dense)             (None, 48)                6192      \n",
      "                                                                 \n",
      "=================================================================\n",
      "Total params: 271,584\n",
      "Trainable params: 271,584\n",
      "Non-trainable params: 0\n",
      "_________________________________________________________________\n"
     ]
    }
   ],
   "source": [
    "from keras import Sequential, Input\n",
    "\n",
    "conv_regularizer = regularizers.l2(l=0.002)\n",
    "dense_regularizer = regularizers.l2(l=0.03)\n",
    "\n",
    "model = keras.Sequential(\n",
    "  [\n",
    "    Input(shape=(IMAGE_SIZE, IMAGE_SIZE, 1)),\n",
    "    layers.Conv2D(24, kernel_size=3, strides=1, padding='same', kernel_regularizer=conv_regularizer),\n",
    "    layers.LeakyReLU(),\n",
    "    layers.Conv2D(64, kernel_size=5, padding='same', kernel_regularizer=conv_regularizer),\n",
    "    \n",
    "    layers.MaxPooling2D(pool_size=3, strides=2),\n",
    "    \n",
    "    layers.LeakyReLU(),\n",
    "    layers.Conv2D(96, kernel_size=3, padding='same', kernel_regularizer=conv_regularizer),\n",
    "    layers.LeakyReLU(),\n",
    "    layers.Dropout(0.3),\n",
    "    layers.Conv2D(96, kernel_size=3, strides=2, padding='same', kernel_regularizer=conv_regularizer),\n",
    "    layers.Dropout(0.4),\n",
    "    layers.LeakyReLU(),\n",
    "    layers.Conv2D(64, kernel_size=3, padding='same', kernel_regularizer=conv_regularizer),\n",
    "    \n",
    "    layers.MaxPooling2D(pool_size=3, strides=2),\n",
    "    \n",
    "    layers.Flatten(),\n",
    "    layers.Dropout(0.5),\n",
    "    layers.LeakyReLU(),\n",
    "    layers.Dense(128, kernel_regularizer=dense_regularizer),\n",
    "    layers.Dense(CLASSES, activation='softmax'),\n",
    "  ]\n",
    ")\n",
    "\n",
    "model.summary()"
   ]
  },
  {
   "cell_type": "code",
   "execution_count": 294,
   "metadata": {},
   "outputs": [],
   "source": [
    "from keras.optimizers import SGD, Adam\n",
    "from keras.losses import categorical_crossentropy\n",
    "\n",
    "# optimizer = Adam(learning_rate=0.00025)\n",
    "optimizer = Adam(learning_rate=0.001)\n",
    "\n",
    "model.compile(loss=categorical_crossentropy, optimizer=optimizer, metrics=[\"accuracy\"])"
   ]
  },
  {
   "cell_type": "markdown",
   "metadata": {},
   "source": [
    "## Training Preparation"
   ]
  },
  {
   "cell_type": "code",
   "execution_count": 295,
   "metadata": {},
   "outputs": [],
   "source": [
    "CHECKPOINT_PATH = 'models/checkpoints/famous48_test_model_v1_best.keras'"
   ]
  },
  {
   "cell_type": "code",
   "execution_count": 296,
   "metadata": {},
   "outputs": [],
   "source": [
    "model_checkpoint_callback = keras.callbacks.ModelCheckpoint(\n",
    "  filepath=CHECKPOINT_PATH,\n",
    "  save_weights_only=False,\n",
    "  monitor='val_accuracy',\n",
    "  mode='max',\n",
    "  save_best_only=True,\n",
    ")"
   ]
  },
  {
   "cell_type": "code",
   "execution_count": 299,
   "metadata": {},
   "outputs": [
    {
     "name": "stdout",
     "output_type": "stream",
     "text": [
      "Epoch 1/50\n",
      "22/22 [==============================] - 1s 25ms/step - loss: 1.3184 - accuracy: 0.7746 - val_loss: 1.3435 - val_accuracy: 0.7678\n",
      "Epoch 2/50\n",
      "22/22 [==============================] - 1s 26ms/step - loss: 1.3449 - accuracy: 0.7654 - val_loss: 1.2925 - val_accuracy: 0.7879\n",
      "Epoch 3/50\n",
      "22/22 [==============================] - 1s 24ms/step - loss: 1.3354 - accuracy: 0.7689 - val_loss: 1.3492 - val_accuracy: 0.7733\n",
      "Epoch 4/50\n",
      "22/22 [==============================] - 1s 24ms/step - loss: 1.3222 - accuracy: 0.7677 - val_loss: 1.3590 - val_accuracy: 0.7605\n",
      "Epoch 5/50\n",
      "22/22 [==============================] - 1s 26ms/step - loss: 1.3349 - accuracy: 0.7636 - val_loss: 1.2980 - val_accuracy: 0.7888\n",
      "Epoch 6/50\n",
      "22/22 [==============================] - 1s 24ms/step - loss: 1.3418 - accuracy: 0.7677 - val_loss: 1.3280 - val_accuracy: 0.7861\n",
      "Epoch 7/50\n",
      "22/22 [==============================] - 1s 24ms/step - loss: 1.3306 - accuracy: 0.7682 - val_loss: 1.3271 - val_accuracy: 0.7770\n",
      "Epoch 8/50\n",
      "22/22 [==============================] - 1s 24ms/step - loss: 1.3047 - accuracy: 0.7718 - val_loss: 1.3459 - val_accuracy: 0.7815\n",
      "Epoch 9/50\n",
      "22/22 [==============================] - 1s 24ms/step - loss: 1.3301 - accuracy: 0.7675 - val_loss: 1.3445 - val_accuracy: 0.7697\n",
      "Epoch 10/50\n",
      "22/22 [==============================] - 1s 24ms/step - loss: 1.2795 - accuracy: 0.7824 - val_loss: 1.3005 - val_accuracy: 0.7870\n",
      "Epoch 11/50\n",
      "22/22 [==============================] - 1s 26ms/step - loss: 1.2988 - accuracy: 0.7828 - val_loss: 1.2948 - val_accuracy: 0.7898\n",
      "Epoch 12/50\n",
      "22/22 [==============================] - 1s 24ms/step - loss: 1.2657 - accuracy: 0.7837 - val_loss: 1.3131 - val_accuracy: 0.7770\n",
      "Epoch 13/50\n",
      "22/22 [==============================] - 1s 24ms/step - loss: 1.2934 - accuracy: 0.7780 - val_loss: 1.2896 - val_accuracy: 0.7834\n",
      "Epoch 14/50\n",
      "22/22 [==============================] - 1s 27ms/step - loss: 1.2612 - accuracy: 0.7830 - val_loss: 1.2715 - val_accuracy: 0.7943\n",
      "Epoch 15/50\n",
      "22/22 [==============================] - 1s 24ms/step - loss: 1.2376 - accuracy: 0.7990 - val_loss: 1.2624 - val_accuracy: 0.7925\n",
      "Epoch 16/50\n",
      "22/22 [==============================] - 1s 24ms/step - loss: 1.2424 - accuracy: 0.7910 - val_loss: 1.2654 - val_accuracy: 0.7916\n",
      "Epoch 17/50\n",
      "22/22 [==============================] - 1s 24ms/step - loss: 1.2361 - accuracy: 0.7954 - val_loss: 1.2714 - val_accuracy: 0.7943\n",
      "Epoch 18/50\n",
      "22/22 [==============================] - 1s 24ms/step - loss: 1.2544 - accuracy: 0.7906 - val_loss: 1.2582 - val_accuracy: 0.7943\n",
      "Epoch 19/50\n",
      "22/22 [==============================] - 1s 24ms/step - loss: 1.2610 - accuracy: 0.7874 - val_loss: 1.2891 - val_accuracy: 0.7843\n",
      "Epoch 20/50\n",
      "22/22 [==============================] - 1s 24ms/step - loss: 1.2685 - accuracy: 0.7929 - val_loss: 1.2579 - val_accuracy: 0.7888\n",
      "Epoch 21/50\n",
      "22/22 [==============================] - 1s 24ms/step - loss: 1.2413 - accuracy: 0.7929 - val_loss: 1.2701 - val_accuracy: 0.7907\n",
      "Epoch 22/50\n",
      "22/22 [==============================] - 1s 24ms/step - loss: 1.2101 - accuracy: 0.8073 - val_loss: 1.2327 - val_accuracy: 0.7934\n",
      "Epoch 23/50\n",
      "22/22 [==============================] - 1s 26ms/step - loss: 1.2358 - accuracy: 0.7920 - val_loss: 1.2477 - val_accuracy: 0.7971\n",
      "Epoch 24/50\n",
      "22/22 [==============================] - 1s 27ms/step - loss: 1.2025 - accuracy: 0.8116 - val_loss: 1.2208 - val_accuracy: 0.8026\n",
      "Epoch 25/50\n",
      "22/22 [==============================] - 1s 26ms/step - loss: 1.2021 - accuracy: 0.8032 - val_loss: 1.2144 - val_accuracy: 0.8208\n",
      "Epoch 26/50\n",
      "22/22 [==============================] - 1s 24ms/step - loss: 1.1968 - accuracy: 0.8002 - val_loss: 1.2070 - val_accuracy: 0.8181\n",
      "Epoch 27/50\n",
      "22/22 [==============================] - 1s 24ms/step - loss: 1.1964 - accuracy: 0.8032 - val_loss: 1.2230 - val_accuracy: 0.8108\n",
      "Epoch 28/50\n",
      "22/22 [==============================] - 1s 24ms/step - loss: 1.1890 - accuracy: 0.8118 - val_loss: 1.2164 - val_accuracy: 0.8026\n",
      "Epoch 29/50\n",
      "22/22 [==============================] - 1s 24ms/step - loss: 1.1913 - accuracy: 0.8096 - val_loss: 1.2189 - val_accuracy: 0.7989\n",
      "Epoch 30/50\n",
      "22/22 [==============================] - 1s 24ms/step - loss: 1.1979 - accuracy: 0.8018 - val_loss: 1.3067 - val_accuracy: 0.7898\n",
      "Epoch 31/50\n",
      "22/22 [==============================] - 1s 24ms/step - loss: 1.2138 - accuracy: 0.8036 - val_loss: 1.2393 - val_accuracy: 0.8126\n",
      "Epoch 32/50\n",
      "22/22 [==============================] - 1s 24ms/step - loss: 1.2144 - accuracy: 0.8018 - val_loss: 1.1959 - val_accuracy: 0.8199\n",
      "Epoch 33/50\n",
      "22/22 [==============================] - 1s 24ms/step - loss: 1.2060 - accuracy: 0.8036 - val_loss: 1.2333 - val_accuracy: 0.8016\n",
      "Epoch 34/50\n",
      "22/22 [==============================] - 1s 24ms/step - loss: 1.2077 - accuracy: 0.8043 - val_loss: 1.2196 - val_accuracy: 0.8007\n",
      "Epoch 35/50\n",
      "22/22 [==============================] - 1s 24ms/step - loss: 1.1814 - accuracy: 0.8100 - val_loss: 1.2753 - val_accuracy: 0.7742\n",
      "Epoch 36/50\n",
      "22/22 [==============================] - 1s 24ms/step - loss: 1.1761 - accuracy: 0.8144 - val_loss: 1.2498 - val_accuracy: 0.8016\n",
      "Epoch 37/50\n",
      "22/22 [==============================] - 1s 24ms/step - loss: 1.1976 - accuracy: 0.8112 - val_loss: 1.2000 - val_accuracy: 0.8135\n",
      "Epoch 38/50\n",
      "22/22 [==============================] - 1s 24ms/step - loss: 1.1933 - accuracy: 0.8164 - val_loss: 1.2380 - val_accuracy: 0.8090\n",
      "Epoch 39/50\n",
      "22/22 [==============================] - 1s 24ms/step - loss: 1.2066 - accuracy: 0.8006 - val_loss: 1.1895 - val_accuracy: 0.8208\n",
      "Epoch 40/50\n",
      "22/22 [==============================] - 1s 24ms/step - loss: 1.1557 - accuracy: 0.8194 - val_loss: 1.1911 - val_accuracy: 0.8172\n",
      "Epoch 41/50\n",
      "22/22 [==============================] - 1s 24ms/step - loss: 1.1354 - accuracy: 0.8251 - val_loss: 1.1686 - val_accuracy: 0.8199\n",
      "Epoch 42/50\n",
      "22/22 [==============================] - 1s 24ms/step - loss: 1.1483 - accuracy: 0.8260 - val_loss: 1.2059 - val_accuracy: 0.8154\n",
      "Epoch 43/50\n",
      "22/22 [==============================] - 1s 24ms/step - loss: 1.1323 - accuracy: 0.8317 - val_loss: 1.1830 - val_accuracy: 0.8163\n",
      "Epoch 44/50\n",
      "22/22 [==============================] - 1s 26ms/step - loss: 1.1272 - accuracy: 0.8203 - val_loss: 1.1569 - val_accuracy: 0.8391\n",
      "Epoch 45/50\n",
      "22/22 [==============================] - 1s 24ms/step - loss: 1.1629 - accuracy: 0.8137 - val_loss: 1.1805 - val_accuracy: 0.8144\n",
      "Epoch 46/50\n",
      "22/22 [==============================] - 1s 24ms/step - loss: 1.1966 - accuracy: 0.8096 - val_loss: 1.2160 - val_accuracy: 0.8135\n",
      "Epoch 47/50\n",
      "22/22 [==============================] - 1s 25ms/step - loss: 1.1618 - accuracy: 0.8155 - val_loss: 1.1664 - val_accuracy: 0.8227\n",
      "Epoch 48/50\n",
      "22/22 [==============================] - 1s 24ms/step - loss: 1.1558 - accuracy: 0.8276 - val_loss: 1.1941 - val_accuracy: 0.8163\n",
      "Epoch 49/50\n",
      "22/22 [==============================] - 1s 24ms/step - loss: 1.1289 - accuracy: 0.8308 - val_loss: 1.1626 - val_accuracy: 0.8236\n",
      "Epoch 50/50\n",
      "22/22 [==============================] - 1s 24ms/step - loss: 1.1312 - accuracy: 0.8235 - val_loss: 1.1585 - val_accuracy: 0.8199\n",
      "CPU times: total: 37.3 s\n",
      "Wall time: 27.1 s\n"
     ]
    }
   ],
   "source": [
    "%%time\n",
    "batch_size = 200\n",
    "epochs = 50\n",
    "\n",
    "history = model.fit(\n",
    "  X_train, y_train_fixed,\n",
    "  batch_size=batch_size,\n",
    "  epochs=epochs,\n",
    "  validation_split=0.2,\n",
    "  shuffle=True,\n",
    "  callbacks=[model_checkpoint_callback]\n",
    ")"
   ]
  },
  {
   "cell_type": "code",
   "execution_count": 298,
   "metadata": {},
   "outputs": [
    {
     "name": "stdout",
     "output_type": "stream",
     "text": [
      "43/43 [==============================] - 0s 4ms/step - loss: 1.3418 - accuracy: 0.7820\n"
     ]
    },
    {
     "data": {
      "text/plain": [
       "[1.341831088066101, 0.7820044159889221]"
      ]
     },
     "execution_count": 298,
     "metadata": {},
     "output_type": "execute_result"
    }
   ],
   "source": [
    "model.evaluate(X_test, y_test_fixed)"
   ]
  }
 ],
 "metadata": {
  "kernelspec": {
   "display_name": "env_torch",
   "language": "python",
   "name": "python3"
  },
  "language_info": {
   "codemirror_mode": {
    "name": "ipython",
    "version": 3
   },
   "file_extension": ".py",
   "mimetype": "text/x-python",
   "name": "python",
   "nbconvert_exporter": "python",
   "pygments_lexer": "ipython3",
   "version": "3.10.13"
  }
 },
 "nbformat": 4,
 "nbformat_minor": 2
}
