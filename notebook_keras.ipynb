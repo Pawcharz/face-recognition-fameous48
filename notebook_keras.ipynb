{
 "cells": [
  {
   "cell_type": "code",
   "execution_count": 196,
   "metadata": {},
   "outputs": [],
   "source": [
    "import numpy as np\n",
    "import tensorflow as tf\n",
    "from tensorflow import keras\n",
    "\n",
    "from keras import layers\n",
    "from keras import regularizers\n",
    "\n",
    "import re"
   ]
  },
  {
   "cell_type": "code",
   "execution_count": 197,
   "metadata": {},
   "outputs": [],
   "source": [
    "from keras import backend as K\n",
    "K.clear_session()"
   ]
  },
  {
   "cell_type": "code",
   "execution_count": 198,
   "metadata": {},
   "outputs": [
    {
     "name": "stdout",
     "output_type": "stream",
     "text": [
      "[PhysicalDevice(name='/physical_device:CPU:0', device_type='CPU'), PhysicalDevice(name='/physical_device:GPU:0', device_type='GPU')]\n"
     ]
    }
   ],
   "source": [
    "physical_devices = tf.config.list_physical_devices()\n",
    "CLASSES = 48\n",
    "IMAGE_SIZE = 24\n",
    "\n",
    "print(physical_devices)"
   ]
  },
  {
   "cell_type": "code",
   "execution_count": 199,
   "metadata": {},
   "outputs": [],
   "source": [
    "tf.config.set_visible_devices(physical_devices[1], 'GPU')"
   ]
  },
  {
   "cell_type": "markdown",
   "metadata": {},
   "source": [
    "## Building Dataset"
   ]
  },
  {
   "cell_type": "markdown",
   "metadata": {},
   "source": [
    "### Attributes description\n",
    "\n",
    "- a1 - face containing flag: (1-with face, 0-without face),\n",
    "- a2 - image number in current class (person) beginning from 0,\n",
    "- a3 - class (person) number beginning from 0,\n",
    "- a4 - sex (0 - woman, 1 - man)\n",
    "- a5 - race (0- white, 1 - negro, 2 - indian, ...)\n",
    "- a6 - age (0 - baby, 1 - young, 2 - middle-age, 3 - old) \n",
    "- a7 - binokulars (0 - without, 1 - transparent, 2 - dark)\n",
    "- a8 - emotional expression (not state!) (0 - sad, 1 - neutral, 2 - happy)"
   ]
  },
  {
   "cell_type": "code",
   "execution_count": 200,
   "metadata": {},
   "outputs": [],
   "source": [
    "def read_file(filename):\n",
    "  \n",
    "  with open(filename, 'r') as file:\n",
    "    lines = file.readlines()\n",
    "    \n",
    "    # Remove newLines\n",
    "    for i, line in enumerate(lines):\n",
    "      lines[i] = line.replace('\\n', '')\n",
    "    \n",
    "    # We assume these are integers\n",
    "    EXAMPLES_NR = int(lines[0])\n",
    "    PIXELS_NR = int(lines[1])\n",
    "    \n",
    "    inputs = list()\n",
    "    labels = np.zeros(EXAMPLES_NR, dtype=int)\n",
    "    \n",
    "    examples_raw = lines[2:EXAMPLES_NR+2]\n",
    "    \n",
    "    for i, example_raw in enumerate(examples_raw):\n",
    "      # Split by spaces (treats multiple as one)\n",
    "      tokens = re.split('\\s+', example_raw)\n",
    "      \n",
    "      pixel_values = np.array(tokens[0:PIXELS_NR])\n",
    "      attributes = tokens[PIXELS_NR:]\n",
    "      \n",
    "      pixel_values = np.array(pixel_values, dtype=float)\n",
    "      pixel_values = pixel_values.reshape([IMAGE_SIZE, IMAGE_SIZE])\n",
    "      \n",
    "      inputs.append(pixel_values)\n",
    "      labels[i] = int(attributes[2])\n",
    "      \n",
    "    inputs = np.array(inputs)\n",
    "  return inputs, labels"
   ]
  },
  {
   "cell_type": "code",
   "execution_count": 201,
   "metadata": {},
   "outputs": [
    {
     "name": "stdout",
     "output_type": "stream",
     "text": [
      "2321 2321\n",
      "2208 2208\n",
      "2306 2306\n"
     ]
    }
   ],
   "source": [
    "# classes 0-15\n",
    "X_0, y_0 = read_file('./data/x24x24.txt')\n",
    "# classes 16-31\n",
    "X_1, y_1 = read_file('./data/y24x24.txt')\n",
    "# # classes 32-48\n",
    "X_2, y_2 = read_file('./data/z24x24.txt')\n",
    "\n",
    "print(len(X_0), len(y_0))\n",
    "print(len(X_1), len(y_1))\n",
    "print(len(X_2), len(y_2))"
   ]
  },
  {
   "cell_type": "code",
   "execution_count": 202,
   "metadata": {},
   "outputs": [
    {
     "name": "stdout",
     "output_type": "stream",
     "text": [
      "6835 6835\n"
     ]
    }
   ],
   "source": [
    "from sklearn.model_selection import train_test_split\n",
    "\n",
    "# Concatenate train and test images\n",
    "X = np.concatenate((X_0, X_1, X_2))\n",
    "y = np.concatenate((y_0, y_1, y_2))\n",
    "print(len(X), len(y))\n",
    "\n",
    "N_TRAIN_EXAMPLES=int(len(X) * 0.8)\n",
    "N_TEST_EXAMPLES=len(X) - N_TRAIN_EXAMPLES\n",
    "\n",
    "\n",
    "X_train, X_test, y_train, y_test = train_test_split(X, y, train_size=N_TRAIN_EXAMPLES, test_size=N_TEST_EXAMPLES, random_state=1)\n",
    "\n",
    "# One-Hot encoding\n",
    "# Getting dummy variables\n",
    "y_train_fixed = np.zeros((y_train.shape[0], CLASSES))\n",
    "# y_valid_fixed = np.zeros((y_valid.shape[0], 10))\n",
    "y_test_fixed = np.zeros((y_test.shape[0], CLASSES))\n",
    "\n",
    "for i, value in enumerate(y_train):\n",
    "  y_train_fixed[i][value] = 1\n",
    "  \n",
    "for i, value in enumerate(y_test):\n",
    "  y_test_fixed[i][value] = 1"
   ]
  },
  {
   "cell_type": "code",
   "execution_count": 203,
   "metadata": {},
   "outputs": [
    {
     "name": "stdout",
     "output_type": "stream",
     "text": [
      "1367\n"
     ]
    }
   ],
   "source": [
    "print(len(X_test))"
   ]
  },
  {
   "cell_type": "markdown",
   "metadata": {},
   "source": [
    "## Building a model"
   ]
  },
  {
   "cell_type": "markdown",
   "metadata": {},
   "source": [
    "Testing LeNet-5 Architecture"
   ]
  },
  {
   "cell_type": "code",
   "execution_count": 214,
   "metadata": {},
   "outputs": [
    {
     "name": "stdout",
     "output_type": "stream",
     "text": [
      "Model: \"sequential_1\"\n",
      "_________________________________________________________________\n",
      " Layer (type)                Output Shape              Param #   \n",
      "=================================================================\n",
      " conv2d_3 (Conv2D)           (None, 24, 24, 6)         156       \n",
      "                                                                 \n",
      " max_pooling2d_2 (MaxPooling  (None, 12, 12, 6)        0         \n",
      " 2D)                                                             \n",
      "                                                                 \n",
      " dropout_3 (Dropout)         (None, 12, 12, 6)         0         \n",
      "                                                                 \n",
      " conv2d_4 (Conv2D)           (None, 12, 12, 16)        2416      \n",
      "                                                                 \n",
      " max_pooling2d_3 (MaxPooling  (None, 6, 6, 16)         0         \n",
      " 2D)                                                             \n",
      "                                                                 \n",
      " dropout_4 (Dropout)         (None, 6, 6, 16)          0         \n",
      "                                                                 \n",
      " conv2d_5 (Conv2D)           (None, 6, 6, 120)         48120     \n",
      "                                                                 \n",
      " flatten_1 (Flatten)         (None, 4320)              0         \n",
      "                                                                 \n",
      " dropout_5 (Dropout)         (None, 4320)              0         \n",
      "                                                                 \n",
      " dense_2 (Dense)             (None, 84)                362964    \n",
      "                                                                 \n",
      " dense_3 (Dense)             (None, 48)                4080      \n",
      "                                                                 \n",
      "=================================================================\n",
      "Total params: 417,736\n",
      "Trainable params: 417,736\n",
      "Non-trainable params: 0\n",
      "_________________________________________________________________\n"
     ]
    }
   ],
   "source": [
    "from keras import Sequential, Input\n",
    "\n",
    "conv_regularizer = regularizers.l2(l=0.0006)\n",
    "dense_regularizer = regularizers.l2(l=0.01)\n",
    "\n",
    "# conv_regularizer = regularizers.l2(l=0)\n",
    "# dense_regularizer = regularizers.l2(l=0)\n",
    "\n",
    "model = keras.Sequential(\n",
    "  [\n",
    "    Input(shape=(IMAGE_SIZE, IMAGE_SIZE, 1)),\n",
    "    layers.Conv2D(6, kernel_size=5, padding='same', activation='tanh', kernel_regularizer=conv_regularizer),\n",
    "    layers.MaxPooling2D(pool_size=2, strides=2),\n",
    "    \n",
    "    layers.Dropout(0.15),\n",
    "    layers.Conv2D(16, kernel_size=5, padding='same', activation='tanh', kernel_regularizer=conv_regularizer),\n",
    "    layers.MaxPooling2D(pool_size=2, strides=2),\n",
    "    \n",
    "    layers.Dropout(0.25),\n",
    "    layers.Conv2D(120, kernel_size=5, padding='same', activation='tanh', kernel_regularizer=conv_regularizer),\n",
    "    \n",
    "    layers.Flatten(),\n",
    "    layers.Dropout(0.35),\n",
    "    layers.Dense(84, activation='relu', kernel_regularizer=dense_regularizer),\n",
    "    layers.Dense(CLASSES, activation='softmax'),\n",
    "  ]\n",
    ")\n",
    "\n",
    "model.summary()"
   ]
  },
  {
   "cell_type": "code",
   "execution_count": 215,
   "metadata": {},
   "outputs": [],
   "source": [
    "from keras.optimizers import SGD, Adam\n",
    "from keras.losses import categorical_crossentropy\n",
    "from keras.callbacks import LearningRateScheduler\n",
    "import math\n",
    "\n",
    "def get_lr_metric(optimizer):\n",
    "  def lr(y_true, y_pred):\n",
    "    return optimizer._decayed_lr(tf.float32) # I use ._decayed_lr method instead of .lr\n",
    "  return lr\n",
    "\n",
    "\n",
    "# optimizer = Adam(learning_rate=0.00025)\n",
    "optimizer = Adam(learning_rate=0.1)\n",
    "\n",
    "lr_metric = get_lr_metric(optimizer)\n",
    "model.compile(loss=categorical_crossentropy, optimizer=optimizer, metrics=[\"accuracy\", lr_metric])"
   ]
  },
  {
   "cell_type": "code",
   "execution_count": 216,
   "metadata": {},
   "outputs": [],
   "source": [
    "def step_decay(epoch):\n",
    "  initial_lrate = 0.1\n",
    "  drop = 0.9\n",
    "  epochs_drop = 10.0\n",
    "  lrate = initial_lrate * math.pow(drop,  \n",
    "          math.floor((1+epoch)/epochs_drop))\n",
    "  return lrate\n",
    " \n",
    "lrate_scheduler_callback = LearningRateScheduler(step_decay)"
   ]
  },
  {
   "cell_type": "markdown",
   "metadata": {},
   "source": [
    "## Training Preparation"
   ]
  },
  {
   "cell_type": "code",
   "execution_count": 217,
   "metadata": {},
   "outputs": [],
   "source": [
    "CHECKPOINT_PATH = 'models/checkpoints/famous48_test_model_v2_best.keras'"
   ]
  },
  {
   "cell_type": "code",
   "execution_count": 218,
   "metadata": {},
   "outputs": [],
   "source": [
    "model_checkpoint_callback = keras.callbacks.ModelCheckpoint(\n",
    "  filepath=CHECKPOINT_PATH,\n",
    "  save_weights_only=False,\n",
    "  monitor='val_accuracy',\n",
    "  mode='max',\n",
    "  save_best_only=True,\n",
    ")"
   ]
  },
  {
   "cell_type": "code",
   "execution_count": 219,
   "metadata": {},
   "outputs": [
    {
     "name": "stdout",
     "output_type": "stream",
     "text": [
      "Epoch 1/20\n"
     ]
    },
    {
     "name": "stdout",
     "output_type": "stream",
     "text": [
      "22/22 [==============================] - 2s 46ms/step - loss: 491.2405 - accuracy: 0.0233 - lr: 0.1000 - val_loss: 361.6163 - val_accuracy: 0.0219 - val_lr: 0.1000\n",
      "Epoch 2/20\n",
      "22/22 [==============================] - 1s 32ms/step - loss: 262.3136 - accuracy: 0.0274 - lr: 0.1000 - val_loss: 150.9570 - val_accuracy: 0.0384 - val_lr: 0.1000\n",
      "Epoch 3/20\n",
      "22/22 [==============================] - 1s 24ms/step - loss: 109.8176 - accuracy: 0.0302 - lr: 0.1000 - val_loss: 84.4219 - val_accuracy: 0.0274 - val_lr: 0.1000\n",
      "Epoch 4/20\n",
      "22/22 [==============================] - 1s 24ms/step - loss: 114.1560 - accuracy: 0.0247 - lr: 0.1000 - val_loss: 149.1099 - val_accuracy: 0.0247 - val_lr: 0.1000\n",
      "Epoch 5/20\n",
      "22/22 [==============================] - 1s 24ms/step - loss: 184.2702 - accuracy: 0.0261 - lr: 0.1000 - val_loss: 205.4327 - val_accuracy: 0.0274 - val_lr: 0.1000\n",
      "Epoch 6/20\n",
      "22/22 [==============================] - 1s 25ms/step - loss: 182.7900 - accuracy: 0.0251 - lr: 0.1000 - val_loss: 195.5689 - val_accuracy: 0.0155 - val_lr: 0.1000\n",
      "Epoch 7/20\n",
      "22/22 [==============================] - 1s 25ms/step - loss: 280.4005 - accuracy: 0.0242 - lr: 0.1000 - val_loss: 316.5538 - val_accuracy: 0.0274 - val_lr: 0.1000\n",
      "Epoch 8/20\n",
      "22/22 [==============================] - 1s 23ms/step - loss: 405.6536 - accuracy: 0.0242 - lr: 0.1000 - val_loss: 357.1248 - val_accuracy: 0.0265 - val_lr: 0.1000\n",
      "Epoch 9/20\n",
      "22/22 [==============================] - 1s 25ms/step - loss: 371.8444 - accuracy: 0.0261 - lr: 0.1000 - val_loss: 375.9298 - val_accuracy: 0.0174 - val_lr: 0.1000\n",
      "Epoch 10/20\n",
      "22/22 [==============================] - 1s 24ms/step - loss: 345.6999 - accuracy: 0.0258 - lr: 0.0900 - val_loss: 295.1532 - val_accuracy: 0.0192 - val_lr: 0.0900\n",
      "Epoch 11/20\n",
      "22/22 [==============================] - 1s 24ms/step - loss: 360.2591 - accuracy: 0.0279 - lr: 0.0900 - val_loss: 265.3566 - val_accuracy: 0.0302 - val_lr: 0.0900\n",
      "Epoch 12/20\n",
      "22/22 [==============================] - 1s 31ms/step - loss: 247.9188 - accuracy: 0.0279 - lr: 0.0900 - val_loss: 261.7849 - val_accuracy: 0.0110 - val_lr: 0.0900\n",
      "Epoch 13/20\n",
      "22/22 [==============================] - 1s 24ms/step - loss: 234.3784 - accuracy: 0.0279 - lr: 0.0900 - val_loss: 231.4647 - val_accuracy: 0.0146 - val_lr: 0.0900\n",
      "Epoch 14/20\n",
      "22/22 [==============================] - 1s 24ms/step - loss: 303.1012 - accuracy: 0.0240 - lr: 0.0900 - val_loss: 338.5508 - val_accuracy: 0.0192 - val_lr: 0.0900\n",
      "Epoch 15/20\n",
      "22/22 [==============================] - 1s 25ms/step - loss: 407.3944 - accuracy: 0.0245 - lr: 0.0900 - val_loss: 476.0901 - val_accuracy: 0.0247 - val_lr: 0.0900\n",
      "Epoch 16/20\n",
      "22/22 [==============================] - 1s 26ms/step - loss: 325.0092 - accuracy: 0.0325 - lr: 0.0900 - val_loss: 290.8504 - val_accuracy: 0.0238 - val_lr: 0.0900\n",
      "Epoch 17/20\n",
      "22/22 [==============================] - 1s 25ms/step - loss: 259.5114 - accuracy: 0.0261 - lr: 0.0900 - val_loss: 208.8958 - val_accuracy: 0.0192 - val_lr: 0.0900\n",
      "Epoch 18/20\n",
      "22/22 [==============================] - 1s 25ms/step - loss: 172.3725 - accuracy: 0.0240 - lr: 0.0900 - val_loss: 168.6331 - val_accuracy: 0.0238 - val_lr: 0.0900\n",
      "Epoch 19/20\n",
      "22/22 [==============================] - 1s 24ms/step - loss: 207.5758 - accuracy: 0.0281 - lr: 0.0900 - val_loss: 224.4124 - val_accuracy: 0.0238 - val_lr: 0.0900\n",
      "Epoch 20/20\n",
      "22/22 [==============================] - 1s 24ms/step - loss: 261.5322 - accuracy: 0.0272 - lr: 0.0810 - val_loss: 245.1691 - val_accuracy: 0.0238 - val_lr: 0.0810\n",
      "CPU times: total: 16.5 s\n",
      "Wall time: 13.3 s\n"
     ]
    }
   ],
   "source": [
    "%%time\n",
    "batch_size = 200\n",
    "epochs = 20\n",
    "\n",
    "# K.set_value(model.optimizer.learning_rate, 0.0005)\n",
    "\n",
    "history = model.fit(\n",
    "  X_train, y_train_fixed,\n",
    "  batch_size=batch_size,\n",
    "  epochs=epochs,\n",
    "  validation_split=0.2,\n",
    "  shuffle=True,\n",
    "  callbacks=[model_checkpoint_callback, lrate_scheduler_callback]\n",
    ")"
   ]
  },
  {
   "cell_type": "code",
   "execution_count": 220,
   "metadata": {},
   "outputs": [
    {
     "name": "stdout",
     "output_type": "stream",
     "text": [
      "43/43 [==============================] - 0s 8ms/step - loss: 150.9219 - accuracy: 0.0329 - lr: 0.0810\n"
     ]
    },
    {
     "data": {
      "text/plain": [
       "[150.92189025878906, 0.03291879966855049, 0.08100003004074097]"
      ]
     },
     "execution_count": 220,
     "metadata": {},
     "output_type": "execute_result"
    }
   ],
   "source": [
    "model.load_weights(\"models/checkpoints/famous48_test_model_v2_best.keras\")\n",
    "model.evaluate(X_test, y_test_fixed)"
   ]
  },
  {
   "cell_type": "code",
   "execution_count": 221,
   "metadata": {},
   "outputs": [
    {
     "data": {
      "image/png": "[encoded data removed]",
      "text/plain": [
       "<Figure size 1000x600 with 1 Axes>"
      ]
     },
     "metadata": {},
     "output_type": "display_data"
    }
   ],
   "source": [
    "from matplotlib import pyplot as plt\n",
    "\n",
    "plt.figure(figsize=(10, 6))\n",
    "plt.plot(history.history['accuracy'])\n",
    "plt.plot(history.history['val_accuracy'])\n",
    "plt.title('model accuracy')\n",
    "plt.ylabel('accuracy')\n",
    "plt.xlabel('epoch')\n",
    "plt.legend(['train', 'val'], loc='upper left')\n",
    "plt.show()"
   ]
  },
  {
   "cell_type": "code",
   "execution_count": 225,
   "metadata": {},
   "outputs": [
    {
     "name": "stdout",
     "output_type": "stream",
     "text": [
      "0.027206217870116234\n",
      "0.02376599609851837\n"
     ]
    }
   ],
   "source": [
    "length = len(history.history['accuracy'])\n",
    "print(history.history['accuracy'][length-1])\n",
    "print(history.history['val_accuracy'][length-1])"
   ]
  }
 ],
 "metadata": {
  "kernelspec": {
   "display_name": "env_torch",
   "language": "python",
   "name": "python3"
  },
  "language_info": {
   "codemirror_mode": {
    "name": "ipython",
    "version": 3
   },
   "file_extension": ".py",
   "mimetype": "text/x-python",
   "name": "python",
   "nbconvert_exporter": "python",
   "pygments_lexer": "ipython3",
   "version": "3.10.13"
  }
 },
 "nbformat": 4,
 "nbformat_minor": 2
}
