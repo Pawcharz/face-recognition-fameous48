{
 "cells": [
  {
   "cell_type": "code",
   "execution_count": 15,
   "metadata": {},
   "outputs": [],
   "source": [
    "import numpy as np\n",
    "import tensorflow as tf\n",
    "from tensorflow import keras\n",
    "\n",
    "from keras import layers\n",
    "from keras import regularizers\n",
    "from keras import backend as K\n",
    "from keras import Sequential, Input\n",
    "from keras.optimizers import SGD, Adam\n",
    "from keras.losses import categorical_crossentropy\n",
    "from keras.callbacks import LearningRateScheduler\n",
    "\n",
    "import matplotlib.pyplot as plt\n",
    "\n",
    "import math"
   ]
  },
  {
   "cell_type": "code",
   "execution_count": 16,
   "metadata": {},
   "outputs": [],
   "source": [
    "# make the result reproducible\n",
    "keras.utils.set_random_seed(42)"
   ]
  },
  {
   "cell_type": "code",
   "execution_count": 17,
   "metadata": {},
   "outputs": [
    {
     "name": "stdout",
     "output_type": "stream",
     "text": [
      "[PhysicalDevice(name='/physical_device:CPU:0', device_type='CPU'), PhysicalDevice(name='/physical_device:GPU:0', device_type='GPU')]\n"
     ]
    }
   ],
   "source": [
    "physical_devices = tf.config.list_physical_devices()\n",
    "print(physical_devices)"
   ]
  },
  {
   "cell_type": "code",
   "execution_count": 18,
   "metadata": {},
   "outputs": [],
   "source": [
    "tf.config.set_visible_devices(physical_devices[1], 'GPU')"
   ]
  },
  {
   "cell_type": "markdown",
   "metadata": {},
   "source": [
    "## Building Dataset"
   ]
  },
  {
   "cell_type": "markdown",
   "metadata": {},
   "source": [
    "### Attributes description\n",
    "\n",
    "- a1 - face containing flag: (1-with face, 0-without face),\n",
    "- a2 - image number in current class (person) beginning from 0,\n",
    "- a3 - class (person) number beginning from 0,\n",
    "- a4 - sex (0 - woman, 1 - man)\n",
    "- a5 - race (0- white, 1 - negro, 2 - indian, ...)\n",
    "- a6 - age (0 - baby, 1 - young, 2 - middle-age, 3 - old) \n",
    "- a7 - binokulars (0 - without, 1 - transparent, 2 - dark)\n",
    "- a8 - emotional expression (not state!) (0 - sad, 1 - neutral, 2 - happy)"
   ]
  },
  {
   "cell_type": "code",
   "execution_count": 19,
   "metadata": {},
   "outputs": [],
   "source": [
    "from utils.load_dataset import load_dataset\n",
    "\n",
    "DIRPATH = './data'\n",
    "X_train, X_test, y_train, y_test = load_dataset(DIRPATH)"
   ]
  },
  {
   "cell_type": "markdown",
   "metadata": {},
   "source": [
    "## Building a model"
   ]
  },
  {
   "cell_type": "markdown",
   "metadata": {},
   "source": [
    "Testing LeNet-5 Architecture"
   ]
  },
  {
   "cell_type": "code",
   "execution_count": 20,
   "metadata": {},
   "outputs": [
    {
     "name": "stdout",
     "output_type": "stream",
     "text": [
      "Model: \"sequential_1\"\n",
      "_________________________________________________________________\n",
      " Layer (type)                Output Shape              Param #   \n",
      "=================================================================\n",
      " conv2d_3 (Conv2D)           (None, 24, 24, 6)         156       \n",
      "                                                                 \n",
      " max_pooling2d_2 (MaxPooling  (None, 12, 12, 6)        0         \n",
      " 2D)                                                             \n",
      "                                                                 \n",
      " dropout_3 (Dropout)         (None, 12, 12, 6)         0         \n",
      "                                                                 \n",
      " conv2d_4 (Conv2D)           (None, 12, 12, 16)        2416      \n",
      "                                                                 \n",
      " max_pooling2d_3 (MaxPooling  (None, 6, 6, 16)         0         \n",
      " 2D)                                                             \n",
      "                                                                 \n",
      " dropout_4 (Dropout)         (None, 6, 6, 16)          0         \n",
      "                                                                 \n",
      " conv2d_5 (Conv2D)           (None, 6, 6, 120)         48120     \n",
      "                                                                 \n",
      " flatten_1 (Flatten)         (None, 4320)              0         \n",
      "                                                                 \n",
      " dropout_5 (Dropout)         (None, 4320)              0         \n",
      "                                                                 \n",
      " dense_2 (Dense)             (None, 84)                362964    \n",
      "                                                                 \n",
      " dense_3 (Dense)             (None, 48)                4080      \n",
      "                                                                 \n",
      "=================================================================\n",
      "Total params: 417,736\n",
      "Trainable params: 417,736\n",
      "Non-trainable params: 0\n",
      "_________________________________________________________________\n"
     ]
    }
   ],
   "source": [
    "from utils.constrains import CLASSES, IMAGE_SIZE\n",
    "\n",
    "conv_regularizer = regularizers.l2(0.0009096443481619992)\n",
    "dense_regularizer = regularizers.l2(0.011905583599301073)\n",
    "\n",
    "# conv_regularizer = regularizers.l2(0)\n",
    "# dense_regularizer = regularizers.l2(0)\n",
    "\n",
    "activation_def = 'tanh'\n",
    "\n",
    "dropout_base = 0.09439855997376015\n",
    "dropout_inc = 0.14131761625994724\n",
    "dropout_1 = dropout_base\n",
    "dropout_2 = dropout_base + dropout_inc\n",
    "dropout_3 = dropout_base + 2*dropout_inc\n",
    "\n",
    "model = Sequential(\n",
    "  [\n",
    "    Input(shape=(IMAGE_SIZE, IMAGE_SIZE, 1)),\n",
    "    layers.Conv2D(6, kernel_size=5, padding='same', activation=activation_def, kernel_regularizer=conv_regularizer),\n",
    "    layers.MaxPooling2D(pool_size=2, strides=2),\n",
    "\n",
    "    layers.Dropout(dropout_1),\n",
    "    layers.Conv2D(16, kernel_size=5, padding='same', activation=activation_def, kernel_regularizer=conv_regularizer),\n",
    "    layers.MaxPooling2D(pool_size=2, strides=2),\n",
    "\n",
    "    layers.Dropout(dropout_2),\n",
    "    layers.Conv2D(120, kernel_size=5, padding='same', activation=activation_def, kernel_regularizer=conv_regularizer),\n",
    "\n",
    "    layers.Flatten(),\n",
    "    layers.Dropout(dropout_3),\n",
    "    layers.Dense(84, activation=activation_def, kernel_regularizer=dense_regularizer),\n",
    "    layers.Dense(CLASSES, activation='softmax'),\n",
    "  ]\n",
    ")\n",
    "\n",
    "model.summary()"
   ]
  },
  {
   "cell_type": "code",
   "execution_count": 21,
   "metadata": {},
   "outputs": [],
   "source": [
    "# def get_lr_metric(optimizer):\n",
    "#   def lr(y_true, y_pred):\n",
    "#     return optimizer._decayed_lr(tf.float32) # I use ._decayed_lr method instead of .lr\n",
    "#   return lr\n",
    "\n",
    "# lr_metric = get_lr_metric(optimizer)\n",
    "# model.compile(loss=categorical_crossentropy, optimizer=optimizer, metrics=[\"accuracy\", lr_metric])\n",
    "\n",
    "\n",
    "optimizer = Adam(learning_rate=0.001)\n",
    "model.compile(loss=categorical_crossentropy, optimizer=optimizer, metrics=[\"accuracy\"])"
   ]
  },
  {
   "cell_type": "code",
   "execution_count": 22,
   "metadata": {},
   "outputs": [],
   "source": [
    "# def step_decay(epoch):\n",
    "#   initial_lrate = 0.1\n",
    "#   drop = 0.9\n",
    "#   epochs_drop = 10.0\n",
    "#   lrate = initial_lrate * math.pow(drop,  \n",
    "#           math.floor((1+epoch)/epochs_drop))\n",
    "#   return lrate\n",
    " \n",
    "# lrate_scheduler_callback = LearningRateScheduler(step_decay)"
   ]
  },
  {
   "cell_type": "markdown",
   "metadata": {},
   "source": [
    "## Training Preparation"
   ]
  },
  {
   "cell_type": "code",
   "execution_count": 23,
   "metadata": {},
   "outputs": [],
   "source": [
    "CHECKPOINT_PATH = 'models/checkpoints/famous48_test_model_v2_best.keras'"
   ]
  },
  {
   "cell_type": "code",
   "execution_count": 24,
   "metadata": {},
   "outputs": [],
   "source": [
    "model_checkpoint_callback = keras.callbacks.ModelCheckpoint(\n",
    "  filepath=CHECKPOINT_PATH,\n",
    "  save_weights_only=False,\n",
    "  monitor='val_accuracy',\n",
    "  mode='max',\n",
    "  save_best_only=True,\n",
    ")"
   ]
  },
  {
   "cell_type": "code",
   "execution_count": 25,
   "metadata": {},
   "outputs": [
    {
     "name": "stdout",
     "output_type": "stream",
     "text": [
      "Epoch 1/100\n",
      "22/22 [==============================] - 1s 18ms/step - loss: 5.0857 - accuracy: 0.0656 - val_loss: 4.3043 - val_accuracy: 0.1380\n",
      "Epoch 2/100\n",
      "22/22 [==============================] - 0s 10ms/step - loss: 3.6934 - accuracy: 0.2300 - val_loss: 3.2186 - val_accuracy: 0.2824\n",
      "Epoch 3/100\n",
      "22/22 [==============================] - 0s 10ms/step - loss: 2.9294 - accuracy: 0.3528 - val_loss: 2.7449 - val_accuracy: 0.3812\n",
      "Epoch 4/100\n",
      "22/22 [==============================] - 0s 10ms/step - loss: 2.5667 - accuracy: 0.4399 - val_loss: 2.5101 - val_accuracy: 0.4296\n",
      "Epoch 5/100\n",
      "22/22 [==============================] - 0s 11ms/step - loss: 2.3817 - accuracy: 0.4840 - val_loss: 2.2713 - val_accuracy: 0.5110\n",
      "Epoch 6/100\n",
      "22/22 [==============================] - 0s 10ms/step - loss: 2.2216 - accuracy: 0.5354 - val_loss: 2.1633 - val_accuracy: 0.5338\n",
      "Epoch 7/100\n",
      "22/22 [==============================] - 0s 10ms/step - loss: 2.1130 - accuracy: 0.5542 - val_loss: 2.0517 - val_accuracy: 0.5740\n",
      "Epoch 8/100\n",
      "22/22 [==============================] - 0s 10ms/step - loss: 2.0078 - accuracy: 0.5889 - val_loss: 1.9511 - val_accuracy: 0.6051\n",
      "Epoch 9/100\n",
      "22/22 [==============================] - 0s 10ms/step - loss: 1.9445 - accuracy: 0.5901 - val_loss: 1.9303 - val_accuracy: 0.5814\n",
      "Epoch 10/100\n",
      "22/22 [==============================] - 0s 10ms/step - loss: 1.8637 - accuracy: 0.6187 - val_loss: 1.8574 - val_accuracy: 0.6188\n",
      "Epoch 11/100\n",
      "22/22 [==============================] - 0s 10ms/step - loss: 1.7906 - accuracy: 0.6363 - val_loss: 1.7941 - val_accuracy: 0.6335\n",
      "Epoch 12/100\n",
      "22/22 [==============================] - 0s 10ms/step - loss: 1.7669 - accuracy: 0.6358 - val_loss: 1.7281 - val_accuracy: 0.6490\n",
      "Epoch 13/100\n",
      "22/22 [==============================] - 0s 10ms/step - loss: 1.6995 - accuracy: 0.6626 - val_loss: 1.6742 - val_accuracy: 0.6691\n",
      "Epoch 14/100\n",
      "22/22 [==============================] - 0s 10ms/step - loss: 1.6467 - accuracy: 0.6783 - val_loss: 1.6686 - val_accuracy: 0.6554\n",
      "Epoch 15/100\n",
      "22/22 [==============================] - 0s 10ms/step - loss: 1.6144 - accuracy: 0.6948 - val_loss: 1.6548 - val_accuracy: 0.6645\n",
      "Epoch 16/100\n",
      "22/22 [==============================] - 0s 10ms/step - loss: 1.5913 - accuracy: 0.6870 - val_loss: 1.5826 - val_accuracy: 0.6910\n",
      "Epoch 17/100\n",
      "22/22 [==============================] - 0s 10ms/step - loss: 1.5360 - accuracy: 0.7094 - val_loss: 1.5527 - val_accuracy: 0.6910\n",
      "Epoch 18/100\n",
      "22/22 [==============================] - 0s 10ms/step - loss: 1.5117 - accuracy: 0.7112 - val_loss: 1.5279 - val_accuracy: 0.7020\n",
      "Epoch 19/100\n",
      "22/22 [==============================] - 0s 10ms/step - loss: 1.4885 - accuracy: 0.7188 - val_loss: 1.5158 - val_accuracy: 0.6965\n",
      "Epoch 20/100\n",
      "22/22 [==============================] - 0s 10ms/step - loss: 1.4767 - accuracy: 0.7199 - val_loss: 1.5190 - val_accuracy: 0.6947\n",
      "Epoch 21/100\n",
      "22/22 [==============================] - 0s 10ms/step - loss: 1.4398 - accuracy: 0.7305 - val_loss: 1.4586 - val_accuracy: 0.7239\n",
      "Epoch 22/100\n",
      "22/22 [==============================] - 0s 10ms/step - loss: 1.4182 - accuracy: 0.7396 - val_loss: 1.4256 - val_accuracy: 0.7203\n",
      "Epoch 23/100\n",
      "22/22 [==============================] - 0s 11ms/step - loss: 1.3843 - accuracy: 0.7561 - val_loss: 1.4494 - val_accuracy: 0.7038\n",
      "Epoch 24/100\n",
      "22/22 [==============================] - 0s 10ms/step - loss: 1.3639 - accuracy: 0.7492 - val_loss: 1.4053 - val_accuracy: 0.7313\n",
      "Epoch 25/100\n",
      "22/22 [==============================] - 0s 12ms/step - loss: 1.3546 - accuracy: 0.7572 - val_loss: 1.3916 - val_accuracy: 0.7157\n",
      "Epoch 26/100\n",
      "22/22 [==============================] - 0s 10ms/step - loss: 1.3312 - accuracy: 0.7556 - val_loss: 1.3665 - val_accuracy: 0.7377\n",
      "Epoch 27/100\n",
      "22/22 [==============================] - 0s 10ms/step - loss: 1.3002 - accuracy: 0.7695 - val_loss: 1.3500 - val_accuracy: 0.7395\n",
      "Epoch 28/100\n",
      "22/22 [==============================] - 0s 10ms/step - loss: 1.2959 - accuracy: 0.7734 - val_loss: 1.4049 - val_accuracy: 0.7194\n",
      "Epoch 29/100\n",
      "22/22 [==============================] - 0s 10ms/step - loss: 1.2948 - accuracy: 0.7657 - val_loss: 1.3902 - val_accuracy: 0.7221\n",
      "Epoch 30/100\n",
      "22/22 [==============================] - 0s 10ms/step - loss: 1.2794 - accuracy: 0.7743 - val_loss: 1.3298 - val_accuracy: 0.7477\n",
      "Epoch 31/100\n",
      "22/22 [==============================] - 0s 10ms/step - loss: 1.2514 - accuracy: 0.7840 - val_loss: 1.3239 - val_accuracy: 0.7422\n",
      "Epoch 32/100\n",
      "22/22 [==============================] - 0s 10ms/step - loss: 1.2133 - accuracy: 0.7986 - val_loss: 1.2986 - val_accuracy: 0.7505\n",
      "Epoch 33/100\n",
      "22/22 [==============================] - 0s 10ms/step - loss: 1.2103 - accuracy: 0.7897 - val_loss: 1.2749 - val_accuracy: 0.7596\n",
      "Epoch 34/100\n",
      "22/22 [==============================] - 0s 10ms/step - loss: 1.2157 - accuracy: 0.7947 - val_loss: 1.2813 - val_accuracy: 0.7578\n",
      "Epoch 35/100\n",
      "22/22 [==============================] - 0s 10ms/step - loss: 1.2159 - accuracy: 0.7922 - val_loss: 1.3240 - val_accuracy: 0.7486\n",
      "Epoch 36/100\n",
      "22/22 [==============================] - 0s 10ms/step - loss: 1.1941 - accuracy: 0.8025 - val_loss: 1.2978 - val_accuracy: 0.7569\n",
      "Epoch 37/100\n",
      "22/22 [==============================] - 0s 10ms/step - loss: 1.1615 - accuracy: 0.8082 - val_loss: 1.2663 - val_accuracy: 0.7614\n",
      "Epoch 38/100\n",
      "22/22 [==============================] - 0s 10ms/step - loss: 1.1375 - accuracy: 0.8214 - val_loss: 1.2708 - val_accuracy: 0.7687\n",
      "Epoch 39/100\n",
      "22/22 [==============================] - 0s 10ms/step - loss: 1.1438 - accuracy: 0.8107 - val_loss: 1.2348 - val_accuracy: 0.7724\n",
      "Epoch 40/100\n",
      "22/22 [==============================] - 0s 10ms/step - loss: 1.1484 - accuracy: 0.8137 - val_loss: 1.2383 - val_accuracy: 0.7687\n",
      "Epoch 41/100\n",
      "22/22 [==============================] - 0s 10ms/step - loss: 1.1186 - accuracy: 0.8203 - val_loss: 1.2521 - val_accuracy: 0.7532\n",
      "Epoch 42/100\n",
      "22/22 [==============================] - 0s 9ms/step - loss: 1.1204 - accuracy: 0.8178 - val_loss: 1.2255 - val_accuracy: 0.7733\n",
      "Epoch 43/100\n",
      "22/22 [==============================] - 0s 9ms/step - loss: 1.1224 - accuracy: 0.8155 - val_loss: 1.2066 - val_accuracy: 0.7770\n",
      "Epoch 44/100\n",
      "22/22 [==============================] - 0s 9ms/step - loss: 1.0950 - accuracy: 0.8256 - val_loss: 1.2158 - val_accuracy: 0.7770\n",
      "Epoch 45/100\n",
      "22/22 [==============================] - 0s 9ms/step - loss: 1.0994 - accuracy: 0.8274 - val_loss: 1.2250 - val_accuracy: 0.7706\n",
      "Epoch 46/100\n",
      "22/22 [==============================] - 0s 9ms/step - loss: 1.0718 - accuracy: 0.8333 - val_loss: 1.2047 - val_accuracy: 0.7861\n",
      "Epoch 47/100\n",
      "22/22 [==============================] - 0s 9ms/step - loss: 1.0800 - accuracy: 0.8386 - val_loss: 1.1818 - val_accuracy: 0.7962\n",
      "Epoch 48/100\n",
      "22/22 [==============================] - 0s 9ms/step - loss: 1.0685 - accuracy: 0.8304 - val_loss: 1.1995 - val_accuracy: 0.7779\n",
      "Epoch 49/100\n",
      "22/22 [==============================] - 0s 9ms/step - loss: 1.0558 - accuracy: 0.8429 - val_loss: 1.1994 - val_accuracy: 0.7888\n",
      "Epoch 50/100\n",
      "22/22 [==============================] - 0s 9ms/step - loss: 1.0679 - accuracy: 0.8276 - val_loss: 1.1825 - val_accuracy: 0.7898\n",
      "Epoch 51/100\n",
      "22/22 [==============================] - 0s 9ms/step - loss: 1.0444 - accuracy: 0.8439 - val_loss: 1.2033 - val_accuracy: 0.7733\n",
      "Epoch 52/100\n",
      "22/22 [==============================] - 0s 9ms/step - loss: 1.0407 - accuracy: 0.8377 - val_loss: 1.1790 - val_accuracy: 0.7815\n",
      "Epoch 53/100\n",
      "22/22 [==============================] - 0s 9ms/step - loss: 1.0333 - accuracy: 0.8406 - val_loss: 1.1761 - val_accuracy: 0.7824\n",
      "Epoch 54/100\n",
      "22/22 [==============================] - 0s 9ms/step - loss: 1.0017 - accuracy: 0.8514 - val_loss: 1.1936 - val_accuracy: 0.7824\n",
      "Epoch 55/100\n",
      "22/22 [==============================] - 0s 9ms/step - loss: 0.9991 - accuracy: 0.8580 - val_loss: 1.1433 - val_accuracy: 0.7898\n",
      "Epoch 56/100\n",
      "22/22 [==============================] - 0s 9ms/step - loss: 0.9964 - accuracy: 0.8514 - val_loss: 1.1700 - val_accuracy: 0.7852\n",
      "Epoch 57/100\n",
      "22/22 [==============================] - 0s 9ms/step - loss: 0.9829 - accuracy: 0.8587 - val_loss: 1.1484 - val_accuracy: 0.7934\n",
      "Epoch 58/100\n",
      "22/22 [==============================] - 0s 9ms/step - loss: 0.9882 - accuracy: 0.8601 - val_loss: 1.1467 - val_accuracy: 0.8053\n",
      "Epoch 59/100\n",
      "22/22 [==============================] - 0s 10ms/step - loss: 0.9951 - accuracy: 0.8484 - val_loss: 1.1492 - val_accuracy: 0.8007\n",
      "Epoch 60/100\n",
      "22/22 [==============================] - 0s 9ms/step - loss: 0.9862 - accuracy: 0.8553 - val_loss: 1.1414 - val_accuracy: 0.7989\n",
      "Epoch 61/100\n",
      "22/22 [==============================] - 0s 9ms/step - loss: 0.9669 - accuracy: 0.8615 - val_loss: 1.1350 - val_accuracy: 0.8071\n",
      "Epoch 62/100\n",
      "22/22 [==============================] - 0s 9ms/step - loss: 0.9497 - accuracy: 0.8653 - val_loss: 1.1099 - val_accuracy: 0.8291\n",
      "Epoch 63/100\n",
      "22/22 [==============================] - 0s 9ms/step - loss: 0.9596 - accuracy: 0.8562 - val_loss: 1.1425 - val_accuracy: 0.7971\n",
      "Epoch 64/100\n",
      "22/22 [==============================] - 0s 9ms/step - loss: 0.9535 - accuracy: 0.8649 - val_loss: 1.1372 - val_accuracy: 0.7943\n",
      "Epoch 65/100\n",
      "22/22 [==============================] - 0s 9ms/step - loss: 0.9430 - accuracy: 0.8679 - val_loss: 1.1269 - val_accuracy: 0.7980\n",
      "Epoch 66/100\n",
      "22/22 [==============================] - 0s 9ms/step - loss: 0.9403 - accuracy: 0.8667 - val_loss: 1.1256 - val_accuracy: 0.8044\n",
      "Epoch 67/100\n",
      "22/22 [==============================] - 0s 9ms/step - loss: 0.9444 - accuracy: 0.8715 - val_loss: 1.1190 - val_accuracy: 0.7907\n",
      "Epoch 68/100\n",
      "22/22 [==============================] - 0s 9ms/step - loss: 0.9284 - accuracy: 0.8749 - val_loss: 1.1184 - val_accuracy: 0.8117\n",
      "Epoch 69/100\n",
      "22/22 [==============================] - 0s 9ms/step - loss: 0.9221 - accuracy: 0.8784 - val_loss: 1.1369 - val_accuracy: 0.7788\n",
      "Epoch 70/100\n",
      "22/22 [==============================] - 0s 9ms/step - loss: 0.9183 - accuracy: 0.8729 - val_loss: 1.0992 - val_accuracy: 0.8172\n",
      "Epoch 71/100\n",
      "22/22 [==============================] - 0s 9ms/step - loss: 0.9295 - accuracy: 0.8665 - val_loss: 1.1261 - val_accuracy: 0.8044\n",
      "Epoch 72/100\n",
      "22/22 [==============================] - 0s 9ms/step - loss: 0.8985 - accuracy: 0.8836 - val_loss: 1.0863 - val_accuracy: 0.8208\n",
      "Epoch 73/100\n",
      "22/22 [==============================] - 0s 9ms/step - loss: 0.9072 - accuracy: 0.8775 - val_loss: 1.0605 - val_accuracy: 0.8263\n",
      "Epoch 74/100\n",
      "22/22 [==============================] - 0s 9ms/step - loss: 0.9122 - accuracy: 0.8740 - val_loss: 1.1094 - val_accuracy: 0.8053\n",
      "Epoch 75/100\n",
      "22/22 [==============================] - 0s 9ms/step - loss: 0.9013 - accuracy: 0.8765 - val_loss: 1.0871 - val_accuracy: 0.8163\n",
      "Epoch 76/100\n",
      "22/22 [==============================] - 0s 9ms/step - loss: 0.8885 - accuracy: 0.8788 - val_loss: 1.0930 - val_accuracy: 0.8172\n",
      "Epoch 77/100\n",
      "22/22 [==============================] - 0s 10ms/step - loss: 0.8850 - accuracy: 0.8825 - val_loss: 1.0850 - val_accuracy: 0.8053\n",
      "Epoch 78/100\n",
      "22/22 [==============================] - 0s 9ms/step - loss: 0.8948 - accuracy: 0.8797 - val_loss: 1.0945 - val_accuracy: 0.8117\n",
      "Epoch 79/100\n",
      "22/22 [==============================] - 0s 9ms/step - loss: 0.8889 - accuracy: 0.8777 - val_loss: 1.0584 - val_accuracy: 0.8181\n",
      "Epoch 80/100\n",
      "22/22 [==============================] - 0s 9ms/step - loss: 0.8846 - accuracy: 0.8786 - val_loss: 1.0902 - val_accuracy: 0.8154\n",
      "Epoch 81/100\n",
      "22/22 [==============================] - 0s 9ms/step - loss: 0.8701 - accuracy: 0.8866 - val_loss: 1.0890 - val_accuracy: 0.8035\n",
      "Epoch 82/100\n",
      "22/22 [==============================] - 0s 9ms/step - loss: 0.8844 - accuracy: 0.8768 - val_loss: 1.0596 - val_accuracy: 0.8172\n",
      "Epoch 83/100\n",
      "22/22 [==============================] - 0s 9ms/step - loss: 0.8836 - accuracy: 0.8804 - val_loss: 1.0616 - val_accuracy: 0.8208\n",
      "Epoch 84/100\n",
      "22/22 [==============================] - 0s 9ms/step - loss: 0.8720 - accuracy: 0.8864 - val_loss: 1.0553 - val_accuracy: 0.8227\n",
      "Epoch 85/100\n",
      "22/22 [==============================] - 0s 10ms/step - loss: 0.8622 - accuracy: 0.8861 - val_loss: 1.0544 - val_accuracy: 0.8254\n",
      "Epoch 86/100\n",
      "22/22 [==============================] - 0s 10ms/step - loss: 0.8637 - accuracy: 0.8850 - val_loss: 1.0740 - val_accuracy: 0.8117\n",
      "Epoch 87/100\n",
      "22/22 [==============================] - 0s 10ms/step - loss: 0.8680 - accuracy: 0.8832 - val_loss: 1.0950 - val_accuracy: 0.7971\n",
      "Epoch 88/100\n",
      "22/22 [==============================] - 0s 9ms/step - loss: 0.8594 - accuracy: 0.8857 - val_loss: 1.0741 - val_accuracy: 0.8227\n",
      "Epoch 89/100\n",
      "22/22 [==============================] - 0s 9ms/step - loss: 0.8486 - accuracy: 0.8925 - val_loss: 1.0709 - val_accuracy: 0.8227\n",
      "Epoch 90/100\n",
      "22/22 [==============================] - 0s 10ms/step - loss: 0.8299 - accuracy: 0.9019 - val_loss: 1.0420 - val_accuracy: 0.8282\n",
      "Epoch 91/100\n",
      "22/22 [==============================] - 0s 10ms/step - loss: 0.8433 - accuracy: 0.8916 - val_loss: 1.0544 - val_accuracy: 0.8172\n",
      "Epoch 92/100\n",
      "22/22 [==============================] - 0s 11ms/step - loss: 0.8485 - accuracy: 0.8855 - val_loss: 1.0460 - val_accuracy: 0.8355\n",
      "Epoch 93/100\n",
      "22/22 [==============================] - 0s 9ms/step - loss: 0.8441 - accuracy: 0.8937 - val_loss: 1.0679 - val_accuracy: 0.8190\n",
      "Epoch 94/100\n",
      "22/22 [==============================] - 0s 11ms/step - loss: 0.8445 - accuracy: 0.8905 - val_loss: 1.0315 - val_accuracy: 0.8355\n",
      "Epoch 95/100\n",
      "22/22 [==============================] - 0s 10ms/step - loss: 0.8424 - accuracy: 0.8903 - val_loss: 1.0554 - val_accuracy: 0.8135\n",
      "Epoch 96/100\n",
      "22/22 [==============================] - 0s 10ms/step - loss: 0.8219 - accuracy: 0.8989 - val_loss: 1.0430 - val_accuracy: 0.8163\n",
      "Epoch 97/100\n",
      "22/22 [==============================] - 0s 10ms/step - loss: 0.8051 - accuracy: 0.8969 - val_loss: 1.0539 - val_accuracy: 0.8254\n",
      "Epoch 98/100\n",
      "22/22 [==============================] - 0s 10ms/step - loss: 0.8217 - accuracy: 0.8907 - val_loss: 1.0490 - val_accuracy: 0.8245\n",
      "Epoch 99/100\n",
      "22/22 [==============================] - 0s 10ms/step - loss: 0.8300 - accuracy: 0.8891 - val_loss: 1.0690 - val_accuracy: 0.8090\n",
      "Epoch 100/100\n",
      "22/22 [==============================] - 0s 10ms/step - loss: 0.8384 - accuracy: 0.8932 - val_loss: 1.0445 - val_accuracy: 0.8263\n",
      "CPU times: total: 29.4 s\n",
      "Wall time: 22.4 s\n"
     ]
    }
   ],
   "source": [
    "%%time\n",
    "batch_size = 200\n",
    "epochs = 100\n",
    "\n",
    "history = model.fit(\n",
    "  X_train, y_train,\n",
    "  batch_size=batch_size,\n",
    "  epochs=epochs,\n",
    "  validation_split=0.2,\n",
    "  shuffle=True,\n",
    "  # callbacks=[model_checkpoint_callback, lrate_scheduler_callback]\n",
    ")"
   ]
  },
  {
   "cell_type": "code",
   "execution_count": 26,
   "metadata": {},
   "outputs": [
    {
     "data": {
      "image/png": "[encoded data removed]",
      "text/plain": [
       "<Figure size 1000x600 with 1 Axes>"
      ]
     },
     "metadata": {},
     "output_type": "display_data"
    }
   ],
   "source": [
    "plt.figure(figsize=(10, 6))\n",
    "plt.plot(history.history['accuracy'])\n",
    "plt.plot(history.history['val_accuracy'])\n",
    "plt.title('model accuracy')\n",
    "plt.ylabel('accuracy')\n",
    "plt.xlabel('epoch')\n",
    "plt.legend(['train', 'val'], loc='upper left')\n",
    "plt.show()"
   ]
  },
  {
   "cell_type": "code",
   "execution_count": 27,
   "metadata": {},
   "outputs": [
    {
     "name": "stdout",
     "output_type": "stream",
     "text": [
      "train set accuracy: 0.89\n",
      "validation set accuracy: 0.83\n"
     ]
    }
   ],
   "source": [
    "length = len(history.history['accuracy'])\n",
    "print(\"train set accuracy:\", round(history.history['accuracy'][length-1], 2))\n",
    "print(\"validation set accuracy:\", round(history.history['val_accuracy'][length-1], 2))"
   ]
  },
  {
   "cell_type": "code",
   "execution_count": 28,
   "metadata": {},
   "outputs": [
    {
     "name": "stdout",
     "output_type": "stream",
     "text": [
      "43/43 [==============================] - 0s 4ms/step - loss: 1.1033 - accuracy: 0.8098\n",
      "test set accuracy: 0.81\n"
     ]
    }
   ],
   "source": [
    "# model.load_weights(\"models/checkpoints/famous48_test_model_v2_best.keras\")\n",
    "results = model.evaluate(X_test, y_test)\n",
    "print(\"test set accuracy:\", round(results[1], 2))"
   ]
  }
 ],
 "metadata": {
  "kernelspec": {
   "display_name": "env_torch",
   "language": "python",
   "name": "python3"
  },
  "language_info": {
   "codemirror_mode": {
    "name": "ipython",
    "version": 3
   },
   "file_extension": ".py",
   "mimetype": "text/x-python",
   "name": "python",
   "nbconvert_exporter": "python",
   "pygments_lexer": "ipython3",
   "version": "3.10.13"
  }
 },
 "nbformat": 4,
 "nbformat_minor": 2
}
