{
 "cells": [
  {
   "cell_type": "code",
   "execution_count": 1,
   "metadata": {},
   "outputs": [],
   "source": [
    "import numpy as np\n",
    "import tensorflow as tf\n",
    "from tensorflow import keras\n",
    "\n",
    "from keras import layers\n",
    "from keras import regularizers\n",
    "from keras import backend as K\n",
    "from keras import Sequential, Input\n",
    "from keras.optimizers import SGD, Adam\n",
    "from keras.losses import categorical_crossentropy\n",
    "from keras.callbacks import LearningRateScheduler\n",
    "\n",
    "import matplotlib.pyplot as plt\n",
    "\n",
    "import math"
   ]
  },
  {
   "cell_type": "code",
   "execution_count": 2,
   "metadata": {},
   "outputs": [],
   "source": [
    "# make the result reproducible\n",
    "keras.utils.set_random_seed(42)"
   ]
  },
  {
   "cell_type": "code",
   "execution_count": 3,
   "metadata": {},
   "outputs": [
    {
     "name": "stdout",
     "output_type": "stream",
     "text": [
      "[PhysicalDevice(name='/physical_device:CPU:0', device_type='CPU'), PhysicalDevice(name='/physical_device:GPU:0', device_type='GPU')]\n"
     ]
    }
   ],
   "source": [
    "physical_devices = tf.config.list_physical_devices()\n",
    "print(physical_devices)"
   ]
  },
  {
   "cell_type": "code",
   "execution_count": 4,
   "metadata": {},
   "outputs": [],
   "source": [
    "tf.config.set_visible_devices(physical_devices[1], 'GPU')"
   ]
  },
  {
   "cell_type": "markdown",
   "metadata": {},
   "source": [
    "## Building Dataset"
   ]
  },
  {
   "cell_type": "markdown",
   "metadata": {},
   "source": [
    "### Attributes description\n",
    "\n",
    "- a1 - face containing flag: (1-with face, 0-without face),\n",
    "- a2 - image number in current class (person) beginning from 0,\n",
    "- a3 - class (person) number beginning from 0,\n",
    "- a4 - sex (0 - woman, 1 - man)\n",
    "- a5 - race (0- white, 1 - negro, 2 - indian, ...)\n",
    "- a6 - age (0 - baby, 1 - young, 2 - middle-age, 3 - old) \n",
    "- a7 - binokulars (0 - without, 1 - transparent, 2 - dark)\n",
    "- a8 - emotional expression (not state!) (0 - sad, 1 - neutral, 2 - happy)"
   ]
  },
  {
   "cell_type": "code",
   "execution_count": 5,
   "metadata": {},
   "outputs": [],
   "source": [
    "from utils.load_dataset import load_dataset\n",
    "\n",
    "DIRPATH = './data'\n",
    "X_train, X_test, y_train, y_test = load_dataset(DIRPATH)"
   ]
  },
  {
   "cell_type": "markdown",
   "metadata": {},
   "source": [
    "## Building a model"
   ]
  },
  {
   "cell_type": "markdown",
   "metadata": {},
   "source": [
    "Testing LeNet-5 Architecture"
   ]
  },
  {
   "cell_type": "code",
   "execution_count": 20,
   "metadata": {},
   "outputs": [
    {
     "name": "stdout",
     "output_type": "stream",
     "text": [
      "Model: \"sequential_1\"\n",
      "_________________________________________________________________\n",
      " Layer (type)                Output Shape              Param #   \n",
      "=================================================================\n",
      " conv2d_3 (Conv2D)           (None, 24, 24, 6)         156       \n",
      "                                                                 \n",
      " max_pooling2d_2 (MaxPooling  (None, 12, 12, 6)        0         \n",
      " 2D)                                                             \n",
      "                                                                 \n",
      " dropout_3 (Dropout)         (None, 12, 12, 6)         0         \n",
      "                                                                 \n",
      " conv2d_4 (Conv2D)           (None, 12, 12, 16)        2416      \n",
      "                                                                 \n",
      " max_pooling2d_3 (MaxPooling  (None, 6, 6, 16)         0         \n",
      " 2D)                                                             \n",
      "                                                                 \n",
      " dropout_4 (Dropout)         (None, 6, 6, 16)          0         \n",
      "                                                                 \n",
      " conv2d_5 (Conv2D)           (None, 6, 6, 120)         48120     \n",
      "                                                                 \n",
      " flatten_1 (Flatten)         (None, 4320)              0         \n",
      "                                                                 \n",
      " dropout_5 (Dropout)         (None, 4320)              0         \n",
      "                                                                 \n",
      " dense_2 (Dense)             (None, 84)                362964    \n",
      "                                                                 \n",
      " dense_3 (Dense)             (None, 48)                4080      \n",
      "                                                                 \n",
      "=================================================================\n",
      "Total params: 417,736\n",
      "Trainable params: 417,736\n",
      "Non-trainable params: 0\n",
      "_________________________________________________________________\n"
     ]
    }
   ],
   "source": [
    "from utils.constrains import CLASSES, IMAGE_SIZE\n",
    "\n",
    "conv_regularizer = regularizers.l2(0.0009096443481619992)\n",
    "dense_regularizer = regularizers.l2(0.011905583599301073)\n",
    "\n",
    "# conv_regularizer = regularizers.l2(0)\n",
    "# dense_regularizer = regularizers.l2(0)\n",
    "\n",
    "activation_def = 'tanh'\n",
    "\n",
    "dropout_base = 0.09439855997376015\n",
    "dropout_inc = 0.14131761625994724\n",
    "dropout_1 = dropout_base\n",
    "dropout_2 = dropout_base + dropout_inc\n",
    "dropout_3 = dropout_base + 2*dropout_inc\n",
    "\n",
    "model = Sequential(\n",
    "  [\n",
    "    Input(shape=(IMAGE_SIZE, IMAGE_SIZE, 1)),\n",
    "    layers.Conv2D(6, kernel_size=5, padding='same', activation=activation_def, kernel_regularizer=conv_regularizer),\n",
    "    layers.MaxPooling2D(pool_size=2, strides=2),\n",
    "\n",
    "    layers.Dropout(dropout_1),\n",
    "    layers.Conv2D(16, kernel_size=5, padding='same', activation=activation_def, kernel_regularizer=conv_regularizer),\n",
    "    layers.MaxPooling2D(pool_size=2, strides=2),\n",
    "\n",
    "    layers.Dropout(dropout_2),\n",
    "    layers.Conv2D(120, kernel_size=5, padding='same', activation=activation_def, kernel_regularizer=conv_regularizer),\n",
    "\n",
    "    layers.Flatten(),\n",
    "    layers.Dropout(dropout_3),\n",
    "    layers.Dense(84, activation=activation_def, kernel_regularizer=dense_regularizer),\n",
    "    layers.Dense(CLASSES, activation='softmax'),\n",
    "  ]\n",
    ")\n",
    "\n",
    "model.summary()"
   ]
  },
  {
   "cell_type": "code",
   "execution_count": 21,
   "metadata": {},
   "outputs": [],
   "source": [
    "optimizer = Adam(learning_rate=0.001)\n",
    "\n",
    "def get_lr_metric(optimizer):\n",
    "  def lr(y_true, y_pred):\n",
    "    return optimizer._decayed_lr(tf.float32) # I use ._decayed_lr method instead of .lr\n",
    "  return lr\n",
    "\n",
    "lr_metric = get_lr_metric(optimizer)\n",
    "\n",
    "\n",
    "# model.compile(loss=categorical_crossentropy, optimizer=optimizer, metrics=[\"accuracy\"])\n",
    "model.compile(loss=categorical_crossentropy, optimizer=optimizer, metrics=[\"accuracy\", lr_metric])"
   ]
  },
  {
   "cell_type": "code",
   "execution_count": 22,
   "metadata": {},
   "outputs": [],
   "source": [
    "def step_decay(epoch):\n",
    "  initial_lrate = 0.001\n",
    "  drop = 0.5\n",
    "  epochs_drop = 40.0\n",
    "  lrate = initial_lrate * math.pow(drop,  \n",
    "          math.floor((1+epoch)/epochs_drop))\n",
    "  return lrate\n",
    " \n",
    "lrate_scheduler_callback = LearningRateScheduler(step_decay)"
   ]
  },
  {
   "cell_type": "markdown",
   "metadata": {},
   "source": [
    "## Training Preparation"
   ]
  },
  {
   "cell_type": "code",
   "execution_count": 23,
   "metadata": {},
   "outputs": [],
   "source": [
    "CHECKPOINT_PATH = 'models/checkpoints/famous48_test_model_v2_best.keras'"
   ]
  },
  {
   "cell_type": "code",
   "execution_count": 24,
   "metadata": {},
   "outputs": [],
   "source": [
    "model_checkpoint_callback = keras.callbacks.ModelCheckpoint(\n",
    "  filepath=CHECKPOINT_PATH,\n",
    "  save_weights_only=False,\n",
    "  monitor='val_accuracy',\n",
    "  mode='max',\n",
    "  save_best_only=True,\n",
    ")"
   ]
  },
  {
   "cell_type": "code",
   "execution_count": 25,
   "metadata": {},
   "outputs": [
    {
     "name": "stdout",
     "output_type": "stream",
     "text": [
      "Epoch 1/100\n",
      "22/22 [==============================] - 1s 22ms/step - loss: 5.0253 - accuracy: 0.0729 - lr: 0.0010 - val_loss: 4.2370 - val_accuracy: 0.1453 - val_lr: 0.0010\n",
      "Epoch 2/100\n",
      "22/22 [==============================] - 0s 14ms/step - loss: 3.6675 - accuracy: 0.2176 - lr: 0.0010 - val_loss: 3.2197 - val_accuracy: 0.2742 - val_lr: 0.0010\n",
      "Epoch 3/100\n",
      "22/22 [==============================] - 0s 13ms/step - loss: 2.9195 - accuracy: 0.3477 - lr: 0.0010 - val_loss: 2.7264 - val_accuracy: 0.3839 - val_lr: 0.0010\n",
      "Epoch 4/100\n",
      "22/22 [==============================] - 0s 13ms/step - loss: 2.5653 - accuracy: 0.4479 - lr: 0.0010 - val_loss: 2.5065 - val_accuracy: 0.4525 - val_lr: 0.0010\n",
      "Epoch 5/100\n",
      "22/22 [==============================] - 0s 12ms/step - loss: 2.3789 - accuracy: 0.4822 - lr: 0.0010 - val_loss: 2.3020 - val_accuracy: 0.4982 - val_lr: 0.0010\n",
      "Epoch 6/100\n",
      "22/22 [==============================] - 0s 12ms/step - loss: 2.2155 - accuracy: 0.5304 - lr: 0.0010 - val_loss: 2.1631 - val_accuracy: 0.5512 - val_lr: 0.0010\n",
      "Epoch 7/100\n",
      "22/22 [==============================] - 0s 11ms/step - loss: 2.0896 - accuracy: 0.5640 - lr: 0.0010 - val_loss: 2.0489 - val_accuracy: 0.5475 - val_lr: 0.0010\n",
      "Epoch 8/100\n",
      "22/22 [==============================] - 0s 14ms/step - loss: 1.9912 - accuracy: 0.5949 - lr: 0.0010 - val_loss: 1.9444 - val_accuracy: 0.5941 - val_lr: 0.0010\n",
      "Epoch 9/100\n",
      "22/22 [==============================] - 0s 12ms/step - loss: 1.9105 - accuracy: 0.6091 - lr: 0.0010 - val_loss: 1.9074 - val_accuracy: 0.5914 - val_lr: 0.0010\n",
      "Epoch 10/100\n",
      "22/22 [==============================] - 0s 13ms/step - loss: 1.8567 - accuracy: 0.6136 - lr: 0.0010 - val_loss: 1.8685 - val_accuracy: 0.6088 - val_lr: 0.0010\n",
      "Epoch 11/100\n",
      "22/22 [==============================] - 0s 13ms/step - loss: 1.8048 - accuracy: 0.6292 - lr: 0.0010 - val_loss: 1.8378 - val_accuracy: 0.6170 - val_lr: 0.0010\n",
      "Epoch 12/100\n",
      "22/22 [==============================] - 0s 13ms/step - loss: 1.7612 - accuracy: 0.6454 - lr: 0.0010 - val_loss: 1.7355 - val_accuracy: 0.6572 - val_lr: 0.0010\n",
      "Epoch 13/100\n",
      "22/22 [==============================] - 0s 10ms/step - loss: 1.7169 - accuracy: 0.6488 - lr: 0.0010 - val_loss: 1.7173 - val_accuracy: 0.6554 - val_lr: 0.0010\n",
      "Epoch 14/100\n",
      "22/22 [==============================] - 0s 13ms/step - loss: 1.6414 - accuracy: 0.6790 - lr: 0.0010 - val_loss: 1.6756 - val_accuracy: 0.6682 - val_lr: 0.0010\n",
      "Epoch 15/100\n",
      "22/22 [==============================] - 0s 13ms/step - loss: 1.6004 - accuracy: 0.6914 - lr: 0.0010 - val_loss: 1.6513 - val_accuracy: 0.6709 - val_lr: 0.0010\n",
      "Epoch 16/100\n",
      "22/22 [==============================] - 0s 13ms/step - loss: 1.5869 - accuracy: 0.6891 - lr: 0.0010 - val_loss: 1.6136 - val_accuracy: 0.6883 - val_lr: 0.0010\n",
      "Epoch 17/100\n",
      "22/22 [==============================] - 0s 10ms/step - loss: 1.5492 - accuracy: 0.6966 - lr: 0.0010 - val_loss: 1.5979 - val_accuracy: 0.6654 - val_lr: 0.0010\n",
      "Epoch 18/100\n",
      "22/22 [==============================] - 0s 13ms/step - loss: 1.5310 - accuracy: 0.7099 - lr: 0.0010 - val_loss: 1.5814 - val_accuracy: 0.6929 - val_lr: 0.0010\n",
      "Epoch 19/100\n",
      "22/22 [==============================] - 0s 10ms/step - loss: 1.4900 - accuracy: 0.7234 - lr: 0.0010 - val_loss: 1.5765 - val_accuracy: 0.6709 - val_lr: 0.0010\n",
      "Epoch 20/100\n",
      "22/22 [==============================] - 0s 13ms/step - loss: 1.4730 - accuracy: 0.7151 - lr: 0.0010 - val_loss: 1.5463 - val_accuracy: 0.6938 - val_lr: 0.0010\n",
      "Epoch 21/100\n",
      "22/22 [==============================] - 0s 12ms/step - loss: 1.4422 - accuracy: 0.7289 - lr: 0.0010 - val_loss: 1.5166 - val_accuracy: 0.7048 - val_lr: 0.0010\n",
      "Epoch 22/100\n",
      "22/22 [==============================] - 0s 13ms/step - loss: 1.4404 - accuracy: 0.7197 - lr: 0.0010 - val_loss: 1.4984 - val_accuracy: 0.7075 - val_lr: 0.0010\n",
      "Epoch 23/100\n",
      "22/22 [==============================] - 0s 13ms/step - loss: 1.3885 - accuracy: 0.7471 - lr: 0.0010 - val_loss: 1.4903 - val_accuracy: 0.7084 - val_lr: 0.0010\n",
      "Epoch 24/100\n",
      "22/22 [==============================] - 0s 11ms/step - loss: 1.3971 - accuracy: 0.7419 - lr: 0.0010 - val_loss: 1.4826 - val_accuracy: 0.7038 - val_lr: 0.0010\n",
      "Epoch 25/100\n",
      "22/22 [==============================] - 0s 12ms/step - loss: 1.3762 - accuracy: 0.7506 - lr: 0.0010 - val_loss: 1.4531 - val_accuracy: 0.7157 - val_lr: 0.0010\n",
      "Epoch 26/100\n",
      "22/22 [==============================] - 0s 12ms/step - loss: 1.3405 - accuracy: 0.7533 - lr: 0.0010 - val_loss: 1.4286 - val_accuracy: 0.7230 - val_lr: 0.0010\n",
      "Epoch 27/100\n",
      "22/22 [==============================] - 0s 13ms/step - loss: 1.3089 - accuracy: 0.7666 - lr: 0.0010 - val_loss: 1.4179 - val_accuracy: 0.7303 - val_lr: 0.0010\n",
      "Epoch 28/100\n",
      "22/22 [==============================] - 0s 10ms/step - loss: 1.3151 - accuracy: 0.7593 - lr: 0.0010 - val_loss: 1.4459 - val_accuracy: 0.7121 - val_lr: 0.0010\n",
      "Epoch 29/100\n",
      "22/22 [==============================] - 0s 10ms/step - loss: 1.3092 - accuracy: 0.7661 - lr: 0.0010 - val_loss: 1.4292 - val_accuracy: 0.7212 - val_lr: 0.0010\n",
      "Epoch 30/100\n",
      "22/22 [==============================] - 0s 10ms/step - loss: 1.2879 - accuracy: 0.7698 - lr: 0.0010 - val_loss: 1.4323 - val_accuracy: 0.7239 - val_lr: 0.0010\n",
      "Epoch 31/100\n",
      "22/22 [==============================] - 0s 12ms/step - loss: 1.2617 - accuracy: 0.7771 - lr: 0.0010 - val_loss: 1.3682 - val_accuracy: 0.7386 - val_lr: 0.0010\n",
      "Epoch 32/100\n",
      "22/22 [==============================] - 0s 10ms/step - loss: 1.2607 - accuracy: 0.7842 - lr: 0.0010 - val_loss: 1.4153 - val_accuracy: 0.7267 - val_lr: 0.0010\n",
      "Epoch 33/100\n",
      "22/22 [==============================] - 0s 11ms/step - loss: 1.2383 - accuracy: 0.7853 - lr: 0.0010 - val_loss: 1.3923 - val_accuracy: 0.7276 - val_lr: 0.0010\n",
      "Epoch 34/100\n",
      "22/22 [==============================] - 0s 11ms/step - loss: 1.2249 - accuracy: 0.7892 - lr: 0.0010 - val_loss: 1.3742 - val_accuracy: 0.7386 - val_lr: 0.0010\n",
      "Epoch 35/100\n",
      "22/22 [==============================] - 0s 11ms/step - loss: 1.2290 - accuracy: 0.7878 - lr: 0.0010 - val_loss: 1.3840 - val_accuracy: 0.7331 - val_lr: 0.0010\n",
      "Epoch 36/100\n",
      "22/22 [==============================] - 0s 13ms/step - loss: 1.2117 - accuracy: 0.7922 - lr: 0.0010 - val_loss: 1.3516 - val_accuracy: 0.7505 - val_lr: 0.0010\n",
      "Epoch 37/100\n",
      "22/22 [==============================] - 0s 11ms/step - loss: 1.1883 - accuracy: 0.7942 - lr: 0.0010 - val_loss: 1.3412 - val_accuracy: 0.7349 - val_lr: 0.0010\n",
      "Epoch 38/100\n",
      "22/22 [==============================] - 0s 11ms/step - loss: 1.1807 - accuracy: 0.8016 - lr: 0.0010 - val_loss: 1.3514 - val_accuracy: 0.7395 - val_lr: 0.0010\n",
      "Epoch 39/100\n",
      "22/22 [==============================] - 0s 13ms/step - loss: 1.1742 - accuracy: 0.8002 - lr: 0.0010 - val_loss: 1.3413 - val_accuracy: 0.7514 - val_lr: 0.0010\n",
      "Epoch 40/100\n",
      "22/22 [==============================] - 0s 13ms/step - loss: 1.1008 - accuracy: 0.8246 - lr: 5.0000e-04 - val_loss: 1.2706 - val_accuracy: 0.7614 - val_lr: 5.0000e-04\n",
      "Epoch 41/100\n",
      "22/22 [==============================] - 0s 13ms/step - loss: 1.0572 - accuracy: 0.8436 - lr: 5.0000e-04 - val_loss: 1.2385 - val_accuracy: 0.7770 - val_lr: 5.0000e-04\n",
      "Epoch 42/100\n",
      "22/22 [==============================] - 0s 10ms/step - loss: 1.0364 - accuracy: 0.8377 - lr: 5.0000e-04 - val_loss: 1.2104 - val_accuracy: 0.7761 - val_lr: 5.0000e-04\n",
      "Epoch 43/100\n",
      "22/22 [==============================] - 0s 10ms/step - loss: 1.0161 - accuracy: 0.8436 - lr: 5.0000e-04 - val_loss: 1.2009 - val_accuracy: 0.7742 - val_lr: 5.0000e-04\n",
      "Epoch 44/100\n",
      "22/22 [==============================] - 0s 11ms/step - loss: 1.0023 - accuracy: 0.8427 - lr: 5.0000e-04 - val_loss: 1.2166 - val_accuracy: 0.7614 - val_lr: 5.0000e-04\n",
      "Epoch 45/100\n",
      "22/22 [==============================] - 0s 11ms/step - loss: 0.9932 - accuracy: 0.8425 - lr: 5.0000e-04 - val_loss: 1.1842 - val_accuracy: 0.7733 - val_lr: 5.0000e-04\n",
      "Epoch 46/100\n",
      "22/22 [==============================] - 0s 10ms/step - loss: 0.9839 - accuracy: 0.8443 - lr: 5.0000e-04 - val_loss: 1.1879 - val_accuracy: 0.7715 - val_lr: 5.0000e-04\n",
      "Epoch 47/100\n",
      "22/22 [==============================] - 0s 10ms/step - loss: 0.9754 - accuracy: 0.8475 - lr: 5.0000e-04 - val_loss: 1.1707 - val_accuracy: 0.7770 - val_lr: 5.0000e-04\n",
      "Epoch 48/100\n",
      "22/22 [==============================] - 0s 10ms/step - loss: 0.9607 - accuracy: 0.8498 - lr: 5.0000e-04 - val_loss: 1.1824 - val_accuracy: 0.7715 - val_lr: 5.0000e-04\n",
      "Epoch 49/100\n",
      "22/22 [==============================] - 0s 12ms/step - loss: 0.9548 - accuracy: 0.8573 - lr: 5.0000e-04 - val_loss: 1.1605 - val_accuracy: 0.7834 - val_lr: 5.0000e-04\n",
      "Epoch 50/100\n",
      "22/22 [==============================] - 0s 13ms/step - loss: 0.9522 - accuracy: 0.8544 - lr: 5.0000e-04 - val_loss: 1.1611 - val_accuracy: 0.7870 - val_lr: 5.0000e-04\n",
      "Epoch 51/100\n",
      "22/22 [==============================] - 0s 10ms/step - loss: 0.9504 - accuracy: 0.8496 - lr: 5.0000e-04 - val_loss: 1.1693 - val_accuracy: 0.7742 - val_lr: 5.0000e-04\n",
      "Epoch 52/100\n",
      "22/22 [==============================] - 0s 10ms/step - loss: 0.9492 - accuracy: 0.8564 - lr: 5.0000e-04 - val_loss: 1.1491 - val_accuracy: 0.7715 - val_lr: 5.0000e-04\n",
      "Epoch 53/100\n",
      "22/22 [==============================] - 0s 10ms/step - loss: 0.9296 - accuracy: 0.8493 - lr: 5.0000e-04 - val_loss: 1.1659 - val_accuracy: 0.7742 - val_lr: 5.0000e-04\n",
      "Epoch 54/100\n",
      "22/22 [==============================] - 0s 11ms/step - loss: 0.9357 - accuracy: 0.8539 - lr: 5.0000e-04 - val_loss: 1.1660 - val_accuracy: 0.7742 - val_lr: 5.0000e-04\n",
      "Epoch 55/100\n",
      "22/22 [==============================] - 0s 10ms/step - loss: 0.9188 - accuracy: 0.8589 - lr: 5.0000e-04 - val_loss: 1.1542 - val_accuracy: 0.7815 - val_lr: 5.0000e-04\n",
      "Epoch 56/100\n",
      "22/22 [==============================] - 0s 10ms/step - loss: 0.9090 - accuracy: 0.8637 - lr: 5.0000e-04 - val_loss: 1.1424 - val_accuracy: 0.7751 - val_lr: 5.0000e-04\n",
      "Epoch 57/100\n",
      "22/22 [==============================] - 0s 12ms/step - loss: 0.9226 - accuracy: 0.8551 - lr: 5.0000e-04 - val_loss: 1.1473 - val_accuracy: 0.7751 - val_lr: 5.0000e-04\n",
      "Epoch 58/100\n",
      "22/22 [==============================] - 0s 13ms/step - loss: 0.9128 - accuracy: 0.8596 - lr: 5.0000e-04 - val_loss: 1.1220 - val_accuracy: 0.7916 - val_lr: 5.0000e-04\n",
      "Epoch 59/100\n",
      "22/22 [==============================] - 0s 11ms/step - loss: 0.9097 - accuracy: 0.8596 - lr: 5.0000e-04 - val_loss: 1.1343 - val_accuracy: 0.7733 - val_lr: 5.0000e-04\n",
      "Epoch 60/100\n",
      "22/22 [==============================] - 0s 11ms/step - loss: 0.9139 - accuracy: 0.8605 - lr: 5.0000e-04 - val_loss: 1.1258 - val_accuracy: 0.7898 - val_lr: 5.0000e-04\n",
      "Epoch 61/100\n",
      "22/22 [==============================] - 0s 11ms/step - loss: 0.8906 - accuracy: 0.8649 - lr: 5.0000e-04 - val_loss: 1.1319 - val_accuracy: 0.7824 - val_lr: 5.0000e-04\n",
      "Epoch 62/100\n",
      "22/22 [==============================] - 0s 13ms/step - loss: 0.8866 - accuracy: 0.8683 - lr: 5.0000e-04 - val_loss: 1.1117 - val_accuracy: 0.8016 - val_lr: 5.0000e-04\n",
      "Epoch 63/100\n",
      "22/22 [==============================] - 0s 11ms/step - loss: 0.8763 - accuracy: 0.8745 - lr: 5.0000e-04 - val_loss: 1.1214 - val_accuracy: 0.7834 - val_lr: 5.0000e-04\n",
      "Epoch 64/100\n",
      "22/22 [==============================] - 0s 10ms/step - loss: 0.8737 - accuracy: 0.8717 - lr: 5.0000e-04 - val_loss: 1.1331 - val_accuracy: 0.7888 - val_lr: 5.0000e-04\n",
      "Epoch 65/100\n",
      "22/22 [==============================] - 0s 10ms/step - loss: 0.8866 - accuracy: 0.8674 - lr: 5.0000e-04 - val_loss: 1.1183 - val_accuracy: 0.7916 - val_lr: 5.0000e-04\n",
      "Epoch 66/100\n",
      "22/22 [==============================] - 0s 11ms/step - loss: 0.8640 - accuracy: 0.8802 - lr: 5.0000e-04 - val_loss: 1.1128 - val_accuracy: 0.7898 - val_lr: 5.0000e-04\n",
      "Epoch 67/100\n",
      "22/22 [==============================] - 0s 10ms/step - loss: 0.8658 - accuracy: 0.8701 - lr: 5.0000e-04 - val_loss: 1.1042 - val_accuracy: 0.7843 - val_lr: 5.0000e-04\n",
      "Epoch 68/100\n",
      "22/22 [==============================] - 0s 11ms/step - loss: 0.8628 - accuracy: 0.8763 - lr: 5.0000e-04 - val_loss: 1.1165 - val_accuracy: 0.7815 - val_lr: 5.0000e-04\n",
      "Epoch 69/100\n",
      "22/22 [==============================] - 0s 11ms/step - loss: 0.8610 - accuracy: 0.8697 - lr: 5.0000e-04 - val_loss: 1.1179 - val_accuracy: 0.7824 - val_lr: 5.0000e-04\n",
      "Epoch 70/100\n",
      "22/22 [==============================] - 0s 10ms/step - loss: 0.8616 - accuracy: 0.8733 - lr: 5.0000e-04 - val_loss: 1.1194 - val_accuracy: 0.7861 - val_lr: 5.0000e-04\n",
      "Epoch 71/100\n",
      "22/22 [==============================] - 0s 10ms/step - loss: 0.8519 - accuracy: 0.8839 - lr: 5.0000e-04 - val_loss: 1.1250 - val_accuracy: 0.7824 - val_lr: 5.0000e-04\n",
      "Epoch 72/100\n",
      "22/22 [==============================] - 0s 11ms/step - loss: 0.8479 - accuracy: 0.8759 - lr: 5.0000e-04 - val_loss: 1.0980 - val_accuracy: 0.7952 - val_lr: 5.0000e-04\n",
      "Epoch 73/100\n",
      "22/22 [==============================] - 0s 10ms/step - loss: 0.8411 - accuracy: 0.8850 - lr: 5.0000e-04 - val_loss: 1.0879 - val_accuracy: 0.7943 - val_lr: 5.0000e-04\n",
      "Epoch 74/100\n",
      "22/22 [==============================] - 0s 10ms/step - loss: 0.8322 - accuracy: 0.8877 - lr: 5.0000e-04 - val_loss: 1.0931 - val_accuracy: 0.7934 - val_lr: 5.0000e-04\n",
      "Epoch 75/100\n",
      "22/22 [==============================] - 0s 11ms/step - loss: 0.8314 - accuracy: 0.8896 - lr: 5.0000e-04 - val_loss: 1.0907 - val_accuracy: 0.7925 - val_lr: 5.0000e-04\n",
      "Epoch 76/100\n",
      "22/22 [==============================] - 0s 10ms/step - loss: 0.8432 - accuracy: 0.8788 - lr: 5.0000e-04 - val_loss: 1.0893 - val_accuracy: 0.7934 - val_lr: 5.0000e-04\n",
      "Epoch 77/100\n",
      "22/22 [==============================] - 0s 10ms/step - loss: 0.8229 - accuracy: 0.8859 - lr: 5.0000e-04 - val_loss: 1.1139 - val_accuracy: 0.7870 - val_lr: 5.0000e-04\n",
      "Epoch 78/100\n",
      "22/22 [==============================] - 0s 10ms/step - loss: 0.8246 - accuracy: 0.8809 - lr: 5.0000e-04 - val_loss: 1.1049 - val_accuracy: 0.7962 - val_lr: 5.0000e-04\n",
      "Epoch 79/100\n",
      "22/22 [==============================] - 0s 11ms/step - loss: 0.8024 - accuracy: 0.8989 - lr: 5.0000e-04 - val_loss: 1.0882 - val_accuracy: 0.7952 - val_lr: 5.0000e-04\n",
      "Epoch 80/100\n",
      "22/22 [==============================] - 0s 10ms/step - loss: 0.7810 - accuracy: 0.8973 - lr: 2.5000e-04 - val_loss: 1.0626 - val_accuracy: 0.8016 - val_lr: 2.5000e-04\n",
      "Epoch 81/100\n",
      "22/22 [==============================] - 0s 13ms/step - loss: 0.7671 - accuracy: 0.9072 - lr: 2.5000e-04 - val_loss: 1.0556 - val_accuracy: 0.8044 - val_lr: 2.5000e-04\n",
      "Epoch 82/100\n",
      "22/22 [==============================] - 0s 13ms/step - loss: 0.7599 - accuracy: 0.9120 - lr: 2.5000e-04 - val_loss: 1.0445 - val_accuracy: 0.8117 - val_lr: 2.5000e-04\n",
      "Epoch 83/100\n",
      "22/22 [==============================] - 0s 11ms/step - loss: 0.7417 - accuracy: 0.9102 - lr: 2.5000e-04 - val_loss: 1.0313 - val_accuracy: 0.8099 - val_lr: 2.5000e-04\n",
      "Epoch 84/100\n",
      "22/22 [==============================] - 0s 10ms/step - loss: 0.7450 - accuracy: 0.9083 - lr: 2.5000e-04 - val_loss: 1.0230 - val_accuracy: 0.7980 - val_lr: 2.5000e-04\n",
      "Epoch 85/100\n",
      "22/22 [==============================] - 0s 12ms/step - loss: 0.7475 - accuracy: 0.9028 - lr: 2.5000e-04 - val_loss: 1.0305 - val_accuracy: 0.8126 - val_lr: 2.5000e-04\n",
      "Epoch 86/100\n",
      "22/22 [==============================] - 0s 11ms/step - loss: 0.7383 - accuracy: 0.9047 - lr: 2.5000e-04 - val_loss: 1.0306 - val_accuracy: 0.8080 - val_lr: 2.5000e-04\n",
      "Epoch 87/100\n",
      "22/22 [==============================] - 0s 11ms/step - loss: 0.7374 - accuracy: 0.9033 - lr: 2.5000e-04 - val_loss: 1.0259 - val_accuracy: 0.7998 - val_lr: 2.5000e-04\n",
      "Epoch 88/100\n",
      "22/22 [==============================] - 0s 11ms/step - loss: 0.7246 - accuracy: 0.9099 - lr: 2.5000e-04 - val_loss: 1.0163 - val_accuracy: 0.8099 - val_lr: 2.5000e-04\n",
      "Epoch 89/100\n",
      "22/22 [==============================] - 0s 11ms/step - loss: 0.7342 - accuracy: 0.9086 - lr: 2.5000e-04 - val_loss: 1.0166 - val_accuracy: 0.8126 - val_lr: 2.5000e-04\n",
      "Epoch 90/100\n",
      "22/22 [==============================] - 0s 10ms/step - loss: 0.7207 - accuracy: 0.9124 - lr: 2.5000e-04 - val_loss: 1.0208 - val_accuracy: 0.8053 - val_lr: 2.5000e-04\n",
      "Epoch 91/100\n",
      "22/22 [==============================] - 0s 11ms/step - loss: 0.7340 - accuracy: 0.8996 - lr: 2.5000e-04 - val_loss: 1.0202 - val_accuracy: 0.8099 - val_lr: 2.5000e-04\n",
      "Epoch 92/100\n",
      "22/22 [==============================] - 0s 11ms/step - loss: 0.7217 - accuracy: 0.9177 - lr: 2.5000e-04 - val_loss: 1.0067 - val_accuracy: 0.8035 - val_lr: 2.5000e-04\n",
      "Epoch 93/100\n",
      "22/22 [==============================] - 0s 11ms/step - loss: 0.7107 - accuracy: 0.9223 - lr: 2.5000e-04 - val_loss: 1.0156 - val_accuracy: 0.8108 - val_lr: 2.5000e-04\n",
      "Epoch 94/100\n",
      "22/22 [==============================] - 0s 11ms/step - loss: 0.7153 - accuracy: 0.9182 - lr: 2.5000e-04 - val_loss: 1.0081 - val_accuracy: 0.8099 - val_lr: 2.5000e-04\n",
      "Epoch 95/100\n",
      "22/22 [==============================] - 0s 11ms/step - loss: 0.7097 - accuracy: 0.9124 - lr: 2.5000e-04 - val_loss: 1.0129 - val_accuracy: 0.8071 - val_lr: 2.5000e-04\n",
      "Epoch 96/100\n",
      "22/22 [==============================] - 0s 11ms/step - loss: 0.7006 - accuracy: 0.9191 - lr: 2.5000e-04 - val_loss: 1.0136 - val_accuracy: 0.8062 - val_lr: 2.5000e-04\n",
      "Epoch 97/100\n",
      "22/22 [==============================] - 0s 11ms/step - loss: 0.6966 - accuracy: 0.9124 - lr: 2.5000e-04 - val_loss: 0.9971 - val_accuracy: 0.8090 - val_lr: 2.5000e-04\n",
      "Epoch 98/100\n",
      "22/22 [==============================] - 0s 11ms/step - loss: 0.7106 - accuracy: 0.9161 - lr: 2.5000e-04 - val_loss: 1.0108 - val_accuracy: 0.8090 - val_lr: 2.5000e-04\n",
      "Epoch 99/100\n",
      "22/22 [==============================] - 0s 11ms/step - loss: 0.7084 - accuracy: 0.9070 - lr: 2.5000e-04 - val_loss: 0.9989 - val_accuracy: 0.8090 - val_lr: 2.5000e-04\n",
      "Epoch 100/100\n",
      "22/22 [==============================] - 0s 11ms/step - loss: 0.6997 - accuracy: 0.9147 - lr: 2.5000e-04 - val_loss: 1.0027 - val_accuracy: 0.8062 - val_lr: 2.5000e-04\n",
      "CPU times: total: 33.6 s\n",
      "Wall time: 25.9 s\n"
     ]
    }
   ],
   "source": [
    "%%time\n",
    "batch_size = 200\n",
    "epochs = 100\n",
    "\n",
    "history = model.fit(\n",
    "  X_train, y_train,\n",
    "  batch_size=batch_size,\n",
    "  epochs=epochs,\n",
    "  validation_split=0.2,\n",
    "  shuffle=True,\n",
    "  callbacks=[model_checkpoint_callback, lrate_scheduler_callback]\n",
    ")"
   ]
  },
  {
   "cell_type": "code",
   "execution_count": 26,
   "metadata": {},
   "outputs": [
    {
     "data": {
      "image/png": "[encoded data removed]",
      "text/plain": [
       "<Figure size 1000x600 with 1 Axes>"
      ]
     },
     "metadata": {},
     "output_type": "display_data"
    }
   ],
   "source": [
    "plt.figure(figsize=(10, 6))\n",
    "plt.plot(history.history['accuracy'])\n",
    "plt.plot(history.history['val_accuracy'])\n",
    "plt.title('model accuracy')\n",
    "plt.ylabel('accuracy')\n",
    "plt.xlabel('epoch')\n",
    "plt.legend(['train', 'val'], loc='upper left')\n",
    "plt.show()"
   ]
  },
  {
   "cell_type": "code",
   "execution_count": 27,
   "metadata": {},
   "outputs": [
    {
     "name": "stdout",
     "output_type": "stream",
     "text": [
      "train set accuracy: 0.91\n",
      "validation set accuracy: 0.81\n"
     ]
    }
   ],
   "source": [
    "length = len(history.history['accuracy'])\n",
    "print(\"train set accuracy:\", round(history.history['accuracy'][length-1], 2))\n",
    "print(\"validation set accuracy:\", round(history.history['val_accuracy'][length-1], 2))"
   ]
  },
  {
   "cell_type": "code",
   "execution_count": 28,
   "metadata": {},
   "outputs": [
    {
     "name": "stdout",
     "output_type": "stream",
     "text": [
      "43/43 [==============================] - 0s 4ms/step - loss: 1.0128 - accuracy: 0.8142 - lr: 2.5000e-04\n",
      "test set accuracy: 0.81\n"
     ]
    }
   ],
   "source": [
    "# model.load_weights(\"models/checkpoints/famous48_test_model_v2_best.keras\")\n",
    "results = model.evaluate(X_test, y_test)\n",
    "print(\"test set accuracy:\", round(results[1], 2))"
   ]
  }
 ],
 "metadata": {
  "kernelspec": {
   "display_name": "env_torch",
   "language": "python",
   "name": "python3"
  },
  "language_info": {
   "codemirror_mode": {
    "name": "ipython",
    "version": 3
   },
   "file_extension": ".py",
   "mimetype": "text/x-python",
   "name": "python",
   "nbconvert_exporter": "python",
   "pygments_lexer": "ipython3",
   "version": "3.10.13"
  }
 },
 "nbformat": 4,
 "nbformat_minor": 2
}
