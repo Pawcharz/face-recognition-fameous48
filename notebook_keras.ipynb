{
 "cells": [
  {
   "cell_type": "code",
   "execution_count": 1,
   "metadata": {},
   "outputs": [],
   "source": [
    "import numpy as np\n",
    "import tensorflow as tf\n",
    "from tensorflow import keras\n",
    "\n",
    "from keras import layers\n",
    "from keras import regularizers\n",
    "\n",
    "import re"
   ]
  },
  {
   "cell_type": "code",
   "execution_count": 2,
   "metadata": {},
   "outputs": [],
   "source": [
    "from keras import backend as K\n",
    "K.clear_session()"
   ]
  },
  {
   "cell_type": "code",
   "execution_count": 3,
   "metadata": {},
   "outputs": [
    {
     "name": "stdout",
     "output_type": "stream",
     "text": [
      "[PhysicalDevice(name='/physical_device:CPU:0', device_type='CPU'), PhysicalDevice(name='/physical_device:GPU:0', device_type='GPU')]\n"
     ]
    }
   ],
   "source": [
    "physical_devices = tf.config.list_physical_devices()\n",
    "CLASSES = 48\n",
    "IMAGE_SIZE = 24\n",
    "\n",
    "print(physical_devices)"
   ]
  },
  {
   "cell_type": "code",
   "execution_count": 4,
   "metadata": {},
   "outputs": [],
   "source": [
    "tf.config.set_visible_devices(physical_devices[1], 'GPU')"
   ]
  },
  {
   "cell_type": "markdown",
   "metadata": {},
   "source": [
    "## Building Dataset"
   ]
  },
  {
   "cell_type": "markdown",
   "metadata": {},
   "source": [
    "### Attributes description\n",
    "\n",
    "- a1 - face containing flag: (1-with face, 0-without face),\n",
    "- a2 - image number in current class (person) beginning from 0,\n",
    "- a3 - class (person) number beginning from 0,\n",
    "- a4 - sex (0 - woman, 1 - man)\n",
    "- a5 - race (0- white, 1 - negro, 2 - indian, ...)\n",
    "- a6 - age (0 - baby, 1 - young, 2 - middle-age, 3 - old) \n",
    "- a7 - binokulars (0 - without, 1 - transparent, 2 - dark)\n",
    "- a8 - emotional expression (not state!) (0 - sad, 1 - neutral, 2 - happy)"
   ]
  },
  {
   "cell_type": "code",
   "execution_count": 5,
   "metadata": {},
   "outputs": [],
   "source": [
    "def read_file(filename):\n",
    "  \n",
    "  with open(filename, 'r') as file:\n",
    "    lines = file.readlines()\n",
    "    \n",
    "    # Remove newLines\n",
    "    for i, line in enumerate(lines):\n",
    "      lines[i] = line.replace('\\n', '')\n",
    "    \n",
    "    # We assume these are integers\n",
    "    EXAMPLES_NR = int(lines[0])\n",
    "    PIXELS_NR = int(lines[1])\n",
    "    \n",
    "    inputs = list()\n",
    "    labels = np.zeros(EXAMPLES_NR, dtype=int)\n",
    "    \n",
    "    examples_raw = lines[2:EXAMPLES_NR+2]\n",
    "    \n",
    "    for i, example_raw in enumerate(examples_raw):\n",
    "      # Split by spaces (treats multiple as one)\n",
    "      tokens = re.split('\\s+', example_raw)\n",
    "      \n",
    "      pixel_values = np.array(tokens[0:PIXELS_NR])\n",
    "      attributes = tokens[PIXELS_NR:]\n",
    "      \n",
    "      pixel_values = np.array(pixel_values, dtype=float)\n",
    "      pixel_values = pixel_values.reshape([IMAGE_SIZE, IMAGE_SIZE])\n",
    "      \n",
    "      inputs.append(pixel_values)\n",
    "      labels[i] = int(attributes[2])\n",
    "      \n",
    "    inputs = np.array(inputs)\n",
    "  return inputs, labels"
   ]
  },
  {
   "cell_type": "code",
   "execution_count": 6,
   "metadata": {},
   "outputs": [
    {
     "name": "stdout",
     "output_type": "stream",
     "text": [
      "2321 2321\n",
      "2208 2208\n",
      "2306 2306\n"
     ]
    }
   ],
   "source": [
    "# classes 0-15\n",
    "X_0, y_0 = read_file('./data/x24x24.txt')\n",
    "# classes 16-31\n",
    "X_1, y_1 = read_file('./data/y24x24.txt')\n",
    "# # classes 32-48\n",
    "X_2, y_2 = read_file('./data/z24x24.txt')\n",
    "\n",
    "print(len(X_0), len(y_0))\n",
    "print(len(X_1), len(y_1))\n",
    "print(len(X_2), len(y_2))"
   ]
  },
  {
   "cell_type": "code",
   "execution_count": 7,
   "metadata": {},
   "outputs": [
    {
     "name": "stdout",
     "output_type": "stream",
     "text": [
      "6835 6835\n"
     ]
    }
   ],
   "source": [
    "from sklearn.model_selection import train_test_split\n",
    "\n",
    "# Concatenate train and test images\n",
    "X = np.concatenate((X_0, X_1, X_2))\n",
    "y = np.concatenate((y_0, y_1, y_2))\n",
    "print(len(X), len(y))\n",
    "\n",
    "N_TRAIN_EXAMPLES=int(len(X) * 0.8)\n",
    "N_TEST_EXAMPLES=len(X) - N_TRAIN_EXAMPLES\n",
    "\n",
    "\n",
    "X_train, X_test, y_train, y_test = train_test_split(X, y, train_size=N_TRAIN_EXAMPLES, test_size=N_TEST_EXAMPLES, random_state=1)\n",
    "\n",
    "# One-Hot encoding\n",
    "# Getting dummy variables\n",
    "y_train_fixed = np.zeros((y_train.shape[0], CLASSES))\n",
    "# y_valid_fixed = np.zeros((y_valid.shape[0], 10))\n",
    "y_test_fixed = np.zeros((y_test.shape[0], CLASSES))\n",
    "\n",
    "for i, value in enumerate(y_train):\n",
    "  y_train_fixed[i][value] = 1\n",
    "  \n",
    "for i, value in enumerate(y_test):\n",
    "  y_test_fixed[i][value] = 1"
   ]
  },
  {
   "cell_type": "code",
   "execution_count": 8,
   "metadata": {},
   "outputs": [
    {
     "name": "stdout",
     "output_type": "stream",
     "text": [
      "1367\n"
     ]
    }
   ],
   "source": [
    "print(len(X_test))"
   ]
  },
  {
   "cell_type": "markdown",
   "metadata": {},
   "source": [
    "## Building a model"
   ]
  },
  {
   "cell_type": "markdown",
   "metadata": {},
   "source": [
    "I decided to down-scale the alexNet as it was for the long time the SOTA Convolutional Neural Network Architecture\n",
    "\n",
    "Full AlexNet implementation in keras:\n",
    "\n",
    "```py\n",
    "  keras.Input(shape=(227, 227, 3)),\n",
    "  layers.Conv2D(96, kernel_size=11, strides=4, padding='same', activation=\"relu\"),\n",
    "  layers.MaxPooling2D(pool_size=3, strides=2),\n",
    "  layers.Conv2D(256, kernel_size=5, padding='same', activation=\"relu\"),\n",
    "  layers.MaxPooling2D(pool_size=3, strides=2),\n",
    "  layers.Conv2D(384, kernel_size=3, padding='same', activation=\"relu\"),\n",
    "  layers.Conv2D(384, kernel_size=3, padding='same', activation=\"relu\"),\n",
    "  layers.Conv2D(256, kernel_size=3, padding='same', activation=\"relu\"),\n",
    "  layers.MaxPooling2D(pool_size=3, strides=2),\n",
    "  layers.Dropout(0.5),\n",
    "  layers.Dense(4096, activation=\"relu\"),\n",
    "  layers.Dropout(0.5),\n",
    "  layers.Dense(4096, activation=\"relu\"),\n",
    "  layers.Dense(CLASSES, activation=\"softmax\")\n",
    "```"
   ]
  },
  {
   "cell_type": "code",
   "execution_count": 16,
   "metadata": {},
   "outputs": [
    {
     "name": "stdout",
     "output_type": "stream",
     "text": [
      "Model: \"sequential_3\"\n",
      "_________________________________________________________________\n",
      " Layer (type)                Output Shape              Param #   \n",
      "=================================================================\n",
      " conv2d_15 (Conv2D)          (None, 24, 24, 96)        960       \n",
      "                                                                 \n",
      " conv2d_16 (Conv2D)          (None, 12, 12, 192)       295104    \n",
      "                                                                 \n",
      " conv2d_17 (Conv2D)          (None, 12, 12, 256)       442624    \n",
      "                                                                 \n",
      " dropout_9 (Dropout)         (None, 12, 12, 256)       0         \n",
      "                                                                 \n",
      " conv2d_18 (Conv2D)          (None, 6, 6, 256)         590080    \n",
      "                                                                 \n",
      " dropout_10 (Dropout)        (None, 6, 6, 256)         0         \n",
      "                                                                 \n",
      " conv2d_19 (Conv2D)          (None, 6, 6, 192)         442560    \n",
      "                                                                 \n",
      " max_pooling2d_4 (MaxPooling  (None, 3, 3, 192)        0         \n",
      " 2D)                                                             \n",
      "                                                                 \n",
      " flatten_3 (Flatten)         (None, 1728)              0         \n",
      "                                                                 \n",
      " dropout_11 (Dropout)        (None, 1728)              0         \n",
      "                                                                 \n",
      " dense_6 (Dense)             (None, 512)               885248    \n",
      "                                                                 \n",
      " dense_7 (Dense)             (None, 48)                24624     \n",
      "                                                                 \n",
      "=================================================================\n",
      "Total params: 2,681,200\n",
      "Trainable params: 2,681,200\n",
      "Non-trainable params: 0\n",
      "_________________________________________________________________\n"
     ]
    }
   ],
   "source": [
    "from keras import Sequential, Input\n",
    "\n",
    "conv_regularizer = regularizers.l2(l=0.002)\n",
    "dense_regularizer = regularizers.l2(l=0.03)\n",
    "\n",
    "model = keras.Sequential(\n",
    "  [\n",
    "    Input(shape=(IMAGE_SIZE, IMAGE_SIZE, 1)),\n",
    "    layers.Conv2D(96, kernel_size=3, strides=1, padding='same', activation='relu', kernel_regularizer=conv_regularizer),\n",
    "    # layers.LeakyReLU(),\n",
    "    layers.Conv2D(192, kernel_size=4, strides=2, padding='same', activation='relu', kernel_regularizer=conv_regularizer),\n",
    "    \n",
    "    # layers.MaxPooling2D(pool_size=3, strides=2),\n",
    "    \n",
    "    # layers.LeakyReLU(),\n",
    "    layers.Conv2D(256, kernel_size=3, padding='same', activation='relu', kernel_regularizer=conv_regularizer),\n",
    "    # layers.LeakyReLU(),\n",
    "    layers.Dropout(0.3),\n",
    "    layers.Conv2D(256, kernel_size=3, strides=2, padding='same', activation='relu', kernel_regularizer=conv_regularizer),\n",
    "    layers.Dropout(0.4),\n",
    "    # layers.LeakyReLU(),\n",
    "    layers.Conv2D(192, kernel_size=3, strides=1, padding='same', activation='relu', kernel_regularizer=conv_regularizer),\n",
    "    \n",
    "    layers.MaxPooling2D(pool_size=2, strides=2),\n",
    "    \n",
    "    layers.Flatten(),\n",
    "    layers.Dropout(0.5),\n",
    "    # layers.LeakyReLU(),\n",
    "    layers.Dense(512, activation='relu', kernel_regularizer=dense_regularizer),\n",
    "    layers.Dense(CLASSES, activation='softmax'),\n",
    "  ]\n",
    ")\n",
    "\n",
    "model.summary()"
   ]
  },
  {
   "cell_type": "code",
   "execution_count": 17,
   "metadata": {},
   "outputs": [],
   "source": [
    "from keras.optimizers import SGD, Adam\n",
    "from keras.losses import categorical_crossentropy\n",
    "\n",
    "# optimizer = Adam(learning_rate=0.00025)\n",
    "optimizer = Adam(learning_rate=0.001)\n",
    "\n",
    "model.compile(loss=categorical_crossentropy, optimizer=optimizer, metrics=[\"accuracy\"])"
   ]
  },
  {
   "cell_type": "markdown",
   "metadata": {},
   "source": [
    "## Training Preparation"
   ]
  },
  {
   "cell_type": "code",
   "execution_count": 18,
   "metadata": {},
   "outputs": [],
   "source": [
    "CHECKPOINT_PATH = 'models/checkpoints/famous48_test_model_v1_best.keras'"
   ]
  },
  {
   "cell_type": "code",
   "execution_count": 19,
   "metadata": {},
   "outputs": [],
   "source": [
    "model_checkpoint_callback = keras.callbacks.ModelCheckpoint(\n",
    "  filepath=CHECKPOINT_PATH,\n",
    "  save_weights_only=False,\n",
    "  monitor='val_accuracy',\n",
    "  mode='max',\n",
    "  save_best_only=True,\n",
    ")"
   ]
  },
  {
   "cell_type": "code",
   "execution_count": 20,
   "metadata": {},
   "outputs": [
    {
     "name": "stdout",
     "output_type": "stream",
     "text": [
      "Epoch 1/100\n"
     ]
    },
    {
     "name": "stdout",
     "output_type": "stream",
     "text": [
      "22/22 [==============================] - 10s 250ms/step - loss: 18.0273 - accuracy: 0.0274 - val_loss: 9.5022 - val_accuracy: 0.0238\n",
      "Epoch 2/100\n",
      "22/22 [==============================] - 2s 83ms/step - loss: 6.5097 - accuracy: 0.0313 - val_loss: 4.6403 - val_accuracy: 0.0402\n",
      "Epoch 3/100\n",
      "22/22 [==============================] - 2s 74ms/step - loss: 4.1893 - accuracy: 0.0336 - val_loss: 3.9747 - val_accuracy: 0.0256\n",
      "Epoch 4/100\n",
      "22/22 [==============================] - 2s 81ms/step - loss: 3.8763 - accuracy: 0.0448 - val_loss: 3.7988 - val_accuracy: 0.0558\n",
      "Epoch 5/100\n",
      "22/22 [==============================] - 2s 82ms/step - loss: 3.7150 - accuracy: 0.0869 - val_loss: 3.6903 - val_accuracy: 0.1307\n",
      "Epoch 6/100\n",
      "22/22 [==============================] - 2s 81ms/step - loss: 3.5929 - accuracy: 0.1276 - val_loss: 3.5072 - val_accuracy: 0.1545\n",
      "Epoch 7/100\n",
      "22/22 [==============================] - 2s 81ms/step - loss: 3.3979 - accuracy: 0.1872 - val_loss: 3.3479 - val_accuracy: 0.1892\n",
      "Epoch 8/100\n",
      "22/22 [==============================] - 2s 86ms/step - loss: 3.2791 - accuracy: 0.2167 - val_loss: 3.2346 - val_accuracy: 0.2441\n",
      "Epoch 9/100\n",
      "22/22 [==============================] - 2s 80ms/step - loss: 3.1198 - accuracy: 0.2625 - val_loss: 3.0421 - val_accuracy: 0.3199\n",
      "Epoch 10/100\n",
      "22/22 [==============================] - 2s 81ms/step - loss: 2.9178 - accuracy: 0.3340 - val_loss: 2.7311 - val_accuracy: 0.4196\n",
      "Epoch 11/100\n",
      "22/22 [==============================] - 2s 82ms/step - loss: 2.7787 - accuracy: 0.3939 - val_loss: 2.6820 - val_accuracy: 0.4205\n",
      "Epoch 12/100\n",
      "22/22 [==============================] - 2s 80ms/step - loss: 2.6978 - accuracy: 0.4163 - val_loss: 2.5167 - val_accuracy: 0.4909\n",
      "Epoch 13/100\n",
      "22/22 [==============================] - 2s 83ms/step - loss: 2.5475 - accuracy: 0.4655 - val_loss: 2.3982 - val_accuracy: 0.5274\n",
      "Epoch 14/100\n",
      "22/22 [==============================] - 2s 81ms/step - loss: 2.5120 - accuracy: 0.4831 - val_loss: 2.2992 - val_accuracy: 0.5585\n",
      "Epoch 15/100\n",
      "22/22 [==============================] - 2s 80ms/step - loss: 2.3701 - accuracy: 0.5197 - val_loss: 2.3146 - val_accuracy: 0.5530\n",
      "Epoch 16/100\n",
      "22/22 [==============================] - 2s 80ms/step - loss: 2.2876 - accuracy: 0.5402 - val_loss: 2.2115 - val_accuracy: 0.5603\n",
      "Epoch 17/100\n",
      "22/22 [==============================] - 2s 80ms/step - loss: 2.2356 - accuracy: 0.5629 - val_loss: 2.2597 - val_accuracy: 0.5640\n",
      "Epoch 18/100\n",
      "22/22 [==============================] - 2s 80ms/step - loss: 2.1726 - accuracy: 0.5882 - val_loss: 2.0673 - val_accuracy: 0.6435\n",
      "Epoch 19/100\n",
      "22/22 [==============================] - 2s 74ms/step - loss: 2.1290 - accuracy: 0.5988 - val_loss: 2.2031 - val_accuracy: 0.5814\n",
      "Epoch 20/100\n",
      "22/22 [==============================] - 2s 80ms/step - loss: 2.1448 - accuracy: 0.5896 - val_loss: 2.0095 - val_accuracy: 0.6618\n",
      "Epoch 21/100\n",
      "22/22 [==============================] - 2s 79ms/step - loss: 2.0718 - accuracy: 0.6212 - val_loss: 1.9656 - val_accuracy: 0.6600\n",
      "Epoch 22/100\n",
      "22/22 [==============================] - 2s 80ms/step - loss: 1.9999 - accuracy: 0.6369 - val_loss: 1.9752 - val_accuracy: 0.6737\n",
      "Epoch 23/100\n",
      "22/22 [==============================] - 2s 73ms/step - loss: 2.0250 - accuracy: 0.6424 - val_loss: 2.0250 - val_accuracy: 0.6609\n",
      "Epoch 24/100\n",
      "22/22 [==============================] - 2s 81ms/step - loss: 1.9730 - accuracy: 0.6616 - val_loss: 1.9302 - val_accuracy: 0.6910\n",
      "Epoch 25/100\n",
      "22/22 [==============================] - 2s 76ms/step - loss: 1.9418 - accuracy: 0.6747 - val_loss: 1.9868 - val_accuracy: 0.6746\n",
      "Epoch 26/100\n",
      "22/22 [==============================] - 2s 81ms/step - loss: 1.8845 - accuracy: 0.6893 - val_loss: 1.9094 - val_accuracy: 0.6929\n",
      "Epoch 27/100\n",
      "22/22 [==============================] - 2s 74ms/step - loss: 1.8535 - accuracy: 0.6955 - val_loss: 1.9502 - val_accuracy: 0.6773\n",
      "Epoch 28/100\n",
      "22/22 [==============================] - 2s 75ms/step - loss: 1.8618 - accuracy: 0.6941 - val_loss: 1.9160 - val_accuracy: 0.6901\n",
      "Epoch 29/100\n",
      "22/22 [==============================] - 2s 74ms/step - loss: 1.8372 - accuracy: 0.7028 - val_loss: 1.9292 - val_accuracy: 0.6865\n",
      "Epoch 30/100\n",
      "22/22 [==============================] - 2s 81ms/step - loss: 1.8443 - accuracy: 0.7051 - val_loss: 1.8337 - val_accuracy: 0.7276\n",
      "Epoch 31/100\n",
      "22/22 [==============================] - 2s 74ms/step - loss: 1.8212 - accuracy: 0.7101 - val_loss: 1.8694 - val_accuracy: 0.7066\n",
      "Epoch 32/100\n",
      "22/22 [==============================] - 2s 74ms/step - loss: 1.7739 - accuracy: 0.7222 - val_loss: 1.9121 - val_accuracy: 0.6956\n",
      "Epoch 33/100\n",
      "22/22 [==============================] - 2s 74ms/step - loss: 1.7625 - accuracy: 0.7309 - val_loss: 1.8864 - val_accuracy: 0.7075\n",
      "Epoch 34/100\n",
      "22/22 [==============================] - 2s 74ms/step - loss: 1.7277 - accuracy: 0.7378 - val_loss: 1.8660 - val_accuracy: 0.7112\n",
      "Epoch 35/100\n",
      "22/22 [==============================] - 2s 80ms/step - loss: 1.7342 - accuracy: 0.7355 - val_loss: 1.9657 - val_accuracy: 0.6746\n",
      "Epoch 36/100\n",
      "22/22 [==============================] - 2s 81ms/step - loss: 1.7510 - accuracy: 0.7396 - val_loss: 1.8458 - val_accuracy: 0.7322\n",
      "Epoch 37/100\n",
      "22/22 [==============================] - 2s 82ms/step - loss: 1.6725 - accuracy: 0.7684 - val_loss: 1.8659 - val_accuracy: 0.7185\n",
      "Epoch 38/100\n",
      "22/22 [==============================] - 2s 74ms/step - loss: 1.7461 - accuracy: 0.7469 - val_loss: 1.7978 - val_accuracy: 0.7322\n",
      "Epoch 39/100\n",
      "22/22 [==============================] - 2s 75ms/step - loss: 1.6618 - accuracy: 0.7654 - val_loss: 1.8246 - val_accuracy: 0.7230\n",
      "Epoch 40/100\n",
      "22/22 [==============================] - 2s 74ms/step - loss: 1.6633 - accuracy: 0.7563 - val_loss: 1.7888 - val_accuracy: 0.7303\n",
      "Epoch 41/100\n",
      "22/22 [==============================] - 2s 75ms/step - loss: 1.6585 - accuracy: 0.7613 - val_loss: 1.8344 - val_accuracy: 0.7102\n",
      "Epoch 42/100\n",
      "22/22 [==============================] - 2s 82ms/step - loss: 1.6281 - accuracy: 0.7734 - val_loss: 1.7916 - val_accuracy: 0.7303\n",
      "Epoch 43/100\n",
      "22/22 [==============================] - 2s 75ms/step - loss: 1.5824 - accuracy: 0.7862 - val_loss: 1.8176 - val_accuracy: 0.7230\n",
      "Epoch 44/100\n",
      "22/22 [==============================] - 2s 76ms/step - loss: 1.6267 - accuracy: 0.7748 - val_loss: 1.8501 - val_accuracy: 0.7121\n",
      "Epoch 45/100\n",
      "22/22 [==============================] - 2s 74ms/step - loss: 1.6709 - accuracy: 0.7622 - val_loss: 1.8008 - val_accuracy: 0.7276\n",
      "Epoch 46/100\n",
      "22/22 [==============================] - 2s 81ms/step - loss: 1.6057 - accuracy: 0.7798 - val_loss: 1.7980 - val_accuracy: 0.7367\n",
      "Epoch 47/100\n",
      "22/22 [==============================] - 2s 74ms/step - loss: 1.6073 - accuracy: 0.7915 - val_loss: 1.8127 - val_accuracy: 0.7239\n",
      "Epoch 48/100\n",
      "22/22 [==============================] - 2s 81ms/step - loss: 1.5753 - accuracy: 0.7890 - val_loss: 1.7628 - val_accuracy: 0.7386\n",
      "Epoch 49/100\n",
      "22/22 [==============================] - 2s 82ms/step - loss: 1.5993 - accuracy: 0.7805 - val_loss: 1.7544 - val_accuracy: 0.7468\n",
      "Epoch 50/100\n",
      "22/22 [==============================] - 2s 77ms/step - loss: 1.5611 - accuracy: 0.7894 - val_loss: 1.7870 - val_accuracy: 0.7367\n",
      "Epoch 51/100\n",
      "22/22 [==============================] - 2s 73ms/step - loss: 1.5460 - accuracy: 0.8004 - val_loss: 1.7934 - val_accuracy: 0.7203\n",
      "Epoch 52/100\n",
      "22/22 [==============================] - 2s 74ms/step - loss: 1.5799 - accuracy: 0.7858 - val_loss: 1.7984 - val_accuracy: 0.7340\n",
      "Epoch 53/100\n",
      "22/22 [==============================] - 2s 87ms/step - loss: 1.5195 - accuracy: 0.8144 - val_loss: 1.7446 - val_accuracy: 0.7495\n",
      "Epoch 54/100\n",
      "22/22 [==============================] - 2s 74ms/step - loss: 1.5106 - accuracy: 0.8091 - val_loss: 1.7826 - val_accuracy: 0.7459\n",
      "Epoch 55/100\n",
      "22/22 [==============================] - 2s 74ms/step - loss: 1.5357 - accuracy: 0.7993 - val_loss: 1.7487 - val_accuracy: 0.7441\n",
      "Epoch 56/100\n",
      "22/22 [==============================] - 2s 79ms/step - loss: 1.5374 - accuracy: 0.8025 - val_loss: 1.7755 - val_accuracy: 0.7523\n",
      "Epoch 57/100\n",
      "22/22 [==============================] - 2s 83ms/step - loss: 1.4917 - accuracy: 0.8212 - val_loss: 1.7644 - val_accuracy: 0.7697\n",
      "Epoch 58/100\n",
      "22/22 [==============================] - 2s 83ms/step - loss: 1.4713 - accuracy: 0.8235 - val_loss: 1.7290 - val_accuracy: 0.7578\n",
      "Epoch 59/100\n",
      "22/22 [==============================] - 2s 74ms/step - loss: 1.4874 - accuracy: 0.8192 - val_loss: 1.7012 - val_accuracy: 0.7614\n",
      "Epoch 60/100\n",
      "22/22 [==============================] - 2s 81ms/step - loss: 1.4724 - accuracy: 0.8242 - val_loss: 1.6875 - val_accuracy: 0.7715\n",
      "Epoch 61/100\n",
      "22/22 [==============================] - 2s 95ms/step - loss: 1.5018 - accuracy: 0.8157 - val_loss: 1.7393 - val_accuracy: 0.7559\n",
      "Epoch 62/100\n",
      "22/22 [==============================] - 2s 85ms/step - loss: 1.4726 - accuracy: 0.8150 - val_loss: 1.6932 - val_accuracy: 0.7742\n",
      "Epoch 63/100\n",
      "22/22 [==============================] - 2s 83ms/step - loss: 1.4514 - accuracy: 0.8276 - val_loss: 1.7254 - val_accuracy: 0.7733\n",
      "Epoch 64/100\n",
      "22/22 [==============================] - 2s 81ms/step - loss: 1.4692 - accuracy: 0.8276 - val_loss: 1.6790 - val_accuracy: 0.7788\n",
      "Epoch 65/100\n",
      "22/22 [==============================] - 2s 77ms/step - loss: 1.4302 - accuracy: 0.8315 - val_loss: 1.7221 - val_accuracy: 0.7605\n",
      "Epoch 66/100\n",
      "22/22 [==============================] - 2s 75ms/step - loss: 1.4389 - accuracy: 0.8356 - val_loss: 1.7164 - val_accuracy: 0.7642\n",
      "Epoch 67/100\n",
      "22/22 [==============================] - 2s 74ms/step - loss: 1.4296 - accuracy: 0.8361 - val_loss: 1.7019 - val_accuracy: 0.7569\n",
      "Epoch 68/100\n",
      "22/22 [==============================] - 2s 76ms/step - loss: 1.4428 - accuracy: 0.8258 - val_loss: 1.7132 - val_accuracy: 0.7505\n",
      "Epoch 69/100\n",
      "22/22 [==============================] - 2s 76ms/step - loss: 1.4635 - accuracy: 0.8171 - val_loss: 1.6714 - val_accuracy: 0.7687\n",
      "Epoch 70/100\n",
      "22/22 [==============================] - 2s 76ms/step - loss: 1.4720 - accuracy: 0.8235 - val_loss: 1.7076 - val_accuracy: 0.7642\n",
      "Epoch 71/100\n",
      "22/22 [==============================] - 2s 74ms/step - loss: 1.4602 - accuracy: 0.8267 - val_loss: 1.6799 - val_accuracy: 0.7751\n",
      "Epoch 72/100\n",
      "22/22 [==============================] - 2s 82ms/step - loss: 1.4422 - accuracy: 0.8326 - val_loss: 1.7719 - val_accuracy: 0.7431\n",
      "Epoch 73/100\n",
      "22/22 [==============================] - 2s 74ms/step - loss: 1.4534 - accuracy: 0.8297 - val_loss: 1.7014 - val_accuracy: 0.7660\n",
      "Epoch 74/100\n",
      "22/22 [==============================] - 2s 74ms/step - loss: 1.4209 - accuracy: 0.8338 - val_loss: 1.6711 - val_accuracy: 0.7733\n",
      "Epoch 75/100\n",
      "22/22 [==============================] - 2s 74ms/step - loss: 1.4277 - accuracy: 0.8354 - val_loss: 1.6443 - val_accuracy: 0.7742\n",
      "Epoch 76/100\n",
      "22/22 [==============================] - 2s 74ms/step - loss: 1.4169 - accuracy: 0.8308 - val_loss: 1.6604 - val_accuracy: 0.7733\n",
      "Epoch 77/100\n",
      "22/22 [==============================] - 2s 74ms/step - loss: 1.4229 - accuracy: 0.8402 - val_loss: 1.7088 - val_accuracy: 0.7623\n",
      "Epoch 78/100\n",
      "22/22 [==============================] - 2s 75ms/step - loss: 1.4254 - accuracy: 0.8336 - val_loss: 1.6784 - val_accuracy: 0.7751\n",
      "Epoch 79/100\n",
      "22/22 [==============================] - 2s 75ms/step - loss: 1.3810 - accuracy: 0.8496 - val_loss: 1.6548 - val_accuracy: 0.7742\n",
      "Epoch 80/100\n",
      "22/22 [==============================] - 2s 83ms/step - loss: 1.4062 - accuracy: 0.8402 - val_loss: 1.6522 - val_accuracy: 0.7843\n",
      "Epoch 81/100\n",
      "22/22 [==============================] - 2s 74ms/step - loss: 1.3831 - accuracy: 0.8432 - val_loss: 1.6816 - val_accuracy: 0.7687\n",
      "Epoch 82/100\n",
      "22/22 [==============================] - 2s 75ms/step - loss: 1.3696 - accuracy: 0.8503 - val_loss: 1.6132 - val_accuracy: 0.7788\n",
      "Epoch 83/100\n",
      "22/22 [==============================] - 2s 74ms/step - loss: 1.3717 - accuracy: 0.8434 - val_loss: 1.6611 - val_accuracy: 0.7715\n",
      "Epoch 84/100\n",
      "22/22 [==============================] - 2s 74ms/step - loss: 1.3960 - accuracy: 0.8365 - val_loss: 1.6694 - val_accuracy: 0.7633\n",
      "Epoch 85/100\n",
      "22/22 [==============================] - 2s 74ms/step - loss: 1.3816 - accuracy: 0.8386 - val_loss: 1.6284 - val_accuracy: 0.7834\n",
      "Epoch 86/100\n",
      "22/22 [==============================] - 2s 74ms/step - loss: 1.3877 - accuracy: 0.8461 - val_loss: 1.6450 - val_accuracy: 0.7715\n",
      "Epoch 87/100\n",
      "22/22 [==============================] - 2s 74ms/step - loss: 1.3877 - accuracy: 0.8455 - val_loss: 1.6888 - val_accuracy: 0.7614\n",
      "Epoch 88/100\n",
      "22/22 [==============================] - 2s 73ms/step - loss: 1.3736 - accuracy: 0.8498 - val_loss: 1.6555 - val_accuracy: 0.7633\n",
      "Epoch 89/100\n",
      "22/22 [==============================] - 2s 74ms/step - loss: 1.3597 - accuracy: 0.8519 - val_loss: 1.6614 - val_accuracy: 0.7660\n",
      "Epoch 90/100\n",
      "22/22 [==============================] - 2s 74ms/step - loss: 1.3665 - accuracy: 0.8466 - val_loss: 1.6925 - val_accuracy: 0.7751\n",
      "Epoch 91/100\n",
      "22/22 [==============================] - 2s 73ms/step - loss: 1.3999 - accuracy: 0.8452 - val_loss: 1.6816 - val_accuracy: 0.7651\n",
      "Epoch 92/100\n",
      "22/22 [==============================] - 2s 80ms/step - loss: 1.3819 - accuracy: 0.8477 - val_loss: 1.6369 - val_accuracy: 0.7824\n",
      "Epoch 93/100\n",
      "22/22 [==============================] - 2s 74ms/step - loss: 1.3422 - accuracy: 0.8537 - val_loss: 1.6401 - val_accuracy: 0.7788\n",
      "Epoch 94/100\n",
      "22/22 [==============================] - 2s 73ms/step - loss: 1.3410 - accuracy: 0.8555 - val_loss: 1.6312 - val_accuracy: 0.7824\n",
      "Epoch 95/100\n",
      "22/22 [==============================] - 2s 74ms/step - loss: 1.3638 - accuracy: 0.8505 - val_loss: 1.6784 - val_accuracy: 0.7687\n",
      "Epoch 96/100\n",
      "22/22 [==============================] - 2s 73ms/step - loss: 1.4007 - accuracy: 0.8381 - val_loss: 1.7110 - val_accuracy: 0.7596\n",
      "Epoch 97/100\n",
      "22/22 [==============================] - 2s 74ms/step - loss: 1.3508 - accuracy: 0.8592 - val_loss: 1.6356 - val_accuracy: 0.7815\n",
      "Epoch 98/100\n",
      "22/22 [==============================] - 2s 74ms/step - loss: 1.3700 - accuracy: 0.8516 - val_loss: 1.6440 - val_accuracy: 0.7742\n",
      "Epoch 99/100\n",
      "22/22 [==============================] - 2s 73ms/step - loss: 1.3526 - accuracy: 0.8530 - val_loss: 1.6269 - val_accuracy: 0.7824\n",
      "Epoch 100/100\n",
      "22/22 [==============================] - 2s 73ms/step - loss: 1.3152 - accuracy: 0.8649 - val_loss: 1.6311 - val_accuracy: 0.7797\n",
      "CPU times: total: 3min 44s\n",
      "Wall time: 2min 57s\n"
     ]
    }
   ],
   "source": [
    "%%time\n",
    "batch_size = 200\n",
    "epochs = 100\n",
    "\n",
    "history = model.fit(\n",
    "  X_train, y_train_fixed,\n",
    "  batch_size=batch_size,\n",
    "  epochs=epochs,\n",
    "  validation_split=0.2,\n",
    "  shuffle=True,\n",
    "  callbacks=[model_checkpoint_callback]\n",
    ")"
   ]
  },
  {
   "cell_type": "code",
   "execution_count": 21,
   "metadata": {},
   "outputs": [
    {
     "name": "stdout",
     "output_type": "stream",
     "text": [
      "43/43 [==============================] - 1s 13ms/step - loss: 1.7485 - accuracy: 0.7579\n"
     ]
    },
    {
     "data": {
      "text/plain": [
       "[1.7485460042953491, 0.7578639388084412]"
      ]
     },
     "execution_count": 21,
     "metadata": {},
     "output_type": "execute_result"
    }
   ],
   "source": [
    "model.evaluate(X_test, y_test_fixed)"
   ]
  },
  {
   "cell_type": "code",
   "execution_count": 22,
   "metadata": {},
   "outputs": [
    {
     "data": {
      "image/png": "[encoded data removed]",
      "text/plain": [
       "<Figure size 640x480 with 1 Axes>"
      ]
     },
     "metadata": {},
     "output_type": "display_data"
    }
   ],
   "source": [
    "from matplotlib import pyplot as plt\n",
    "\n",
    "plt.plot(history.history['accuracy'])\n",
    "plt.plot(history.history['val_accuracy'])\n",
    "plt.title('model accuracy')\n",
    "plt.ylabel('accuracy')\n",
    "plt.xlabel('epoch')\n",
    "plt.legend(['train', 'val'], loc='upper left')\n",
    "plt.show()"
   ]
  }
 ],
 "metadata": {
  "kernelspec": {
   "display_name": "env_torch",
   "language": "python",
   "name": "python3"
  },
  "language_info": {
   "codemirror_mode": {
    "name": "ipython",
    "version": 3
   },
   "file_extension": ".py",
   "mimetype": "text/x-python",
   "name": "python",
   "nbconvert_exporter": "python",
   "pygments_lexer": "ipython3",
   "version": "3.10.13"
  }
 },
 "nbformat": 4,
 "nbformat_minor": 2
}
