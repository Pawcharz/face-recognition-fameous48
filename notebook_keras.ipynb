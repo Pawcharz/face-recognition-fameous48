{
 "cells": [
  {
   "cell_type": "code",
   "execution_count": 1,
   "metadata": {},
   "outputs": [],
   "source": [
    "import numpy as np\n",
    "import tensorflow as tf\n",
    "from tensorflow import keras\n",
    "\n",
    "from keras import layers\n",
    "from keras import regularizers\n",
    "\n",
    "import re"
   ]
  },
  {
   "cell_type": "code",
   "execution_count": 2,
   "metadata": {},
   "outputs": [],
   "source": [
    "from keras import backend as K\n",
    "K.clear_session()"
   ]
  },
  {
   "cell_type": "code",
   "execution_count": 3,
   "metadata": {},
   "outputs": [
    {
     "name": "stdout",
     "output_type": "stream",
     "text": [
      "[PhysicalDevice(name='/physical_device:CPU:0', device_type='CPU'), PhysicalDevice(name='/physical_device:GPU:0', device_type='GPU')]\n"
     ]
    }
   ],
   "source": [
    "physical_devices = tf.config.list_physical_devices()\n",
    "CLASSES = 48\n",
    "IMAGE_SIZE = 24\n",
    "\n",
    "print(physical_devices)"
   ]
  },
  {
   "cell_type": "code",
   "execution_count": 4,
   "metadata": {},
   "outputs": [],
   "source": [
    "tf.config.set_visible_devices(physical_devices[1], 'GPU')"
   ]
  },
  {
   "cell_type": "markdown",
   "metadata": {},
   "source": [
    "## Building Dataset"
   ]
  },
  {
   "cell_type": "markdown",
   "metadata": {},
   "source": [
    "### Attributes description\n",
    "\n",
    "- a1 - face containing flag: (1-with face, 0-without face),\n",
    "- a2 - image number in current class (person) beginning from 0,\n",
    "- a3 - class (person) number beginning from 0,\n",
    "- a4 - sex (0 - woman, 1 - man)\n",
    "- a5 - race (0- white, 1 - negro, 2 - indian, ...)\n",
    "- a6 - age (0 - baby, 1 - young, 2 - middle-age, 3 - old) \n",
    "- a7 - binokulars (0 - without, 1 - transparent, 2 - dark)\n",
    "- a8 - emotional expression (not state!) (0 - sad, 1 - neutral, 2 - happy)"
   ]
  },
  {
   "cell_type": "code",
   "execution_count": 5,
   "metadata": {},
   "outputs": [],
   "source": [
    "def read_file(filename):\n",
    "  \n",
    "  with open(filename, 'r') as file:\n",
    "    lines = file.readlines()\n",
    "    \n",
    "    # Remove newLines\n",
    "    for i, line in enumerate(lines):\n",
    "      lines[i] = line.replace('\\n', '')\n",
    "    \n",
    "    # We assume these are integers\n",
    "    EXAMPLES_NR = int(lines[0])\n",
    "    PIXELS_NR = int(lines[1])\n",
    "    \n",
    "    # inputs = np.zeros(EXAMPLES_NR)\n",
    "    inputs = list()\n",
    "    labels = np.zeros(EXAMPLES_NR, dtype=int)\n",
    "    \n",
    "    examples_raw = lines[2:EXAMPLES_NR+2]\n",
    "    \n",
    "    for i, example_raw in enumerate(examples_raw):\n",
    "      # Split by spaces (treats multiple as one)\n",
    "      tokens = re.split('\\s+', example_raw)\n",
    "      \n",
    "      pixel_values = np.array(tokens[0:PIXELS_NR])\n",
    "      attributes = tokens[PIXELS_NR:]\n",
    "      \n",
    "      pixel_values = np.array(pixel_values, dtype=float)\n",
    "      pixel_values = pixel_values.reshape([IMAGE_SIZE, IMAGE_SIZE])\n",
    "      \n",
    "      inputs.append(pixel_values)\n",
    "      labels[i] = int(attributes[2])\n",
    "      \n",
    "    inputs = np.array(inputs)\n",
    "  return inputs, labels"
   ]
  },
  {
   "cell_type": "code",
   "execution_count": 6,
   "metadata": {},
   "outputs": [
    {
     "name": "stdout",
     "output_type": "stream",
     "text": [
      "2321 2321\n",
      "2208 2208\n",
      "2306 2306\n"
     ]
    }
   ],
   "source": [
    "# classes 0-15\n",
    "X_0, y_0 = read_file('./data/x24x24.txt')\n",
    "# classes 16-31\n",
    "X_1, y_1 = read_file('./data/y24x24.txt')\n",
    "# # classes 32-48\n",
    "X_2, y_2 = read_file('./data/z24x24.txt')\n",
    "\n",
    "print(len(X_0), len(y_0))\n",
    "print(len(X_1), len(y_1))\n",
    "print(len(X_2), len(y_2))"
   ]
  },
  {
   "cell_type": "code",
   "execution_count": 7,
   "metadata": {},
   "outputs": [
    {
     "name": "stdout",
     "output_type": "stream",
     "text": [
      "6835 6835\n"
     ]
    }
   ],
   "source": [
    "from sklearn.model_selection import train_test_split\n",
    "\n",
    "# Concatenate train and test images\n",
    "X = np.concatenate((X_0, X_1, X_2))\n",
    "y = np.concatenate((y_0, y_1, y_2))\n",
    "print(len(X), len(y))\n",
    "\n",
    "N_TRAIN_EXAMPLES=int(len(X) * 0.8)\n",
    "N_TEST_EXAMPLES=len(X) - N_TRAIN_EXAMPLES\n",
    "\n",
    "\n",
    "X_train, X_test, y_train, y_test = train_test_split(X, y, train_size=N_TRAIN_EXAMPLES, test_size=N_TEST_EXAMPLES, random_state=1)\n",
    "\n",
    "# Getting dummy variables\n",
    "y_train_fixed = np.zeros((y_train.shape[0], CLASSES))\n",
    "# y_valid_fixed = np.zeros((y_valid.shape[0], 10))\n",
    "y_test_fixed = np.zeros((y_test.shape[0], CLASSES))\n",
    "\n",
    "for i, value in enumerate(y_train):\n",
    "  y_train_fixed[i][value] = 1\n",
    "  \n",
    "for i, value in enumerate(y_test):\n",
    "  y_test_fixed[i][value] = 1"
   ]
  },
  {
   "cell_type": "code",
   "execution_count": 8,
   "metadata": {},
   "outputs": [
    {
     "name": "stdout",
     "output_type": "stream",
     "text": [
      "1367\n"
     ]
    }
   ],
   "source": [
    "print(len(X_test))"
   ]
  },
  {
   "cell_type": "markdown",
   "metadata": {},
   "source": [
    "## Building a model"
   ]
  },
  {
   "cell_type": "markdown",
   "metadata": {},
   "source": [
    "AlexNet implementation in keras:\n",
    "\n",
    "```py\n",
    "  keras.Input(shape=(227, 227, 3)),\n",
    "  layers.Conv2D(96, kernel_size=11, strides=4, padding='same', activation=\"relu\"),\n",
    "  layers.MaxPooling2D(pool_size=3, strides=2),\n",
    "  layers.Conv2D(256, kernel_size=5, padding='same', activation=\"relu\"),\n",
    "  layers.MaxPooling2D(pool_size=3, strides=2),\n",
    "  layers.Conv2D(384, kernel_size=3, padding='same', activation=\"relu\"),\n",
    "  layers.Conv2D(384, kernel_size=3, padding='same', activation=\"relu\"),\n",
    "  layers.Conv2D(256, kernel_size=3, padding='same', activation=\"relu\"),\n",
    "  layers.MaxPooling2D(pool_size=3, strides=2),\n",
    "  layers.Dropout(0.5),\n",
    "  layers.Dense(4096, activation=\"relu\"),\n",
    "  layers.Dropout(0.5),\n",
    "  layers.Dense(4096, activation=\"relu\"),\n",
    "  layers.Dense(CLASSES, activation=\"softmax\")\n",
    "```"
   ]
  },
  {
   "cell_type": "code",
   "execution_count": 21,
   "metadata": {},
   "outputs": [
    {
     "name": "stdout",
     "output_type": "stream",
     "text": [
      "Model: \"sequential_4\"\n",
      "_________________________________________________________________\n",
      " Layer (type)                Output Shape              Param #   \n",
      "=================================================================\n",
      " conv2d_20 (Conv2D)          (None, 24, 24, 80)        800       \n",
      "                                                                 \n",
      " max_pooling2d_12 (MaxPoolin  (None, 23, 23, 80)       0         \n",
      " g2D)                                                            \n",
      "                                                                 \n",
      " conv2d_21 (Conv2D)          (None, 23, 23, 112)       224112    \n",
      "                                                                 \n",
      " max_pooling2d_13 (MaxPoolin  (None, 11, 11, 112)      0         \n",
      " g2D)                                                            \n",
      "                                                                 \n",
      " conv2d_22 (Conv2D)          (None, 11, 11, 160)       161440    \n",
      "                                                                 \n",
      " conv2d_23 (Conv2D)          (None, 11, 11, 160)       230560    \n",
      "                                                                 \n",
      " conv2d_24 (Conv2D)          (None, 11, 11, 112)       161392    \n",
      "                                                                 \n",
      " max_pooling2d_14 (MaxPoolin  (None, 5, 5, 112)        0         \n",
      " g2D)                                                            \n",
      "                                                                 \n",
      " flatten_4 (Flatten)         (None, 2800)              0         \n",
      "                                                                 \n",
      " dense_12 (Dense)            (None, 768)               2151168   \n",
      "                                                                 \n",
      " dense_13 (Dense)            (None, 768)               590592    \n",
      "                                                                 \n",
      " dense_14 (Dense)            (None, 48)                36912     \n",
      "                                                                 \n",
      "=================================================================\n",
      "Total params: 3,556,976\n",
      "Trainable params: 3,556,976\n",
      "Non-trainable params: 0\n",
      "_________________________________________________________________\n"
     ]
    }
   ],
   "source": [
    "conv_regularizer = regularizers.l2(l=0.01)\n",
    "dense_regularizer = regularizers.l2(l=0.01)\n",
    "\n",
    "# model = keras.Sequential(\n",
    "#   [\n",
    "#     keras.Input(shape=(IMAGE_SIZE, IMAGE_SIZE, 1)),\n",
    "#     layers.Conv2D(80, kernel_size=3, strides=1, padding='same', activation=\"relu\", kernel_regularizer=conv_regularizer),\n",
    "#     layers.MaxPooling2D(pool_size=2, strides=1),\n",
    "#     layers.Conv2D(112, kernel_size=5, padding='same', activation=\"relu\", kernel_regularizer=conv_regularizer),\n",
    "#     layers.MaxPooling2D(pool_size=3, strides=2),\n",
    "#     layers.Conv2D(160, kernel_size=3, padding='same', activation=\"relu\", kernel_regularizer=conv_regularizer),\n",
    "#     layers.Conv2D(160, kernel_size=3, padding='same', activation=\"relu\", kernel_regularizer=conv_regularizer),\n",
    "#     layers.Conv2D(112, kernel_size=3, padding='same', activation=\"relu\", kernel_regularizer=conv_regularizer),\n",
    "#     layers.MaxPooling2D(pool_size=3, strides=2),\n",
    "#     layers.Flatten(),\n",
    "#     # layers.Dropout(0.4),\n",
    "#     layers.Dense(768, activation=\"relu\", kernel_regularizer=dense_regularizer),\n",
    "#     # layers.Dropout(0.4),\n",
    "#     layers.Dense(768, activation=\"relu\", kernel_regularizer=dense_regularizer),\n",
    "#     layers.Dense(CLASSES, activation=\"softmax\"),\n",
    "    \n",
    "#   ]\n",
    "# )\n",
    "\n",
    "model = keras.Sequential(\n",
    "  [\n",
    "    keras.Input(shape=(IMAGE_SIZE, IMAGE_SIZE, 1)),\n",
    "    layers.Conv2D(80, kernel_size=3, strides=1, padding='same', activation=\"relu\"),\n",
    "    layers.MaxPooling2D(pool_size=2, strides=1),\n",
    "    layers.Conv2D(112, kernel_size=5, padding='same', activation=\"relu\"),\n",
    "    layers.MaxPooling2D(pool_size=3, strides=2),\n",
    "    layers.Conv2D(160, kernel_size=3, padding='same', activation=\"relu\"),\n",
    "    layers.Conv2D(160, kernel_size=3, padding='same', activation=\"relu\"),\n",
    "    layers.Conv2D(112, kernel_size=3, padding='same', activation=\"relu\"),\n",
    "    layers.MaxPooling2D(pool_size=3, strides=2),\n",
    "    layers.Flatten(),\n",
    "    # layers.Dropout(0.4),\n",
    "    layers.Dense(768, activation=\"relu\"),\n",
    "    # layers.Dropout(0.4),\n",
    "    layers.Dense(768, activation=\"relu\"),\n",
    "    layers.Dense(CLASSES, activation=\"softmax\"),\n",
    "    \n",
    "  ]\n",
    ")\n",
    "\n",
    "model.summary()"
   ]
  },
  {
   "cell_type": "code",
   "execution_count": 22,
   "metadata": {},
   "outputs": [],
   "source": [
    "model.compile(loss=\"categorical_crossentropy\", optimizer=\"adam\", metrics=[\"accuracy\"])"
   ]
  },
  {
   "cell_type": "markdown",
   "metadata": {},
   "source": [
    "## Training Preparation"
   ]
  },
  {
   "cell_type": "code",
   "execution_count": 23,
   "metadata": {},
   "outputs": [],
   "source": [
    "CHECKPOINT_PATH = 'models/checkpoints/famous48_test_model_v1_best.keras'"
   ]
  },
  {
   "cell_type": "code",
   "execution_count": 24,
   "metadata": {},
   "outputs": [],
   "source": [
    "model_checkpoint_callback = keras.callbacks.ModelCheckpoint(\n",
    "  filepath=CHECKPOINT_PATH,\n",
    "  save_weights_only=False,\n",
    "  monitor='val_accuracy',\n",
    "  mode='max',\n",
    "  save_best_only=True,  \n",
    ")"
   ]
  },
  {
   "cell_type": "code",
   "execution_count": 25,
   "metadata": {},
   "outputs": [
    {
     "name": "stdout",
     "output_type": "stream",
     "text": [
      "Epoch 1/250\n"
     ]
    },
    {
     "name": "stdout",
     "output_type": "stream",
     "text": [
      "44/44 [==============================] - 2s 32ms/step - loss: 3.8234 - accuracy: 0.0313 - val_loss: 3.7135 - val_accuracy: 0.0530\n",
      "Epoch 2/250\n",
      "44/44 [==============================] - 1s 28ms/step - loss: 3.3728 - accuracy: 0.1072 - val_loss: 3.0271 - val_accuracy: 0.1417\n",
      "Epoch 3/250\n",
      "44/44 [==============================] - 1s 28ms/step - loss: 2.7000 - accuracy: 0.2293 - val_loss: 2.5715 - val_accuracy: 0.2614\n",
      "Epoch 4/250\n",
      "44/44 [==============================] - 1s 28ms/step - loss: 2.0702 - accuracy: 0.3980 - val_loss: 1.9256 - val_accuracy: 0.4141\n",
      "Epoch 5/250\n",
      "44/44 [==============================] - 1s 28ms/step - loss: 1.5395 - accuracy: 0.5281 - val_loss: 1.5648 - val_accuracy: 0.5256\n",
      "Epoch 6/250\n",
      "44/44 [==============================] - 1s 28ms/step - loss: 1.1825 - accuracy: 0.6280 - val_loss: 1.2644 - val_accuracy: 0.6069\n",
      "Epoch 7/250\n",
      "44/44 [==============================] - 1s 28ms/step - loss: 0.8363 - accuracy: 0.7318 - val_loss: 1.2556 - val_accuracy: 0.6335\n",
      "Epoch 8/250\n",
      "44/44 [==============================] - 1s 28ms/step - loss: 0.6644 - accuracy: 0.7846 - val_loss: 1.1268 - val_accuracy: 0.6682\n",
      "Epoch 9/250\n",
      "44/44 [==============================] - 1s 26ms/step - loss: 0.4772 - accuracy: 0.8425 - val_loss: 1.2322 - val_accuracy: 0.6590\n",
      "Epoch 10/250\n",
      "44/44 [==============================] - 1s 29ms/step - loss: 0.3826 - accuracy: 0.8720 - val_loss: 1.0568 - val_accuracy: 0.7130\n",
      "Epoch 11/250\n",
      "44/44 [==============================] - 1s 26ms/step - loss: 0.2534 - accuracy: 0.9127 - val_loss: 1.1809 - val_accuracy: 0.7057\n",
      "Epoch 12/250\n",
      "44/44 [==============================] - 1s 28ms/step - loss: 0.1787 - accuracy: 0.9394 - val_loss: 1.0898 - val_accuracy: 0.7550\n",
      "Epoch 13/250\n",
      "44/44 [==============================] - 1s 28ms/step - loss: 0.1628 - accuracy: 0.9451 - val_loss: 1.0647 - val_accuracy: 0.7697\n",
      "Epoch 14/250\n",
      "44/44 [==============================] - 1s 26ms/step - loss: 0.0949 - accuracy: 0.9701 - val_loss: 1.2560 - val_accuracy: 0.7514\n",
      "Epoch 15/250\n",
      "44/44 [==============================] - 1s 26ms/step - loss: 0.1138 - accuracy: 0.9614 - val_loss: 1.1688 - val_accuracy: 0.7532\n",
      "Epoch 16/250\n",
      "44/44 [==============================] - 1s 26ms/step - loss: 0.0828 - accuracy: 0.9703 - val_loss: 1.1769 - val_accuracy: 0.7660\n",
      "Epoch 17/250\n",
      "44/44 [==============================] - 1s 28ms/step - loss: 0.0794 - accuracy: 0.9714 - val_loss: 1.1055 - val_accuracy: 0.7715\n",
      "Epoch 18/250\n",
      "44/44 [==============================] - 1s 26ms/step - loss: 0.0515 - accuracy: 0.9810 - val_loss: 1.3889 - val_accuracy: 0.7404\n",
      "Epoch 19/250\n",
      "44/44 [==============================] - 1s 26ms/step - loss: 0.2028 - accuracy: 0.9348 - val_loss: 1.0336 - val_accuracy: 0.7587\n",
      "Epoch 20/250\n",
      "44/44 [==============================] - 1s 28ms/step - loss: 0.0756 - accuracy: 0.9755 - val_loss: 1.1710 - val_accuracy: 0.7733\n",
      "Epoch 21/250\n",
      "44/44 [==============================] - 1s 26ms/step - loss: 0.0811 - accuracy: 0.9746 - val_loss: 1.2934 - val_accuracy: 0.7605\n",
      "Epoch 22/250\n",
      "44/44 [==============================] - 1s 26ms/step - loss: 0.0836 - accuracy: 0.9749 - val_loss: 1.3804 - val_accuracy: 0.7587\n",
      "Epoch 23/250\n",
      "44/44 [==============================] - 1s 28ms/step - loss: 0.0318 - accuracy: 0.9890 - val_loss: 1.2722 - val_accuracy: 0.7843\n",
      "Epoch 24/250\n",
      "44/44 [==============================] - 1s 26ms/step - loss: 0.0226 - accuracy: 0.9920 - val_loss: 1.4317 - val_accuracy: 0.7706\n",
      "Epoch 25/250\n",
      "44/44 [==============================] - 1s 26ms/step - loss: 0.0291 - accuracy: 0.9899 - val_loss: 1.2225 - val_accuracy: 0.7834\n",
      "Epoch 26/250\n",
      "44/44 [==============================] - 1s 28ms/step - loss: 0.0288 - accuracy: 0.9911 - val_loss: 1.2373 - val_accuracy: 0.7943\n",
      "Epoch 27/250\n",
      "44/44 [==============================] - 1s 26ms/step - loss: 0.0404 - accuracy: 0.9849 - val_loss: 1.3542 - val_accuracy: 0.7761\n",
      "Epoch 28/250\n",
      "44/44 [==============================] - 1s 27ms/step - loss: 0.0812 - accuracy: 0.9742 - val_loss: 1.4001 - val_accuracy: 0.7587\n",
      "Epoch 29/250\n",
      "44/44 [==============================] - 1s 26ms/step - loss: 0.0739 - accuracy: 0.9769 - val_loss: 1.4773 - val_accuracy: 0.7386\n",
      "Epoch 30/250\n",
      "44/44 [==============================] - 1s 27ms/step - loss: 0.0590 - accuracy: 0.9794 - val_loss: 1.2383 - val_accuracy: 0.7870\n",
      "Epoch 31/250\n",
      "44/44 [==============================] - 1s 28ms/step - loss: 0.0251 - accuracy: 0.9931 - val_loss: 1.3130 - val_accuracy: 0.7898\n",
      "Epoch 32/250\n",
      "44/44 [==============================] - 1s 27ms/step - loss: 0.0206 - accuracy: 0.9929 - val_loss: 1.2498 - val_accuracy: 0.7943\n",
      "Epoch 33/250\n",
      "44/44 [==============================] - 1s 27ms/step - loss: 0.0295 - accuracy: 0.9897 - val_loss: 1.5540 - val_accuracy: 0.7495\n",
      "Epoch 34/250\n",
      "44/44 [==============================] - 1s 27ms/step - loss: 0.0561 - accuracy: 0.9838 - val_loss: 1.3432 - val_accuracy: 0.7788\n",
      "Epoch 35/250\n",
      "44/44 [==============================] - 1s 27ms/step - loss: 0.0844 - accuracy: 0.9739 - val_loss: 1.2786 - val_accuracy: 0.7761\n",
      "Epoch 36/250\n",
      "44/44 [==============================] - 1s 28ms/step - loss: 0.0263 - accuracy: 0.9925 - val_loss: 1.2355 - val_accuracy: 0.7980\n",
      "Epoch 37/250\n",
      "15/44 [=========>....................] - ETA: 0s - loss: 0.0118 - accuracy: 0.9967"
     ]
    },
    {
     "ename": "KeyboardInterrupt",
     "evalue": "",
     "output_type": "error",
     "traceback": [
      "\u001b[1;31m---------------------------------------------------------------------------\u001b[0m",
      "\u001b[1;31mKeyboardInterrupt\u001b[0m                         Traceback (most recent call last)",
      "File \u001b[1;32m<timed exec>:4\u001b[0m\n",
      "File \u001b[1;32mc:\\Users\\Pawel\\anaconda3\\envs\\tf_gpu_2\\lib\\site-packages\\keras\\utils\\traceback_utils.py:65\u001b[0m, in \u001b[0;36mfilter_traceback.<locals>.error_handler\u001b[1;34m(*args, **kwargs)\u001b[0m\n\u001b[0;32m     63\u001b[0m filtered_tb \u001b[38;5;241m=\u001b[39m \u001b[38;5;28;01mNone\u001b[39;00m\n\u001b[0;32m     64\u001b[0m \u001b[38;5;28;01mtry\u001b[39;00m:\n\u001b[1;32m---> 65\u001b[0m     \u001b[38;5;28;01mreturn\u001b[39;00m fn(\u001b[38;5;241m*\u001b[39margs, \u001b[38;5;241m*\u001b[39m\u001b[38;5;241m*\u001b[39mkwargs)\n\u001b[0;32m     66\u001b[0m \u001b[38;5;28;01mexcept\u001b[39;00m \u001b[38;5;167;01mException\u001b[39;00m \u001b[38;5;28;01mas\u001b[39;00m e:\n\u001b[0;32m     67\u001b[0m     filtered_tb \u001b[38;5;241m=\u001b[39m _process_traceback_frames(e\u001b[38;5;241m.\u001b[39m__traceback__)\n",
      "File \u001b[1;32mc:\\Users\\Pawel\\anaconda3\\envs\\tf_gpu_2\\lib\\site-packages\\keras\\engine\\training.py:1564\u001b[0m, in \u001b[0;36mModel.fit\u001b[1;34m(self, x, y, batch_size, epochs, verbose, callbacks, validation_split, validation_data, shuffle, class_weight, sample_weight, initial_epoch, steps_per_epoch, validation_steps, validation_batch_size, validation_freq, max_queue_size, workers, use_multiprocessing)\u001b[0m\n\u001b[0;32m   1556\u001b[0m \u001b[38;5;28;01mwith\u001b[39;00m tf\u001b[38;5;241m.\u001b[39mprofiler\u001b[38;5;241m.\u001b[39mexperimental\u001b[38;5;241m.\u001b[39mTrace(\n\u001b[0;32m   1557\u001b[0m     \u001b[38;5;124m\"\u001b[39m\u001b[38;5;124mtrain\u001b[39m\u001b[38;5;124m\"\u001b[39m,\n\u001b[0;32m   1558\u001b[0m     epoch_num\u001b[38;5;241m=\u001b[39mepoch,\n\u001b[1;32m   (...)\u001b[0m\n\u001b[0;32m   1561\u001b[0m     _r\u001b[38;5;241m=\u001b[39m\u001b[38;5;241m1\u001b[39m,\n\u001b[0;32m   1562\u001b[0m ):\n\u001b[0;32m   1563\u001b[0m     callbacks\u001b[38;5;241m.\u001b[39mon_train_batch_begin(step)\n\u001b[1;32m-> 1564\u001b[0m     tmp_logs \u001b[38;5;241m=\u001b[39m \u001b[38;5;28;43mself\u001b[39;49m\u001b[38;5;241;43m.\u001b[39;49m\u001b[43mtrain_function\u001b[49m\u001b[43m(\u001b[49m\u001b[43miterator\u001b[49m\u001b[43m)\u001b[49m\n\u001b[0;32m   1565\u001b[0m     \u001b[38;5;28;01mif\u001b[39;00m data_handler\u001b[38;5;241m.\u001b[39mshould_sync:\n\u001b[0;32m   1566\u001b[0m         context\u001b[38;5;241m.\u001b[39masync_wait()\n",
      "File \u001b[1;32mc:\\Users\\Pawel\\anaconda3\\envs\\tf_gpu_2\\lib\\site-packages\\tensorflow\\python\\util\\traceback_utils.py:150\u001b[0m, in \u001b[0;36mfilter_traceback.<locals>.error_handler\u001b[1;34m(*args, **kwargs)\u001b[0m\n\u001b[0;32m    148\u001b[0m filtered_tb \u001b[38;5;241m=\u001b[39m \u001b[38;5;28;01mNone\u001b[39;00m\n\u001b[0;32m    149\u001b[0m \u001b[38;5;28;01mtry\u001b[39;00m:\n\u001b[1;32m--> 150\u001b[0m   \u001b[38;5;28;01mreturn\u001b[39;00m fn(\u001b[38;5;241m*\u001b[39margs, \u001b[38;5;241m*\u001b[39m\u001b[38;5;241m*\u001b[39mkwargs)\n\u001b[0;32m    151\u001b[0m \u001b[38;5;28;01mexcept\u001b[39;00m \u001b[38;5;167;01mException\u001b[39;00m \u001b[38;5;28;01mas\u001b[39;00m e:\n\u001b[0;32m    152\u001b[0m   filtered_tb \u001b[38;5;241m=\u001b[39m _process_traceback_frames(e\u001b[38;5;241m.\u001b[39m__traceback__)\n",
      "File \u001b[1;32mc:\\Users\\Pawel\\anaconda3\\envs\\tf_gpu_2\\lib\\site-packages\\tensorflow\\python\\eager\\def_function.py:915\u001b[0m, in \u001b[0;36mFunction.__call__\u001b[1;34m(self, *args, **kwds)\u001b[0m\n\u001b[0;32m    912\u001b[0m compiler \u001b[38;5;241m=\u001b[39m \u001b[38;5;124m\"\u001b[39m\u001b[38;5;124mxla\u001b[39m\u001b[38;5;124m\"\u001b[39m \u001b[38;5;28;01mif\u001b[39;00m \u001b[38;5;28mself\u001b[39m\u001b[38;5;241m.\u001b[39m_jit_compile \u001b[38;5;28;01melse\u001b[39;00m \u001b[38;5;124m\"\u001b[39m\u001b[38;5;124mnonXla\u001b[39m\u001b[38;5;124m\"\u001b[39m\n\u001b[0;32m    914\u001b[0m \u001b[38;5;28;01mwith\u001b[39;00m OptionalXlaContext(\u001b[38;5;28mself\u001b[39m\u001b[38;5;241m.\u001b[39m_jit_compile):\n\u001b[1;32m--> 915\u001b[0m   result \u001b[38;5;241m=\u001b[39m \u001b[38;5;28mself\u001b[39m\u001b[38;5;241m.\u001b[39m_call(\u001b[38;5;241m*\u001b[39margs, \u001b[38;5;241m*\u001b[39m\u001b[38;5;241m*\u001b[39mkwds)\n\u001b[0;32m    917\u001b[0m new_tracing_count \u001b[38;5;241m=\u001b[39m \u001b[38;5;28mself\u001b[39m\u001b[38;5;241m.\u001b[39mexperimental_get_tracing_count()\n\u001b[0;32m    918\u001b[0m without_tracing \u001b[38;5;241m=\u001b[39m (tracing_count \u001b[38;5;241m==\u001b[39m new_tracing_count)\n",
      "File \u001b[1;32mc:\\Users\\Pawel\\anaconda3\\envs\\tf_gpu_2\\lib\\site-packages\\tensorflow\\python\\eager\\def_function.py:947\u001b[0m, in \u001b[0;36mFunction._call\u001b[1;34m(self, *args, **kwds)\u001b[0m\n\u001b[0;32m    944\u001b[0m   \u001b[38;5;28mself\u001b[39m\u001b[38;5;241m.\u001b[39m_lock\u001b[38;5;241m.\u001b[39mrelease()\n\u001b[0;32m    945\u001b[0m   \u001b[38;5;66;03m# In this case we have created variables on the first call, so we run the\u001b[39;00m\n\u001b[0;32m    946\u001b[0m   \u001b[38;5;66;03m# defunned version which is guaranteed to never create variables.\u001b[39;00m\n\u001b[1;32m--> 947\u001b[0m   \u001b[38;5;28;01mreturn\u001b[39;00m \u001b[38;5;28mself\u001b[39m\u001b[38;5;241m.\u001b[39m_stateless_fn(\u001b[38;5;241m*\u001b[39margs, \u001b[38;5;241m*\u001b[39m\u001b[38;5;241m*\u001b[39mkwds)  \u001b[38;5;66;03m# pylint: disable=not-callable\u001b[39;00m\n\u001b[0;32m    948\u001b[0m \u001b[38;5;28;01melif\u001b[39;00m \u001b[38;5;28mself\u001b[39m\u001b[38;5;241m.\u001b[39m_stateful_fn \u001b[38;5;129;01mis\u001b[39;00m \u001b[38;5;129;01mnot\u001b[39;00m \u001b[38;5;28;01mNone\u001b[39;00m:\n\u001b[0;32m    949\u001b[0m   \u001b[38;5;66;03m# Release the lock early so that multiple threads can perform the call\u001b[39;00m\n\u001b[0;32m    950\u001b[0m   \u001b[38;5;66;03m# in parallel.\u001b[39;00m\n\u001b[0;32m    951\u001b[0m   \u001b[38;5;28mself\u001b[39m\u001b[38;5;241m.\u001b[39m_lock\u001b[38;5;241m.\u001b[39mrelease()\n",
      "File \u001b[1;32mc:\\Users\\Pawel\\anaconda3\\envs\\tf_gpu_2\\lib\\site-packages\\tensorflow\\python\\eager\\function.py:2496\u001b[0m, in \u001b[0;36mFunction.__call__\u001b[1;34m(self, *args, **kwargs)\u001b[0m\n\u001b[0;32m   2493\u001b[0m \u001b[38;5;28;01mwith\u001b[39;00m \u001b[38;5;28mself\u001b[39m\u001b[38;5;241m.\u001b[39m_lock:\n\u001b[0;32m   2494\u001b[0m   (graph_function,\n\u001b[0;32m   2495\u001b[0m    filtered_flat_args) \u001b[38;5;241m=\u001b[39m \u001b[38;5;28mself\u001b[39m\u001b[38;5;241m.\u001b[39m_maybe_define_function(args, kwargs)\n\u001b[1;32m-> 2496\u001b[0m \u001b[38;5;28;01mreturn\u001b[39;00m \u001b[43mgraph_function\u001b[49m\u001b[38;5;241;43m.\u001b[39;49m\u001b[43m_call_flat\u001b[49m\u001b[43m(\u001b[49m\n\u001b[0;32m   2497\u001b[0m \u001b[43m    \u001b[49m\u001b[43mfiltered_flat_args\u001b[49m\u001b[43m,\u001b[49m\u001b[43m \u001b[49m\u001b[43mcaptured_inputs\u001b[49m\u001b[38;5;241;43m=\u001b[39;49m\u001b[43mgraph_function\u001b[49m\u001b[38;5;241;43m.\u001b[39;49m\u001b[43mcaptured_inputs\u001b[49m\u001b[43m)\u001b[49m\n",
      "File \u001b[1;32mc:\\Users\\Pawel\\anaconda3\\envs\\tf_gpu_2\\lib\\site-packages\\tensorflow\\python\\eager\\function.py:1862\u001b[0m, in \u001b[0;36mConcreteFunction._call_flat\u001b[1;34m(self, args, captured_inputs, cancellation_manager)\u001b[0m\n\u001b[0;32m   1858\u001b[0m possible_gradient_type \u001b[38;5;241m=\u001b[39m gradients_util\u001b[38;5;241m.\u001b[39mPossibleTapeGradientTypes(args)\n\u001b[0;32m   1859\u001b[0m \u001b[38;5;28;01mif\u001b[39;00m (possible_gradient_type \u001b[38;5;241m==\u001b[39m gradients_util\u001b[38;5;241m.\u001b[39mPOSSIBLE_GRADIENT_TYPES_NONE\n\u001b[0;32m   1860\u001b[0m     \u001b[38;5;129;01mand\u001b[39;00m executing_eagerly):\n\u001b[0;32m   1861\u001b[0m   \u001b[38;5;66;03m# No tape is watching; skip to running the function.\u001b[39;00m\n\u001b[1;32m-> 1862\u001b[0m   \u001b[38;5;28;01mreturn\u001b[39;00m \u001b[38;5;28mself\u001b[39m\u001b[38;5;241m.\u001b[39m_build_call_outputs(\u001b[38;5;28;43mself\u001b[39;49m\u001b[38;5;241;43m.\u001b[39;49m\u001b[43m_inference_function\u001b[49m\u001b[38;5;241;43m.\u001b[39;49m\u001b[43mcall\u001b[49m\u001b[43m(\u001b[49m\n\u001b[0;32m   1863\u001b[0m \u001b[43m      \u001b[49m\u001b[43mctx\u001b[49m\u001b[43m,\u001b[49m\u001b[43m \u001b[49m\u001b[43margs\u001b[49m\u001b[43m,\u001b[49m\u001b[43m \u001b[49m\u001b[43mcancellation_manager\u001b[49m\u001b[38;5;241;43m=\u001b[39;49m\u001b[43mcancellation_manager\u001b[49m\u001b[43m)\u001b[49m)\n\u001b[0;32m   1864\u001b[0m forward_backward \u001b[38;5;241m=\u001b[39m \u001b[38;5;28mself\u001b[39m\u001b[38;5;241m.\u001b[39m_select_forward_and_backward_functions(\n\u001b[0;32m   1865\u001b[0m     args,\n\u001b[0;32m   1866\u001b[0m     possible_gradient_type,\n\u001b[0;32m   1867\u001b[0m     executing_eagerly)\n\u001b[0;32m   1868\u001b[0m forward_function, args_with_tangents \u001b[38;5;241m=\u001b[39m forward_backward\u001b[38;5;241m.\u001b[39mforward()\n",
      "File \u001b[1;32mc:\\Users\\Pawel\\anaconda3\\envs\\tf_gpu_2\\lib\\site-packages\\tensorflow\\python\\eager\\function.py:499\u001b[0m, in \u001b[0;36m_EagerDefinedFunction.call\u001b[1;34m(self, ctx, args, cancellation_manager)\u001b[0m\n\u001b[0;32m    497\u001b[0m \u001b[38;5;28;01mwith\u001b[39;00m _InterpolateFunctionError(\u001b[38;5;28mself\u001b[39m):\n\u001b[0;32m    498\u001b[0m   \u001b[38;5;28;01mif\u001b[39;00m cancellation_manager \u001b[38;5;129;01mis\u001b[39;00m \u001b[38;5;28;01mNone\u001b[39;00m:\n\u001b[1;32m--> 499\u001b[0m     outputs \u001b[38;5;241m=\u001b[39m \u001b[43mexecute\u001b[49m\u001b[38;5;241;43m.\u001b[39;49m\u001b[43mexecute\u001b[49m\u001b[43m(\u001b[49m\n\u001b[0;32m    500\u001b[0m \u001b[43m        \u001b[49m\u001b[38;5;28;43mstr\u001b[39;49m\u001b[43m(\u001b[49m\u001b[38;5;28;43mself\u001b[39;49m\u001b[38;5;241;43m.\u001b[39;49m\u001b[43msignature\u001b[49m\u001b[38;5;241;43m.\u001b[39;49m\u001b[43mname\u001b[49m\u001b[43m)\u001b[49m\u001b[43m,\u001b[49m\n\u001b[0;32m    501\u001b[0m \u001b[43m        \u001b[49m\u001b[43mnum_outputs\u001b[49m\u001b[38;5;241;43m=\u001b[39;49m\u001b[38;5;28;43mself\u001b[39;49m\u001b[38;5;241;43m.\u001b[39;49m\u001b[43m_num_outputs\u001b[49m\u001b[43m,\u001b[49m\n\u001b[0;32m    502\u001b[0m \u001b[43m        \u001b[49m\u001b[43minputs\u001b[49m\u001b[38;5;241;43m=\u001b[39;49m\u001b[43margs\u001b[49m\u001b[43m,\u001b[49m\n\u001b[0;32m    503\u001b[0m \u001b[43m        \u001b[49m\u001b[43mattrs\u001b[49m\u001b[38;5;241;43m=\u001b[39;49m\u001b[43mattrs\u001b[49m\u001b[43m,\u001b[49m\n\u001b[0;32m    504\u001b[0m \u001b[43m        \u001b[49m\u001b[43mctx\u001b[49m\u001b[38;5;241;43m=\u001b[39;49m\u001b[43mctx\u001b[49m\u001b[43m)\u001b[49m\n\u001b[0;32m    505\u001b[0m   \u001b[38;5;28;01melse\u001b[39;00m:\n\u001b[0;32m    506\u001b[0m     outputs \u001b[38;5;241m=\u001b[39m execute\u001b[38;5;241m.\u001b[39mexecute_with_cancellation(\n\u001b[0;32m    507\u001b[0m         \u001b[38;5;28mstr\u001b[39m(\u001b[38;5;28mself\u001b[39m\u001b[38;5;241m.\u001b[39msignature\u001b[38;5;241m.\u001b[39mname),\n\u001b[0;32m    508\u001b[0m         num_outputs\u001b[38;5;241m=\u001b[39m\u001b[38;5;28mself\u001b[39m\u001b[38;5;241m.\u001b[39m_num_outputs,\n\u001b[1;32m   (...)\u001b[0m\n\u001b[0;32m    511\u001b[0m         ctx\u001b[38;5;241m=\u001b[39mctx,\n\u001b[0;32m    512\u001b[0m         cancellation_manager\u001b[38;5;241m=\u001b[39mcancellation_manager)\n",
      "File \u001b[1;32mc:\\Users\\Pawel\\anaconda3\\envs\\tf_gpu_2\\lib\\site-packages\\tensorflow\\python\\eager\\execute.py:54\u001b[0m, in \u001b[0;36mquick_execute\u001b[1;34m(op_name, num_outputs, inputs, attrs, ctx, name)\u001b[0m\n\u001b[0;32m     52\u001b[0m \u001b[38;5;28;01mtry\u001b[39;00m:\n\u001b[0;32m     53\u001b[0m   ctx\u001b[38;5;241m.\u001b[39mensure_initialized()\n\u001b[1;32m---> 54\u001b[0m   tensors \u001b[38;5;241m=\u001b[39m \u001b[43mpywrap_tfe\u001b[49m\u001b[38;5;241;43m.\u001b[39;49m\u001b[43mTFE_Py_Execute\u001b[49m\u001b[43m(\u001b[49m\u001b[43mctx\u001b[49m\u001b[38;5;241;43m.\u001b[39;49m\u001b[43m_handle\u001b[49m\u001b[43m,\u001b[49m\u001b[43m \u001b[49m\u001b[43mdevice_name\u001b[49m\u001b[43m,\u001b[49m\u001b[43m \u001b[49m\u001b[43mop_name\u001b[49m\u001b[43m,\u001b[49m\n\u001b[0;32m     55\u001b[0m \u001b[43m                                      \u001b[49m\u001b[43minputs\u001b[49m\u001b[43m,\u001b[49m\u001b[43m \u001b[49m\u001b[43mattrs\u001b[49m\u001b[43m,\u001b[49m\u001b[43m \u001b[49m\u001b[43mnum_outputs\u001b[49m\u001b[43m)\u001b[49m\n\u001b[0;32m     56\u001b[0m \u001b[38;5;28;01mexcept\u001b[39;00m core\u001b[38;5;241m.\u001b[39m_NotOkStatusException \u001b[38;5;28;01mas\u001b[39;00m e:\n\u001b[0;32m     57\u001b[0m   \u001b[38;5;28;01mif\u001b[39;00m name \u001b[38;5;129;01mis\u001b[39;00m \u001b[38;5;129;01mnot\u001b[39;00m \u001b[38;5;28;01mNone\u001b[39;00m:\n",
      "\u001b[1;31mKeyboardInterrupt\u001b[0m: "
     ]
    }
   ],
   "source": [
    "%%time\n",
    "batch_size = 100\n",
    "epochs = 250\n",
    "\n",
    "history = model.fit(\n",
    "  X_train, y_train_fixed,\n",
    "  batch_size=batch_size,\n",
    "  epochs=epochs,\n",
    "  validation_split=0.2,\n",
    "  shuffle=True,\n",
    "  callbacks=[model_checkpoint_callback]\n",
    ")"
   ]
  }
 ],
 "metadata": {
  "kernelspec": {
   "display_name": "env_torch",
   "language": "python",
   "name": "python3"
  },
  "language_info": {
   "codemirror_mode": {
    "name": "ipython",
    "version": 3
   },
   "file_extension": ".py",
   "mimetype": "text/x-python",
   "name": "python",
   "nbconvert_exporter": "python",
   "pygments_lexer": "ipython3",
   "version": "3.10.13"
  }
 },
 "nbformat": 4,
 "nbformat_minor": 2
}
