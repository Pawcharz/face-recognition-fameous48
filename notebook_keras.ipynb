{
 "cells": [
  {
   "cell_type": "code",
   "execution_count": 1,
   "metadata": {},
   "outputs": [],
   "source": [
    "import numpy as np\n",
    "import tensorflow as tf\n",
    "from tensorflow import keras\n",
    "\n",
    "from keras import layers\n",
    "from keras import regularizers\n",
    "\n",
    "import re"
   ]
  },
  {
   "cell_type": "code",
   "execution_count": 2,
   "metadata": {},
   "outputs": [],
   "source": [
    "from keras import backend as K\n",
    "K.clear_session()"
   ]
  },
  {
   "cell_type": "code",
   "execution_count": 3,
   "metadata": {},
   "outputs": [
    {
     "name": "stdout",
     "output_type": "stream",
     "text": [
      "[PhysicalDevice(name='/physical_device:CPU:0', device_type='CPU'), PhysicalDevice(name='/physical_device:GPU:0', device_type='GPU')]\n"
     ]
    }
   ],
   "source": [
    "physical_devices = tf.config.list_physical_devices()\n",
    "CLASSES = 48\n",
    "IMAGE_SIZE = 24\n",
    "\n",
    "print(physical_devices)"
   ]
  },
  {
   "cell_type": "code",
   "execution_count": 4,
   "metadata": {},
   "outputs": [],
   "source": [
    "tf.config.set_visible_devices(physical_devices[1], 'GPU')"
   ]
  },
  {
   "cell_type": "markdown",
   "metadata": {},
   "source": [
    "## Building Dataset"
   ]
  },
  {
   "cell_type": "markdown",
   "metadata": {},
   "source": [
    "### Attributes description\n",
    "\n",
    "- a1 - face containing flag: (1-with face, 0-without face),\n",
    "- a2 - image number in current class (person) beginning from 0,\n",
    "- a3 - class (person) number beginning from 0,\n",
    "- a4 - sex (0 - woman, 1 - man)\n",
    "- a5 - race (0- white, 1 - negro, 2 - indian, ...)\n",
    "- a6 - age (0 - baby, 1 - young, 2 - middle-age, 3 - old) \n",
    "- a7 - binokulars (0 - without, 1 - transparent, 2 - dark)\n",
    "- a8 - emotional expression (not state!) (0 - sad, 1 - neutral, 2 - happy)"
   ]
  },
  {
   "cell_type": "code",
   "execution_count": 5,
   "metadata": {},
   "outputs": [],
   "source": [
    "def read_file(filename):\n",
    "  \n",
    "  with open(filename, 'r') as file:\n",
    "    lines = file.readlines()\n",
    "    \n",
    "    # Remove newLines\n",
    "    for i, line in enumerate(lines):\n",
    "      lines[i] = line.replace('\\n', '')\n",
    "    \n",
    "    # We assume these are integers\n",
    "    EXAMPLES_NR = int(lines[0])\n",
    "    PIXELS_NR = int(lines[1])\n",
    "    \n",
    "    # inputs = np.zeros(EXAMPLES_NR)\n",
    "    inputs = list()\n",
    "    labels = np.zeros(EXAMPLES_NR, dtype=int)\n",
    "    \n",
    "    examples_raw = lines[2:EXAMPLES_NR+2]\n",
    "    \n",
    "    for i, example_raw in enumerate(examples_raw):\n",
    "      # Split by spaces (treats multiple as one)\n",
    "      tokens = re.split('\\s+', example_raw)\n",
    "      \n",
    "      pixel_values = np.array(tokens[0:PIXELS_NR])\n",
    "      attributes = tokens[PIXELS_NR:]\n",
    "      \n",
    "      pixel_values = np.array(pixel_values, dtype=float)\n",
    "      pixel_values = pixel_values.reshape([IMAGE_SIZE, IMAGE_SIZE])\n",
    "      \n",
    "      inputs.append(pixel_values)\n",
    "      labels[i] = int(attributes[2])\n",
    "      \n",
    "    inputs = np.array(inputs)\n",
    "  return inputs, labels"
   ]
  },
  {
   "cell_type": "code",
   "execution_count": 6,
   "metadata": {},
   "outputs": [
    {
     "name": "stdout",
     "output_type": "stream",
     "text": [
      "2321 2321\n",
      "2208 2208\n",
      "2306 2306\n"
     ]
    }
   ],
   "source": [
    "# classes 0-15\n",
    "X_0, y_0 = read_file('./data/x24x24.txt')\n",
    "# classes 16-31\n",
    "X_1, y_1 = read_file('./data/y24x24.txt')\n",
    "# # classes 32-48\n",
    "X_2, y_2 = read_file('./data/z24x24.txt')\n",
    "\n",
    "print(len(X_0), len(y_0))\n",
    "print(len(X_1), len(y_1))\n",
    "print(len(X_2), len(y_2))"
   ]
  },
  {
   "cell_type": "code",
   "execution_count": 7,
   "metadata": {},
   "outputs": [
    {
     "name": "stdout",
     "output_type": "stream",
     "text": [
      "6835 6835\n"
     ]
    }
   ],
   "source": [
    "from sklearn.model_selection import train_test_split\n",
    "\n",
    "# Concatenate train and test images\n",
    "X = np.concatenate((X_0, X_1, X_2))\n",
    "y = np.concatenate((y_0, y_1, y_2))\n",
    "print(len(X), len(y))\n",
    "\n",
    "N_TRAIN_EXAMPLES=int(len(X) * 0.8)\n",
    "N_TEST_EXAMPLES=len(X) - N_TRAIN_EXAMPLES\n",
    "\n",
    "\n",
    "X_train, X_test, y_train, y_test = train_test_split(X, y, train_size=N_TRAIN_EXAMPLES, test_size=N_TEST_EXAMPLES, random_state=1)\n",
    "\n",
    "# Getting dummy variables\n",
    "y_train_fixed = np.zeros((y_train.shape[0], CLASSES))\n",
    "# y_valid_fixed = np.zeros((y_valid.shape[0], 10))\n",
    "y_test_fixed = np.zeros((y_test.shape[0], CLASSES))\n",
    "\n",
    "for i, value in enumerate(y_train):\n",
    "  y_train_fixed[i][value] = 1\n",
    "  \n",
    "for i, value in enumerate(y_test):\n",
    "  y_test_fixed[i][value] = 1"
   ]
  },
  {
   "cell_type": "code",
   "execution_count": 8,
   "metadata": {},
   "outputs": [
    {
     "name": "stdout",
     "output_type": "stream",
     "text": [
      "1367\n"
     ]
    }
   ],
   "source": [
    "print(len(X_test))"
   ]
  },
  {
   "cell_type": "markdown",
   "metadata": {},
   "source": [
    "## Building a model"
   ]
  },
  {
   "cell_type": "markdown",
   "metadata": {},
   "source": [
    "AlexNet implementation in keras:\n",
    "\n",
    "```py\n",
    "  keras.Input(shape=(227, 227, 3)),\n",
    "  layers.Conv2D(96, kernel_size=11, strides=4, padding='same', activation=\"relu\"),\n",
    "  layers.MaxPooling2D(pool_size=3, strides=2),\n",
    "  layers.Conv2D(256, kernel_size=5, padding='same', activation=\"relu\"),\n",
    "  layers.MaxPooling2D(pool_size=3, strides=2),\n",
    "  layers.Conv2D(384, kernel_size=3, padding='same', activation=\"relu\"),\n",
    "  layers.Conv2D(384, kernel_size=3, padding='same', activation=\"relu\"),\n",
    "  layers.Conv2D(256, kernel_size=3, padding='same', activation=\"relu\"),\n",
    "  layers.MaxPooling2D(pool_size=3, strides=2),\n",
    "  layers.Dropout(0.5),\n",
    "  layers.Dense(4096, activation=\"relu\"),\n",
    "  layers.Dropout(0.5),\n",
    "  layers.Dense(4096, activation=\"relu\"),\n",
    "  layers.Dense(CLASSES, activation=\"softmax\")\n",
    "```"
   ]
  },
  {
   "cell_type": "code",
   "execution_count": 9,
   "metadata": {},
   "outputs": [
    {
     "name": "stdout",
     "output_type": "stream",
     "text": [
      "Model: \"sequential\"\n",
      "_________________________________________________________________\n",
      " Layer (type)                Output Shape              Param #   \n",
      "=================================================================\n",
      " conv2d (Conv2D)             (None, 24, 24, 24)        240       \n",
      "                                                                 \n",
      " max_pooling2d (MaxPooling2D  (None, 23, 23, 24)       0         \n",
      " )                                                               \n",
      "                                                                 \n",
      " conv2d_1 (Conv2D)           (None, 23, 23, 64)        38464     \n",
      "                                                                 \n",
      " max_pooling2d_1 (MaxPooling  (None, 11, 11, 64)       0         \n",
      " 2D)                                                             \n",
      "                                                                 \n",
      " conv2d_2 (Conv2D)           (None, 11, 11, 96)        55392     \n",
      "                                                                 \n",
      " conv2d_3 (Conv2D)           (None, 11, 11, 96)        83040     \n",
      "                                                                 \n",
      " conv2d_4 (Conv2D)           (None, 11, 11, 64)        55360     \n",
      "                                                                 \n",
      " max_pooling2d_2 (MaxPooling  (None, 5, 5, 64)         0         \n",
      " 2D)                                                             \n",
      "                                                                 \n",
      " flatten (Flatten)           (None, 1600)              0         \n",
      "                                                                 \n",
      " dropout (Dropout)           (None, 1600)              0         \n",
      "                                                                 \n",
      " dense (Dense)               (None, 512)               819712    \n",
      "                                                                 \n",
      " dropout_1 (Dropout)         (None, 512)               0         \n",
      "                                                                 \n",
      " dense_1 (Dense)             (None, 512)               262656    \n",
      "                                                                 \n",
      " dense_2 (Dense)             (None, 48)                24624     \n",
      "                                                                 \n",
      "=================================================================\n",
      "Total params: 1,339,488\n",
      "Trainable params: 1,339,488\n",
      "Non-trainable params: 0\n",
      "_________________________________________________________________\n"
     ]
    }
   ],
   "source": [
    "conv_regularizer = regularizers.l2(l=0.001)\n",
    "dense_regularizer = regularizers.l2(l=0.001)\n",
    "\n",
    "model = keras.Sequential(\n",
    "  [\n",
    "    keras.Input(shape=(IMAGE_SIZE, IMAGE_SIZE, 1)),\n",
    "    layers.Conv2D(24, kernel_size=3, strides=1, padding='same', activation=\"relu\", kernel_regularizer=conv_regularizer),\n",
    "    layers.MaxPooling2D(pool_size=2, strides=1),\n",
    "    layers.Conv2D(64, kernel_size=5, padding='same', activation=\"relu\", kernel_regularizer=conv_regularizer),\n",
    "    layers.MaxPooling2D(pool_size=3, strides=2),\n",
    "    layers.Conv2D(96, kernel_size=3, padding='same', activation=\"relu\", kernel_regularizer=conv_regularizer),\n",
    "    layers.Conv2D(96, kernel_size=3, padding='same', activation=\"relu\", kernel_regularizer=conv_regularizer),\n",
    "    layers.Conv2D(64, kernel_size=3, padding='same', activation=\"relu\", kernel_regularizer=conv_regularizer),\n",
    "    layers.MaxPooling2D(pool_size=3, strides=2),\n",
    "    layers.Flatten(),\n",
    "    layers.Dropout(0.3),\n",
    "    layers.Dense(512, activation=\"relu\", kernel_regularizer=dense_regularizer),\n",
    "    layers.Dropout(0.4),\n",
    "    layers.Dense(512, activation=\"relu\", kernel_regularizer=dense_regularizer),\n",
    "    layers.Dense(CLASSES, activation=\"softmax\"),\n",
    "    \n",
    "  ]\n",
    ")\n",
    "\n",
    "model.summary()"
   ]
  },
  {
   "cell_type": "code",
   "execution_count": 10,
   "metadata": {},
   "outputs": [],
   "source": [
    "model.compile(loss=\"categorical_crossentropy\", optimizer=\"adam\", metrics=[\"accuracy\"])"
   ]
  },
  {
   "cell_type": "markdown",
   "metadata": {},
   "source": [
    "## Training Preparation"
   ]
  },
  {
   "cell_type": "code",
   "execution_count": 11,
   "metadata": {},
   "outputs": [],
   "source": [
    "CHECKPOINT_PATH = 'models/checkpoints/famous48_test_model_v1_best.keras'"
   ]
  },
  {
   "cell_type": "code",
   "execution_count": 12,
   "metadata": {},
   "outputs": [],
   "source": [
    "model_checkpoint_callback = keras.callbacks.ModelCheckpoint(\n",
    "  filepath=CHECKPOINT_PATH,\n",
    "  save_weights_only=False,\n",
    "  monitor='val_accuracy',\n",
    "  mode='max',\n",
    "  save_best_only=True,  \n",
    ")"
   ]
  },
  {
   "cell_type": "code",
   "execution_count": 13,
   "metadata": {},
   "outputs": [
    {
     "name": "stdout",
     "output_type": "stream",
     "text": [
      "Epoch 1/50\n",
      "44/44 [==============================] - 4s 31ms/step - loss: 4.7926 - accuracy: 0.0304 - val_loss: 4.3502 - val_accuracy: 0.0238\n",
      "Epoch 2/50\n",
      "44/44 [==============================] - 1s 16ms/step - loss: 4.1681 - accuracy: 0.0334 - val_loss: 4.0543 - val_accuracy: 0.0192\n",
      "Epoch 3/50\n",
      "44/44 [==============================] - 1s 17ms/step - loss: 3.8401 - accuracy: 0.0521 - val_loss: 3.5564 - val_accuracy: 0.0850\n",
      "Epoch 4/50\n",
      "44/44 [==============================] - 1s 17ms/step - loss: 3.2903 - accuracy: 0.1376 - val_loss: 3.0273 - val_accuracy: 0.1453\n",
      "Epoch 5/50\n",
      "44/44 [==============================] - 1s 17ms/step - loss: 2.9316 - accuracy: 0.2053 - val_loss: 2.6619 - val_accuracy: 0.2651\n",
      "Epoch 6/50\n",
      "44/44 [==============================] - 1s 17ms/step - loss: 2.6492 - accuracy: 0.2791 - val_loss: 2.4341 - val_accuracy: 0.3208\n",
      "Epoch 7/50\n",
      "44/44 [==============================] - 1s 17ms/step - loss: 2.3930 - accuracy: 0.3445 - val_loss: 2.3784 - val_accuracy: 0.3336\n",
      "Epoch 8/50\n",
      "44/44 [==============================] - 1s 17ms/step - loss: 2.2037 - accuracy: 0.3980 - val_loss: 2.1391 - val_accuracy: 0.4104\n",
      "Epoch 9/50\n",
      "44/44 [==============================] - 1s 17ms/step - loss: 2.0530 - accuracy: 0.4476 - val_loss: 2.0044 - val_accuracy: 0.4817\n",
      "Epoch 10/50\n",
      "44/44 [==============================] - 1s 17ms/step - loss: 1.8807 - accuracy: 0.4973 - val_loss: 1.8788 - val_accuracy: 0.5009\n",
      "Epoch 11/50\n",
      "44/44 [==============================] - 1s 17ms/step - loss: 1.7710 - accuracy: 0.5364 - val_loss: 1.7800 - val_accuracy: 0.5512\n",
      "Epoch 12/50\n",
      "44/44 [==============================] - 1s 17ms/step - loss: 1.6515 - accuracy: 0.5738 - val_loss: 1.7141 - val_accuracy: 0.5759\n",
      "Epoch 13/50\n",
      "44/44 [==============================] - 1s 16ms/step - loss: 1.5963 - accuracy: 0.5866 - val_loss: 1.7866 - val_accuracy: 0.5558\n",
      "Epoch 14/50\n",
      "44/44 [==============================] - 1s 17ms/step - loss: 1.5196 - accuracy: 0.6104 - val_loss: 1.5913 - val_accuracy: 0.5978\n",
      "Epoch 15/50\n",
      "44/44 [==============================] - 1s 16ms/step - loss: 1.4641 - accuracy: 0.6385 - val_loss: 1.6553 - val_accuracy: 0.5978\n",
      "Epoch 16/50\n",
      "44/44 [==============================] - 1s 18ms/step - loss: 1.4033 - accuracy: 0.6658 - val_loss: 1.5544 - val_accuracy: 0.6417\n",
      "Epoch 17/50\n",
      "44/44 [==============================] - 1s 18ms/step - loss: 1.3235 - accuracy: 0.6827 - val_loss: 1.5796 - val_accuracy: 0.6435\n",
      "Epoch 18/50\n",
      "44/44 [==============================] - 1s 17ms/step - loss: 1.2826 - accuracy: 0.7037 - val_loss: 1.4698 - val_accuracy: 0.6636\n",
      "Epoch 19/50\n",
      "44/44 [==============================] - 1s 17ms/step - loss: 1.2366 - accuracy: 0.7211 - val_loss: 1.4870 - val_accuracy: 0.6810\n",
      "Epoch 20/50\n",
      "44/44 [==============================] - 1s 17ms/step - loss: 1.2040 - accuracy: 0.7275 - val_loss: 1.4118 - val_accuracy: 0.6920\n",
      "Epoch 21/50\n",
      "44/44 [==============================] - 1s 16ms/step - loss: 1.1618 - accuracy: 0.7442 - val_loss: 1.4143 - val_accuracy: 0.6837\n",
      "Epoch 22/50\n",
      "44/44 [==============================] - 1s 16ms/step - loss: 1.1092 - accuracy: 0.7675 - val_loss: 1.4238 - val_accuracy: 0.6901\n",
      "Epoch 23/50\n",
      "44/44 [==============================] - 1s 18ms/step - loss: 1.1016 - accuracy: 0.7709 - val_loss: 1.3990 - val_accuracy: 0.7011\n",
      "Epoch 24/50\n",
      "44/44 [==============================] - 1s 17ms/step - loss: 1.0457 - accuracy: 0.7885 - val_loss: 1.4026 - val_accuracy: 0.7084\n",
      "Epoch 25/50\n",
      "44/44 [==============================] - 1s 16ms/step - loss: 1.0370 - accuracy: 0.7915 - val_loss: 1.4700 - val_accuracy: 0.6901\n",
      "Epoch 26/50\n",
      "44/44 [==============================] - 1s 17ms/step - loss: 1.0015 - accuracy: 0.8009 - val_loss: 1.3361 - val_accuracy: 0.7194\n",
      "Epoch 27/50\n",
      "44/44 [==============================] - 1s 16ms/step - loss: 0.9863 - accuracy: 0.8082 - val_loss: 1.3837 - val_accuracy: 0.7194\n",
      "Epoch 28/50\n",
      "44/44 [==============================] - 1s 17ms/step - loss: 0.9815 - accuracy: 0.8141 - val_loss: 1.3160 - val_accuracy: 0.7358\n",
      "Epoch 29/50\n",
      "44/44 [==============================] - 1s 16ms/step - loss: 0.9391 - accuracy: 0.8274 - val_loss: 1.3982 - val_accuracy: 0.7185\n",
      "Epoch 30/50\n",
      "44/44 [==============================] - 1s 16ms/step - loss: 0.9838 - accuracy: 0.8171 - val_loss: 1.3168 - val_accuracy: 0.7267\n",
      "Epoch 31/50\n",
      "44/44 [==============================] - 1s 15ms/step - loss: 0.8982 - accuracy: 0.8386 - val_loss: 1.4569 - val_accuracy: 0.7212\n",
      "Epoch 32/50\n",
      "44/44 [==============================] - 1s 17ms/step - loss: 0.9274 - accuracy: 0.8427 - val_loss: 1.2842 - val_accuracy: 0.7651\n",
      "Epoch 33/50\n",
      "44/44 [==============================] - 1s 16ms/step - loss: 0.8984 - accuracy: 0.8448 - val_loss: 1.3036 - val_accuracy: 0.7477\n",
      "Epoch 34/50\n",
      "44/44 [==============================] - 1s 15ms/step - loss: 0.8997 - accuracy: 0.8530 - val_loss: 1.4202 - val_accuracy: 0.7322\n",
      "Epoch 35/50\n",
      "44/44 [==============================] - 1s 16ms/step - loss: 0.8618 - accuracy: 0.8628 - val_loss: 1.3350 - val_accuracy: 0.7486\n",
      "Epoch 36/50\n",
      "44/44 [==============================] - 1s 16ms/step - loss: 0.8410 - accuracy: 0.8699 - val_loss: 1.3540 - val_accuracy: 0.7413\n",
      "Epoch 37/50\n",
      "44/44 [==============================] - 1s 16ms/step - loss: 0.8568 - accuracy: 0.8592 - val_loss: 1.3524 - val_accuracy: 0.7450\n",
      "Epoch 38/50\n",
      "44/44 [==============================] - 1s 16ms/step - loss: 0.8476 - accuracy: 0.8633 - val_loss: 1.2482 - val_accuracy: 0.7633\n",
      "Epoch 39/50\n",
      "44/44 [==============================] - 1s 16ms/step - loss: 0.8194 - accuracy: 0.8781 - val_loss: 1.3749 - val_accuracy: 0.7532\n",
      "Epoch 40/50\n",
      "44/44 [==============================] - 1s 16ms/step - loss: 0.8379 - accuracy: 0.8690 - val_loss: 1.2979 - val_accuracy: 0.7623\n",
      "Epoch 41/50\n",
      "44/44 [==============================] - 1s 16ms/step - loss: 0.8300 - accuracy: 0.8768 - val_loss: 1.3181 - val_accuracy: 0.7559\n",
      "Epoch 42/50\n",
      "44/44 [==============================] - 1s 16ms/step - loss: 0.8232 - accuracy: 0.8722 - val_loss: 1.3129 - val_accuracy: 0.7605\n",
      "Epoch 43/50\n",
      "44/44 [==============================] - 1s 16ms/step - loss: 0.8203 - accuracy: 0.8768 - val_loss: 1.4226 - val_accuracy: 0.7468\n",
      "Epoch 44/50\n",
      "44/44 [==============================] - 1s 16ms/step - loss: 0.7711 - accuracy: 0.8903 - val_loss: 1.3553 - val_accuracy: 0.7587\n",
      "Epoch 45/50\n",
      "44/44 [==============================] - 1s 17ms/step - loss: 0.7791 - accuracy: 0.8900 - val_loss: 1.3432 - val_accuracy: 0.7669\n",
      "Epoch 46/50\n",
      "44/44 [==============================] - 1s 16ms/step - loss: 0.7657 - accuracy: 0.8921 - val_loss: 1.3947 - val_accuracy: 0.7559\n",
      "Epoch 47/50\n",
      "44/44 [==============================] - 1s 16ms/step - loss: 0.7656 - accuracy: 0.8973 - val_loss: 1.4443 - val_accuracy: 0.7495\n",
      "Epoch 48/50\n",
      "44/44 [==============================] - 1s 16ms/step - loss: 0.8088 - accuracy: 0.8820 - val_loss: 1.3551 - val_accuracy: 0.7495\n",
      "Epoch 49/50\n",
      "44/44 [==============================] - 1s 16ms/step - loss: 0.7730 - accuracy: 0.8928 - val_loss: 1.3074 - val_accuracy: 0.7669\n",
      "Epoch 50/50\n",
      "44/44 [==============================] - 1s 16ms/step - loss: 0.7820 - accuracy: 0.8882 - val_loss: 1.3051 - val_accuracy: 0.7587\n",
      "CPU times: total: 48.6 s\n",
      "Wall time: 40 s\n"
     ]
    }
   ],
   "source": [
    "%%time\n",
    "batch_size = 100\n",
    "epochs = 50\n",
    "\n",
    "history = model.fit(\n",
    "  X_train, y_train_fixed,\n",
    "  batch_size=batch_size,\n",
    "  epochs=epochs,\n",
    "  validation_split=0.2,\n",
    "  shuffle=True,\n",
    "  callbacks=[model_checkpoint_callback]\n",
    ")"
   ]
  }
 ],
 "metadata": {
  "kernelspec": {
   "display_name": "env_torch",
   "language": "python",
   "name": "python3"
  },
  "language_info": {
   "codemirror_mode": {
    "name": "ipython",
    "version": 3
   },
   "file_extension": ".py",
   "mimetype": "text/x-python",
   "name": "python",
   "nbconvert_exporter": "python",
   "pygments_lexer": "ipython3",
   "version": "3.10.13"
  }
 },
 "nbformat": 4,
 "nbformat_minor": 2
}
