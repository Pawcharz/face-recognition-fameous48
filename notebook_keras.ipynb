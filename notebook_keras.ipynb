{
 "cells": [
  {
   "cell_type": "code",
   "execution_count": 28,
   "metadata": {},
   "outputs": [],
   "source": [
    "import numpy as np\n",
    "import tensorflow as tf\n",
    "from tensorflow import keras\n",
    "\n",
    "from keras import layers\n",
    "from keras import regularizers\n",
    "\n",
    "import re"
   ]
  },
  {
   "cell_type": "code",
   "execution_count": 29,
   "metadata": {},
   "outputs": [],
   "source": [
    "from keras import backend as K\n",
    "K.clear_session()"
   ]
  },
  {
   "cell_type": "code",
   "execution_count": 30,
   "metadata": {},
   "outputs": [
    {
     "name": "stdout",
     "output_type": "stream",
     "text": [
      "[PhysicalDevice(name='/physical_device:CPU:0', device_type='CPU'), PhysicalDevice(name='/physical_device:GPU:0', device_type='GPU')]\n"
     ]
    }
   ],
   "source": [
    "physical_devices = tf.config.list_physical_devices()\n",
    "CLASSES = 48\n",
    "IMAGE_SIZE = 24\n",
    "\n",
    "print(physical_devices)"
   ]
  },
  {
   "cell_type": "code",
   "execution_count": 31,
   "metadata": {},
   "outputs": [],
   "source": [
    "tf.config.set_visible_devices(physical_devices[1], 'GPU')"
   ]
  },
  {
   "cell_type": "markdown",
   "metadata": {},
   "source": [
    "## Building Dataset"
   ]
  },
  {
   "cell_type": "markdown",
   "metadata": {},
   "source": [
    "### Attributes description\n",
    "\n",
    "- a1 - face containing flag: (1-with face, 0-without face),\n",
    "- a2 - image number in current class (person) beginning from 0,\n",
    "- a3 - class (person) number beginning from 0,\n",
    "- a4 - sex (0 - woman, 1 - man)\n",
    "- a5 - race (0- white, 1 - negro, 2 - indian, ...)\n",
    "- a6 - age (0 - baby, 1 - young, 2 - middle-age, 3 - old) \n",
    "- a7 - binokulars (0 - without, 1 - transparent, 2 - dark)\n",
    "- a8 - emotional expression (not state!) (0 - sad, 1 - neutral, 2 - happy)"
   ]
  },
  {
   "cell_type": "code",
   "execution_count": 32,
   "metadata": {},
   "outputs": [],
   "source": [
    "N_TRAIN_EXAMPLES=int(len(X) * 0.8)\n",
    "N_TEST_EXAMPLES=len(X) - N_TRAIN_EXAMPLES"
   ]
  },
  {
   "cell_type": "code",
   "execution_count": 33,
   "metadata": {},
   "outputs": [],
   "source": [
    "def read_file(filename):\n",
    "  \n",
    "  with open(filename, 'r') as file:\n",
    "    lines = file.readlines()\n",
    "    \n",
    "    # Remove newLines\n",
    "    for i, line in enumerate(lines):\n",
    "      lines[i] = line.replace('\\n', '')\n",
    "    \n",
    "    # We assume these are integers\n",
    "    EXAMPLES_NR = int(lines[0])\n",
    "    PIXELS_NR = int(lines[1])\n",
    "    \n",
    "    inputs = np.zeros(EXAMPLES_NR, dtype=dict)\n",
    "    labels = np.zeros(EXAMPLES_NR, dtype=int)\n",
    "    \n",
    "    examples_raw = lines[2:EXAMPLES_NR]\n",
    "    \n",
    "    for i, example_raw in enumerate(examples_raw):\n",
    "      # Split by spaces (treats multiple as one)\n",
    "      tokens = re.split('\\s+', example_raw)\n",
    "      \n",
    "      pixel_values = np.array(tokens[0:PIXELS_NR])\n",
    "      attributes = tokens[PIXELS_NR:]       \n",
    "        \n",
    "      for j, el in enumerate(pixel_values):\n",
    "        pixel_values[j] = float(el)\n",
    "        \n",
    "      pixel_values = pixel_values.reshape([IMAGE_SIZE, IMAGE_SIZE])\n",
    "      \n",
    "      # Add everything to the dataset dictionary\n",
    "      \n",
    "      input_dict = {\n",
    "        \"pixel_values\": pixel_values,\n",
    "        \"face\": attributes[0],\n",
    "        \"image_number\": attributes[1],\n",
    "        \"sex\": attributes[3],\n",
    "        \"race\": attributes[4],\n",
    "        \"age\": attributes[5],\n",
    "        \"binoculars\": attributes[6],\n",
    "        \"emotion\": attributes[7],\n",
    "        # \"class\": attributes[2],\n",
    "      }\n",
    "      inputs[i] = input_dict\n",
    "      labels[i] = int(attributes[2])\n",
    "      \n",
    "  return inputs, labels"
   ]
  },
  {
   "cell_type": "code",
   "execution_count": 34,
   "metadata": {},
   "outputs": [],
   "source": [
    "# classes 0-15\n",
    "X_0, y_0 = read_file('./data/x24x24.txt')\n",
    "# classes 16-31\n",
    "X_1, y_1 = read_file('./data/y24x24.txt')\n",
    "# # classes 32-48\n",
    "X_2, y_2 = read_file('./data/z24x24.txt')\n",
    "\n",
    "# print(len(dataset_x), len(dataset_y), len(dataset_z))"
   ]
  },
  {
   "cell_type": "code",
   "execution_count": 35,
   "metadata": {},
   "outputs": [],
   "source": [
    "from sklearn.model_selection import train_test_split\n",
    "\n",
    "# Concatenate train and test images\n",
    "X = np.concatenate((X_0, X_1, X_2))\n",
    "y = np.concatenate((y_0, y_1, y_2))\n",
    "\n",
    "\n",
    "X_train, X_test, y_train, y_test = train_test_split(X, y, train_size=N_TRAIN_EXAMPLES, test_size=N_TEST_EXAMPLES, random_state=1)"
   ]
  },
  {
   "cell_type": "code",
   "execution_count": 36,
   "metadata": {},
   "outputs": [
    {
     "name": "stdout",
     "output_type": "stream",
     "text": [
      "1367\n"
     ]
    }
   ],
   "source": [
    "print(len(X_test))"
   ]
  },
  {
   "cell_type": "markdown",
   "metadata": {},
   "source": [
    "## Building a model"
   ]
  },
  {
   "cell_type": "markdown",
   "metadata": {},
   "source": [
    "AlexNet implementation in keras:\n",
    "\n",
    "```py\n",
    "  keras.Input(shape=(227, 227, 3)),\n",
    "  layers.Conv2D(96, kernel_size=11, strides=4, padding='same', activation=\"relu\"),\n",
    "  layers.MaxPooling2D(pool_size=3, strides=2),\n",
    "  layers.Conv2D(256, kernel_size=5, padding='same', activation=\"relu\"),\n",
    "  layers.MaxPooling2D(pool_size=3, strides=2),\n",
    "  layers.Conv2D(384, kernel_size=3, padding='same', activation=\"relu\"),\n",
    "  layers.Conv2D(384, kernel_size=3, padding='same', activation=\"relu\"),\n",
    "  layers.Conv2D(256, kernel_size=3, padding='same', activation=\"relu\"),\n",
    "  layers.MaxPooling2D(pool_size=3, strides=2),\n",
    "  layers.Dropout(0.5),\n",
    "  layers.Dense(4096, activation=\"relu\"),\n",
    "  layers.Dropout(0.5),\n",
    "  layers.Dense(4096, activation=\"relu\"),\n",
    "  layers.Dense(CLASSES, activation=\"softmax\")\n",
    "```"
   ]
  },
  {
   "cell_type": "code",
   "execution_count": 40,
   "metadata": {},
   "outputs": [
    {
     "name": "stdout",
     "output_type": "stream",
     "text": [
      "Model: \"sequential_3\"\n",
      "_________________________________________________________________\n",
      " Layer (type)                Output Shape              Param #   \n",
      "=================================================================\n",
      " conv2d_15 (Conv2D)          (None, 24, 24, 80)        800       \n",
      "                                                                 \n",
      " max_pooling2d_9 (MaxPooling  (None, 23, 23, 80)       0         \n",
      " 2D)                                                             \n",
      "                                                                 \n",
      " conv2d_16 (Conv2D)          (None, 23, 23, 112)       224112    \n",
      "                                                                 \n",
      " max_pooling2d_10 (MaxPoolin  (None, 11, 11, 112)      0         \n",
      " g2D)                                                            \n",
      "                                                                 \n",
      " conv2d_17 (Conv2D)          (None, 11, 11, 160)       161440    \n",
      "                                                                 \n",
      " conv2d_18 (Conv2D)          (None, 11, 11, 160)       230560    \n",
      "                                                                 \n",
      " conv2d_19 (Conv2D)          (None, 11, 11, 112)       161392    \n",
      "                                                                 \n",
      " max_pooling2d_11 (MaxPoolin  (None, 5, 5, 112)        0         \n",
      " g2D)                                                            \n",
      "                                                                 \n",
      " flatten_3 (Flatten)         (None, 2800)              0         \n",
      "                                                                 \n",
      " dropout_6 (Dropout)         (None, 2800)              0         \n",
      "                                                                 \n",
      " dense_9 (Dense)             (None, 768)               2151168   \n",
      "                                                                 \n",
      " dropout_7 (Dropout)         (None, 768)               0         \n",
      "                                                                 \n",
      " dense_10 (Dense)            (None, 768)               590592    \n",
      "                                                                 \n",
      " dense_11 (Dense)            (None, 48)                36912     \n",
      "                                                                 \n",
      "=================================================================\n",
      "Total params: 3,556,976\n",
      "Trainable params: 3,556,976\n",
      "Non-trainable params: 0\n",
      "_________________________________________________________________\n"
     ]
    }
   ],
   "source": [
    "conv_regularizer = regularizers.l2(l=0.01)\n",
    "dense_regularizer = regularizers.l2(l=0.01)\n",
    "\n",
    "model = keras.Sequential(\n",
    "  [\n",
    "    keras.Input(shape=(IMAGE_SIZE, IMAGE_SIZE, 1)),\n",
    "    layers.Conv2D(80, kernel_size=3, strides=1, padding='same', activation=\"relu\", kernel_regularizer=conv_regularizer),\n",
    "    layers.MaxPooling2D(pool_size=2, strides=1),\n",
    "    layers.Conv2D(112, kernel_size=5, padding='same', activation=\"relu\", kernel_regularizer=conv_regularizer),\n",
    "    layers.MaxPooling2D(pool_size=3, strides=2),\n",
    "    layers.Conv2D(160, kernel_size=3, padding='same', activation=\"relu\", kernel_regularizer=conv_regularizer),\n",
    "    layers.Conv2D(160, kernel_size=3, padding='same', activation=\"relu\", kernel_regularizer=conv_regularizer),\n",
    "    layers.Conv2D(112, kernel_size=3, padding='same', activation=\"relu\", kernel_regularizer=conv_regularizer),\n",
    "    layers.MaxPooling2D(pool_size=3, strides=2),\n",
    "    layers.Flatten(),\n",
    "    layers.Dropout(0.4),\n",
    "    layers.Dense(768, activation=\"relu\", kernel_regularizer=dense_regularizer),\n",
    "    layers.Dropout(0.4),\n",
    "    layers.Dense(768, activation=\"relu\", kernel_regularizer=dense_regularizer),\n",
    "    layers.Dense(CLASSES, activation=\"softmax\"),\n",
    "    \n",
    "  ]\n",
    ")\n",
    "\n",
    "model.summary()"
   ]
  },
  {
   "cell_type": "markdown",
   "metadata": {},
   "source": [
    "## Training Preparation"
   ]
  }
 ],
 "metadata": {
  "kernelspec": {
   "display_name": "env_torch",
   "language": "python",
   "name": "python3"
  },
  "language_info": {
   "codemirror_mode": {
    "name": "ipython",
    "version": 3
   },
   "file_extension": ".py",
   "mimetype": "text/x-python",
   "name": "python",
   "nbconvert_exporter": "python",
   "pygments_lexer": "ipython3",
   "version": "3.10.13"
  }
 },
 "nbformat": 4,
 "nbformat_minor": 2
}
