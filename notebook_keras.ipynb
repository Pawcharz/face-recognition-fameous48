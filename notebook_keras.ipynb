{
 "cells": [
  {
   "cell_type": "code",
   "execution_count": 1,
   "metadata": {},
   "outputs": [],
   "source": [
    "import numpy as np\n",
    "import tensorflow as tf\n",
    "from tensorflow import keras\n",
    "\n",
    "from keras import layers\n",
    "from keras import regularizers\n",
    "from keras import backend as K\n",
    "from keras import Sequential, Input\n",
    "from keras.optimizers import SGD, Adam\n",
    "from keras.losses import categorical_crossentropy\n",
    "from keras.callbacks import LearningRateScheduler\n",
    "\n",
    "import matplotlib.pyplot as plt\n",
    "\n",
    "import math"
   ]
  },
  {
   "cell_type": "code",
   "execution_count": 2,
   "metadata": {},
   "outputs": [],
   "source": [
    "# make the result reproducible\n",
    "keras.utils.set_random_seed(42)"
   ]
  },
  {
   "cell_type": "code",
   "execution_count": 3,
   "metadata": {},
   "outputs": [
    {
     "name": "stdout",
     "output_type": "stream",
     "text": [
      "[PhysicalDevice(name='/physical_device:CPU:0', device_type='CPU'), PhysicalDevice(name='/physical_device:GPU:0', device_type='GPU')]\n"
     ]
    }
   ],
   "source": [
    "physical_devices = tf.config.list_physical_devices()\n",
    "print(physical_devices)"
   ]
  },
  {
   "cell_type": "code",
   "execution_count": 4,
   "metadata": {},
   "outputs": [],
   "source": [
    "tf.config.set_visible_devices(physical_devices[1], 'GPU')"
   ]
  },
  {
   "cell_type": "markdown",
   "metadata": {},
   "source": [
    "## Building Dataset"
   ]
  },
  {
   "cell_type": "markdown",
   "metadata": {},
   "source": [
    "### Attributes description\n",
    "\n",
    "- a1 - face containing flag: (1-with face, 0-without face),\n",
    "- a2 - image number in current class (person) beginning from 0,\n",
    "- a3 - class (person) number beginning from 0,\n",
    "- a4 - sex (0 - woman, 1 - man)\n",
    "- a5 - race (0- white, 1 - negro, 2 - indian, ...)\n",
    "- a6 - age (0 - baby, 1 - young, 2 - middle-age, 3 - old) \n",
    "- a7 - binokulars (0 - without, 1 - transparent, 2 - dark)\n",
    "- a8 - emotional expression (not state!) (0 - sad, 1 - neutral, 2 - happy)"
   ]
  },
  {
   "cell_type": "code",
   "execution_count": 5,
   "metadata": {},
   "outputs": [],
   "source": [
    "from utils.load_dataset import load_dataset\n",
    "\n",
    "DIRPATH = './data'\n",
    "X_train, X_test, y_train, y_test = load_dataset(DIRPATH)"
   ]
  },
  {
   "cell_type": "markdown",
   "metadata": {},
   "source": [
    "## Building a model"
   ]
  },
  {
   "cell_type": "markdown",
   "metadata": {},
   "source": [
    "Testing LeNet-5 Architecture"
   ]
  },
  {
   "cell_type": "code",
   "execution_count": 6,
   "metadata": {},
   "outputs": [
    {
     "name": "stdout",
     "output_type": "stream",
     "text": [
      "Model: \"sequential\"\n",
      "_________________________________________________________________\n",
      " Layer (type)                Output Shape              Param #   \n",
      "=================================================================\n",
      " conv2d (Conv2D)             (None, 24, 24, 6)         156       \n",
      "                                                                 \n",
      " max_pooling2d (MaxPooling2D  (None, 12, 12, 6)        0         \n",
      " )                                                               \n",
      "                                                                 \n",
      " dropout (Dropout)           (None, 12, 12, 6)         0         \n",
      "                                                                 \n",
      " conv2d_1 (Conv2D)           (None, 12, 12, 16)        2416      \n",
      "                                                                 \n",
      " max_pooling2d_1 (MaxPooling  (None, 6, 6, 16)         0         \n",
      " 2D)                                                             \n",
      "                                                                 \n",
      " dropout_1 (Dropout)         (None, 6, 6, 16)          0         \n",
      "                                                                 \n",
      " conv2d_2 (Conv2D)           (None, 6, 6, 120)         48120     \n",
      "                                                                 \n",
      " flatten (Flatten)           (None, 4320)              0         \n",
      "                                                                 \n",
      " dropout_2 (Dropout)         (None, 4320)              0         \n",
      "                                                                 \n",
      " dense (Dense)               (None, 84)                362964    \n",
      "                                                                 \n",
      " dense_1 (Dense)             (None, 48)                4080      \n",
      "                                                                 \n",
      "=================================================================\n",
      "Total params: 417,736\n",
      "Trainable params: 417,736\n",
      "Non-trainable params: 0\n",
      "_________________________________________________________________\n"
     ]
    }
   ],
   "source": [
    "from utils.constrains import CLASSES, IMAGE_SIZE\n",
    "\n",
    "conv_regularizer = regularizers.l2(0.0006)\n",
    "dense_regularizer = regularizers.l2(0.01)\n",
    "\n",
    "# conv_regularizer = regularizers.l2(0)\n",
    "# dense_regularizer = regularizers.l2(0)\n",
    "\n",
    "activation_def = 'tanh'\n",
    "\n",
    "model = Sequential(\n",
    "  [\n",
    "    Input(shape=(IMAGE_SIZE, IMAGE_SIZE, 1)),\n",
    "    layers.Conv2D(6, kernel_size=5, padding='same', activation=activation_def, kernel_regularizer=conv_regularizer),\n",
    "    layers.MaxPooling2D(pool_size=2, strides=2),\n",
    "\n",
    "    layers.Dropout(0.15),\n",
    "    layers.Conv2D(16, kernel_size=5, padding='same', activation=activation_def, kernel_regularizer=conv_regularizer),\n",
    "    layers.MaxPooling2D(pool_size=2, strides=2),\n",
    "\n",
    "    layers.Dropout(0.25),\n",
    "    layers.Conv2D(120, kernel_size=5, padding='same', activation=activation_def, kernel_regularizer=conv_regularizer),\n",
    "\n",
    "    layers.Flatten(),\n",
    "    layers.Dropout(0.35),\n",
    "    layers.Dense(84, activation=activation_def, kernel_regularizer=dense_regularizer),\n",
    "    layers.Dense(CLASSES, activation='softmax'),\n",
    "  ]\n",
    ")\n",
    "\n",
    "model.summary()"
   ]
  },
  {
   "cell_type": "code",
   "execution_count": 7,
   "metadata": {},
   "outputs": [],
   "source": [
    "# def get_lr_metric(optimizer):\n",
    "#   def lr(y_true, y_pred):\n",
    "#     return optimizer._decayed_lr(tf.float32) # I use ._decayed_lr method instead of .lr\n",
    "#   return lr\n",
    "\n",
    "# lr_metric = get_lr_metric(optimizer)\n",
    "# model.compile(loss=categorical_crossentropy, optimizer=optimizer, metrics=[\"accuracy\", lr_metric])\n",
    "\n",
    "\n",
    "optimizer = Adam(learning_rate=0.001)\n",
    "model.compile(loss=categorical_crossentropy, optimizer=optimizer, metrics=[\"accuracy\"])"
   ]
  },
  {
   "cell_type": "code",
   "execution_count": 8,
   "metadata": {},
   "outputs": [],
   "source": [
    "# def step_decay(epoch):\n",
    "#   initial_lrate = 0.1\n",
    "#   drop = 0.9\n",
    "#   epochs_drop = 10.0\n",
    "#   lrate = initial_lrate * math.pow(drop,  \n",
    "#           math.floor((1+epoch)/epochs_drop))\n",
    "#   return lrate\n",
    " \n",
    "# lrate_scheduler_callback = LearningRateScheduler(step_decay)"
   ]
  },
  {
   "cell_type": "markdown",
   "metadata": {},
   "source": [
    "## Training Preparation"
   ]
  },
  {
   "cell_type": "code",
   "execution_count": 9,
   "metadata": {},
   "outputs": [],
   "source": [
    "CHECKPOINT_PATH = 'models/checkpoints/famous48_test_model_v2_best.keras'"
   ]
  },
  {
   "cell_type": "code",
   "execution_count": 10,
   "metadata": {},
   "outputs": [],
   "source": [
    "model_checkpoint_callback = keras.callbacks.ModelCheckpoint(\n",
    "  filepath=CHECKPOINT_PATH,\n",
    "  save_weights_only=False,\n",
    "  monitor='val_accuracy',\n",
    "  mode='max',\n",
    "  save_best_only=True,\n",
    ")"
   ]
  },
  {
   "cell_type": "code",
   "execution_count": 11,
   "metadata": {},
   "outputs": [
    {
     "name": "stdout",
     "output_type": "stream",
     "text": [
      "Epoch 1/20\n",
      "22/22 [==============================] - 3s 24ms/step - loss: 4.9319 - accuracy: 0.0663 - val_loss: 4.2841 - val_accuracy: 0.1197\n",
      "Epoch 2/20\n",
      "22/22 [==============================] - 1s 29ms/step - loss: 3.6980 - accuracy: 0.2220 - val_loss: 3.2366 - val_accuracy: 0.2797\n",
      "Epoch 3/20\n",
      "22/22 [==============================] - 0s 15ms/step - loss: 2.9385 - accuracy: 0.3487 - val_loss: 2.7531 - val_accuracy: 0.3647\n",
      "Epoch 4/20\n",
      "22/22 [==============================] - 0s 10ms/step - loss: 2.5687 - accuracy: 0.4326 - val_loss: 2.4915 - val_accuracy: 0.4260\n",
      "Epoch 5/20\n",
      "22/22 [==============================] - 0s 10ms/step - loss: 2.3682 - accuracy: 0.4785 - val_loss: 2.2455 - val_accuracy: 0.4991\n",
      "Epoch 6/20\n",
      "22/22 [==============================] - 0s 12ms/step - loss: 2.2024 - accuracy: 0.5208 - val_loss: 2.1267 - val_accuracy: 0.5439\n",
      "Epoch 7/20\n",
      "22/22 [==============================] - 0s 10ms/step - loss: 2.0991 - accuracy: 0.5457 - val_loss: 2.0244 - val_accuracy: 0.5612\n",
      "Epoch 8/20\n",
      "22/22 [==============================] - 0s 10ms/step - loss: 1.9938 - accuracy: 0.5764 - val_loss: 1.9112 - val_accuracy: 0.5896\n",
      "Epoch 9/20\n",
      "22/22 [==============================] - 0s 11ms/step - loss: 1.9169 - accuracy: 0.5887 - val_loss: 1.8797 - val_accuracy: 0.5859\n",
      "Epoch 10/20\n",
      "22/22 [==============================] - 0s 10ms/step - loss: 1.8383 - accuracy: 0.6159 - val_loss: 1.8114 - val_accuracy: 0.6207\n",
      "Epoch 11/20\n",
      "22/22 [==============================] - 0s 10ms/step - loss: 1.7658 - accuracy: 0.6287 - val_loss: 1.7501 - val_accuracy: 0.6325\n",
      "Epoch 12/20\n",
      "22/22 [==============================] - 0s 12ms/step - loss: 1.7366 - accuracy: 0.6328 - val_loss: 1.6728 - val_accuracy: 0.6563\n",
      "Epoch 13/20\n",
      "22/22 [==============================] - 0s 10ms/step - loss: 1.6699 - accuracy: 0.6559 - val_loss: 1.6176 - val_accuracy: 0.6700\n",
      "Epoch 14/20\n",
      "22/22 [==============================] - 0s 11ms/step - loss: 1.6212 - accuracy: 0.6786 - val_loss: 1.6152 - val_accuracy: 0.6618\n",
      "Epoch 15/20\n",
      "22/22 [==============================] - 0s 10ms/step - loss: 1.5945 - accuracy: 0.6829 - val_loss: 1.5949 - val_accuracy: 0.6718\n",
      "Epoch 16/20\n",
      "22/22 [==============================] - 0s 10ms/step - loss: 1.5654 - accuracy: 0.6829 - val_loss: 1.5311 - val_accuracy: 0.6901\n",
      "Epoch 17/20\n",
      "22/22 [==============================] - 0s 11ms/step - loss: 1.5188 - accuracy: 0.6978 - val_loss: 1.4992 - val_accuracy: 0.6929\n",
      "Epoch 18/20\n",
      "22/22 [==============================] - 0s 11ms/step - loss: 1.4857 - accuracy: 0.6973 - val_loss: 1.4797 - val_accuracy: 0.7057\n",
      "Epoch 19/20\n",
      "22/22 [==============================] - 0s 11ms/step - loss: 1.4667 - accuracy: 0.7085 - val_loss: 1.4524 - val_accuracy: 0.7121\n",
      "Epoch 20/20\n",
      "22/22 [==============================] - 0s 10ms/step - loss: 1.4470 - accuracy: 0.7126 - val_loss: 1.4631 - val_accuracy: 0.7011\n",
      "CPU times: total: 9.41 s\n",
      "Wall time: 8.21 s\n"
     ]
    }
   ],
   "source": [
    "%%time\n",
    "batch_size = 200\n",
    "epochs = 20\n",
    "\n",
    "history = model.fit(\n",
    "  X_train, y_train,\n",
    "  batch_size=batch_size,\n",
    "  epochs=epochs,\n",
    "  validation_split=0.2,\n",
    "  shuffle=True,\n",
    "  # callbacks=[model_checkpoint_callback, lrate_scheduler_callback]\n",
    ")"
   ]
  },
  {
   "cell_type": "code",
   "execution_count": 12,
   "metadata": {},
   "outputs": [
    {
     "data": {
      "image/png": "[encoded data removed]",
      "text/plain": [
       "<Figure size 1000x600 with 1 Axes>"
      ]
     },
     "metadata": {},
     "output_type": "display_data"
    }
   ],
   "source": [
    "plt.figure(figsize=(10, 6))\n",
    "plt.plot(history.history['accuracy'])\n",
    "plt.plot(history.history['val_accuracy'])\n",
    "plt.title('model accuracy')\n",
    "plt.ylabel('accuracy')\n",
    "plt.xlabel('epoch')\n",
    "plt.legend(['train', 'val'], loc='upper left')\n",
    "plt.show()"
   ]
  },
  {
   "cell_type": "code",
   "execution_count": 13,
   "metadata": {},
   "outputs": [
    {
     "name": "stdout",
     "output_type": "stream",
     "text": [
      "train set accuracy: 0.71\n",
      "validation set accuracy: 0.7\n"
     ]
    }
   ],
   "source": [
    "length = len(history.history['accuracy'])\n",
    "print(\"train set accuracy:\", round(history.history['accuracy'][length-1], 2))\n",
    "print(\"validation set accuracy:\", round(history.history['val_accuracy'][length-1], 2))"
   ]
  },
  {
   "cell_type": "code",
   "execution_count": 14,
   "metadata": {},
   "outputs": [
    {
     "name": "stdout",
     "output_type": "stream",
     "text": [
      "43/43 [==============================] - 0s 4ms/step - loss: 1.4708 - accuracy: 0.7030\n",
      "test set accuracy: 0.7\n"
     ]
    }
   ],
   "source": [
    "# model.load_weights(\"models/checkpoints/famous48_test_model_v2_best.keras\")\n",
    "results = model.evaluate(X_test, y_test)\n",
    "print(\"test set accuracy:\", round(results[1], 2))"
   ]
  }
 ],
 "metadata": {
  "kernelspec": {
   "display_name": "env_torch",
   "language": "python",
   "name": "python3"
  },
  "language_info": {
   "codemirror_mode": {
    "name": "ipython",
    "version": 3
   },
   "file_extension": ".py",
   "mimetype": "text/x-python",
   "name": "python",
   "nbconvert_exporter": "python",
   "pygments_lexer": "ipython3",
   "version": "3.10.13"
  }
 },
 "nbformat": 4,
 "nbformat_minor": 2
}
