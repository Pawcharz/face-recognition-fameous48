{
 "cells": [
  {
   "cell_type": "code",
   "execution_count": 141,
   "metadata": {},
   "outputs": [],
   "source": [
    "import numpy as np\n",
    "import tensorflow as tf\n",
    "from tensorflow import keras\n",
    "\n",
    "from keras import layers\n",
    "from keras import regularizers\n",
    "\n",
    "import re"
   ]
  },
  {
   "cell_type": "code",
   "execution_count": 142,
   "metadata": {},
   "outputs": [],
   "source": [
    "from keras import backend as K\n",
    "K.clear_session()"
   ]
  },
  {
   "cell_type": "code",
   "execution_count": 143,
   "metadata": {},
   "outputs": [
    {
     "name": "stdout",
     "output_type": "stream",
     "text": [
      "[PhysicalDevice(name='/physical_device:CPU:0', device_type='CPU'), PhysicalDevice(name='/physical_device:GPU:0', device_type='GPU')]\n"
     ]
    }
   ],
   "source": [
    "physical_devices = tf.config.list_physical_devices()\n",
    "CLASSES = 48\n",
    "IMAGE_SIZE = 24\n",
    "\n",
    "print(physical_devices)"
   ]
  },
  {
   "cell_type": "code",
   "execution_count": 144,
   "metadata": {},
   "outputs": [],
   "source": [
    "tf.config.set_visible_devices(physical_devices[1], 'GPU')"
   ]
  },
  {
   "cell_type": "markdown",
   "metadata": {},
   "source": [
    "## Building Dataset"
   ]
  },
  {
   "cell_type": "markdown",
   "metadata": {},
   "source": [
    "### Attributes description\n",
    "\n",
    "- a1 - face containing flag: (1-with face, 0-without face),\n",
    "- a2 - image number in current class (person) beginning from 0,\n",
    "- a3 - class (person) number beginning from 0,\n",
    "- a4 - sex (0 - woman, 1 - man)\n",
    "- a5 - race (0- white, 1 - negro, 2 - indian, ...)\n",
    "- a6 - age (0 - baby, 1 - young, 2 - middle-age, 3 - old) \n",
    "- a7 - binokulars (0 - without, 1 - transparent, 2 - dark)\n",
    "- a8 - emotional expression (not state!) (0 - sad, 1 - neutral, 2 - happy)"
   ]
  },
  {
   "cell_type": "code",
   "execution_count": 145,
   "metadata": {},
   "outputs": [],
   "source": [
    "def read_file(filename):\n",
    "  \n",
    "  with open(filename, 'r') as file:\n",
    "    lines = file.readlines()\n",
    "    \n",
    "    # Remove newLines\n",
    "    for i, line in enumerate(lines):\n",
    "      lines[i] = line.replace('\\n', '')\n",
    "    \n",
    "    # We assume these are integers\n",
    "    EXAMPLES_NR = int(lines[0])\n",
    "    PIXELS_NR = int(lines[1])\n",
    "    \n",
    "    inputs = list()\n",
    "    labels = np.zeros(EXAMPLES_NR, dtype=int)\n",
    "    \n",
    "    examples_raw = lines[2:EXAMPLES_NR+2]\n",
    "    \n",
    "    for i, example_raw in enumerate(examples_raw):\n",
    "      # Split by spaces (treats multiple as one)\n",
    "      tokens = re.split('\\s+', example_raw)\n",
    "      \n",
    "      pixel_values = np.array(tokens[0:PIXELS_NR])\n",
    "      attributes = tokens[PIXELS_NR:]\n",
    "      \n",
    "      pixel_values = np.array(pixel_values, dtype=float)\n",
    "      pixel_values = pixel_values.reshape([IMAGE_SIZE, IMAGE_SIZE])\n",
    "      \n",
    "      inputs.append(pixel_values)\n",
    "      labels[i] = int(attributes[2])\n",
    "      \n",
    "    inputs = np.array(inputs)\n",
    "  return inputs, labels"
   ]
  },
  {
   "cell_type": "code",
   "execution_count": 146,
   "metadata": {},
   "outputs": [
    {
     "name": "stdout",
     "output_type": "stream",
     "text": [
      "2321 2321\n",
      "2208 2208\n",
      "2306 2306\n"
     ]
    }
   ],
   "source": [
    "# classes 0-15\n",
    "X_0, y_0 = read_file('./data/x24x24.txt')\n",
    "# classes 16-31\n",
    "X_1, y_1 = read_file('./data/y24x24.txt')\n",
    "# # classes 32-48\n",
    "X_2, y_2 = read_file('./data/z24x24.txt')\n",
    "\n",
    "print(len(X_0), len(y_0))\n",
    "print(len(X_1), len(y_1))\n",
    "print(len(X_2), len(y_2))"
   ]
  },
  {
   "cell_type": "code",
   "execution_count": 147,
   "metadata": {},
   "outputs": [
    {
     "name": "stdout",
     "output_type": "stream",
     "text": [
      "6835 6835\n"
     ]
    }
   ],
   "source": [
    "from sklearn.model_selection import train_test_split\n",
    "\n",
    "# Concatenate train and test images\n",
    "X = np.concatenate((X_0, X_1, X_2))\n",
    "y = np.concatenate((y_0, y_1, y_2))\n",
    "print(len(X), len(y))\n",
    "\n",
    "N_TRAIN_EXAMPLES=int(len(X) * 0.8)\n",
    "N_TEST_EXAMPLES=len(X) - N_TRAIN_EXAMPLES\n",
    "\n",
    "\n",
    "X_train, X_test, y_train, y_test = train_test_split(X, y, train_size=N_TRAIN_EXAMPLES, test_size=N_TEST_EXAMPLES, random_state=1)\n",
    "\n",
    "# One-Hot encoding\n",
    "# Getting dummy variables\n",
    "y_train_fixed = np.zeros((y_train.shape[0], CLASSES))\n",
    "# y_valid_fixed = np.zeros((y_valid.shape[0], 10))\n",
    "y_test_fixed = np.zeros((y_test.shape[0], CLASSES))\n",
    "\n",
    "for i, value in enumerate(y_train):\n",
    "  y_train_fixed[i][value] = 1\n",
    "  \n",
    "for i, value in enumerate(y_test):\n",
    "  y_test_fixed[i][value] = 1"
   ]
  },
  {
   "cell_type": "code",
   "execution_count": 148,
   "metadata": {},
   "outputs": [
    {
     "name": "stdout",
     "output_type": "stream",
     "text": [
      "1367\n"
     ]
    }
   ],
   "source": [
    "print(len(X_test))"
   ]
  },
  {
   "cell_type": "markdown",
   "metadata": {},
   "source": [
    "## Building a model"
   ]
  },
  {
   "cell_type": "markdown",
   "metadata": {},
   "source": [
    "I decided to down-scale the alexNet as it was for the long time the SOTA Convolutional Neural Network Architecture\n",
    "\n",
    "Full AlexNet implementation in keras:\n",
    "\n",
    "```py\n",
    "  keras.Input(shape=(227, 227, 3)),\n",
    "  layers.Conv2D(96, kernel_size=11, strides=4, padding='same', activation=\"relu\"),\n",
    "  layers.MaxPooling2D(pool_size=3, strides=2),\n",
    "  layers.Conv2D(256, kernel_size=5, padding='same', activation=\"relu\"),\n",
    "  layers.MaxPooling2D(pool_size=3, strides=2),\n",
    "  layers.Conv2D(384, kernel_size=3, padding='same', activation=\"relu\"),\n",
    "  layers.Conv2D(384, kernel_size=3, padding='same', activation=\"relu\"),\n",
    "  layers.Conv2D(256, kernel_size=3, padding='same', activation=\"relu\"),\n",
    "  layers.MaxPooling2D(pool_size=3, strides=2),\n",
    "  layers.Dropout(0.5),\n",
    "  layers.Dense(4096, activation=\"relu\"),\n",
    "  layers.Dropout(0.5),\n",
    "  layers.Dense(4096, activation=\"relu\"),\n",
    "  layers.Dense(CLASSES, activation=\"softmax\")\n",
    "```"
   ]
  },
  {
   "cell_type": "code",
   "execution_count": 149,
   "metadata": {},
   "outputs": [
    {
     "name": "stdout",
     "output_type": "stream",
     "text": [
      "Model: \"sequential\"\n",
      "_________________________________________________________________\n",
      " Layer (type)                Output Shape              Param #   \n",
      "=================================================================\n",
      " conv2d (Conv2D)             (None, 12, 12, 64)        1664      \n",
      "                                                                 \n",
      " leaky_re_lu (LeakyReLU)     (None, 12, 12, 64)        0         \n",
      "                                                                 \n",
      " dropout (Dropout)           (None, 12, 12, 64)        0         \n",
      "                                                                 \n",
      " conv2d_1 (Conv2D)           (None, 6, 6, 128)         204928    \n",
      "                                                                 \n",
      " leaky_re_lu_1 (LeakyReLU)   (None, 6, 6, 128)         0         \n",
      "                                                                 \n",
      " dropout_1 (Dropout)         (None, 6, 6, 128)         0         \n",
      "                                                                 \n",
      " conv2d_2 (Conv2D)           (None, 3, 3, 256)         819456    \n",
      "                                                                 \n",
      " leaky_re_lu_2 (LeakyReLU)   (None, 3, 3, 256)         0         \n",
      "                                                                 \n",
      " dropout_2 (Dropout)         (None, 3, 3, 256)         0         \n",
      "                                                                 \n",
      " conv2d_3 (Conv2D)           (None, 2, 2, 256)         590080    \n",
      "                                                                 \n",
      " leaky_re_lu_3 (LeakyReLU)   (None, 2, 2, 256)         0         \n",
      "                                                                 \n",
      " dropout_3 (Dropout)         (None, 2, 2, 256)         0         \n",
      "                                                                 \n",
      " flatten (Flatten)           (None, 1024)              0         \n",
      "                                                                 \n",
      " dense (Dense)               (None, 48)                49200     \n",
      "                                                                 \n",
      "=================================================================\n",
      "Total params: 1,665,328\n",
      "Trainable params: 1,665,328\n",
      "Non-trainable params: 0\n",
      "_________________________________________________________________\n"
     ]
    }
   ],
   "source": [
    "conv_regularizer = regularizers.l2(l=0.0007)\n",
    "dense_regularizer = regularizers.l2(l=0.03)\n",
    "\n",
    "model = keras.Sequential(\n",
    "  [\n",
    "    # keras.Input(shape=(IMAGE_SIZE, IMAGE_SIZE, 1)),\n",
    "    # layers.Conv2D(24, kernel_size=3, strides=1, padding='same', activation=\"relu\", kernel_regularizer=conv_regularizer),\n",
    "    # layers.MaxPooling2D(pool_size=2, strides=1),\n",
    "    # layers.Conv2D(64, kernel_size=5, padding='same', activation=\"relu\", kernel_regularizer=conv_regularizer),\n",
    "    # layers.MaxPooling2D(pool_size=3, strides=2),\n",
    "    # layers.Conv2D(96, kernel_size=3, padding='same', activation=\"relu\", kernel_regularizer=conv_regularizer),\n",
    "    # layers.Conv2D(96, kernel_size=3, padding='same', activation=\"relu\", kernel_regularizer=conv_regularizer),\n",
    "    # layers.Conv2D(64, kernel_size=3, padding='same', activation=\"relu\", kernel_regularizer=conv_regularizer),\n",
    "    # layers.MaxPooling2D(pool_size=3, strides=2),\n",
    "    # layers.Flatten(),\n",
    "    # layers.Dropout(0.3),\n",
    "    # layers.Dense(512, activation=\"relu\", kernel_regularizer=dense_regularizer),\n",
    "    # layers.Dropout(0.4),\n",
    "    # layers.Dense(512, activation=\"relu\", kernel_regularizer=dense_regularizer),\n",
    "    # layers.Dense(CLASSES, activation=\"softmax\"),\n",
    "    \n",
    "    \n",
    "    # keras.Input(shape=(IMAGE_SIZE, IMAGE_SIZE, 1)),\n",
    "    # layers.Conv2D(24, kernel_size=3, strides=1, padding='same', activation=\"relu\", kernel_regularizer=conv_regularizer),\n",
    "    # layers.MaxPooling2D(pool_size=2, strides=1),\n",
    "    # layers.Conv2D(32, kernel_size=5, padding='same', activation=\"relu\", kernel_regularizer=conv_regularizer),\n",
    "    # layers.MaxPooling2D(pool_size=3, strides=2),\n",
    "    # layers.Conv2D(48, kernel_size=3, padding='same', activation=\"relu\", kernel_regularizer=conv_regularizer),\n",
    "    # layers.Conv2D(48, kernel_size=3, padding='same', activation=\"relu\", kernel_regularizer=conv_regularizer),\n",
    "    # layers.Conv2D(32, kernel_size=3, padding='same', activation=\"relu\", kernel_regularizer=conv_regularizer),\n",
    "    # layers.MaxPooling2D(pool_size=3, strides=2),\n",
    "    # layers.Flatten(),\n",
    "    # layers.Dropout(0.3),\n",
    "    # layers.Dense(256, activation=\"relu\", kernel_regularizer=dense_regularizer),\n",
    "    # layers.Dropout(0.4),\n",
    "    # layers.Dense(256, activation=\"relu\", kernel_regularizer=dense_regularizer),\n",
    "    # layers.Dense(CLASSES, activation=\"softmax\"),\n",
    "  \n",
    "\n",
    "    keras.Input(shape=(IMAGE_SIZE, IMAGE_SIZE, 1)),\n",
    "    layers.Conv2D(64, kernel_size=5, strides=2, padding='same', kernel_regularizer=conv_regularizer),\n",
    "    layers.LeakyReLU(),\n",
    "    layers.Dropout(0.2),\n",
    "    layers.Conv2D(128, kernel_size=5, strides=2, padding='same', kernel_regularizer=conv_regularizer),\n",
    "    layers.LeakyReLU(),\n",
    "    layers.Dropout(0.3),\n",
    "    layers.Conv2D(256, kernel_size=5, strides=2, padding='same', kernel_regularizer=conv_regularizer),\n",
    "    layers.LeakyReLU(),\n",
    "    layers.Dropout(0.4),\n",
    "    layers.Conv2D(256, kernel_size=3, strides=2, padding='same', kernel_regularizer=conv_regularizer),\n",
    "    layers.LeakyReLU(),\n",
    "    layers.Dropout(0.45),\n",
    "    layers.Flatten(),\n",
    "    layers.Dense(CLASSES, activation='softmax'),\n",
    "  ]\n",
    ")\n",
    "\n",
    "model.summary()"
   ]
  },
  {
   "cell_type": "code",
   "execution_count": 150,
   "metadata": {},
   "outputs": [],
   "source": [
    "model.compile(loss=\"categorical_crossentropy\", optimizer=\"adam\", metrics=[\"accuracy\"])"
   ]
  },
  {
   "cell_type": "markdown",
   "metadata": {},
   "source": [
    "## Training Preparation"
   ]
  },
  {
   "cell_type": "code",
   "execution_count": 151,
   "metadata": {},
   "outputs": [],
   "source": [
    "CHECKPOINT_PATH = 'models/checkpoints/famous48_test_model_v1_best.keras'"
   ]
  },
  {
   "cell_type": "code",
   "execution_count": 152,
   "metadata": {},
   "outputs": [],
   "source": [
    "model_checkpoint_callback = keras.callbacks.ModelCheckpoint(\n",
    "  filepath=CHECKPOINT_PATH,\n",
    "  save_weights_only=False,\n",
    "  monitor='val_accuracy',\n",
    "  mode='max',\n",
    "  save_best_only=True,\n",
    ")"
   ]
  },
  {
   "cell_type": "code",
   "execution_count": 153,
   "metadata": {},
   "outputs": [
    {
     "name": "stdout",
     "output_type": "stream",
     "text": [
      "Epoch 1/50\n",
      "22/22 [==============================] - 1s 27ms/step - loss: 4.1414 - accuracy: 0.0519 - val_loss: 4.0028 - val_accuracy: 0.0804\n",
      "Epoch 2/50\n",
      "22/22 [==============================] - 0s 17ms/step - loss: 3.4404 - accuracy: 0.1980 - val_loss: 2.8251 - val_accuracy: 0.3062\n",
      "Epoch 3/50\n",
      "22/22 [==============================] - 0s 17ms/step - loss: 2.5845 - accuracy: 0.3820 - val_loss: 2.2453 - val_accuracy: 0.4589\n",
      "Epoch 4/50\n",
      "22/22 [==============================] - 0s 18ms/step - loss: 2.0917 - accuracy: 0.5082 - val_loss: 1.8588 - val_accuracy: 0.5969\n",
      "Epoch 5/50\n",
      "22/22 [==============================] - 0s 17ms/step - loss: 1.7803 - accuracy: 0.5921 - val_loss: 1.6130 - val_accuracy: 0.6508\n",
      "Epoch 6/50\n",
      "22/22 [==============================] - 0s 17ms/step - loss: 1.5786 - accuracy: 0.6513 - val_loss: 1.5184 - val_accuracy: 0.6883\n",
      "Epoch 7/50\n",
      "22/22 [==============================] - 0s 17ms/step - loss: 1.4559 - accuracy: 0.6859 - val_loss: 1.4096 - val_accuracy: 0.7176\n",
      "Epoch 8/50\n",
      "22/22 [==============================] - 0s 18ms/step - loss: 1.3370 - accuracy: 0.7241 - val_loss: 1.3443 - val_accuracy: 0.7358\n",
      "Epoch 9/50\n",
      "22/22 [==============================] - 0s 17ms/step - loss: 1.2426 - accuracy: 0.7638 - val_loss: 1.3167 - val_accuracy: 0.7505\n",
      "Epoch 10/50\n",
      "22/22 [==============================] - 0s 17ms/step - loss: 1.1771 - accuracy: 0.7830 - val_loss: 1.2866 - val_accuracy: 0.7569\n",
      "Epoch 11/50\n",
      "22/22 [==============================] - 0s 15ms/step - loss: 1.0790 - accuracy: 0.8066 - val_loss: 1.3084 - val_accuracy: 0.7541\n",
      "Epoch 12/50\n",
      "22/22 [==============================] - 0s 18ms/step - loss: 1.0687 - accuracy: 0.8157 - val_loss: 1.2579 - val_accuracy: 0.7678\n",
      "Epoch 13/50\n",
      "22/22 [==============================] - 0s 17ms/step - loss: 0.9986 - accuracy: 0.8365 - val_loss: 1.2659 - val_accuracy: 0.7742\n",
      "Epoch 14/50\n",
      "22/22 [==============================] - 0s 18ms/step - loss: 0.9769 - accuracy: 0.8413 - val_loss: 1.2379 - val_accuracy: 0.7888\n",
      "Epoch 15/50\n",
      "22/22 [==============================] - 0s 15ms/step - loss: 0.9557 - accuracy: 0.8477 - val_loss: 1.2304 - val_accuracy: 0.7806\n",
      "Epoch 16/50\n",
      "22/22 [==============================] - 0s 18ms/step - loss: 0.9343 - accuracy: 0.8612 - val_loss: 1.1666 - val_accuracy: 0.8144\n",
      "Epoch 17/50\n",
      "22/22 [==============================] - 0s 15ms/step - loss: 0.9108 - accuracy: 0.8619 - val_loss: 1.2177 - val_accuracy: 0.7898\n",
      "Epoch 18/50\n",
      "22/22 [==============================] - 0s 15ms/step - loss: 0.8794 - accuracy: 0.8754 - val_loss: 1.1907 - val_accuracy: 0.8099\n",
      "Epoch 19/50\n",
      "22/22 [==============================] - 0s 14ms/step - loss: 0.8498 - accuracy: 0.8914 - val_loss: 1.2005 - val_accuracy: 0.7934\n",
      "Epoch 20/50\n",
      "22/22 [==============================] - 0s 15ms/step - loss: 0.8469 - accuracy: 0.8882 - val_loss: 1.2223 - val_accuracy: 0.7989\n",
      "Epoch 21/50\n",
      "22/22 [==============================] - 0s 15ms/step - loss: 0.8251 - accuracy: 0.9019 - val_loss: 1.1922 - val_accuracy: 0.8044\n",
      "Epoch 22/50\n",
      "22/22 [==============================] - 0s 17ms/step - loss: 0.7960 - accuracy: 0.9033 - val_loss: 1.1638 - val_accuracy: 0.8254\n",
      "Epoch 23/50\n",
      "22/22 [==============================] - 0s 14ms/step - loss: 0.7776 - accuracy: 0.9086 - val_loss: 1.1532 - val_accuracy: 0.8135\n",
      "Epoch 24/50\n",
      "22/22 [==============================] - 0s 15ms/step - loss: 0.7812 - accuracy: 0.9111 - val_loss: 1.1591 - val_accuracy: 0.8208\n",
      "Epoch 25/50\n",
      "22/22 [==============================] - 0s 14ms/step - loss: 0.7588 - accuracy: 0.9168 - val_loss: 1.1575 - val_accuracy: 0.8117\n",
      "Epoch 26/50\n",
      "22/22 [==============================] - 0s 14ms/step - loss: 0.7413 - accuracy: 0.9202 - val_loss: 1.1508 - val_accuracy: 0.8227\n",
      "Epoch 27/50\n",
      "22/22 [==============================] - 0s 14ms/step - loss: 0.7274 - accuracy: 0.9273 - val_loss: 1.1682 - val_accuracy: 0.8172\n",
      "Epoch 28/50\n",
      "22/22 [==============================] - 0s 14ms/step - loss: 0.7237 - accuracy: 0.9214 - val_loss: 1.1471 - val_accuracy: 0.8181\n",
      "Epoch 29/50\n",
      "22/22 [==============================] - 0s 14ms/step - loss: 0.7187 - accuracy: 0.9296 - val_loss: 1.1532 - val_accuracy: 0.8208\n",
      "Epoch 30/50\n",
      "22/22 [==============================] - 0s 14ms/step - loss: 0.7018 - accuracy: 0.9316 - val_loss: 1.1231 - val_accuracy: 0.8236\n",
      "Epoch 31/50\n",
      "22/22 [==============================] - 0s 17ms/step - loss: 0.6867 - accuracy: 0.9362 - val_loss: 1.1557 - val_accuracy: 0.8272\n",
      "Epoch 32/50\n",
      "22/22 [==============================] - 0s 14ms/step - loss: 0.6963 - accuracy: 0.9298 - val_loss: 1.1554 - val_accuracy: 0.8181\n",
      "Epoch 33/50\n",
      "22/22 [==============================] - 0s 14ms/step - loss: 0.6873 - accuracy: 0.9344 - val_loss: 1.1259 - val_accuracy: 0.8218\n",
      "Epoch 34/50\n",
      "22/22 [==============================] - 0s 15ms/step - loss: 0.6904 - accuracy: 0.9312 - val_loss: 1.1411 - val_accuracy: 0.8236\n",
      "Epoch 35/50\n",
      "22/22 [==============================] - 0s 15ms/step - loss: 0.6796 - accuracy: 0.9353 - val_loss: 1.1289 - val_accuracy: 0.8181\n",
      "Epoch 36/50\n",
      "22/22 [==============================] - 0s 17ms/step - loss: 0.6570 - accuracy: 0.9417 - val_loss: 1.1236 - val_accuracy: 0.8291\n",
      "Epoch 37/50\n",
      "22/22 [==============================] - 0s 15ms/step - loss: 0.6586 - accuracy: 0.9419 - val_loss: 1.0826 - val_accuracy: 0.8282\n",
      "Epoch 38/50\n",
      "22/22 [==============================] - 0s 15ms/step - loss: 0.6450 - accuracy: 0.9460 - val_loss: 1.1378 - val_accuracy: 0.8236\n",
      "Epoch 39/50\n",
      "22/22 [==============================] - 0s 16ms/step - loss: 0.6426 - accuracy: 0.9444 - val_loss: 1.1556 - val_accuracy: 0.8227\n",
      "Epoch 40/50\n",
      "22/22 [==============================] - 0s 18ms/step - loss: 0.6394 - accuracy: 0.9435 - val_loss: 1.0762 - val_accuracy: 0.8336\n",
      "Epoch 41/50\n",
      "22/22 [==============================] - 0s 15ms/step - loss: 0.6313 - accuracy: 0.9460 - val_loss: 1.1255 - val_accuracy: 0.8272\n",
      "Epoch 42/50\n",
      "22/22 [==============================] - 0s 18ms/step - loss: 0.6395 - accuracy: 0.9433 - val_loss: 1.0830 - val_accuracy: 0.8382\n",
      "Epoch 43/50\n",
      "22/22 [==============================] - 0s 14ms/step - loss: 0.6434 - accuracy: 0.9401 - val_loss: 1.1479 - val_accuracy: 0.8272\n",
      "Epoch 44/50\n",
      "22/22 [==============================] - 0s 14ms/step - loss: 0.6287 - accuracy: 0.9479 - val_loss: 1.1471 - val_accuracy: 0.8300\n",
      "Epoch 45/50\n",
      "22/22 [==============================] - 0s 17ms/step - loss: 0.6192 - accuracy: 0.9492 - val_loss: 1.0760 - val_accuracy: 0.8410\n",
      "Epoch 46/50\n",
      "22/22 [==============================] - 0s 14ms/step - loss: 0.6200 - accuracy: 0.9406 - val_loss: 1.0517 - val_accuracy: 0.8382\n",
      "Epoch 47/50\n",
      "22/22 [==============================] - 0s 15ms/step - loss: 0.6201 - accuracy: 0.9470 - val_loss: 1.1180 - val_accuracy: 0.8282\n",
      "Epoch 48/50\n",
      "22/22 [==============================] - 0s 15ms/step - loss: 0.6003 - accuracy: 0.9506 - val_loss: 1.1074 - val_accuracy: 0.8309\n",
      "Epoch 49/50\n",
      "22/22 [==============================] - 0s 14ms/step - loss: 0.5943 - accuracy: 0.9540 - val_loss: 1.0802 - val_accuracy: 0.8254\n",
      "Epoch 50/50\n",
      "22/22 [==============================] - 0s 15ms/step - loss: 0.5870 - accuracy: 0.9575 - val_loss: 1.0707 - val_accuracy: 0.8373\n",
      "CPU times: total: 23.8 s\n",
      "Wall time: 18.1 s\n"
     ]
    }
   ],
   "source": [
    "%%time\n",
    "batch_size = 200\n",
    "epochs = 50\n",
    "\n",
    "history = model.fit(\n",
    "  X_train, y_train_fixed,\n",
    "  batch_size=batch_size,\n",
    "  epochs=epochs,\n",
    "  validation_split=0.2,\n",
    "  shuffle=True,\n",
    "  callbacks=[model_checkpoint_callback]\n",
    ")"
   ]
  },
  {
   "cell_type": "code",
   "execution_count": 154,
   "metadata": {},
   "outputs": [
    {
     "name": "stdout",
     "output_type": "stream",
     "text": [
      "43/43 [==============================] - 0s 4ms/step - loss: 1.0771 - accuracy: 0.8325\n"
     ]
    },
    {
     "data": {
      "text/plain": [
       "[1.0770899057388306, 0.8324798941612244]"
      ]
     },
     "execution_count": 154,
     "metadata": {},
     "output_type": "execute_result"
    }
   ],
   "source": [
    "model.evaluate(X_test, y_test_fixed)"
   ]
  }
 ],
 "metadata": {
  "kernelspec": {
   "display_name": "env_torch",
   "language": "python",
   "name": "python3"
  },
  "language_info": {
   "codemirror_mode": {
    "name": "ipython",
    "version": 3
   },
   "file_extension": ".py",
   "mimetype": "text/x-python",
   "name": "python",
   "nbconvert_exporter": "python",
   "pygments_lexer": "ipython3",
   "version": "3.10.13"
  }
 },
 "nbformat": 4,
 "nbformat_minor": 2
}
