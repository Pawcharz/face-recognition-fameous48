{
 "cells": [
  {
   "cell_type": "code",
   "execution_count": 1,
   "metadata": {},
   "outputs": [],
   "source": [
    "import numpy as np\n",
    "import tensorflow as tf\n",
    "from tensorflow import keras\n",
    "\n",
    "from keras import layers\n",
    "from keras import regularizers\n",
    "from keras import backend as K\n",
    "from keras import Sequential, Input\n",
    "from keras.optimizers import SGD, Adam\n",
    "from keras.losses import categorical_crossentropy\n",
    "from keras.callbacks import LearningRateScheduler\n",
    "\n",
    "import matplotlib.pyplot as plt\n",
    "\n",
    "import math\n",
    "\n",
    "from utils.load_dataset import load_dataset\n",
    "from utils.constants import CLASSES, IMAGE_SIZE"
   ]
  },
  {
   "cell_type": "code",
   "execution_count": 2,
   "metadata": {},
   "outputs": [],
   "source": [
    "# make the result reproducible\n",
    "keras.utils.set_random_seed(42)"
   ]
  },
  {
   "cell_type": "code",
   "execution_count": 3,
   "metadata": {},
   "outputs": [
    {
     "name": "stdout",
     "output_type": "stream",
     "text": [
      "[PhysicalDevice(name='/physical_device:CPU:0', device_type='CPU'), PhysicalDevice(name='/physical_device:GPU:0', device_type='GPU')]\n"
     ]
    }
   ],
   "source": [
    "physical_devices = tf.config.list_physical_devices()\n",
    "print(physical_devices)"
   ]
  },
  {
   "cell_type": "code",
   "execution_count": 4,
   "metadata": {},
   "outputs": [],
   "source": [
    "tf.config.set_visible_devices(physical_devices[1], 'GPU')"
   ]
  },
  {
   "cell_type": "markdown",
   "metadata": {},
   "source": [
    "## Building Dataset"
   ]
  },
  {
   "cell_type": "markdown",
   "metadata": {},
   "source": [
    "### Attributes description\n",
    "\n",
    "- a1 - face containing flag: (1-with face, 0-without face),\n",
    "- a2 - image number in current class (person) beginning from 0,\n",
    "- a3 - class (person) number beginning from 0,\n",
    "- a4 - sex (0 - woman, 1 - man)\n",
    "- a5 - race (0- white, 1 - negro, 2 - indian, ...)\n",
    "- a6 - age (0 - baby, 1 - young, 2 - middle-age, 3 - old) \n",
    "- a7 - binokulars (0 - without, 1 - transparent, 2 - dark)\n",
    "- a8 - emotional expression (not state!) (0 - sad, 1 - neutral, 2 - happy)"
   ]
  },
  {
   "cell_type": "code",
   "execution_count": 5,
   "metadata": {},
   "outputs": [],
   "source": [
    "DIRPATH = './data'\n",
    "X_train, X_test, y_train, y_test = load_dataset(DIRPATH)"
   ]
  },
  {
   "cell_type": "markdown",
   "metadata": {},
   "source": [
    "## Building a model"
   ]
  },
  {
   "cell_type": "markdown",
   "metadata": {},
   "source": [
    "Testing LeNet-5 Architecture"
   ]
  },
  {
   "cell_type": "code",
   "execution_count": 6,
   "metadata": {},
   "outputs": [
    {
     "name": "stdout",
     "output_type": "stream",
     "text": [
      "Model: \"sequential\"\n",
      "_________________________________________________________________\n",
      " Layer (type)                Output Shape              Param #   \n",
      "=================================================================\n",
      " conv2d (Conv2D)             (None, 24, 24, 6)         156       \n",
      "                                                                 \n",
      " max_pooling2d (MaxPooling2D  (None, 12, 12, 6)        0         \n",
      " )                                                               \n",
      "                                                                 \n",
      " dropout (Dropout)           (None, 12, 12, 6)         0         \n",
      "                                                                 \n",
      " conv2d_1 (Conv2D)           (None, 12, 12, 16)        2416      \n",
      "                                                                 \n",
      " max_pooling2d_1 (MaxPooling  (None, 6, 6, 16)         0         \n",
      " 2D)                                                             \n",
      "                                                                 \n",
      " dropout_1 (Dropout)         (None, 6, 6, 16)          0         \n",
      "                                                                 \n",
      " conv2d_2 (Conv2D)           (None, 6, 6, 120)         48120     \n",
      "                                                                 \n",
      " flatten (Flatten)           (None, 4320)              0         \n",
      "                                                                 \n",
      " dropout_2 (Dropout)         (None, 4320)              0         \n",
      "                                                                 \n",
      " dense (Dense)               (None, 84)                362964    \n",
      "                                                                 \n",
      " dense_1 (Dense)             (None, 48)                4080      \n",
      "                                                                 \n",
      "=================================================================\n",
      "Total params: 417,736\n",
      "Trainable params: 417,736\n",
      "Non-trainable params: 0\n",
      "_________________________________________________________________\n"
     ]
    }
   ],
   "source": [
    "conv_regularizer = regularizers.l2(0.0009096443481619992)\n",
    "dense_regularizer = regularizers.l2(0.011905583599301073)\n",
    "\n",
    "# activation_def = 'tanh'\n",
    "\n",
    "dropout_base = 0.09439855997376015\n",
    "dropout_inc = 0.14131761625994724\n",
    "dropout_1 = dropout_base\n",
    "dropout_2 = dropout_base + dropout_inc\n",
    "dropout_3 = dropout_base + 2*dropout_inc\n",
    "\n",
    "DefaultConv2D = partial(tf.keras.layers.Conv2D, kernel_size=5, padding=\"same\", activation=\"tanh\",\n",
    "                        kernel_regularizer=conv_regularizer) # kernel_initializer=\"he_normal\")\n",
    "\n",
    "model = Sequential(\n",
    "  [\n",
    "    Input(shape=(IMAGE_SIZE, IMAGE_SIZE, 1)),\n",
    "    DefaultConv2D(6),\n",
    "    layers.MaxPooling2D(pool_size=2, strides=2),\n",
    "\n",
    "    layers.Dropout(dropout_1),\n",
    "    DefaultConv2D(16),\n",
    "    layers.MaxPooling2D(pool_size=2, strides=2),\n",
    "\n",
    "    layers.Dropout(dropout_2),\n",
    "    DefaultConv2D(120),\n",
    "\n",
    "    layers.Flatten(),\n",
    "    layers.Dropout(dropout_3),\n",
    "    DefaultConv2D(84),\n",
    "    layers.Dense(CLASSES, activation='softmax'),\n",
    "  ]\n",
    ")\n",
    "\n",
    "model.summary()"
   ]
  },
  {
   "cell_type": "code",
   "execution_count": 7,
   "metadata": {},
   "outputs": [],
   "source": [
    "optimizer = Adam(learning_rate=0.001)\n",
    "\n",
    "def get_lr_metric(optimizer):\n",
    "  def lr(y_true, y_pred):\n",
    "    return optimizer._decayed_lr(tf.float32) # I use ._decayed_lr method instead of .lr\n",
    "  return lr\n",
    "\n",
    "lr_metric = get_lr_metric(optimizer)\n",
    "\n",
    "\n",
    "# model.compile(loss=categorical_crossentropy, optimizer=optimizer, metrics=[\"accuracy\"])\n",
    "model.compile(loss=categorical_crossentropy, optimizer=optimizer, metrics=[\"accuracy\", lr_metric])"
   ]
  },
  {
   "cell_type": "code",
   "execution_count": 8,
   "metadata": {},
   "outputs": [],
   "source": [
    "def step_decay(epoch):\n",
    "  initial_lrate = 0.001\n",
    "  drop = 0.5\n",
    "  epochs_drop = 40.0\n",
    "  lrate = initial_lrate * math.pow(drop,  \n",
    "          math.floor((1+epoch)/epochs_drop))\n",
    "  return lrate\n",
    " \n",
    "lrate_scheduler_callback = LearningRateScheduler(step_decay)"
   ]
  },
  {
   "cell_type": "markdown",
   "metadata": {},
   "source": [
    "## Training Preparation"
   ]
  },
  {
   "cell_type": "code",
   "execution_count": 9,
   "metadata": {},
   "outputs": [],
   "source": [
    "CHECKPOINT_PATH = 'models/checkpoints/famous48_test_model_v2_best.keras'"
   ]
  },
  {
   "cell_type": "code",
   "execution_count": 10,
   "metadata": {},
   "outputs": [],
   "source": [
    "model_checkpoint_callback = keras.callbacks.ModelCheckpoint(\n",
    "  filepath=CHECKPOINT_PATH,\n",
    "  save_weights_only=False,\n",
    "  monitor='val_accuracy',\n",
    "  mode='max',\n",
    "  save_best_only=True,\n",
    ")"
   ]
  },
  {
   "cell_type": "code",
   "execution_count": 11,
   "metadata": {},
   "outputs": [
    {
     "name": "stdout",
     "output_type": "stream",
     "text": [
      "Epoch 1/100\n",
      "22/22 [==============================] - 3s 25ms/step - loss: 5.0857 - accuracy: 0.0656 - lr: 0.0010 - val_loss: 4.3043 - val_accuracy: 0.1380 - val_lr: 0.0010\n",
      "Epoch 2/100\n",
      "22/22 [==============================] - 0s 12ms/step - loss: 3.6934 - accuracy: 0.2300 - lr: 0.0010 - val_loss: 3.2185 - val_accuracy: 0.2824 - val_lr: 0.0010\n",
      "Epoch 3/100\n",
      "22/22 [==============================] - 0s 12ms/step - loss: 2.9294 - accuracy: 0.3528 - lr: 0.0010 - val_loss: 2.7448 - val_accuracy: 0.3812 - val_lr: 0.0010\n",
      "Epoch 4/100\n",
      "22/22 [==============================] - 0s 13ms/step - loss: 2.5667 - accuracy: 0.4399 - lr: 0.0010 - val_loss: 2.5101 - val_accuracy: 0.4305 - val_lr: 0.0010\n",
      "Epoch 5/100\n",
      "22/22 [==============================] - 0s 14ms/step - loss: 2.3817 - accuracy: 0.4842 - lr: 0.0010 - val_loss: 2.2714 - val_accuracy: 0.5110 - val_lr: 0.0010\n",
      "Epoch 6/100\n",
      "22/22 [==============================] - 0s 12ms/step - loss: 2.2216 - accuracy: 0.5352 - lr: 0.0010 - val_loss: 2.1633 - val_accuracy: 0.5338 - val_lr: 0.0010\n",
      "Epoch 7/100\n",
      "22/22 [==============================] - 0s 12ms/step - loss: 2.1130 - accuracy: 0.5542 - lr: 0.0010 - val_loss: 2.0517 - val_accuracy: 0.5740 - val_lr: 0.0010\n",
      "Epoch 8/100\n",
      "22/22 [==============================] - 0s 12ms/step - loss: 2.0078 - accuracy: 0.5887 - lr: 0.0010 - val_loss: 1.9511 - val_accuracy: 0.6060 - val_lr: 0.0010\n",
      "Epoch 9/100\n",
      "22/22 [==============================] - 0s 10ms/step - loss: 1.9445 - accuracy: 0.5901 - lr: 0.0010 - val_loss: 1.9303 - val_accuracy: 0.5814 - val_lr: 0.0010\n",
      "Epoch 10/100\n",
      "22/22 [==============================] - 0s 13ms/step - loss: 1.8637 - accuracy: 0.6193 - lr: 0.0010 - val_loss: 1.8574 - val_accuracy: 0.6179 - val_lr: 0.0010\n",
      "Epoch 11/100\n",
      "22/22 [==============================] - 0s 14ms/step - loss: 1.7907 - accuracy: 0.6358 - lr: 0.0010 - val_loss: 1.7942 - val_accuracy: 0.6325 - val_lr: 0.0010\n",
      "Epoch 12/100\n",
      "22/22 [==============================] - 0s 13ms/step - loss: 1.7669 - accuracy: 0.6358 - lr: 0.0010 - val_loss: 1.7281 - val_accuracy: 0.6490 - val_lr: 0.0010\n",
      "Epoch 13/100\n",
      "22/22 [==============================] - 0s 12ms/step - loss: 1.6996 - accuracy: 0.6619 - lr: 0.0010 - val_loss: 1.6741 - val_accuracy: 0.6691 - val_lr: 0.0010\n",
      "Epoch 14/100\n",
      "22/22 [==============================] - 0s 10ms/step - loss: 1.6467 - accuracy: 0.6783 - lr: 0.0010 - val_loss: 1.6685 - val_accuracy: 0.6554 - val_lr: 0.0010\n",
      "Epoch 15/100\n",
      "22/22 [==============================] - 0s 11ms/step - loss: 1.6144 - accuracy: 0.6955 - lr: 0.0010 - val_loss: 1.6546 - val_accuracy: 0.6645 - val_lr: 0.0010\n",
      "Epoch 16/100\n",
      "22/22 [==============================] - 0s 13ms/step - loss: 1.5912 - accuracy: 0.6868 - lr: 0.0010 - val_loss: 1.5825 - val_accuracy: 0.6910 - val_lr: 0.0010\n",
      "Epoch 17/100\n",
      "22/22 [==============================] - 0s 14ms/step - loss: 1.5361 - accuracy: 0.7087 - lr: 0.0010 - val_loss: 1.5528 - val_accuracy: 0.6910 - val_lr: 0.0010\n",
      "Epoch 18/100\n",
      "22/22 [==============================] - 0s 12ms/step - loss: 1.5118 - accuracy: 0.7108 - lr: 0.0010 - val_loss: 1.5279 - val_accuracy: 0.7029 - val_lr: 0.0010\n",
      "Epoch 19/100\n",
      "22/22 [==============================] - 0s 10ms/step - loss: 1.4886 - accuracy: 0.7186 - lr: 0.0010 - val_loss: 1.5160 - val_accuracy: 0.6965 - val_lr: 0.0010\n",
      "Epoch 20/100\n",
      "22/22 [==============================] - 0s 11ms/step - loss: 1.4769 - accuracy: 0.7206 - lr: 0.0010 - val_loss: 1.5188 - val_accuracy: 0.6956 - val_lr: 0.0010\n",
      "Epoch 21/100\n",
      "22/22 [==============================] - 0s 13ms/step - loss: 1.4398 - accuracy: 0.7295 - lr: 0.0010 - val_loss: 1.4586 - val_accuracy: 0.7239 - val_lr: 0.0010\n",
      "Epoch 22/100\n",
      "22/22 [==============================] - 0s 10ms/step - loss: 1.4182 - accuracy: 0.7394 - lr: 0.0010 - val_loss: 1.4256 - val_accuracy: 0.7194 - val_lr: 0.0010\n",
      "Epoch 23/100\n",
      "22/22 [==============================] - 0s 11ms/step - loss: 1.3843 - accuracy: 0.7563 - lr: 0.0010 - val_loss: 1.4492 - val_accuracy: 0.7048 - val_lr: 0.0010\n",
      "Epoch 24/100\n",
      "22/22 [==============================] - 0s 12ms/step - loss: 1.3640 - accuracy: 0.7494 - lr: 0.0010 - val_loss: 1.4054 - val_accuracy: 0.7303 - val_lr: 0.0010\n",
      "Epoch 25/100\n",
      "22/22 [==============================] - 0s 10ms/step - loss: 1.3546 - accuracy: 0.7577 - lr: 0.0010 - val_loss: 1.3917 - val_accuracy: 0.7157 - val_lr: 0.0010\n",
      "Epoch 26/100\n",
      "22/22 [==============================] - 0s 13ms/step - loss: 1.3313 - accuracy: 0.7558 - lr: 0.0010 - val_loss: 1.3664 - val_accuracy: 0.7377 - val_lr: 0.0010\n",
      "Epoch 27/100\n",
      "22/22 [==============================] - 0s 13ms/step - loss: 1.3002 - accuracy: 0.7700 - lr: 0.0010 - val_loss: 1.3500 - val_accuracy: 0.7395 - val_lr: 0.0010\n",
      "Epoch 28/100\n",
      "22/22 [==============================] - 0s 10ms/step - loss: 1.2958 - accuracy: 0.7730 - lr: 0.0010 - val_loss: 1.4050 - val_accuracy: 0.7194 - val_lr: 0.0010\n",
      "Epoch 29/100\n",
      "22/22 [==============================] - 0s 10ms/step - loss: 1.2949 - accuracy: 0.7661 - lr: 0.0010 - val_loss: 1.3903 - val_accuracy: 0.7221 - val_lr: 0.0010\n",
      "Epoch 30/100\n",
      "22/22 [==============================] - 0s 12ms/step - loss: 1.2795 - accuracy: 0.7750 - lr: 0.0010 - val_loss: 1.3301 - val_accuracy: 0.7486 - val_lr: 0.0010\n",
      "Epoch 31/100\n",
      "22/22 [==============================] - 0s 10ms/step - loss: 1.2515 - accuracy: 0.7853 - lr: 0.0010 - val_loss: 1.3239 - val_accuracy: 0.7431 - val_lr: 0.0010\n",
      "Epoch 32/100\n",
      "22/22 [==============================] - 0s 13ms/step - loss: 1.2133 - accuracy: 0.7986 - lr: 0.0010 - val_loss: 1.2984 - val_accuracy: 0.7514 - val_lr: 0.0010\n",
      "Epoch 33/100\n",
      "22/22 [==============================] - 0s 13ms/step - loss: 1.2104 - accuracy: 0.7890 - lr: 0.0010 - val_loss: 1.2749 - val_accuracy: 0.7578 - val_lr: 0.0010\n",
      "Epoch 34/100\n",
      "22/22 [==============================] - 0s 10ms/step - loss: 1.2158 - accuracy: 0.7945 - lr: 0.0010 - val_loss: 1.2812 - val_accuracy: 0.7578 - val_lr: 0.0010\n",
      "Epoch 35/100\n",
      "22/22 [==============================] - 0s 11ms/step - loss: 1.2162 - accuracy: 0.7920 - lr: 0.0010 - val_loss: 1.3239 - val_accuracy: 0.7505 - val_lr: 0.0010\n",
      "Epoch 36/100\n",
      "22/22 [==============================] - 0s 11ms/step - loss: 1.1942 - accuracy: 0.8032 - lr: 0.0010 - val_loss: 1.2977 - val_accuracy: 0.7569 - val_lr: 0.0010\n",
      "Epoch 37/100\n",
      "22/22 [==============================] - 0s 13ms/step - loss: 1.1615 - accuracy: 0.8084 - lr: 0.0010 - val_loss: 1.2661 - val_accuracy: 0.7605 - val_lr: 0.0010\n",
      "Epoch 38/100\n",
      "22/22 [==============================] - 0s 12ms/step - loss: 1.1376 - accuracy: 0.8226 - lr: 0.0010 - val_loss: 1.2706 - val_accuracy: 0.7697 - val_lr: 0.0010\n",
      "Epoch 39/100\n",
      "22/22 [==============================] - 0s 12ms/step - loss: 1.1441 - accuracy: 0.8107 - lr: 0.0010 - val_loss: 1.2345 - val_accuracy: 0.7724 - val_lr: 0.0010\n",
      "Epoch 40/100\n",
      "22/22 [==============================] - 0s 12ms/step - loss: 1.0850 - accuracy: 0.8352 - lr: 5.0000e-04 - val_loss: 1.2013 - val_accuracy: 0.7797 - val_lr: 5.0000e-04\n",
      "Epoch 41/100\n",
      "22/22 [==============================] - 0s 14ms/step - loss: 1.0282 - accuracy: 0.8468 - lr: 5.0000e-04 - val_loss: 1.1545 - val_accuracy: 0.7815 - val_lr: 5.0000e-04\n",
      "Epoch 42/100\n",
      "22/22 [==============================] - 0s 13ms/step - loss: 1.0086 - accuracy: 0.8532 - lr: 5.0000e-04 - val_loss: 1.1347 - val_accuracy: 0.7898 - val_lr: 5.0000e-04\n",
      "Epoch 43/100\n",
      "22/22 [==============================] - 0s 11ms/step - loss: 0.9983 - accuracy: 0.8413 - lr: 5.0000e-04 - val_loss: 1.1300 - val_accuracy: 0.7861 - val_lr: 5.0000e-04\n",
      "Epoch 44/100\n",
      "22/22 [==============================] - 0s 12ms/step - loss: 0.9769 - accuracy: 0.8539 - lr: 5.0000e-04 - val_loss: 1.1130 - val_accuracy: 0.7943 - val_lr: 5.0000e-04\n",
      "Epoch 45/100\n",
      "22/22 [==============================] - 0s 10ms/step - loss: 0.9716 - accuracy: 0.8523 - lr: 5.0000e-04 - val_loss: 1.1043 - val_accuracy: 0.7907 - val_lr: 5.0000e-04\n",
      "Epoch 46/100\n",
      "22/22 [==============================] - 0s 10ms/step - loss: 0.9596 - accuracy: 0.8626 - lr: 5.0000e-04 - val_loss: 1.1111 - val_accuracy: 0.7834 - val_lr: 5.0000e-04\n",
      "Epoch 47/100\n",
      "22/22 [==============================] - 0s 13ms/step - loss: 0.9615 - accuracy: 0.8594 - lr: 5.0000e-04 - val_loss: 1.0892 - val_accuracy: 0.8016 - val_lr: 5.0000e-04\n",
      "Epoch 48/100\n",
      "22/22 [==============================] - 0s 10ms/step - loss: 0.9527 - accuracy: 0.8544 - lr: 5.0000e-04 - val_loss: 1.0970 - val_accuracy: 0.7925 - val_lr: 5.0000e-04\n",
      "Epoch 49/100\n",
      "22/22 [==============================] - 0s 10ms/step - loss: 0.9444 - accuracy: 0.8601 - lr: 5.0000e-04 - val_loss: 1.0981 - val_accuracy: 0.7934 - val_lr: 5.0000e-04\n",
      "Epoch 50/100\n",
      "22/22 [==============================] - 0s 11ms/step - loss: 0.9452 - accuracy: 0.8521 - lr: 5.0000e-04 - val_loss: 1.0927 - val_accuracy: 0.7934 - val_lr: 5.0000e-04\n",
      "Epoch 51/100\n",
      "22/22 [==============================] - 0s 11ms/step - loss: 0.9319 - accuracy: 0.8608 - lr: 5.0000e-04 - val_loss: 1.0880 - val_accuracy: 0.7934 - val_lr: 5.0000e-04\n",
      "Epoch 52/100\n",
      "22/22 [==============================] - 0s 10ms/step - loss: 0.9266 - accuracy: 0.8551 - lr: 5.0000e-04 - val_loss: 1.0778 - val_accuracy: 0.7943 - val_lr: 5.0000e-04\n",
      "Epoch 53/100\n",
      "22/22 [==============================] - 0s 11ms/step - loss: 0.9208 - accuracy: 0.8546 - lr: 5.0000e-04 - val_loss: 1.0828 - val_accuracy: 0.7888 - val_lr: 5.0000e-04\n",
      "Epoch 54/100\n",
      "22/22 [==============================] - 0s 10ms/step - loss: 0.8987 - accuracy: 0.8679 - lr: 5.0000e-04 - val_loss: 1.1015 - val_accuracy: 0.7834 - val_lr: 5.0000e-04\n",
      "Epoch 55/100\n",
      "22/22 [==============================] - 0s 10ms/step - loss: 0.8989 - accuracy: 0.8713 - lr: 5.0000e-04 - val_loss: 1.0699 - val_accuracy: 0.8016 - val_lr: 5.0000e-04\n",
      "Epoch 56/100\n",
      "22/22 [==============================] - 0s 10ms/step - loss: 0.8978 - accuracy: 0.8733 - lr: 5.0000e-04 - val_loss: 1.0782 - val_accuracy: 0.8007 - val_lr: 5.0000e-04\n",
      "Epoch 57/100\n",
      "22/22 [==============================] - 0s 10ms/step - loss: 0.8850 - accuracy: 0.8740 - lr: 5.0000e-04 - val_loss: 1.0555 - val_accuracy: 0.8007 - val_lr: 5.0000e-04\n",
      "Epoch 58/100\n",
      "22/22 [==============================] - 0s 13ms/step - loss: 0.8956 - accuracy: 0.8699 - lr: 5.0000e-04 - val_loss: 1.0560 - val_accuracy: 0.8108 - val_lr: 5.0000e-04\n",
      "Epoch 59/100\n",
      "22/22 [==============================] - 0s 10ms/step - loss: 0.9011 - accuracy: 0.8644 - lr: 5.0000e-04 - val_loss: 1.0626 - val_accuracy: 0.7962 - val_lr: 5.0000e-04\n",
      "Epoch 60/100\n",
      "22/22 [==============================] - 0s 10ms/step - loss: 0.8839 - accuracy: 0.8745 - lr: 5.0000e-04 - val_loss: 1.0499 - val_accuracy: 0.7980 - val_lr: 5.0000e-04\n",
      "Epoch 61/100\n",
      "22/22 [==============================] - 0s 10ms/step - loss: 0.8691 - accuracy: 0.8752 - lr: 5.0000e-04 - val_loss: 1.0619 - val_accuracy: 0.7989 - val_lr: 5.0000e-04\n",
      "Epoch 62/100\n",
      "22/22 [==============================] - 0s 12ms/step - loss: 0.8620 - accuracy: 0.8749 - lr: 5.0000e-04 - val_loss: 1.0277 - val_accuracy: 0.8144 - val_lr: 5.0000e-04\n",
      "Epoch 63/100\n",
      "22/22 [==============================] - 0s 10ms/step - loss: 0.8570 - accuracy: 0.8784 - lr: 5.0000e-04 - val_loss: 1.0464 - val_accuracy: 0.8090 - val_lr: 5.0000e-04\n",
      "Epoch 64/100\n",
      "22/22 [==============================] - 0s 10ms/step - loss: 0.8577 - accuracy: 0.8756 - lr: 5.0000e-04 - val_loss: 1.0386 - val_accuracy: 0.8044 - val_lr: 5.0000e-04\n",
      "Epoch 65/100\n",
      "22/22 [==============================] - 0s 10ms/step - loss: 0.8545 - accuracy: 0.8852 - lr: 5.0000e-04 - val_loss: 1.0404 - val_accuracy: 0.8053 - val_lr: 5.0000e-04\n",
      "Epoch 66/100\n",
      "22/22 [==============================] - 0s 10ms/step - loss: 0.8491 - accuracy: 0.8770 - lr: 5.0000e-04 - val_loss: 1.0490 - val_accuracy: 0.7989 - val_lr: 5.0000e-04\n",
      "Epoch 67/100\n",
      "22/22 [==============================] - 0s 11ms/step - loss: 0.8568 - accuracy: 0.8793 - lr: 5.0000e-04 - val_loss: 1.0383 - val_accuracy: 0.7962 - val_lr: 5.0000e-04\n",
      "Epoch 68/100\n",
      "22/22 [==============================] - 0s 10ms/step - loss: 0.8443 - accuracy: 0.8807 - lr: 5.0000e-04 - val_loss: 1.0386 - val_accuracy: 0.8053 - val_lr: 5.0000e-04\n",
      "Epoch 69/100\n",
      "22/22 [==============================] - 0s 10ms/step - loss: 0.8347 - accuracy: 0.8891 - lr: 5.0000e-04 - val_loss: 1.0422 - val_accuracy: 0.7971 - val_lr: 5.0000e-04\n",
      "Epoch 70/100\n",
      "22/22 [==============================] - 0s 10ms/step - loss: 0.8343 - accuracy: 0.8811 - lr: 5.0000e-04 - val_loss: 1.0155 - val_accuracy: 0.8099 - val_lr: 5.0000e-04\n",
      "Epoch 71/100\n",
      "22/22 [==============================] - 0s 10ms/step - loss: 0.8427 - accuracy: 0.8791 - lr: 5.0000e-04 - val_loss: 1.0410 - val_accuracy: 0.8026 - val_lr: 5.0000e-04\n",
      "Epoch 72/100\n",
      "22/22 [==============================] - 0s 12ms/step - loss: 0.8178 - accuracy: 0.8916 - lr: 5.0000e-04 - val_loss: 1.0142 - val_accuracy: 0.8154 - val_lr: 5.0000e-04\n",
      "Epoch 73/100\n",
      "22/22 [==============================] - 0s 10ms/step - loss: 0.8222 - accuracy: 0.8871 - lr: 5.0000e-04 - val_loss: 1.0087 - val_accuracy: 0.8154 - val_lr: 5.0000e-04\n",
      "Epoch 74/100\n",
      "22/22 [==============================] - 0s 10ms/step - loss: 0.8378 - accuracy: 0.8845 - lr: 5.0000e-04 - val_loss: 1.0140 - val_accuracy: 0.8126 - val_lr: 5.0000e-04\n",
      "Epoch 75/100\n",
      "22/22 [==============================] - 0s 11ms/step - loss: 0.8165 - accuracy: 0.8880 - lr: 5.0000e-04 - val_loss: 1.0256 - val_accuracy: 0.7989 - val_lr: 5.0000e-04\n",
      "Epoch 76/100\n",
      "22/22 [==============================] - 0s 10ms/step - loss: 0.8111 - accuracy: 0.8905 - lr: 5.0000e-04 - val_loss: 1.0209 - val_accuracy: 0.8071 - val_lr: 5.0000e-04\n",
      "Epoch 77/100\n",
      "22/22 [==============================] - 0s 10ms/step - loss: 0.8133 - accuracy: 0.8877 - lr: 5.0000e-04 - val_loss: 1.0215 - val_accuracy: 0.8090 - val_lr: 5.0000e-04\n",
      "Epoch 78/100\n",
      "22/22 [==============================] - 0s 10ms/step - loss: 0.8091 - accuracy: 0.8873 - lr: 5.0000e-04 - val_loss: 1.0152 - val_accuracy: 0.8044 - val_lr: 5.0000e-04\n",
      "Epoch 79/100\n",
      "22/22 [==============================] - 0s 12ms/step - loss: 0.8129 - accuracy: 0.8875 - lr: 5.0000e-04 - val_loss: 1.0027 - val_accuracy: 0.8227 - val_lr: 5.0000e-04\n",
      "Epoch 80/100\n",
      "22/22 [==============================] - 0s 10ms/step - loss: 0.7740 - accuracy: 0.9017 - lr: 2.5000e-04 - val_loss: 0.9852 - val_accuracy: 0.8199 - val_lr: 2.5000e-04\n",
      "Epoch 81/100\n",
      "22/22 [==============================] - 0s 12ms/step - loss: 0.7479 - accuracy: 0.9118 - lr: 2.5000e-04 - val_loss: 0.9678 - val_accuracy: 0.8272 - val_lr: 2.5000e-04\n",
      "Epoch 82/100\n",
      "22/22 [==============================] - 0s 10ms/step - loss: 0.7466 - accuracy: 0.9118 - lr: 2.5000e-04 - val_loss: 0.9705 - val_accuracy: 0.8172 - val_lr: 2.5000e-04\n",
      "Epoch 83/100\n",
      "22/22 [==============================] - 0s 10ms/step - loss: 0.7396 - accuracy: 0.9095 - lr: 2.5000e-04 - val_loss: 0.9609 - val_accuracy: 0.8254 - val_lr: 2.5000e-04\n",
      "Epoch 84/100\n",
      "22/22 [==============================] - 0s 10ms/step - loss: 0.7304 - accuracy: 0.9118 - lr: 2.5000e-04 - val_loss: 0.9557 - val_accuracy: 0.8245 - val_lr: 2.5000e-04\n",
      "Epoch 85/100\n",
      "22/22 [==============================] - 0s 10ms/step - loss: 0.7260 - accuracy: 0.9115 - lr: 2.5000e-04 - val_loss: 0.9492 - val_accuracy: 0.8227 - val_lr: 2.5000e-04\n",
      "Epoch 86/100\n",
      "22/22 [==============================] - 0s 12ms/step - loss: 0.7366 - accuracy: 0.9049 - lr: 2.5000e-04 - val_loss: 0.9410 - val_accuracy: 0.8318 - val_lr: 2.5000e-04\n",
      "Epoch 87/100\n",
      "22/22 [==============================] - 0s 9ms/step - loss: 0.7225 - accuracy: 0.9120 - lr: 2.5000e-04 - val_loss: 0.9476 - val_accuracy: 0.8172 - val_lr: 2.5000e-04\n",
      "Epoch 88/100\n",
      "22/22 [==============================] - 0s 10ms/step - loss: 0.7173 - accuracy: 0.9150 - lr: 2.5000e-04 - val_loss: 0.9474 - val_accuracy: 0.8208 - val_lr: 2.5000e-04\n",
      "Epoch 89/100\n",
      "22/22 [==============================] - 0s 11ms/step - loss: 0.7154 - accuracy: 0.9159 - lr: 2.5000e-04 - val_loss: 0.9501 - val_accuracy: 0.8163 - val_lr: 2.5000e-04\n",
      "Epoch 90/100\n",
      "22/22 [==============================] - 0s 10ms/step - loss: 0.7069 - accuracy: 0.9204 - lr: 2.5000e-04 - val_loss: 0.9417 - val_accuracy: 0.8263 - val_lr: 2.5000e-04\n",
      "Epoch 91/100\n",
      "22/22 [==============================] - 0s 10ms/step - loss: 0.7124 - accuracy: 0.9122 - lr: 2.5000e-04 - val_loss: 0.9405 - val_accuracy: 0.8208 - val_lr: 2.5000e-04\n",
      "Epoch 92/100\n",
      "22/22 [==============================] - 0s 10ms/step - loss: 0.7113 - accuracy: 0.9090 - lr: 2.5000e-04 - val_loss: 0.9265 - val_accuracy: 0.8272 - val_lr: 2.5000e-04\n",
      "Epoch 93/100\n",
      "22/22 [==============================] - 0s 10ms/step - loss: 0.7033 - accuracy: 0.9131 - lr: 2.5000e-04 - val_loss: 0.9377 - val_accuracy: 0.8218 - val_lr: 2.5000e-04\n",
      "Epoch 94/100\n",
      "22/22 [==============================] - 0s 10ms/step - loss: 0.7059 - accuracy: 0.9129 - lr: 2.5000e-04 - val_loss: 0.9291 - val_accuracy: 0.8254 - val_lr: 2.5000e-04\n",
      "Epoch 95/100\n",
      "22/22 [==============================] - 0s 10ms/step - loss: 0.7027 - accuracy: 0.9113 - lr: 2.5000e-04 - val_loss: 0.9302 - val_accuracy: 0.8163 - val_lr: 2.5000e-04\n",
      "Epoch 96/100\n",
      "22/22 [==============================] - 0s 10ms/step - loss: 0.6978 - accuracy: 0.9191 - lr: 2.5000e-04 - val_loss: 0.9307 - val_accuracy: 0.8218 - val_lr: 2.5000e-04\n",
      "Epoch 97/100\n",
      "22/22 [==============================] - 0s 10ms/step - loss: 0.6904 - accuracy: 0.9163 - lr: 2.5000e-04 - val_loss: 0.9256 - val_accuracy: 0.8263 - val_lr: 2.5000e-04\n",
      "Epoch 98/100\n",
      "22/22 [==============================] - 0s 10ms/step - loss: 0.6908 - accuracy: 0.9191 - lr: 2.5000e-04 - val_loss: 0.9316 - val_accuracy: 0.8126 - val_lr: 2.5000e-04\n",
      "Epoch 99/100\n",
      "22/22 [==============================] - 0s 10ms/step - loss: 0.6967 - accuracy: 0.9138 - lr: 2.5000e-04 - val_loss: 0.9349 - val_accuracy: 0.8190 - val_lr: 2.5000e-04\n",
      "Epoch 100/100\n",
      "22/22 [==============================] - 0s 10ms/step - loss: 0.6925 - accuracy: 0.9175 - lr: 2.5000e-04 - val_loss: 0.9218 - val_accuracy: 0.8227 - val_lr: 2.5000e-04\n",
      "CPU times: total: 35.2 s\n",
      "Wall time: 27.3 s\n"
     ]
    }
   ],
   "source": [
    "%%time\n",
    "batch_size = 200\n",
    "epochs = 100\n",
    "\n",
    "history = model.fit(\n",
    "  X_train, y_train,\n",
    "  batch_size=batch_size,\n",
    "  epochs=epochs,\n",
    "  validation_split=0.2,\n",
    "  shuffle=True,\n",
    "  callbacks=[model_checkpoint_callback, lrate_scheduler_callback]\n",
    ")"
   ]
  },
  {
   "cell_type": "code",
   "execution_count": 12,
   "metadata": {},
   "outputs": [
    {
     "data": {
      "image/png": "[encoded data removed]",
      "text/plain": [
       "<Figure size 1000x600 with 1 Axes>"
      ]
     },
     "metadata": {},
     "output_type": "display_data"
    }
   ],
   "source": [
    "plt.figure(figsize=(10, 6))\n",
    "plt.plot(history.history['accuracy'])\n",
    "plt.plot(history.history['val_accuracy'])\n",
    "plt.title('model accuracy')\n",
    "plt.ylabel('accuracy')\n",
    "plt.xlabel('epoch')\n",
    "plt.legend(['train', 'val'], loc='upper left')\n",
    "plt.show()"
   ]
  },
  {
   "cell_type": "code",
   "execution_count": 13,
   "metadata": {},
   "outputs": [
    {
     "name": "stdout",
     "output_type": "stream",
     "text": [
      "train set accuracy: 0.92\n",
      "validation set accuracy: 0.82\n"
     ]
    }
   ],
   "source": [
    "length = len(history.history['accuracy'])\n",
    "print(\"train set accuracy:\", round(history.history['accuracy'][length-1], 2))\n",
    "print(\"validation set accuracy:\", round(history.history['val_accuracy'][length-1], 2))"
   ]
  },
  {
   "cell_type": "code",
   "execution_count": 14,
   "metadata": {},
   "outputs": [
    {
     "name": "stdout",
     "output_type": "stream",
     "text": [
      "43/43 [==============================] - 0s 4ms/step - loss: 0.9673 - accuracy: 0.8157 - lr: 2.5000e-04\n",
      "test set accuracy: 0.82\n"
     ]
    }
   ],
   "source": [
    "# model.load_weights(\"models/checkpoints/famous48_test_model_v2_best.keras\")\n",
    "results = model.evaluate(X_test, y_test)\n",
    "print(\"test set accuracy:\", round(results[1], 2))"
   ]
  }
 ],
 "metadata": {
  "kernelspec": {
   "display_name": "env_torch",
   "language": "python",
   "name": "python3"
  },
  "language_info": {
   "codemirror_mode": {
    "name": "ipython",
    "version": 3
   },
   "file_extension": ".py",
   "mimetype": "text/x-python",
   "name": "python",
   "nbconvert_exporter": "python",
   "pygments_lexer": "ipython3",
   "version": "3.12.3"
  }
 },
 "nbformat": 4,
 "nbformat_minor": 2
}
