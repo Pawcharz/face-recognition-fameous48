{
 "cells": [
  {
   "cell_type": "code",
   "execution_count": 285,
   "metadata": {},
   "outputs": [],
   "source": [
    "import numpy as np\n",
    "import tensorflow as tf\n",
    "from tensorflow import keras\n",
    "\n",
    "from keras import layers\n",
    "from keras import regularizers\n",
    "\n",
    "import re"
   ]
  },
  {
   "cell_type": "code",
   "execution_count": 286,
   "metadata": {},
   "outputs": [],
   "source": [
    "from keras import backend as K\n",
    "K.clear_session()"
   ]
  },
  {
   "cell_type": "code",
   "execution_count": 287,
   "metadata": {},
   "outputs": [
    {
     "name": "stdout",
     "output_type": "stream",
     "text": [
      "[PhysicalDevice(name='/physical_device:CPU:0', device_type='CPU'), PhysicalDevice(name='/physical_device:GPU:0', device_type='GPU')]\n"
     ]
    }
   ],
   "source": [
    "physical_devices = tf.config.list_physical_devices()\n",
    "CLASSES = 48\n",
    "IMAGE_SIZE = 24\n",
    "\n",
    "print(physical_devices)"
   ]
  },
  {
   "cell_type": "code",
   "execution_count": 288,
   "metadata": {},
   "outputs": [],
   "source": [
    "tf.config.set_visible_devices(physical_devices[1], 'GPU')"
   ]
  },
  {
   "cell_type": "markdown",
   "metadata": {},
   "source": [
    "## Building Dataset"
   ]
  },
  {
   "cell_type": "markdown",
   "metadata": {},
   "source": [
    "### Attributes description\n",
    "\n",
    "- a1 - face containing flag: (1-with face, 0-without face),\n",
    "- a2 - image number in current class (person) beginning from 0,\n",
    "- a3 - class (person) number beginning from 0,\n",
    "- a4 - sex (0 - woman, 1 - man)\n",
    "- a5 - race (0- white, 1 - negro, 2 - indian, ...)\n",
    "- a6 - age (0 - baby, 1 - young, 2 - middle-age, 3 - old) \n",
    "- a7 - binokulars (0 - without, 1 - transparent, 2 - dark)\n",
    "- a8 - emotional expression (not state!) (0 - sad, 1 - neutral, 2 - happy)"
   ]
  },
  {
   "cell_type": "code",
   "execution_count": 289,
   "metadata": {},
   "outputs": [],
   "source": [
    "def read_file(filename):\n",
    "  \n",
    "  with open(filename, 'r') as file:\n",
    "    lines = file.readlines()\n",
    "    \n",
    "    # Remove newLines\n",
    "    for i, line in enumerate(lines):\n",
    "      lines[i] = line.replace('\\n', '')\n",
    "    \n",
    "    # We assume these are integers\n",
    "    EXAMPLES_NR = int(lines[0])\n",
    "    PIXELS_NR = int(lines[1])\n",
    "    \n",
    "    inputs = list()\n",
    "    labels = np.zeros(EXAMPLES_NR, dtype=int)\n",
    "    \n",
    "    examples_raw = lines[2:EXAMPLES_NR+2]\n",
    "    \n",
    "    for i, example_raw in enumerate(examples_raw):\n",
    "      # Split by spaces (treats multiple as one)\n",
    "      tokens = re.split('\\s+', example_raw)\n",
    "      \n",
    "      pixel_values = np.array(tokens[0:PIXELS_NR])\n",
    "      attributes = tokens[PIXELS_NR:]\n",
    "      \n",
    "      pixel_values = np.array(pixel_values, dtype=float)\n",
    "      pixel_values = pixel_values.reshape([IMAGE_SIZE, IMAGE_SIZE])\n",
    "      \n",
    "      inputs.append(pixel_values)\n",
    "      labels[i] = int(attributes[2])\n",
    "      \n",
    "    inputs = np.array(inputs)\n",
    "  return inputs, labels"
   ]
  },
  {
   "cell_type": "code",
   "execution_count": 290,
   "metadata": {},
   "outputs": [
    {
     "name": "stdout",
     "output_type": "stream",
     "text": [
      "2321 2321\n",
      "2208 2208\n",
      "2306 2306\n"
     ]
    }
   ],
   "source": [
    "# classes 0-15\n",
    "X_0, y_0 = read_file('./data/x24x24.txt')\n",
    "# classes 16-31\n",
    "X_1, y_1 = read_file('./data/y24x24.txt')\n",
    "# # classes 32-48\n",
    "X_2, y_2 = read_file('./data/z24x24.txt')\n",
    "\n",
    "print(len(X_0), len(y_0))\n",
    "print(len(X_1), len(y_1))\n",
    "print(len(X_2), len(y_2))"
   ]
  },
  {
   "cell_type": "code",
   "execution_count": 291,
   "metadata": {},
   "outputs": [
    {
     "name": "stdout",
     "output_type": "stream",
     "text": [
      "6835 6835\n"
     ]
    }
   ],
   "source": [
    "from sklearn.model_selection import train_test_split\n",
    "\n",
    "# Concatenate train and test images\n",
    "X = np.concatenate((X_0, X_1, X_2))\n",
    "y = np.concatenate((y_0, y_1, y_2))\n",
    "print(len(X), len(y))\n",
    "\n",
    "N_TRAIN_EXAMPLES=int(len(X) * 0.8)\n",
    "N_TEST_EXAMPLES=len(X) - N_TRAIN_EXAMPLES\n",
    "\n",
    "\n",
    "X_train, X_test, y_train, y_test = train_test_split(X, y, train_size=N_TRAIN_EXAMPLES, test_size=N_TEST_EXAMPLES, random_state=1)\n",
    "\n",
    "# One-Hot encoding\n",
    "# Getting dummy variables\n",
    "y_train_fixed = np.zeros((y_train.shape[0], CLASSES))\n",
    "# y_valid_fixed = np.zeros((y_valid.shape[0], 10))\n",
    "y_test_fixed = np.zeros((y_test.shape[0], CLASSES))\n",
    "\n",
    "for i, value in enumerate(y_train):\n",
    "  y_train_fixed[i][value] = 1\n",
    "  \n",
    "for i, value in enumerate(y_test):\n",
    "  y_test_fixed[i][value] = 1"
   ]
  },
  {
   "cell_type": "code",
   "execution_count": 292,
   "metadata": {},
   "outputs": [
    {
     "name": "stdout",
     "output_type": "stream",
     "text": [
      "1367\n"
     ]
    }
   ],
   "source": [
    "print(len(X_test))"
   ]
  },
  {
   "cell_type": "markdown",
   "metadata": {},
   "source": [
    "## Building a model"
   ]
  },
  {
   "cell_type": "markdown",
   "metadata": {},
   "source": [
    "I decided to down-scale the alexNet as it was for the long time the SOTA Convolutional Neural Network Architecture\n",
    "\n",
    "Full AlexNet implementation in keras:\n",
    "\n",
    "```py\n",
    "  keras.Input(shape=(227, 227, 3)),\n",
    "  layers.Conv2D(96, kernel_size=11, strides=4, padding='same', activation=\"relu\"),\n",
    "  layers.MaxPooling2D(pool_size=3, strides=2),\n",
    "  layers.Conv2D(256, kernel_size=5, padding='same', activation=\"relu\"),\n",
    "  layers.MaxPooling2D(pool_size=3, strides=2),\n",
    "  layers.Conv2D(384, kernel_size=3, padding='same', activation=\"relu\"),\n",
    "  layers.Conv2D(384, kernel_size=3, padding='same', activation=\"relu\"),\n",
    "  layers.Conv2D(256, kernel_size=3, padding='same', activation=\"relu\"),\n",
    "  layers.MaxPooling2D(pool_size=3, strides=2),\n",
    "  layers.Dropout(0.5),\n",
    "  layers.Dense(4096, activation=\"relu\"),\n",
    "  layers.Dropout(0.5),\n",
    "  layers.Dense(4096, activation=\"relu\"),\n",
    "  layers.Dense(CLASSES, activation=\"softmax\")\n",
    "```"
   ]
  },
  {
   "cell_type": "code",
   "execution_count": 300,
   "metadata": {},
   "outputs": [
    {
     "name": "stdout",
     "output_type": "stream",
     "text": [
      "Model: \"sequential_1\"\n",
      "_________________________________________________________________\n",
      " Layer (type)                Output Shape              Param #   \n",
      "=================================================================\n",
      " conv2d_5 (Conv2D)           (None, 24, 24, 24)        240       \n",
      "                                                                 \n",
      " leaky_re_lu_5 (LeakyReLU)   (None, 24, 24, 24)        0         \n",
      "                                                                 \n",
      " conv2d_6 (Conv2D)           (None, 24, 24, 64)        38464     \n",
      "                                                                 \n",
      " max_pooling2d_2 (MaxPooling  (None, 11, 11, 64)       0         \n",
      " 2D)                                                             \n",
      "                                                                 \n",
      " leaky_re_lu_6 (LeakyReLU)   (None, 11, 11, 64)        0         \n",
      "                                                                 \n",
      " conv2d_7 (Conv2D)           (None, 11, 11, 96)        55392     \n",
      "                                                                 \n",
      " leaky_re_lu_7 (LeakyReLU)   (None, 11, 11, 96)        0         \n",
      "                                                                 \n",
      " dropout_3 (Dropout)         (None, 11, 11, 96)        0         \n",
      "                                                                 \n",
      " conv2d_8 (Conv2D)           (None, 6, 6, 96)          83040     \n",
      "                                                                 \n",
      " dropout_4 (Dropout)         (None, 6, 6, 96)          0         \n",
      "                                                                 \n",
      " leaky_re_lu_8 (LeakyReLU)   (None, 6, 6, 96)          0         \n",
      "                                                                 \n",
      " conv2d_9 (Conv2D)           (None, 6, 6, 64)          55360     \n",
      "                                                                 \n",
      " max_pooling2d_3 (MaxPooling  (None, 2, 2, 64)         0         \n",
      " 2D)                                                             \n",
      "                                                                 \n",
      " flatten_1 (Flatten)         (None, 256)               0         \n",
      "                                                                 \n",
      " dropout_5 (Dropout)         (None, 256)               0         \n",
      "                                                                 \n",
      " leaky_re_lu_9 (LeakyReLU)   (None, 256)               0         \n",
      "                                                                 \n",
      " dense_2 (Dense)             (None, 256)               65792     \n",
      "                                                                 \n",
      " dense_3 (Dense)             (None, 48)                12336     \n",
      "                                                                 \n",
      "=================================================================\n",
      "Total params: 310,624\n",
      "Trainable params: 310,624\n",
      "Non-trainable params: 0\n",
      "_________________________________________________________________\n"
     ]
    }
   ],
   "source": [
    "from keras import Sequential, Input\n",
    "\n",
    "conv_regularizer = regularizers.l2(l=0.002)\n",
    "dense_regularizer = regularizers.l2(l=0.03)\n",
    "\n",
    "model = keras.Sequential(\n",
    "  [\n",
    "    Input(shape=(IMAGE_SIZE, IMAGE_SIZE, 1)),\n",
    "    layers.Conv2D(24, kernel_size=3, strides=1, padding='same', kernel_regularizer=conv_regularizer),\n",
    "    layers.LeakyReLU(),\n",
    "    layers.Conv2D(64, kernel_size=5, padding='same', kernel_regularizer=conv_regularizer),\n",
    "    \n",
    "    layers.MaxPooling2D(pool_size=3, strides=2),\n",
    "    \n",
    "    layers.LeakyReLU(),\n",
    "    layers.Conv2D(96, kernel_size=3, padding='same', kernel_regularizer=conv_regularizer),\n",
    "    layers.LeakyReLU(),\n",
    "    layers.Dropout(0.3),\n",
    "    layers.Conv2D(96, kernel_size=3, strides=2, padding='same', kernel_regularizer=conv_regularizer),\n",
    "    layers.Dropout(0.4),\n",
    "    layers.LeakyReLU(),\n",
    "    layers.Conv2D(64, kernel_size=3, padding='same', kernel_regularizer=conv_regularizer),\n",
    "    \n",
    "    layers.MaxPooling2D(pool_size=3, strides=2),\n",
    "    \n",
    "    layers.Flatten(),\n",
    "    layers.Dropout(0.5),\n",
    "    layers.LeakyReLU(),\n",
    "    layers.Dense(256, kernel_regularizer=dense_regularizer),\n",
    "    layers.Dense(CLASSES, activation='softmax'),\n",
    "  ]\n",
    ")\n",
    "\n",
    "model.summary()"
   ]
  },
  {
   "cell_type": "code",
   "execution_count": 301,
   "metadata": {},
   "outputs": [],
   "source": [
    "from keras.optimizers import SGD, Adam\n",
    "from keras.losses import categorical_crossentropy\n",
    "\n",
    "# optimizer = Adam(learning_rate=0.00025)\n",
    "optimizer = Adam(learning_rate=0.001)\n",
    "\n",
    "model.compile(loss=categorical_crossentropy, optimizer=optimizer, metrics=[\"accuracy\"])"
   ]
  },
  {
   "cell_type": "markdown",
   "metadata": {},
   "source": [
    "## Training Preparation"
   ]
  },
  {
   "cell_type": "code",
   "execution_count": 302,
   "metadata": {},
   "outputs": [],
   "source": [
    "CHECKPOINT_PATH = 'models/checkpoints/famous48_test_model_v1_best.keras'"
   ]
  },
  {
   "cell_type": "code",
   "execution_count": 303,
   "metadata": {},
   "outputs": [],
   "source": [
    "model_checkpoint_callback = keras.callbacks.ModelCheckpoint(\n",
    "  filepath=CHECKPOINT_PATH,\n",
    "  save_weights_only=False,\n",
    "  monitor='val_accuracy',\n",
    "  mode='max',\n",
    "  save_best_only=True,\n",
    ")"
   ]
  },
  {
   "cell_type": "code",
   "execution_count": 304,
   "metadata": {},
   "outputs": [
    {
     "name": "stdout",
     "output_type": "stream",
     "text": [
      "Epoch 1/100\n",
      "22/22 [==============================] - 1s 34ms/step - loss: 10.1423 - accuracy: 0.0265 - val_loss: 8.2669 - val_accuracy: 0.0201\n",
      "Epoch 2/100\n",
      "22/22 [==============================] - 1s 25ms/step - loss: 7.0789 - accuracy: 0.0354 - val_loss: 6.0340 - val_accuracy: 0.0238\n",
      "Epoch 3/100\n",
      "22/22 [==============================] - 1s 26ms/step - loss: 5.4022 - accuracy: 0.0304 - val_loss: 4.8760 - val_accuracy: 0.0274\n",
      "Epoch 4/100\n",
      "22/22 [==============================] - 1s 26ms/step - loss: 4.5608 - accuracy: 0.0295 - val_loss: 4.3213 - val_accuracy: 0.0393\n",
      "Epoch 5/100\n",
      "22/22 [==============================] - 1s 24ms/step - loss: 4.1618 - accuracy: 0.0348 - val_loss: 4.0579 - val_accuracy: 0.0347\n",
      "Epoch 6/100\n",
      "22/22 [==============================] - 1s 24ms/step - loss: 3.9631 - accuracy: 0.0476 - val_loss: 3.9296 - val_accuracy: 0.0356\n",
      "Epoch 7/100\n",
      "22/22 [==============================] - 1s 26ms/step - loss: 3.6567 - accuracy: 0.0878 - val_loss: 3.4728 - val_accuracy: 0.1143\n",
      "Epoch 8/100\n",
      "22/22 [==============================] - 1s 27ms/step - loss: 3.3488 - accuracy: 0.1422 - val_loss: 3.1656 - val_accuracy: 0.1974\n",
      "Epoch 9/100\n",
      "22/22 [==============================] - 1s 26ms/step - loss: 3.1236 - accuracy: 0.2117 - val_loss: 2.9530 - val_accuracy: 0.2660\n",
      "Epoch 10/100\n",
      "22/22 [==============================] - 1s 27ms/step - loss: 2.9748 - accuracy: 0.2469 - val_loss: 2.7252 - val_accuracy: 0.3410\n",
      "Epoch 11/100\n",
      "22/22 [==============================] - 1s 24ms/step - loss: 2.7866 - accuracy: 0.3036 - val_loss: 2.6695 - val_accuracy: 0.3318\n",
      "Epoch 12/100\n",
      "22/22 [==============================] - 1s 26ms/step - loss: 2.6223 - accuracy: 0.3489 - val_loss: 2.4134 - val_accuracy: 0.4150\n",
      "Epoch 13/100\n",
      "22/22 [==============================] - 1s 26ms/step - loss: 2.4384 - accuracy: 0.4003 - val_loss: 2.2591 - val_accuracy: 0.4442\n",
      "Epoch 14/100\n",
      "22/22 [==============================] - 1s 26ms/step - loss: 2.3503 - accuracy: 0.4339 - val_loss: 2.1788 - val_accuracy: 0.5046\n",
      "Epoch 15/100\n",
      "22/22 [==============================] - 1s 27ms/step - loss: 2.2209 - accuracy: 0.4733 - val_loss: 2.1089 - val_accuracy: 0.5274\n",
      "Epoch 16/100\n",
      "22/22 [==============================] - 1s 26ms/step - loss: 2.1645 - accuracy: 0.4973 - val_loss: 2.0440 - val_accuracy: 0.5411\n",
      "Epoch 17/100\n",
      "22/22 [==============================] - 1s 26ms/step - loss: 2.0887 - accuracy: 0.5240 - val_loss: 1.9345 - val_accuracy: 0.5612\n",
      "Epoch 18/100\n",
      "22/22 [==============================] - 1s 26ms/step - loss: 2.0269 - accuracy: 0.5281 - val_loss: 1.9031 - val_accuracy: 0.5777\n",
      "Epoch 19/100\n",
      "22/22 [==============================] - 1s 27ms/step - loss: 1.9656 - accuracy: 0.5647 - val_loss: 1.8440 - val_accuracy: 0.6115\n",
      "Epoch 20/100\n",
      "22/22 [==============================] - 1s 26ms/step - loss: 1.9194 - accuracy: 0.5862 - val_loss: 1.8228 - val_accuracy: 0.6188\n",
      "Epoch 21/100\n",
      "22/22 [==============================] - 1s 26ms/step - loss: 1.9072 - accuracy: 0.5784 - val_loss: 1.7837 - val_accuracy: 0.6344\n",
      "Epoch 22/100\n",
      "22/22 [==============================] - 1s 26ms/step - loss: 1.8658 - accuracy: 0.6006 - val_loss: 1.6970 - val_accuracy: 0.6481\n",
      "Epoch 23/100\n",
      "22/22 [==============================] - 1s 26ms/step - loss: 1.8077 - accuracy: 0.6198 - val_loss: 1.7145 - val_accuracy: 0.6636\n",
      "Epoch 24/100\n",
      "22/22 [==============================] - 1s 27ms/step - loss: 1.7626 - accuracy: 0.6283 - val_loss: 1.6183 - val_accuracy: 0.6764\n",
      "Epoch 25/100\n",
      "22/22 [==============================] - 1s 27ms/step - loss: 1.7434 - accuracy: 0.6333 - val_loss: 1.6061 - val_accuracy: 0.6892\n",
      "Epoch 26/100\n",
      "22/22 [==============================] - 1s 27ms/step - loss: 1.6951 - accuracy: 0.6461 - val_loss: 1.5447 - val_accuracy: 0.7176\n",
      "Epoch 27/100\n",
      "22/22 [==============================] - 1s 24ms/step - loss: 1.6880 - accuracy: 0.6461 - val_loss: 1.6580 - val_accuracy: 0.6682\n",
      "Epoch 28/100\n",
      "22/22 [==============================] - 1s 24ms/step - loss: 1.7126 - accuracy: 0.6495 - val_loss: 1.5733 - val_accuracy: 0.7148\n",
      "Epoch 29/100\n",
      "22/22 [==============================] - 1s 24ms/step - loss: 1.6475 - accuracy: 0.6683 - val_loss: 1.5999 - val_accuracy: 0.6984\n",
      "Epoch 30/100\n",
      "22/22 [==============================] - 1s 26ms/step - loss: 1.6316 - accuracy: 0.6767 - val_loss: 1.5213 - val_accuracy: 0.7185\n",
      "Epoch 31/100\n",
      "22/22 [==============================] - 1s 26ms/step - loss: 1.5873 - accuracy: 0.6920 - val_loss: 1.5062 - val_accuracy: 0.7267\n",
      "Epoch 32/100\n",
      "22/22 [==============================] - 1s 24ms/step - loss: 1.5959 - accuracy: 0.6884 - val_loss: 1.5550 - val_accuracy: 0.7148\n",
      "Epoch 33/100\n",
      "22/22 [==============================] - 1s 27ms/step - loss: 1.5469 - accuracy: 0.6996 - val_loss: 1.4795 - val_accuracy: 0.7386\n",
      "Epoch 34/100\n",
      "22/22 [==============================] - 1s 25ms/step - loss: 1.5780 - accuracy: 0.6932 - val_loss: 1.4875 - val_accuracy: 0.7358\n",
      "Epoch 35/100\n",
      "22/22 [==============================] - 1s 26ms/step - loss: 1.5484 - accuracy: 0.6980 - val_loss: 1.4781 - val_accuracy: 0.7267\n",
      "Epoch 36/100\n",
      "22/22 [==============================] - 1s 28ms/step - loss: 1.5239 - accuracy: 0.7032 - val_loss: 1.4585 - val_accuracy: 0.7431\n",
      "Epoch 37/100\n",
      "22/22 [==============================] - 1s 26ms/step - loss: 1.4778 - accuracy: 0.7213 - val_loss: 1.4285 - val_accuracy: 0.7404\n",
      "Epoch 38/100\n",
      "22/22 [==============================] - 1s 25ms/step - loss: 1.4797 - accuracy: 0.7302 - val_loss: 1.4371 - val_accuracy: 0.7377\n",
      "Epoch 39/100\n",
      "22/22 [==============================] - 1s 26ms/step - loss: 1.4843 - accuracy: 0.7176 - val_loss: 1.4672 - val_accuracy: 0.7331\n",
      "Epoch 40/100\n",
      "22/22 [==============================] - 1s 27ms/step - loss: 1.4711 - accuracy: 0.7273 - val_loss: 1.4778 - val_accuracy: 0.7459\n",
      "Epoch 41/100\n",
      "22/22 [==============================] - 1s 29ms/step - loss: 1.4843 - accuracy: 0.7211 - val_loss: 1.4275 - val_accuracy: 0.7541\n",
      "Epoch 42/100\n",
      "22/22 [==============================] - 1s 28ms/step - loss: 1.4163 - accuracy: 0.7378 - val_loss: 1.4086 - val_accuracy: 0.7596\n",
      "Epoch 43/100\n",
      "22/22 [==============================] - 1s 25ms/step - loss: 1.4498 - accuracy: 0.7231 - val_loss: 1.4373 - val_accuracy: 0.7431\n",
      "Epoch 44/100\n",
      "22/22 [==============================] - 1s 27ms/step - loss: 1.4416 - accuracy: 0.7362 - val_loss: 1.3807 - val_accuracy: 0.7660\n",
      "Epoch 45/100\n",
      "22/22 [==============================] - 1s 25ms/step - loss: 1.4453 - accuracy: 0.7323 - val_loss: 1.4627 - val_accuracy: 0.7468\n",
      "Epoch 46/100\n",
      "22/22 [==============================] - 1s 27ms/step - loss: 1.4168 - accuracy: 0.7369 - val_loss: 1.3916 - val_accuracy: 0.7697\n",
      "Epoch 47/100\n",
      "22/22 [==============================] - 1s 24ms/step - loss: 1.4088 - accuracy: 0.7471 - val_loss: 1.4069 - val_accuracy: 0.7660\n",
      "Epoch 48/100\n",
      "22/22 [==============================] - 1s 26ms/step - loss: 1.4028 - accuracy: 0.7510 - val_loss: 1.4221 - val_accuracy: 0.7633\n",
      "Epoch 49/100\n",
      "22/22 [==============================] - 1s 25ms/step - loss: 1.4075 - accuracy: 0.7407 - val_loss: 1.3979 - val_accuracy: 0.7477\n",
      "Epoch 50/100\n",
      "22/22 [==============================] - 1s 26ms/step - loss: 1.4120 - accuracy: 0.7433 - val_loss: 1.3701 - val_accuracy: 0.7934\n",
      "Epoch 51/100\n",
      "22/22 [==============================] - 1s 24ms/step - loss: 1.3454 - accuracy: 0.7673 - val_loss: 1.3357 - val_accuracy: 0.7788\n",
      "Epoch 52/100\n",
      "22/22 [==============================] - 1s 24ms/step - loss: 1.3379 - accuracy: 0.7586 - val_loss: 1.3322 - val_accuracy: 0.7870\n",
      "Epoch 53/100\n",
      "22/22 [==============================] - 1s 24ms/step - loss: 1.3710 - accuracy: 0.7563 - val_loss: 1.4799 - val_accuracy: 0.7367\n",
      "Epoch 54/100\n",
      "22/22 [==============================] - 1s 24ms/step - loss: 1.3910 - accuracy: 0.7467 - val_loss: 1.3427 - val_accuracy: 0.7806\n",
      "Epoch 55/100\n",
      "22/22 [==============================] - 1s 26ms/step - loss: 1.3628 - accuracy: 0.7565 - val_loss: 1.2866 - val_accuracy: 0.7943\n",
      "Epoch 56/100\n",
      "22/22 [==============================] - 1s 26ms/step - loss: 1.3098 - accuracy: 0.7771 - val_loss: 1.2999 - val_accuracy: 0.7952\n",
      "Epoch 57/100\n",
      "22/22 [==============================] - 1s 24ms/step - loss: 1.3389 - accuracy: 0.7668 - val_loss: 1.3198 - val_accuracy: 0.7779\n",
      "Epoch 58/100\n",
      "22/22 [==============================] - 1s 24ms/step - loss: 1.3228 - accuracy: 0.7679 - val_loss: 1.3453 - val_accuracy: 0.7779\n",
      "Epoch 59/100\n",
      "22/22 [==============================] - 1s 26ms/step - loss: 1.3003 - accuracy: 0.7682 - val_loss: 1.3054 - val_accuracy: 0.7980\n",
      "Epoch 60/100\n",
      "22/22 [==============================] - 1s 24ms/step - loss: 1.3055 - accuracy: 0.7778 - val_loss: 1.3180 - val_accuracy: 0.7898\n",
      "Epoch 61/100\n",
      "22/22 [==============================] - 1s 25ms/step - loss: 1.3186 - accuracy: 0.7723 - val_loss: 1.3316 - val_accuracy: 0.7779\n",
      "Epoch 62/100\n",
      "22/22 [==============================] - 1s 25ms/step - loss: 1.2969 - accuracy: 0.7828 - val_loss: 1.3298 - val_accuracy: 0.7770\n",
      "Epoch 63/100\n",
      "22/22 [==============================] - 1s 24ms/step - loss: 1.2936 - accuracy: 0.7803 - val_loss: 1.3148 - val_accuracy: 0.7815\n",
      "Epoch 64/100\n",
      "22/22 [==============================] - 1s 24ms/step - loss: 1.2908 - accuracy: 0.7796 - val_loss: 1.3279 - val_accuracy: 0.7806\n",
      "Epoch 65/100\n",
      "22/22 [==============================] - 1s 26ms/step - loss: 1.3187 - accuracy: 0.7787 - val_loss: 1.2877 - val_accuracy: 0.7998\n",
      "Epoch 66/100\n",
      "22/22 [==============================] - 1s 24ms/step - loss: 1.2930 - accuracy: 0.7775 - val_loss: 1.3086 - val_accuracy: 0.7879\n",
      "Epoch 67/100\n",
      "22/22 [==============================] - 1s 24ms/step - loss: 1.2488 - accuracy: 0.7972 - val_loss: 1.3137 - val_accuracy: 0.7834\n",
      "Epoch 68/100\n",
      "22/22 [==============================] - 1s 24ms/step - loss: 1.2913 - accuracy: 0.7835 - val_loss: 1.2700 - val_accuracy: 0.7998\n",
      "Epoch 69/100\n",
      "22/22 [==============================] - 1s 25ms/step - loss: 1.2405 - accuracy: 0.7995 - val_loss: 1.2994 - val_accuracy: 0.7888\n",
      "Epoch 70/100\n",
      "22/22 [==============================] - 1s 24ms/step - loss: 1.2265 - accuracy: 0.8034 - val_loss: 1.2791 - val_accuracy: 0.7925\n",
      "Epoch 71/100\n",
      "22/22 [==============================] - 1s 26ms/step - loss: 1.2414 - accuracy: 0.7965 - val_loss: 1.2600 - val_accuracy: 0.8044\n",
      "Epoch 72/100\n",
      "22/22 [==============================] - 1s 24ms/step - loss: 1.2687 - accuracy: 0.7897 - val_loss: 1.2777 - val_accuracy: 0.7962\n",
      "Epoch 73/100\n",
      "22/22 [==============================] - 1s 24ms/step - loss: 1.2335 - accuracy: 0.8002 - val_loss: 1.2702 - val_accuracy: 0.7989\n",
      "Epoch 74/100\n",
      "22/22 [==============================] - 1s 24ms/step - loss: 1.2366 - accuracy: 0.7947 - val_loss: 1.3808 - val_accuracy: 0.7614\n",
      "Epoch 75/100\n",
      "22/22 [==============================] - 1s 26ms/step - loss: 1.2332 - accuracy: 0.7981 - val_loss: 1.2612 - val_accuracy: 0.8090\n",
      "Epoch 76/100\n",
      "22/22 [==============================] - 1s 24ms/step - loss: 1.2146 - accuracy: 0.8020 - val_loss: 1.3296 - val_accuracy: 0.7879\n",
      "Epoch 77/100\n",
      "22/22 [==============================] - 1s 26ms/step - loss: 1.2369 - accuracy: 0.8013 - val_loss: 1.2769 - val_accuracy: 0.8135\n",
      "Epoch 78/100\n",
      "22/22 [==============================] - 1s 24ms/step - loss: 1.2298 - accuracy: 0.8020 - val_loss: 1.2739 - val_accuracy: 0.7952\n",
      "Epoch 79/100\n",
      "22/22 [==============================] - 1s 24ms/step - loss: 1.2071 - accuracy: 0.7984 - val_loss: 1.2519 - val_accuracy: 0.8071\n",
      "Epoch 80/100\n",
      "22/22 [==============================] - 1s 24ms/step - loss: 1.2281 - accuracy: 0.8025 - val_loss: 1.3374 - val_accuracy: 0.7824\n",
      "Epoch 81/100\n",
      "22/22 [==============================] - 1s 24ms/step - loss: 1.2279 - accuracy: 0.7963 - val_loss: 1.2810 - val_accuracy: 0.8016\n",
      "Epoch 82/100\n",
      "22/22 [==============================] - 1s 24ms/step - loss: 1.2118 - accuracy: 0.8045 - val_loss: 1.2363 - val_accuracy: 0.8062\n",
      "Epoch 83/100\n",
      "22/22 [==============================] - 1s 24ms/step - loss: 1.1939 - accuracy: 0.8116 - val_loss: 1.2408 - val_accuracy: 0.8053\n",
      "Epoch 84/100\n",
      "22/22 [==============================] - 1s 24ms/step - loss: 1.1699 - accuracy: 0.8212 - val_loss: 1.2492 - val_accuracy: 0.8035\n",
      "Epoch 85/100\n",
      "22/22 [==============================] - 1s 24ms/step - loss: 1.1791 - accuracy: 0.8112 - val_loss: 1.2376 - val_accuracy: 0.8053\n",
      "Epoch 86/100\n",
      "22/22 [==============================] - 1s 27ms/step - loss: 1.1669 - accuracy: 0.8098 - val_loss: 1.2179 - val_accuracy: 0.8181\n",
      "Epoch 87/100\n",
      "22/22 [==============================] - 1s 24ms/step - loss: 1.2017 - accuracy: 0.8066 - val_loss: 1.2555 - val_accuracy: 0.8126\n",
      "Epoch 88/100\n",
      "22/22 [==============================] - 1s 24ms/step - loss: 1.2068 - accuracy: 0.8057 - val_loss: 1.2651 - val_accuracy: 0.8099\n",
      "Epoch 89/100\n",
      "22/22 [==============================] - 1s 24ms/step - loss: 1.1954 - accuracy: 0.8029 - val_loss: 1.2481 - val_accuracy: 0.8126\n",
      "Epoch 90/100\n",
      "22/22 [==============================] - 1s 24ms/step - loss: 1.1838 - accuracy: 0.8198 - val_loss: 1.2339 - val_accuracy: 0.8172\n",
      "Epoch 91/100\n",
      "22/22 [==============================] - 1s 24ms/step - loss: 1.1879 - accuracy: 0.8086 - val_loss: 1.2503 - val_accuracy: 0.8108\n",
      "Epoch 92/100\n",
      "22/22 [==============================] - 1s 24ms/step - loss: 1.1764 - accuracy: 0.8176 - val_loss: 1.2450 - val_accuracy: 0.8080\n",
      "Epoch 93/100\n",
      "22/22 [==============================] - 1s 24ms/step - loss: 1.1754 - accuracy: 0.8192 - val_loss: 1.2263 - val_accuracy: 0.8108\n",
      "Epoch 94/100\n",
      "22/22 [==============================] - 1s 26ms/step - loss: 1.1661 - accuracy: 0.8171 - val_loss: 1.2174 - val_accuracy: 0.8218\n",
      "Epoch 95/100\n",
      "22/22 [==============================] - 1s 24ms/step - loss: 1.1468 - accuracy: 0.8244 - val_loss: 1.2580 - val_accuracy: 0.7952\n",
      "Epoch 96/100\n",
      "22/22 [==============================] - 1s 26ms/step - loss: 1.1399 - accuracy: 0.8265 - val_loss: 1.1980 - val_accuracy: 0.8263\n",
      "Epoch 97/100\n",
      "22/22 [==============================] - 1s 24ms/step - loss: 1.1672 - accuracy: 0.8194 - val_loss: 1.2535 - val_accuracy: 0.7989\n",
      "Epoch 98/100\n",
      "22/22 [==============================] - 1s 24ms/step - loss: 1.1606 - accuracy: 0.8253 - val_loss: 1.2857 - val_accuracy: 0.7971\n",
      "Epoch 99/100\n",
      "22/22 [==============================] - 1s 24ms/step - loss: 1.1759 - accuracy: 0.8125 - val_loss: 1.2556 - val_accuracy: 0.8117\n",
      "Epoch 100/100\n",
      "22/22 [==============================] - 1s 25ms/step - loss: 1.1361 - accuracy: 0.8267 - val_loss: 1.1848 - val_accuracy: 0.8254\n",
      "CPU times: total: 1min 16s\n",
      "Wall time: 56.3 s\n"
     ]
    }
   ],
   "source": [
    "%%time\n",
    "batch_size = 200\n",
    "epochs = 100\n",
    "\n",
    "history = model.fit(\n",
    "  X_train, y_train_fixed,\n",
    "  batch_size=batch_size,\n",
    "  epochs=epochs,\n",
    "  validation_split=0.2,\n",
    "  shuffle=True,\n",
    "  callbacks=[model_checkpoint_callback]\n",
    ")"
   ]
  },
  {
   "cell_type": "code",
   "execution_count": 306,
   "metadata": {},
   "outputs": [
    {
     "name": "stdout",
     "output_type": "stream",
     "text": [
      "43/43 [==============================] - 1s 10ms/step - loss: 1.2303 - accuracy: 0.8252\n"
     ]
    },
    {
     "data": {
      "text/plain": [
       "[1.2303251028060913, 0.8251646161079407]"
      ]
     },
     "execution_count": 306,
     "metadata": {},
     "output_type": "execute_result"
    }
   ],
   "source": [
    "model.evaluate(X_test, y_test_fixed)"
   ]
  }
 ],
 "metadata": {
  "kernelspec": {
   "display_name": "env_torch",
   "language": "python",
   "name": "python3"
  },
  "language_info": {
   "codemirror_mode": {
    "name": "ipython",
    "version": 3
   },
   "file_extension": ".py",
   "mimetype": "text/x-python",
   "name": "python",
   "nbconvert_exporter": "python",
   "pygments_lexer": "ipython3",
   "version": "3.10.13"
  }
 },
 "nbformat": 4,
 "nbformat_minor": 2
}
