{
 "cells": [
  {
   "cell_type": "code",
   "execution_count": 83,
   "metadata": {},
   "outputs": [],
   "source": [
    "import numpy as np\n",
    "import tensorflow as tf\n",
    "from tensorflow import keras\n",
    "\n",
    "from keras import layers\n",
    "from keras import regularizers\n",
    "from keras import backend as K\n",
    "from keras import Sequential, Input\n",
    "from keras.optimizers import SGD, Adam\n",
    "from keras.losses import categorical_crossentropy\n",
    "from keras.callbacks import LearningRateScheduler\n",
    "\n",
    "import matplotlib.pyplot as plt\n",
    "\n",
    "import math\n",
    "\n",
    "from utils.constrains import CLASSES, IMAGE_SIZE\n",
    "from utils.load_dataset import load_dataset"
   ]
  },
  {
   "cell_type": "code",
   "execution_count": 84,
   "metadata": {},
   "outputs": [],
   "source": [
    "# make the result reproducible\n",
    "keras.utils.set_random_seed(42)"
   ]
  },
  {
   "cell_type": "code",
   "execution_count": 85,
   "metadata": {},
   "outputs": [
    {
     "name": "stdout",
     "output_type": "stream",
     "text": [
      "[PhysicalDevice(name='/physical_device:CPU:0', device_type='CPU'), PhysicalDevice(name='/physical_device:GPU:0', device_type='GPU')]\n"
     ]
    }
   ],
   "source": [
    "physical_devices = tf.config.list_physical_devices()\n",
    "print(physical_devices)"
   ]
  },
  {
   "cell_type": "code",
   "execution_count": 86,
   "metadata": {},
   "outputs": [],
   "source": [
    "tf.config.set_visible_devices(physical_devices[1], 'GPU')"
   ]
  },
  {
   "cell_type": "markdown",
   "metadata": {},
   "source": [
    "## Building Dataset"
   ]
  },
  {
   "cell_type": "markdown",
   "metadata": {},
   "source": [
    "### Attributes description\n",
    "\n",
    "- a1 - face containing flag: (1-with face, 0-without face),\n",
    "- a2 - image number in current class (person) beginning from 0,\n",
    "- a3 - class (person) number beginning from 0,\n",
    "- a4 - sex (0 - woman, 1 - man)\n",
    "- a5 - race (0- white, 1 - black, 2 - indian, ...)\n",
    "- a6 - age (0 - baby, 1 - young, 2 - middle-age, 3 - old) \n",
    "- a7 - binokulars (0 - without, 1 - transparent, 2 - dark)\n",
    "- a8 - emotional expression (not state!) (0 - sad, 1 - neutral, 2 - happy)"
   ]
  },
  {
   "cell_type": "code",
   "execution_count": 87,
   "metadata": {},
   "outputs": [],
   "source": [
    "DIRPATH = './data'\n",
    "X_train, X_test, y_train, y_test = load_dataset(DIRPATH)"
   ]
  },
  {
   "cell_type": "markdown",
   "metadata": {},
   "source": [
    "## Building a model"
   ]
  },
  {
   "cell_type": "markdown",
   "metadata": {},
   "source": [
    "Testing LeNet-5 Architecture"
   ]
  },
  {
   "cell_type": "code",
   "execution_count": 88,
   "metadata": {},
   "outputs": [
    {
     "name": "stdout",
     "output_type": "stream",
     "text": [
      "Model: \"sequential_5\"\n",
      "_________________________________________________________________\n",
      " Layer (type)                Output Shape              Param #   \n",
      "=================================================================\n",
      " conv2d_15 (Conv2D)          (None, 24, 24, 6)         156       \n",
      "                                                                 \n",
      " max_pooling2d_10 (MaxPoolin  (None, 12, 12, 6)        0         \n",
      " g2D)                                                            \n",
      "                                                                 \n",
      " dropout_15 (Dropout)        (None, 12, 12, 6)         0         \n",
      "                                                                 \n",
      " conv2d_16 (Conv2D)          (None, 12, 12, 16)        2416      \n",
      "                                                                 \n",
      " max_pooling2d_11 (MaxPoolin  (None, 6, 6, 16)         0         \n",
      " g2D)                                                            \n",
      "                                                                 \n",
      " dropout_16 (Dropout)        (None, 6, 6, 16)          0         \n",
      "                                                                 \n",
      " conv2d_17 (Conv2D)          (None, 6, 6, 120)         48120     \n",
      "                                                                 \n",
      " flatten_5 (Flatten)         (None, 4320)              0         \n",
      "                                                                 \n",
      " dropout_17 (Dropout)        (None, 4320)              0         \n",
      "                                                                 \n",
      " dense_10 (Dense)            (None, 84)                362964    \n",
      "                                                                 \n",
      " dense_11 (Dense)            (None, 48)                4080      \n",
      "                                                                 \n",
      "=================================================================\n",
      "Total params: 417,736\n",
      "Trainable params: 417,736\n",
      "Non-trainable params: 0\n",
      "_________________________________________________________________\n"
     ]
    }
   ],
   "source": [
    "from functools import partial\n",
    "\n",
    "# {'conv_regularizer': 0.0006124219567560658, 'dense_regularizer': 0.03011157028527752, 'dropout_1': 0.3433425343566813, 'dropout_2': 0.1625206873530064, 'dropout_3': 0.019169937499455086}.\n",
    "\n",
    "conv_regularizer = regularizers.l2(0.0006124219567560658)\n",
    "dense_regularizer = regularizers.l2(0.03011157028527752)\n",
    "\n",
    "activation_def = 'tanh'\n",
    "\n",
    "DefaultConv2D = partial(tf.keras.layers.Conv2D, kernel_size=5, padding=\"same\", activation=activation_def,\n",
    "                        kernel_regularizer=conv_regularizer)\n",
    "\n",
    "model = Sequential(\n",
    "  [\n",
    "    Input(shape=(IMAGE_SIZE, IMAGE_SIZE, 1)),\n",
    "    DefaultConv2D(6),\n",
    "    layers.MaxPooling2D(pool_size=2, strides=2),\n",
    "\n",
    "    layers.Dropout(0.3433425343566813),\n",
    "    DefaultConv2D(16),\n",
    "    layers.MaxPooling2D(pool_size=2, strides=2),\n",
    "\n",
    "    layers.Dropout(0.1625206873530064),\n",
    "    DefaultConv2D(120),\n",
    "\n",
    "    layers.Flatten(),\n",
    "    layers.Dropout(0.019169937499455086),\n",
    "    layers.Dense(84, activation=activation_def, kernel_regularizer=dense_regularizer),\n",
    "    layers.Dense(CLASSES, activation='softmax'),\n",
    "  ]\n",
    ")\n",
    "\n",
    "model.summary()"
   ]
  },
  {
   "cell_type": "code",
   "execution_count": 89,
   "metadata": {},
   "outputs": [],
   "source": [
    "# def get_lr_metric(optimizer):\n",
    "#   def lr(y_true, y_pred):\n",
    "#     return optimizer._decayed_lr(tf.float32) # I use ._decayed_lr method instead of .lr\n",
    "#   return lr\n",
    "\n",
    "# lr_metric = get_lr_metric(optimizer)\n",
    "# model.compile(loss=categorical_crossentropy, optimizer=optimizer, metrics=[\"accuracy\", lr_metric])\n",
    "\n",
    "\n",
    "optimizer = Adam(learning_rate=0.001)\n",
    "model.compile(loss=categorical_crossentropy, optimizer=optimizer, metrics=[\"accuracy\"])"
   ]
  },
  {
   "cell_type": "code",
   "execution_count": 90,
   "metadata": {},
   "outputs": [],
   "source": [
    "# def step_decay(epoch):\n",
    "#   initial_lrate = 0.1\n",
    "#   drop = 0.9\n",
    "#   epochs_drop = 10.0\n",
    "#   lrate = initial_lrate * math.pow(drop,  \n",
    "#           math.floor((1+epoch)/epochs_drop))\n",
    "#   return lrate\n",
    " \n",
    "# lrate_scheduler_callback = LearningRateScheduler(step_decay)"
   ]
  },
  {
   "cell_type": "markdown",
   "metadata": {},
   "source": [
    "## Training Preparation"
   ]
  },
  {
   "cell_type": "code",
   "execution_count": 91,
   "metadata": {},
   "outputs": [],
   "source": [
    "CHECKPOINT_PATH = 'models/checkpoints/famous48_test_model_v2_best.keras'"
   ]
  },
  {
   "cell_type": "code",
   "execution_count": 92,
   "metadata": {},
   "outputs": [],
   "source": [
    "model_checkpoint_callback = keras.callbacks.ModelCheckpoint(\n",
    "  filepath=CHECKPOINT_PATH,\n",
    "  save_weights_only=False,\n",
    "  monitor='val_accuracy',\n",
    "  mode='max',\n",
    "  save_best_only=True,\n",
    ")"
   ]
  },
  {
   "cell_type": "code",
   "execution_count": 93,
   "metadata": {},
   "outputs": [
    {
     "name": "stdout",
     "output_type": "stream",
     "text": [
      "Epoch 1/100\n",
      "22/22 [==============================] - 1s 23ms/step - loss: 5.0188 - accuracy: 0.0556 - val_loss: 4.4949 - val_accuracy: 0.0612\n",
      "Epoch 2/100\n",
      "22/22 [==============================] - 0s 11ms/step - loss: 3.9417 - accuracy: 0.1708 - val_loss: 3.4857 - val_accuracy: 0.2029\n",
      "Epoch 3/100\n",
      "22/22 [==============================] - 0s 10ms/step - loss: 3.1433 - accuracy: 0.2892 - val_loss: 2.9609 - val_accuracy: 0.3117\n",
      "Epoch 4/100\n",
      "22/22 [==============================] - 0s 9ms/step - loss: 2.7463 - accuracy: 0.3644 - val_loss: 2.6255 - val_accuracy: 0.3766\n",
      "Epoch 5/100\n",
      "22/22 [==============================] - 0s 10ms/step - loss: 2.5341 - accuracy: 0.4179 - val_loss: 2.3850 - val_accuracy: 0.4552\n",
      "Epoch 6/100\n",
      "22/22 [==============================] - 0s 10ms/step - loss: 2.3658 - accuracy: 0.4591 - val_loss: 2.2293 - val_accuracy: 0.4973\n",
      "Epoch 7/100\n",
      "22/22 [==============================] - 0s 10ms/step - loss: 2.2649 - accuracy: 0.4847 - val_loss: 2.1396 - val_accuracy: 0.5137\n",
      "Epoch 8/100\n",
      "22/22 [==============================] - 0s 9ms/step - loss: 2.1989 - accuracy: 0.4847 - val_loss: 2.0168 - val_accuracy: 0.5347\n",
      "Epoch 9/100\n",
      "22/22 [==============================] - 0s 9ms/step - loss: 2.1111 - accuracy: 0.5085 - val_loss: 2.0102 - val_accuracy: 0.5320\n",
      "Epoch 10/100\n",
      "22/22 [==============================] - 0s 10ms/step - loss: 2.0582 - accuracy: 0.5290 - val_loss: 1.9326 - val_accuracy: 0.5731\n",
      "Epoch 11/100\n",
      "22/22 [==============================] - 0s 9ms/step - loss: 1.9819 - accuracy: 0.5473 - val_loss: 1.8438 - val_accuracy: 0.5941\n",
      "Epoch 12/100\n",
      "22/22 [==============================] - 0s 10ms/step - loss: 1.9563 - accuracy: 0.5453 - val_loss: 1.7835 - val_accuracy: 0.6015\n",
      "Epoch 13/100\n",
      "22/22 [==============================] - 0s 10ms/step - loss: 1.8998 - accuracy: 0.5695 - val_loss: 1.7562 - val_accuracy: 0.6170\n",
      "Epoch 14/100\n",
      "22/22 [==============================] - 0s 10ms/step - loss: 1.8544 - accuracy: 0.5816 - val_loss: 1.7300 - val_accuracy: 0.6298\n",
      "Epoch 15/100\n",
      "22/22 [==============================] - 0s 10ms/step - loss: 1.8326 - accuracy: 0.5848 - val_loss: 1.6679 - val_accuracy: 0.6417\n",
      "Epoch 16/100\n",
      "22/22 [==============================] - 0s 10ms/step - loss: 1.8026 - accuracy: 0.5903 - val_loss: 1.6577 - val_accuracy: 0.6444\n",
      "Epoch 17/100\n",
      "22/22 [==============================] - 0s 10ms/step - loss: 1.7632 - accuracy: 0.6047 - val_loss: 1.6334 - val_accuracy: 0.6472\n",
      "Epoch 18/100\n",
      "22/22 [==============================] - 0s 10ms/step - loss: 1.7387 - accuracy: 0.6097 - val_loss: 1.5924 - val_accuracy: 0.6545\n",
      "Epoch 19/100\n",
      "22/22 [==============================] - 0s 10ms/step - loss: 1.7277 - accuracy: 0.6107 - val_loss: 1.5638 - val_accuracy: 0.6654\n",
      "Epoch 20/100\n",
      "22/22 [==============================] - 0s 9ms/step - loss: 1.7079 - accuracy: 0.6196 - val_loss: 1.5657 - val_accuracy: 0.6618\n",
      "Epoch 21/100\n",
      "22/22 [==============================] - 0s 10ms/step - loss: 1.6724 - accuracy: 0.6189 - val_loss: 1.4811 - val_accuracy: 0.6993\n",
      "Epoch 22/100\n",
      "22/22 [==============================] - 0s 10ms/step - loss: 1.6515 - accuracy: 0.6276 - val_loss: 1.4812 - val_accuracy: 0.6782\n",
      "Epoch 23/100\n",
      "22/22 [==============================] - 0s 10ms/step - loss: 1.6291 - accuracy: 0.6381 - val_loss: 1.5216 - val_accuracy: 0.6728\n",
      "Epoch 24/100\n",
      "22/22 [==============================] - 0s 10ms/step - loss: 1.6093 - accuracy: 0.6484 - val_loss: 1.4427 - val_accuracy: 0.7084\n",
      "Epoch 25/100\n",
      "22/22 [==============================] - 0s 10ms/step - loss: 1.5786 - accuracy: 0.6475 - val_loss: 1.4318 - val_accuracy: 0.6920\n",
      "Epoch 26/100\n",
      "22/22 [==============================] - 0s 10ms/step - loss: 1.5660 - accuracy: 0.6568 - val_loss: 1.3943 - val_accuracy: 0.7102\n",
      "Epoch 27/100\n",
      "22/22 [==============================] - 0s 10ms/step - loss: 1.5430 - accuracy: 0.6589 - val_loss: 1.3878 - val_accuracy: 0.7130\n",
      "Epoch 28/100\n",
      "22/22 [==============================] - 0s 10ms/step - loss: 1.5312 - accuracy: 0.6703 - val_loss: 1.4339 - val_accuracy: 0.6984\n",
      "Epoch 29/100\n",
      "22/22 [==============================] - 0s 10ms/step - loss: 1.5330 - accuracy: 0.6653 - val_loss: 1.4005 - val_accuracy: 0.7176\n",
      "Epoch 30/100\n",
      "22/22 [==============================] - 0s 10ms/step - loss: 1.5090 - accuracy: 0.6781 - val_loss: 1.3550 - val_accuracy: 0.7185\n",
      "Epoch 31/100\n",
      "22/22 [==============================] - 0s 10ms/step - loss: 1.4967 - accuracy: 0.6726 - val_loss: 1.3642 - val_accuracy: 0.7084\n",
      "Epoch 32/100\n",
      "22/22 [==============================] - 0s 10ms/step - loss: 1.4596 - accuracy: 0.6827 - val_loss: 1.3710 - val_accuracy: 0.7084\n",
      "Epoch 33/100\n",
      "22/22 [==============================] - 0s 10ms/step - loss: 1.4443 - accuracy: 0.6854 - val_loss: 1.3338 - val_accuracy: 0.7258\n",
      "Epoch 34/100\n",
      "22/22 [==============================] - 0s 10ms/step - loss: 1.4600 - accuracy: 0.6920 - val_loss: 1.3309 - val_accuracy: 0.7294\n",
      "Epoch 35/100\n",
      "22/22 [==============================] - 0s 10ms/step - loss: 1.4673 - accuracy: 0.6859 - val_loss: 1.3438 - val_accuracy: 0.7249\n",
      "Epoch 36/100\n",
      "22/22 [==============================] - 0s 11ms/step - loss: 1.4419 - accuracy: 0.6877 - val_loss: 1.3498 - val_accuracy: 0.7194\n",
      "Epoch 37/100\n",
      "22/22 [==============================] - 0s 10ms/step - loss: 1.4217 - accuracy: 0.6980 - val_loss: 1.3176 - val_accuracy: 0.7185\n",
      "Epoch 38/100\n",
      "22/22 [==============================] - 0s 11ms/step - loss: 1.3964 - accuracy: 0.7078 - val_loss: 1.2857 - val_accuracy: 0.7331\n",
      "Epoch 39/100\n",
      "22/22 [==============================] - 0s 11ms/step - loss: 1.3904 - accuracy: 0.6980 - val_loss: 1.2920 - val_accuracy: 0.7349\n",
      "Epoch 40/100\n",
      "22/22 [==============================] - 0s 11ms/step - loss: 1.3658 - accuracy: 0.7126 - val_loss: 1.2636 - val_accuracy: 0.7395\n",
      "Epoch 41/100\n",
      "22/22 [==============================] - 0s 10ms/step - loss: 1.3516 - accuracy: 0.7133 - val_loss: 1.2898 - val_accuracy: 0.7395\n",
      "Epoch 42/100\n",
      "22/22 [==============================] - 0s 10ms/step - loss: 1.3731 - accuracy: 0.7076 - val_loss: 1.2596 - val_accuracy: 0.7377\n",
      "Epoch 43/100\n",
      "22/22 [==============================] - 0s 10ms/step - loss: 1.3335 - accuracy: 0.7206 - val_loss: 1.2616 - val_accuracy: 0.7349\n",
      "Epoch 44/100\n",
      "22/22 [==============================] - 0s 10ms/step - loss: 1.3322 - accuracy: 0.7227 - val_loss: 1.2756 - val_accuracy: 0.7404\n",
      "Epoch 45/100\n",
      "22/22 [==============================] - 0s 11ms/step - loss: 1.3544 - accuracy: 0.7160 - val_loss: 1.2327 - val_accuracy: 0.7559\n",
      "Epoch 46/100\n",
      "22/22 [==============================] - 0s 10ms/step - loss: 1.3324 - accuracy: 0.7302 - val_loss: 1.2343 - val_accuracy: 0.7541\n",
      "Epoch 47/100\n",
      "22/22 [==============================] - 0s 10ms/step - loss: 1.3447 - accuracy: 0.7117 - val_loss: 1.2366 - val_accuracy: 0.7541\n",
      "Epoch 48/100\n",
      "22/22 [==============================] - 0s 10ms/step - loss: 1.3025 - accuracy: 0.7327 - val_loss: 1.2380 - val_accuracy: 0.7578\n",
      "Epoch 49/100\n",
      "22/22 [==============================] - 0s 10ms/step - loss: 1.2926 - accuracy: 0.7346 - val_loss: 1.2148 - val_accuracy: 0.7669\n",
      "Epoch 50/100\n",
      "22/22 [==============================] - 0s 10ms/step - loss: 1.3099 - accuracy: 0.7254 - val_loss: 1.2394 - val_accuracy: 0.7523\n",
      "Epoch 51/100\n",
      "22/22 [==============================] - 0s 10ms/step - loss: 1.2659 - accuracy: 0.7458 - val_loss: 1.2475 - val_accuracy: 0.7532\n",
      "Epoch 52/100\n",
      "22/22 [==============================] - 0s 10ms/step - loss: 1.2644 - accuracy: 0.7433 - val_loss: 1.2103 - val_accuracy: 0.7587\n",
      "Epoch 53/100\n",
      "22/22 [==============================] - 0s 10ms/step - loss: 1.2639 - accuracy: 0.7380 - val_loss: 1.2023 - val_accuracy: 0.7596\n",
      "Epoch 54/100\n",
      "22/22 [==============================] - 0s 10ms/step - loss: 1.2379 - accuracy: 0.7485 - val_loss: 1.2027 - val_accuracy: 0.7779\n",
      "Epoch 55/100\n",
      "22/22 [==============================] - 0s 10ms/step - loss: 1.2249 - accuracy: 0.7547 - val_loss: 1.2028 - val_accuracy: 0.7532\n",
      "Epoch 56/100\n",
      "22/22 [==============================] - 0s 9ms/step - loss: 1.2350 - accuracy: 0.7487 - val_loss: 1.2167 - val_accuracy: 0.7495\n",
      "Epoch 57/100\n",
      "22/22 [==============================] - 0s 10ms/step - loss: 1.2177 - accuracy: 0.7604 - val_loss: 1.1749 - val_accuracy: 0.7706\n",
      "Epoch 58/100\n",
      "22/22 [==============================] - 0s 10ms/step - loss: 1.2314 - accuracy: 0.7487 - val_loss: 1.1726 - val_accuracy: 0.7697\n",
      "Epoch 59/100\n",
      "22/22 [==============================] - 0s 9ms/step - loss: 1.2149 - accuracy: 0.7636 - val_loss: 1.1738 - val_accuracy: 0.7715\n",
      "Epoch 60/100\n",
      "22/22 [==============================] - 0s 9ms/step - loss: 1.2167 - accuracy: 0.7542 - val_loss: 1.1672 - val_accuracy: 0.7706\n",
      "Epoch 61/100\n",
      "22/22 [==============================] - 0s 10ms/step - loss: 1.1884 - accuracy: 0.7618 - val_loss: 1.1849 - val_accuracy: 0.7605\n",
      "Epoch 62/100\n",
      "22/22 [==============================] - 0s 10ms/step - loss: 1.1966 - accuracy: 0.7629 - val_loss: 1.1486 - val_accuracy: 0.7852\n",
      "Epoch 63/100\n",
      "22/22 [==============================] - 0s 9ms/step - loss: 1.2030 - accuracy: 0.7574 - val_loss: 1.1456 - val_accuracy: 0.7724\n",
      "Epoch 64/100\n",
      "22/22 [==============================] - 0s 10ms/step - loss: 1.1951 - accuracy: 0.7652 - val_loss: 1.1631 - val_accuracy: 0.7761\n",
      "Epoch 65/100\n",
      "22/22 [==============================] - 0s 10ms/step - loss: 1.1712 - accuracy: 0.7668 - val_loss: 1.1318 - val_accuracy: 0.7669\n",
      "Epoch 66/100\n",
      "22/22 [==============================] - 0s 11ms/step - loss: 1.1577 - accuracy: 0.7700 - val_loss: 1.1261 - val_accuracy: 0.7843\n",
      "Epoch 67/100\n",
      "22/22 [==============================] - 0s 10ms/step - loss: 1.1751 - accuracy: 0.7663 - val_loss: 1.1448 - val_accuracy: 0.7788\n",
      "Epoch 68/100\n",
      "22/22 [==============================] - 0s 10ms/step - loss: 1.1736 - accuracy: 0.7721 - val_loss: 1.1497 - val_accuracy: 0.7834\n",
      "Epoch 69/100\n",
      "22/22 [==============================] - 0s 10ms/step - loss: 1.1545 - accuracy: 0.7780 - val_loss: 1.1864 - val_accuracy: 0.7642\n",
      "Epoch 70/100\n",
      "22/22 [==============================] - 0s 9ms/step - loss: 1.1596 - accuracy: 0.7764 - val_loss: 1.1461 - val_accuracy: 0.7687\n",
      "Epoch 71/100\n",
      "22/22 [==============================] - 0s 10ms/step - loss: 1.1506 - accuracy: 0.7711 - val_loss: 1.1399 - val_accuracy: 0.7733\n",
      "Epoch 72/100\n",
      "22/22 [==============================] - 0s 10ms/step - loss: 1.1194 - accuracy: 0.7942 - val_loss: 1.0989 - val_accuracy: 0.7879\n",
      "Epoch 73/100\n",
      "22/22 [==============================] - 0s 9ms/step - loss: 1.1538 - accuracy: 0.7716 - val_loss: 1.1320 - val_accuracy: 0.7861\n",
      "Epoch 74/100\n",
      "22/22 [==============================] - 0s 9ms/step - loss: 1.1531 - accuracy: 0.7716 - val_loss: 1.1370 - val_accuracy: 0.7733\n",
      "Epoch 75/100\n",
      "22/22 [==============================] - 0s 9ms/step - loss: 1.1275 - accuracy: 0.7785 - val_loss: 1.1081 - val_accuracy: 0.7879\n",
      "Epoch 76/100\n",
      "22/22 [==============================] - 0s 9ms/step - loss: 1.1314 - accuracy: 0.7723 - val_loss: 1.1167 - val_accuracy: 0.7907\n",
      "Epoch 77/100\n",
      "22/22 [==============================] - 0s 10ms/step - loss: 1.1087 - accuracy: 0.7794 - val_loss: 1.1447 - val_accuracy: 0.7797\n",
      "Epoch 78/100\n",
      "22/22 [==============================] - 0s 10ms/step - loss: 1.1322 - accuracy: 0.7842 - val_loss: 1.1120 - val_accuracy: 0.7870\n",
      "Epoch 79/100\n",
      "22/22 [==============================] - 0s 10ms/step - loss: 1.1202 - accuracy: 0.7824 - val_loss: 1.0971 - val_accuracy: 0.7962\n",
      "Epoch 80/100\n",
      "22/22 [==============================] - 0s 10ms/step - loss: 1.1078 - accuracy: 0.7858 - val_loss: 1.1149 - val_accuracy: 0.7870\n",
      "Epoch 81/100\n",
      "22/22 [==============================] - 0s 10ms/step - loss: 1.0880 - accuracy: 0.7906 - val_loss: 1.0957 - val_accuracy: 0.7888\n",
      "Epoch 82/100\n",
      "22/22 [==============================] - 0s 10ms/step - loss: 1.0979 - accuracy: 0.7936 - val_loss: 1.0802 - val_accuracy: 0.7952\n",
      "Epoch 83/100\n",
      "22/22 [==============================] - 0s 10ms/step - loss: 1.0879 - accuracy: 0.7940 - val_loss: 1.1090 - val_accuracy: 0.7761\n",
      "Epoch 84/100\n",
      "22/22 [==============================] - 0s 10ms/step - loss: 1.0953 - accuracy: 0.7885 - val_loss: 1.0812 - val_accuracy: 0.8016\n",
      "Epoch 85/100\n",
      "22/22 [==============================] - 0s 10ms/step - loss: 1.0972 - accuracy: 0.7888 - val_loss: 1.0908 - val_accuracy: 0.7971\n",
      "Epoch 86/100\n",
      "22/22 [==============================] - 0s 10ms/step - loss: 1.0734 - accuracy: 0.7906 - val_loss: 1.0873 - val_accuracy: 0.7943\n",
      "Epoch 87/100\n",
      "22/22 [==============================] - 0s 10ms/step - loss: 1.0826 - accuracy: 0.7917 - val_loss: 1.0707 - val_accuracy: 0.8090\n",
      "Epoch 88/100\n",
      "22/22 [==============================] - 0s 10ms/step - loss: 1.0955 - accuracy: 0.7856 - val_loss: 1.0961 - val_accuracy: 0.7898\n",
      "Epoch 89/100\n",
      "22/22 [==============================] - 0s 10ms/step - loss: 1.0835 - accuracy: 0.7988 - val_loss: 1.0765 - val_accuracy: 0.8080\n",
      "Epoch 90/100\n",
      "22/22 [==============================] - 0s 10ms/step - loss: 1.0686 - accuracy: 0.8025 - val_loss: 1.0471 - val_accuracy: 0.8181\n",
      "Epoch 91/100\n",
      "22/22 [==============================] - 0s 10ms/step - loss: 1.0785 - accuracy: 0.7949 - val_loss: 1.0654 - val_accuracy: 0.8108\n",
      "Epoch 92/100\n",
      "22/22 [==============================] - 0s 11ms/step - loss: 1.0746 - accuracy: 0.7917 - val_loss: 1.0583 - val_accuracy: 0.8090\n",
      "Epoch 93/100\n",
      "22/22 [==============================] - 0s 10ms/step - loss: 1.0437 - accuracy: 0.8052 - val_loss: 1.0580 - val_accuracy: 0.8053\n",
      "Epoch 94/100\n",
      "22/22 [==============================] - 0s 10ms/step - loss: 1.0457 - accuracy: 0.8018 - val_loss: 1.0863 - val_accuracy: 0.7952\n",
      "Epoch 95/100\n",
      "22/22 [==============================] - 0s 9ms/step - loss: 1.0658 - accuracy: 0.7993 - val_loss: 1.0583 - val_accuracy: 0.8035\n",
      "Epoch 96/100\n",
      "22/22 [==============================] - 0s 9ms/step - loss: 1.0359 - accuracy: 0.8075 - val_loss: 1.0434 - val_accuracy: 0.8080\n",
      "Epoch 97/100\n",
      "22/22 [==============================] - 0s 10ms/step - loss: 1.0349 - accuracy: 0.8082 - val_loss: 1.0383 - val_accuracy: 0.8144\n",
      "Epoch 98/100\n",
      "22/22 [==============================] - 0s 10ms/step - loss: 1.0320 - accuracy: 0.8132 - val_loss: 1.0744 - val_accuracy: 0.8044\n",
      "Epoch 99/100\n",
      "22/22 [==============================] - 0s 9ms/step - loss: 1.0667 - accuracy: 0.7968 - val_loss: 1.1052 - val_accuracy: 0.7907\n",
      "Epoch 100/100\n",
      "22/22 [==============================] - 0s 9ms/step - loss: 1.0696 - accuracy: 0.8054 - val_loss: 1.0801 - val_accuracy: 0.8099\n",
      "CPU times: total: 29.4 s\n",
      "Wall time: 22.8 s\n"
     ]
    }
   ],
   "source": [
    "%%time\n",
    "batch_size = 200\n",
    "epochs = 100\n",
    "\n",
    "history = model.fit(\n",
    "  X_train, y_train,\n",
    "  batch_size=batch_size,\n",
    "  epochs=epochs,\n",
    "  validation_split=0.2,\n",
    "  shuffle=True,\n",
    "  # callbacks=[model_checkpoint_callback, lrate_scheduler_callback]\n",
    ")"
   ]
  },
  {
   "cell_type": "code",
   "execution_count": 94,
   "metadata": {},
   "outputs": [
    {
     "name": "stdout",
     "output_type": "stream",
     "text": [
      "train set accuracy: 0.805\n",
      "train loss: 1.07\n",
      "validation set accuracy: 0.81\n",
      "validation set loss: 1.08\n"
     ]
    }
   ],
   "source": [
    "length = len(history.history['accuracy'])\n",
    "print(\"train set accuracy:\", round(history.history['accuracy'][length-1], 3))\n",
    "print(\"train loss:\", round(history.history['loss'][length-1], 3))\n",
    "print(\"validation set accuracy:\", round(history.history['val_accuracy'][length-1], 3))\n",
    "print(\"validation set loss:\", round(history.history['val_loss'][length-1], 3))"
   ]
  },
  {
   "cell_type": "code",
   "execution_count": 96,
   "metadata": {},
   "outputs": [
    {
     "name": "stdout",
     "output_type": "stream",
     "text": [
      "43/43 [==============================] - 0s 8ms/step - loss: 1.0953 - accuracy: 0.7937\n",
      "test set accuracy: 0.794\n",
      "test set loss: 1.095\n"
     ]
    }
   ],
   "source": [
    "results = model.evaluate(X_test, y_test)\n",
    "print(\"test set accuracy:\", round(results[1], 3))\n",
    "print(\"test set loss:\", round(results[0], 3))"
   ]
  },
  {
   "cell_type": "code",
   "execution_count": 97,
   "metadata": {},
   "outputs": [
    {
     "data": {
      "image/png": "[encoded data removed]",
      "text/plain": [
       "<Figure size 1000x600 with 1 Axes>"
      ]
     },
     "metadata": {},
     "output_type": "display_data"
    }
   ],
   "source": [
    "plt.figure(figsize=(10, 6))\n",
    "plt.plot(history.history['accuracy'])\n",
    "plt.plot(history.history['val_accuracy'])\n",
    "plt.title('model accuracy')\n",
    "plt.ylabel('accuracy')\n",
    "plt.xlabel('epoch')\n",
    "plt.legend(['train', 'val'], loc='upper left')\n",
    "plt.show()"
   ]
  }
 ],
 "metadata": {
  "kernelspec": {
   "display_name": "env_torch",
   "language": "python",
   "name": "python3"
  },
  "language_info": {
   "codemirror_mode": {
    "name": "ipython",
    "version": 3
   },
   "file_extension": ".py",
   "mimetype": "text/x-python",
   "name": "python",
   "nbconvert_exporter": "python",
   "pygments_lexer": "ipython3",
   "version": "3.10.13"
  }
 },
 "nbformat": 4,
 "nbformat_minor": 2
}
