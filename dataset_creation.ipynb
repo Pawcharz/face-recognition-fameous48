{
 "cells": [
  {
   "cell_type": "code",
   "execution_count": 94,
   "metadata": {},
   "outputs": [],
   "source": [
    "import re\n",
    "import torch\n",
    "from torch.utils.data import Dataset\n",
    "\n",
    "import torchvision\n",
    "from torchvision import datasets, models, transforms"
   ]
  },
  {
   "cell_type": "markdown",
   "metadata": {},
   "source": [
    "### Attributes description\n",
    "\n",
    "- a1 - face containing flag: (1-with face, 0-without face),\n",
    "- a2 - image number in current class (person) beginning from 0,\n",
    "- a3 - class (person) number beginning from 0,\n",
    "- a4 - sex (0 - woman, 1 - man)\n",
    "- a5 - race (0- white, 1 - negro, 2 - indian, ...)\n",
    "- a6 - age (0 - baby, 1 - young, 2 - middle-age, 3 - old) \n",
    "- a7 - binokulars (0 - without, 1 - transparent, 2 - dark)\n",
    "- a8 - emotional expression (not state!) (0 - sad, 1 - neutral, 2 - happy)"
   ]
  },
  {
   "cell_type": "code",
   "execution_count": 95,
   "metadata": {},
   "outputs": [],
   "source": [
    "IMAGE_SIZE = 24\n",
    "\n",
    "dataset_dict = {\n",
    "  \"pixel_values\": list(),\n",
    "  \"face\": list(),\n",
    "  \"image_number\": list(),\n",
    "  \"class\": list(),\n",
    "  \"sex\": list(),\n",
    "  \"race\": list(),\n",
    "  \"age\": list(),\n",
    "  \"binoculars\": list(),\n",
    "  \"emotion\": list(),\n",
    "}"
   ]
  },
  {
   "cell_type": "code",
   "execution_count": 96,
   "metadata": {},
   "outputs": [],
   "source": [
    "def append_attribute(attributes, index, attr_name):\n",
    "  dataset_dict[attr_name].append(int(attributes[index]))\n",
    "\n",
    "def read_file(filename):\n",
    "  with open(filename, 'r') as file:\n",
    "    lines = file.readlines()\n",
    "    \n",
    "    # Remove newLines\n",
    "    for i, line in enumerate(lines):\n",
    "      lines[i] = line.replace('\\n', '')\n",
    "    \n",
    "    # We assume these are integers\n",
    "    EXAMPLES_NR = int(lines[0])\n",
    "    PIXELS_NR = int(lines[1])\n",
    "    \n",
    "    examples_raw = lines[2:EXAMPLES_NR]\n",
    "    \n",
    "    for i, example_raw in enumerate(examples_raw):\n",
    "      # Split by spaces (treats multiple as one)\n",
    "      tokens = re.split('\\s+', example_raw)\n",
    "      \n",
    "      pixel_values = tokens[0:PIXELS_NR]\n",
    "      attributes = tokens[PIXELS_NR:]       \n",
    "        \n",
    "      for j, el in enumerate(pixel_values):\n",
    "        pixel_values[j] = float(el)\n",
    "        \n",
    "      pixel_values = torch.Tensor(pixel_values).reshape([IMAGE_SIZE, IMAGE_SIZE])\n",
    "      \n",
    "      # Add everything to the dataset dictionary\n",
    "      dataset_dict[\"pixel_values\"].append(pixel_values)\n",
    "\n",
    "      \n",
    "      append_attribute(attributes, 0, \"face\")\n",
    "      append_attribute(attributes, 1, \"image_number\")\n",
    "      append_attribute(attributes, 2, \"class\")\n",
    "      append_attribute(attributes, 3, \"sex\")\n",
    "      append_attribute(attributes, 4, \"race\")\n",
    "      append_attribute(attributes, 5, \"age\")\n",
    "      append_attribute(attributes, 6, \"binoculars\")\n",
    "      append_attribute(attributes, 7, \"emotion\")\n",
    "    "
   ]
  },
  {
   "cell_type": "markdown",
   "metadata": {},
   "source": [
    "### Building Dataset"
   ]
  },
  {
   "cell_type": "code",
   "execution_count": 97,
   "metadata": {},
   "outputs": [],
   "source": [
    "class DataFromDict(Dataset):\n",
    "  def __init__(self, input_dict):\n",
    "    self.input_dict = input_dict\n",
    "    self.input_keys = list(input_dict.keys())\n",
    "    print(self.input_keys)\n",
    "\n",
    "  def __len__(self):\n",
    "    return len(self.input_keys)\n",
    "\n",
    "  def __getitem__(self, idx):\n",
    "    # print(self.input_dict['age'][idx])\n",
    "    pixel_values = self.input_dict['pixel_values'][idx]\n",
    "    face = self.input_dict['face'][idx]\n",
    "    image_number = self.input_dict['image_number'][idx]\n",
    "    sex = self.input_dict['sex'][idx]\n",
    "    race = self.input_dict['race'][idx]\n",
    "    age = self.input_dict['age'][idx]\n",
    "    binoculars = self.input_dict['binoculars'][idx]\n",
    "    emotion = self.input_dict['emotion'][idx]\n",
    "    label = self.input_dict['class'][idx]\n",
    "    \n",
    "    # return pixel_values\n",
    "    return pixel_values, face, image_number, sex, race, age, binoculars, emotion, label"
   ]
  },
  {
   "cell_type": "code",
   "execution_count": 98,
   "metadata": {},
   "outputs": [],
   "source": [
    "read_file('./data/x24x24.txt')"
   ]
  },
  {
   "cell_type": "code",
   "execution_count": 99,
   "metadata": {},
   "outputs": [
    {
     "name": "stdout",
     "output_type": "stream",
     "text": [
      "['pixel_values', 'face', 'image_number', 'class', 'sex', 'race', 'age', 'binoculars', 'emotion']\n"
     ]
    }
   ],
   "source": [
    "dataset = DataFromDict(dataset_dict)"
   ]
  },
  {
   "cell_type": "code",
   "execution_count": 100,
   "metadata": {},
   "outputs": [],
   "source": [
    "# next(iter(dataset))"
   ]
  },
  {
   "cell_type": "markdown",
   "metadata": {},
   "source": [
    "### Define dataloaders"
   ]
  },
  {
   "cell_type": "code",
   "execution_count": 102,
   "metadata": {},
   "outputs": [],
   "source": [
    "from torch.utils.data import DataLoader\n",
    "\n",
    "train_dataloader = DataLoader(dataset, batch_size=64, shuffle=True)"
   ]
  },
  {
   "cell_type": "code",
   "execution_count": 103,
   "metadata": {},
   "outputs": [
    {
     "name": "stdout",
     "output_type": "stream",
     "text": [
      "0\n",
      "[tensor([[[-0.0721,  0.6407,  0.5921,  ...,  0.4187,  0.4654,  0.5425],\n",
      "         [ 0.2845,  0.4655,  0.5008,  ...,  0.4860,  0.4353,  0.4294],\n",
      "         [ 0.2460,  0.4757,  0.6555,  ...,  0.1881,  0.4122,  0.3811],\n",
      "         ...,\n",
      "         [ 0.3619,  0.5048,  0.0828,  ...,  0.2913,  0.2736,  0.1899],\n",
      "         [ 0.5527,  0.7342,  0.6612,  ...,  0.2455,  0.2476,  0.3162],\n",
      "         [ 0.7170,  0.6697,  0.7091,  ...,  0.3148,  0.1952,  0.3329]],\n",
      "\n",
      "        [[ 1.7617,  1.1200,  0.6426,  ...,  0.2532,  0.2933,  0.2714],\n",
      "         [ 1.2360,  0.8174,  0.7113,  ...,  0.3278,  0.3507,  0.3192],\n",
      "         [ 0.9729,  0.8133,  0.7463,  ...,  0.2771,  0.3234,  0.3331],\n",
      "         ...,\n",
      "         [ 0.4834,  1.1649,  0.9740,  ...,  0.3002,  0.2615,  0.2853],\n",
      "         [ 0.1675,  1.5068,  0.9740,  ...,  0.2870,  0.2554,  0.2547],\n",
      "         [ 0.1522,  1.4989,  0.7292,  ...,  0.2906,  0.2328,  0.2409]],\n",
      "\n",
      "        [[ 0.6180,  0.5224,  0.6187,  ...,  0.3010,  0.3646,  0.3789],\n",
      "         [ 0.4910,  0.4919,  0.5625,  ...,  0.4337,  0.3067,  0.2660],\n",
      "         [ 0.3095,  0.5391,  0.5819,  ...,  0.2447,  0.3604,  0.2890],\n",
      "         ...,\n",
      "         [ 0.2893,  0.2895,  0.3601,  ...,  0.1267,  0.2655,  0.1367],\n",
      "         [ 0.2566,  0.2851,  0.3575,  ...,  0.1701,  0.2665,  0.1395],\n",
      "         [ 0.2641,  0.1932,  0.2531,  ...,  0.1052,  0.2866,  0.1040]],\n",
      "\n",
      "        ...,\n",
      "\n",
      "        [[ 0.3650,  0.3482,  0.3724,  ...,  0.2869,  0.4290,  0.4229],\n",
      "         [ 0.5239,  0.5755,  0.6055,  ...,  0.4127,  0.4237,  0.4049],\n",
      "         [ 0.5215,  0.5644,  0.3891,  ...,  0.2462,  0.3531,  0.3028],\n",
      "         ...,\n",
      "         [ 0.3946,  0.3646,  0.3133,  ...,  0.0187,  0.0634,  0.2153],\n",
      "         [ 0.3442,  0.3731,  0.3542,  ...,  0.2969,  0.2549,  0.2633],\n",
      "         [ 0.3401,  0.3707,  0.3374,  ...,  0.3302,  0.3806,  0.2966]],\n",
      "\n",
      "        [[ 0.3812,  0.2957,  0.2346,  ...,  0.3389,  0.5239,  0.6758],\n",
      "         [ 0.5274,  0.6144,  0.5629,  ...,  0.6395,  0.7404,  0.8123],\n",
      "         [ 0.4117,  0.5318,  0.5408,  ...,  0.5748,  0.7119,  0.6155],\n",
      "         ...,\n",
      "         [ 0.3118,  0.3325,  0.3203,  ...,  0.7677,  0.2595,  0.4320],\n",
      "         [ 0.3001,  0.3189,  0.2940,  ...,  0.7048,  0.4883,  0.6096],\n",
      "         [ 0.2778,  0.2930,  0.2085,  ...,  1.0018,  1.0272,  0.3776]],\n",
      "\n",
      "        [[ 1.0591,  0.8737,  0.8792,  ...,  0.1381,  0.2404,  0.3003],\n",
      "         [ 1.0483,  0.9499,  0.7599,  ...,  0.3337,  0.3436,  0.3455],\n",
      "         [ 0.7404,  0.6431,  0.5684,  ...,  0.2994,  0.3107,  0.2807],\n",
      "         ...,\n",
      "         [ 0.8363,  0.7276,  0.5730,  ...,  0.4318,  0.1598, -0.0291],\n",
      "         [ 0.8166,  0.7482,  0.4935,  ...,  0.3569,  0.2030,  0.0251],\n",
      "         [ 0.7921,  0.6451,  0.4656,  ...,  0.2974,  0.1785,  0.0705]]]), tensor([1, 1, 1, 1, 1, 1, 1, 1, 1]), tensor([6, 2, 3, 7, 0, 5, 8, 4, 1]), tensor([0, 0, 0, 0, 0, 0, 0, 0, 0]), tensor([1, 1, 1, 1, 1, 1, 1, 1, 1]), tensor([-1, -1, -1, -1, -1, -1, -1, -1, -1]), tensor([-1, -1, -1, -1, -1, -1, -1, -1, -1]), tensor([-1, -1, -1, -1, -1, -1, -1, -1, -1]), tensor([0, 0, 0, 0, 0, 0, 0, 0, 0])]\n"
     ]
    }
   ],
   "source": [
    "for i, el in enumerate(train_dataloader):\n",
    "  print(i)\n",
    "  \n",
    "  if i < 5:\n",
    "    print(el)"
   ]
  }
 ],
 "metadata": {
  "kernelspec": {
   "display_name": "env_torch",
   "language": "python",
   "name": "python3"
  },
  "language_info": {
   "codemirror_mode": {
    "name": "ipython",
    "version": 3
   },
   "file_extension": ".py",
   "mimetype": "text/x-python",
   "name": "python",
   "nbconvert_exporter": "python",
   "pygments_lexer": "ipython3",
   "version": "3.10.13"
  }
 },
 "nbformat": 4,
 "nbformat_minor": 2
}
