{
 "cells": [
  {
   "cell_type": "code",
   "execution_count": 94,
   "metadata": {},
   "outputs": [],
   "source": [
    "import re\n",
    "import torch\n",
    "from torch.utils.data import Dataset\n",
    "\n",
    "import torchvision\n",
    "from torchvision import datasets, models, transforms"
   ]
  },
  {
   "cell_type": "markdown",
   "metadata": {},
   "source": [
    "### Attributes description\n",
    "\n",
    "- a1 - face containing flag: (1-with face, 0-without face),\n",
    "- a2 - image number in current class (person) beginning from 0,\n",
    "- a3 - class (person) number beginning from 0,\n",
    "- a4 - sex (0 - woman, 1 - man)\n",
    "- a5 - race (0- white, 1 - negro, 2 - indian, ...)\n",
    "- a6 - age (0 - baby, 1 - young, 2 - middle-age, 3 - old) \n",
    "- a7 - binokulars (0 - without, 1 - transparent, 2 - dark)\n",
    "- a8 - emotional expression (not state!) (0 - sad, 1 - neutral, 2 - happy)"
   ]
  },
  {
   "cell_type": "code",
   "execution_count": 95,
   "metadata": {},
   "outputs": [],
   "source": [
    "IMAGE_SIZE = 24\n",
    "\n",
    "dataset_dict = {\n",
    "  \"pixel_values\": list(),\n",
    "  \"face\": list(),\n",
    "  \"image_number\": list(),\n",
    "  \"class\": list(),\n",
    "  \"sex\": list(),\n",
    "  \"race\": list(),\n",
    "  \"age\": list(),\n",
    "  \"binoculars\": list(),\n",
    "  \"emotion\": list(),\n",
    "}"
   ]
  },
  {
   "cell_type": "code",
   "execution_count": 96,
   "metadata": {},
   "outputs": [],
   "source": [
    "def append_attribute(attributes, index, attr_name):\n",
    "  dataset_dict[attr_name].append(int(attributes[index]))\n",
    "\n",
    "def read_file(filename):\n",
    "  with open(filename, 'r') as file:\n",
    "    lines = file.readlines()\n",
    "    \n",
    "    # Remove newLines\n",
    "    for i, line in enumerate(lines):\n",
    "      lines[i] = line.replace('\\n', '')\n",
    "    \n",
    "    # We assume these are integers\n",
    "    EXAMPLES_NR = int(lines[0])\n",
    "    PIXELS_NR = int(lines[1])\n",
    "    \n",
    "    examples_raw = lines[2:EXAMPLES_NR]\n",
    "    \n",
    "    for i, example_raw in enumerate(examples_raw):\n",
    "      # Split by spaces (treats multiple as one)\n",
    "      tokens = re.split('\\s+', example_raw)\n",
    "      \n",
    "      pixel_values = tokens[0:PIXELS_NR]\n",
    "      attributes = tokens[PIXELS_NR:]       \n",
    "        \n",
    "      for j, el in enumerate(pixel_values):\n",
    "        pixel_values[j] = float(el)\n",
    "        \n",
    "      pixel_values = torch.Tensor(pixel_values).reshape([IMAGE_SIZE, IMAGE_SIZE])\n",
    "      \n",
    "      # Add everything to the dataset dictionary\n",
    "      dataset_dict[\"pixel_values\"].append(pixel_values)\n",
    "\n",
    "      \n",
    "      append_attribute(attributes, 0, \"face\")\n",
    "      append_attribute(attributes, 1, \"image_number\")\n",
    "      append_attribute(attributes, 2, \"class\")\n",
    "      append_attribute(attributes, 3, \"sex\")\n",
    "      append_attribute(attributes, 4, \"race\")\n",
    "      append_attribute(attributes, 5, \"age\")\n",
    "      append_attribute(attributes, 6, \"binoculars\")\n",
    "      append_attribute(attributes, 7, \"emotion\")\n",
    "    "
   ]
  },
  {
   "cell_type": "markdown",
   "metadata": {},
   "source": [
    "### Building Dataset"
   ]
  },
  {
   "cell_type": "code",
   "execution_count": 97,
   "metadata": {},
   "outputs": [],
   "source": [
    "class DataFromDict(Dataset):\n",
    "  def __init__(self, input_dict):\n",
    "    self.input_dict = input_dict\n",
    "    self.input_keys = list(input_dict.keys())\n",
    "    print(self.input_keys)\n",
    "\n",
    "  def __len__(self):\n",
    "    return len(self.input_keys)\n",
    "\n",
    "  def __getitem__(self, idx):\n",
    "    # print(self.input_dict['age'][idx])\n",
    "    pixel_values = self.input_dict['pixel_values'][idx]\n",
    "    face = self.input_dict['face'][idx]\n",
    "    image_number = self.input_dict['image_number'][idx]\n",
    "    sex = self.input_dict['sex'][idx]\n",
    "    race = self.input_dict['race'][idx]\n",
    "    age = self.input_dict['age'][idx]\n",
    "    binoculars = self.input_dict['binoculars'][idx]\n",
    "    emotion = self.input_dict['emotion'][idx]\n",
    "    label = self.input_dict['class'][idx]\n",
    "    \n",
    "    # return pixel_values\n",
    "    return pixel_values, face, image_number, sex, race, age, binoculars, emotion, label"
   ]
  },
  {
   "cell_type": "code",
   "execution_count": 98,
   "metadata": {},
   "outputs": [],
   "source": [
    "read_file('./data/x24x24.txt')"
   ]
  },
  {
   "cell_type": "code",
   "execution_count": 99,
   "metadata": {},
   "outputs": [
    {
     "name": "stdout",
     "output_type": "stream",
     "text": [
      "['pixel_values', 'face', 'image_number', 'class', 'sex', 'race', 'age', 'binoculars', 'emotion']\n"
     ]
    }
   ],
   "source": [
    "dataset = DataFromDict(dataset_dict)"
   ]
  },
  {
   "cell_type": "code",
   "execution_count": 100,
   "metadata": {},
   "outputs": [],
   "source": [
    "# next(iter(dataset))"
   ]
  },
  {
   "cell_type": "markdown",
   "metadata": {},
   "source": [
    "### Define dataloaders"
   ]
  },
  {
   "cell_type": "code",
   "execution_count": null,
   "metadata": {},
   "outputs": [],
   "source": [
    "# from torch.utils.data import DataLoader\n",
    "\n",
    "# train_dataloader = DataLoader(training_data, batch_size=64, shuffle=True)\n",
    "# test_dataloader = DataLoader(test_data, batch_size=64, shuffle=True)"
   ]
  }
 ],
 "metadata": {
  "kernelspec": {
   "display_name": "env_torch",
   "language": "python",
   "name": "python3"
  },
  "language_info": {
   "codemirror_mode": {
    "name": "ipython",
    "version": 3
   },
   "file_extension": ".py",
   "mimetype": "text/x-python",
   "name": "python",
   "nbconvert_exporter": "python",
   "pygments_lexer": "ipython3",
   "version": "3.10.13"
  }
 },
 "nbformat": 4,
 "nbformat_minor": 2
}
