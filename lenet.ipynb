{
 "cells": [
  {
   "cell_type": "code",
   "execution_count": 15,
   "metadata": {},
   "outputs": [],
   "source": [
    "import numpy as np\n",
    "import tensorflow as tf\n",
    "from tensorflow import keras\n",
    "\n",
    "from keras import layers\n",
    "from keras import regularizers\n",
    "from keras import backend as K\n",
    "from keras import Sequential, Input\n",
    "from keras.optimizers import SGD, Adam\n",
    "from keras.losses import categorical_crossentropy\n",
    "from keras.callbacks import LearningRateScheduler\n",
    "\n",
    "import matplotlib.pyplot as plt\n",
    "\n",
    "import math\n",
    "\n",
    "from utils.load_dataset import load_dataset\n",
    "from utils.constants import CLASSES, IMAGE_SIZE"
   ]
  },
  {
   "cell_type": "code",
   "execution_count": 16,
   "metadata": {},
   "outputs": [],
   "source": [
    "# make the result reproducible\n",
    "keras.utils.set_random_seed(42)"
   ]
  },
  {
   "cell_type": "code",
   "execution_count": 17,
   "metadata": {},
   "outputs": [
    {
     "name": "stdout",
     "output_type": "stream",
     "text": [
      "[PhysicalDevice(name='/physical_device:CPU:0', device_type='CPU'), PhysicalDevice(name='/physical_device:GPU:0', device_type='GPU')]\n"
     ]
    }
   ],
   "source": [
    "physical_devices = tf.config.list_physical_devices()\n",
    "print(physical_devices)"
   ]
  },
  {
   "cell_type": "code",
   "execution_count": 18,
   "metadata": {},
   "outputs": [],
   "source": [
    "tf.config.set_visible_devices(physical_devices[1], 'GPU')"
   ]
  },
  {
   "cell_type": "markdown",
   "metadata": {},
   "source": [
    "## Building Dataset"
   ]
  },
  {
   "cell_type": "markdown",
   "metadata": {},
   "source": [
    "### Attributes description\n",
    "\n",
    "- a1 - face containing flag: (1-with face, 0-without face),\n",
    "- a2 - image number in current class (person) beginning from 0,\n",
    "- a3 - class (person) number beginning from 0,\n",
    "- a4 - sex (0 - woman, 1 - man)\n",
    "- a5 - race (0- white, 1 - negro, 2 - indian, ...)\n",
    "- a6 - age (0 - baby, 1 - young, 2 - middle-age, 3 - old) \n",
    "- a7 - binokulars (0 - without, 1 - transparent, 2 - dark)\n",
    "- a8 - emotional expression (not state!) (0 - sad, 1 - neutral, 2 - happy)"
   ]
  },
  {
   "cell_type": "code",
   "execution_count": 19,
   "metadata": {},
   "outputs": [],
   "source": [
    "DIRPATH = './data'\n",
    "X_train, X_test, y_train, y_test = load_dataset(DIRPATH)"
   ]
  },
  {
   "cell_type": "markdown",
   "metadata": {},
   "source": [
    "## Building a model"
   ]
  },
  {
   "cell_type": "markdown",
   "metadata": {},
   "source": [
    "Testing LeNet-5 Architecture"
   ]
  },
  {
   "cell_type": "code",
   "execution_count": 20,
   "metadata": {},
   "outputs": [
    {
     "name": "stdout",
     "output_type": "stream",
     "text": [
      "Model: \"sequential_1\"\n",
      "_________________________________________________________________\n",
      " Layer (type)                Output Shape              Param #   \n",
      "=================================================================\n",
      " conv2d_3 (Conv2D)           (None, 24, 24, 6)         156       \n",
      "                                                                 \n",
      " max_pooling2d_2 (MaxPooling  (None, 12, 12, 6)        0         \n",
      " 2D)                                                             \n",
      "                                                                 \n",
      " dropout_3 (Dropout)         (None, 12, 12, 6)         0         \n",
      "                                                                 \n",
      " conv2d_4 (Conv2D)           (None, 12, 12, 16)        2416      \n",
      "                                                                 \n",
      " max_pooling2d_3 (MaxPooling  (None, 6, 6, 16)         0         \n",
      " 2D)                                                             \n",
      "                                                                 \n",
      " dropout_4 (Dropout)         (None, 6, 6, 16)          0         \n",
      "                                                                 \n",
      " conv2d_5 (Conv2D)           (None, 6, 6, 120)         48120     \n",
      "                                                                 \n",
      " flatten_1 (Flatten)         (None, 4320)              0         \n",
      "                                                                 \n",
      " dropout_5 (Dropout)         (None, 4320)              0         \n",
      "                                                                 \n",
      " dense_2 (Dense)             (None, 84)                362964    \n",
      "                                                                 \n",
      " dense_3 (Dense)             (None, 48)                4080      \n",
      "                                                                 \n",
      "=================================================================\n",
      "Total params: 417,736\n",
      "Trainable params: 417,736\n",
      "Non-trainable params: 0\n",
      "_________________________________________________________________\n"
     ]
    }
   ],
   "source": [
    "conv_regularizer = regularizers.l2(0.0009096443481619992)\n",
    "dense_regularizer = regularizers.l2(0.011905583599301073)\n",
    "\n",
    "# activation_def = 'tanh'\n",
    "\n",
    "dropout_base = 0.09439855997376015\n",
    "dropout_inc = 0.14131761625994724\n",
    "dropout_1 = dropout_base\n",
    "dropout_2 = dropout_base + dropout_inc\n",
    "dropout_3 = dropout_base + 2*dropout_inc\n",
    "\n",
    "DefaultConv2D = partial(tf.keras.layers.Conv2D, kernel_size=5, padding=\"same\", activation=\"tanh\",\n",
    "                        kernel_regularizer=conv_regularizer) # kernel_initializer=\"he_normal\")\n",
    "\n",
    "model = Sequential(\n",
    "  [\n",
    "    Input(shape=(IMAGE_SIZE, IMAGE_SIZE, 1)),\n",
    "    DefaultConv2D(6),\n",
    "    layers.MaxPooling2D(pool_size=2, strides=2),\n",
    "\n",
    "    layers.Dropout(dropout_1),\n",
    "    DefaultConv2D(16),\n",
    "    layers.MaxPooling2D(pool_size=2, strides=2),\n",
    "\n",
    "    layers.Dropout(dropout_2),\n",
    "    DefaultConv2D(120),\n",
    "\n",
    "    layers.Flatten(),\n",
    "    layers.Dropout(dropout_3),\n",
    "    DefaultConv2D(84),\n",
    "    layers.Dense(CLASSES, activation='softmax'),\n",
    "  ]\n",
    ")\n",
    "\n",
    "model.summary()"
   ]
  },
  {
   "cell_type": "code",
   "execution_count": 21,
   "metadata": {},
   "outputs": [],
   "source": [
    "optimizer = Adam(learning_rate=0.001)\n",
    "\n",
    "def get_lr_metric(optimizer):\n",
    "  def lr(y_true, y_pred):\n",
    "    return optimizer._decayed_lr(tf.float32) # I use ._decayed_lr method instead of .lr\n",
    "  return lr\n",
    "\n",
    "lr_metric = get_lr_metric(optimizer)\n",
    "\n",
    "\n",
    "# model.compile(loss=categorical_crossentropy, optimizer=optimizer, metrics=[\"accuracy\"])\n",
    "model.compile(loss=categorical_crossentropy, optimizer=optimizer, metrics=[\"accuracy\", lr_metric])"
   ]
  },
  {
   "cell_type": "code",
   "execution_count": 22,
   "metadata": {},
   "outputs": [],
   "source": [
    "def step_decay(epoch):\n",
    "  initial_lrate = 0.001\n",
    "  drop = 0.5\n",
    "  epochs_drop = 40.0\n",
    "  lrate = initial_lrate * math.pow(drop,  \n",
    "          math.floor((1+epoch)/epochs_drop))\n",
    "  return lrate\n",
    " \n",
    "lrate_scheduler_callback = LearningRateScheduler(step_decay)"
   ]
  },
  {
   "cell_type": "markdown",
   "metadata": {},
   "source": [
    "## Training Preparation"
   ]
  },
  {
   "cell_type": "code",
   "execution_count": 23,
   "metadata": {},
   "outputs": [],
   "source": [
    "CHECKPOINT_PATH = 'models/checkpoints/famous48_test_model_v2_best.keras'"
   ]
  },
  {
   "cell_type": "code",
   "execution_count": 24,
   "metadata": {},
   "outputs": [],
   "source": [
    "model_checkpoint_callback = keras.callbacks.ModelCheckpoint(\n",
    "  filepath=CHECKPOINT_PATH,\n",
    "  save_weights_only=False,\n",
    "  monitor='val_accuracy',\n",
    "  mode='max',\n",
    "  save_best_only=True,\n",
    ")"
   ]
  },
  {
   "cell_type": "code",
   "execution_count": 25,
   "metadata": {},
   "outputs": [
    {
     "name": "stdout",
     "output_type": "stream",
     "text": [
      "Epoch 1/100\n",
      "22/22 [==============================] - 1s 28ms/step - loss: 4.9319 - accuracy: 0.0663 - val_loss: 4.2841 - val_accuracy: 0.1197\n",
      "Epoch 2/100\n",
      "22/22 [==============================] - 0s 9ms/step - loss: 3.6980 - accuracy: 0.2222 - val_loss: 3.2366 - val_accuracy: 0.2797\n",
      "Epoch 3/100\n",
      "22/22 [==============================] - 0s 10ms/step - loss: 2.9385 - accuracy: 0.3487 - val_loss: 2.7531 - val_accuracy: 0.3647\n",
      "Epoch 4/100\n",
      "22/22 [==============================] - 0s 10ms/step - loss: 2.5687 - accuracy: 0.4326 - val_loss: 2.4917 - val_accuracy: 0.4260\n",
      "Epoch 5/100\n",
      "22/22 [==============================] - 0s 9ms/step - loss: 2.3683 - accuracy: 0.4787 - val_loss: 2.2455 - val_accuracy: 0.4991\n",
      "Epoch 6/100\n",
      "22/22 [==============================] - 0s 10ms/step - loss: 2.2025 - accuracy: 0.5206 - val_loss: 2.1267 - val_accuracy: 0.5439\n",
      "Epoch 7/100\n",
      "22/22 [==============================] - 0s 10ms/step - loss: 2.0991 - accuracy: 0.5457 - val_loss: 2.0244 - val_accuracy: 0.5612\n",
      "Epoch 8/100\n",
      "22/22 [==============================] - 0s 9ms/step - loss: 1.9938 - accuracy: 0.5770 - val_loss: 1.9112 - val_accuracy: 0.5896\n",
      "Epoch 9/100\n",
      "22/22 [==============================] - 0s 9ms/step - loss: 1.9168 - accuracy: 0.5885 - val_loss: 1.8796 - val_accuracy: 0.5859\n",
      "Epoch 10/100\n",
      "22/22 [==============================] - 0s 9ms/step - loss: 1.8384 - accuracy: 0.6157 - val_loss: 1.8114 - val_accuracy: 0.6207\n",
      "Epoch 11/100\n",
      "22/22 [==============================] - 0s 9ms/step - loss: 1.7659 - accuracy: 0.6285 - val_loss: 1.7500 - val_accuracy: 0.6325\n",
      "Epoch 12/100\n",
      "22/22 [==============================] - 0s 9ms/step - loss: 1.7367 - accuracy: 0.6331 - val_loss: 1.6728 - val_accuracy: 0.6563\n",
      "Epoch 13/100\n",
      "22/22 [==============================] - 0s 9ms/step - loss: 1.6699 - accuracy: 0.6561 - val_loss: 1.6175 - val_accuracy: 0.6700\n",
      "Epoch 14/100\n",
      "22/22 [==============================] - 0s 9ms/step - loss: 1.6213 - accuracy: 0.6786 - val_loss: 1.6152 - val_accuracy: 0.6627\n",
      "Epoch 15/100\n",
      "22/22 [==============================] - 0s 9ms/step - loss: 1.5945 - accuracy: 0.6827 - val_loss: 1.5948 - val_accuracy: 0.6709\n",
      "Epoch 16/100\n",
      "22/22 [==============================] - 0s 9ms/step - loss: 1.5654 - accuracy: 0.6827 - val_loss: 1.5311 - val_accuracy: 0.6910\n",
      "Epoch 17/100\n",
      "22/22 [==============================] - 0s 9ms/step - loss: 1.5188 - accuracy: 0.6980 - val_loss: 1.4991 - val_accuracy: 0.6929\n",
      "Epoch 18/100\n",
      "22/22 [==============================] - 0s 9ms/step - loss: 1.4858 - accuracy: 0.6968 - val_loss: 1.4797 - val_accuracy: 0.7066\n",
      "Epoch 19/100\n",
      "22/22 [==============================] - 0s 9ms/step - loss: 1.4667 - accuracy: 0.7087 - val_loss: 1.4525 - val_accuracy: 0.7121\n",
      "Epoch 20/100\n",
      "22/22 [==============================] - 0s 9ms/step - loss: 1.4470 - accuracy: 0.7131 - val_loss: 1.4631 - val_accuracy: 0.7011\n",
      "Epoch 21/100\n",
      "22/22 [==============================] - 0s 10ms/step - loss: 1.4051 - accuracy: 0.7277 - val_loss: 1.3992 - val_accuracy: 0.7230\n",
      "Epoch 22/100\n",
      "22/22 [==============================] - 0s 9ms/step - loss: 1.3958 - accuracy: 0.7293 - val_loss: 1.3707 - val_accuracy: 0.7331\n",
      "Epoch 23/100\n",
      "22/22 [==============================] - 0s 10ms/step - loss: 1.3622 - accuracy: 0.7414 - val_loss: 1.3885 - val_accuracy: 0.7166\n",
      "Epoch 24/100\n",
      "22/22 [==============================] - 0s 10ms/step - loss: 1.3364 - accuracy: 0.7412 - val_loss: 1.3511 - val_accuracy: 0.7377\n",
      "Epoch 25/100\n",
      "22/22 [==============================] - 0s 10ms/step - loss: 1.3336 - accuracy: 0.7433 - val_loss: 1.3447 - val_accuracy: 0.7267\n",
      "Epoch 26/100\n",
      "22/22 [==============================] - 0s 10ms/step - loss: 1.3027 - accuracy: 0.7538 - val_loss: 1.2909 - val_accuracy: 0.7495\n",
      "Epoch 27/100\n",
      "22/22 [==============================] - 0s 10ms/step - loss: 1.2698 - accuracy: 0.7673 - val_loss: 1.2875 - val_accuracy: 0.7404\n",
      "Epoch 28/100\n",
      "22/22 [==============================] - 0s 9ms/step - loss: 1.2697 - accuracy: 0.7627 - val_loss: 1.3439 - val_accuracy: 0.7276\n",
      "Epoch 29/100\n",
      "22/22 [==============================] - 0s 9ms/step - loss: 1.2663 - accuracy: 0.7615 - val_loss: 1.3258 - val_accuracy: 0.7386\n",
      "Epoch 30/100\n",
      "22/22 [==============================] - 0s 10ms/step - loss: 1.2509 - accuracy: 0.7718 - val_loss: 1.2772 - val_accuracy: 0.7422\n",
      "Epoch 31/100\n",
      "22/22 [==============================] - 0s 9ms/step - loss: 1.2288 - accuracy: 0.7778 - val_loss: 1.2626 - val_accuracy: 0.7468\n",
      "Epoch 32/100\n",
      "22/22 [==============================] - 0s 9ms/step - loss: 1.1839 - accuracy: 0.7949 - val_loss: 1.2407 - val_accuracy: 0.7587\n",
      "Epoch 33/100\n",
      "22/22 [==============================] - 0s 9ms/step - loss: 1.1856 - accuracy: 0.7803 - val_loss: 1.2305 - val_accuracy: 0.7614\n",
      "Epoch 34/100\n",
      "22/22 [==============================] - 0s 9ms/step - loss: 1.1908 - accuracy: 0.7926 - val_loss: 1.2310 - val_accuracy: 0.7587\n",
      "Epoch 35/100\n",
      "22/22 [==============================] - 0s 10ms/step - loss: 1.1907 - accuracy: 0.7771 - val_loss: 1.2715 - val_accuracy: 0.7495\n",
      "Epoch 36/100\n",
      "22/22 [==============================] - 0s 9ms/step - loss: 1.1676 - accuracy: 0.7885 - val_loss: 1.2401 - val_accuracy: 0.7761\n",
      "Epoch 37/100\n",
      "22/22 [==============================] - 0s 9ms/step - loss: 1.1481 - accuracy: 0.7986 - val_loss: 1.2224 - val_accuracy: 0.7587\n",
      "Epoch 38/100\n",
      "22/22 [==============================] - 0s 9ms/step - loss: 1.1142 - accuracy: 0.8059 - val_loss: 1.2174 - val_accuracy: 0.7678\n",
      "Epoch 39/100\n",
      "22/22 [==============================] - 0s 9ms/step - loss: 1.1278 - accuracy: 0.8034 - val_loss: 1.1863 - val_accuracy: 0.7733\n",
      "Epoch 40/100\n",
      "22/22 [==============================] - 0s 9ms/step - loss: 1.1262 - accuracy: 0.8045 - val_loss: 1.1908 - val_accuracy: 0.7642\n",
      "Epoch 41/100\n",
      "22/22 [==============================] - 0s 9ms/step - loss: 1.0971 - accuracy: 0.8112 - val_loss: 1.1985 - val_accuracy: 0.7706\n",
      "Epoch 42/100\n",
      "22/22 [==============================] - 0s 9ms/step - loss: 1.1013 - accuracy: 0.8082 - val_loss: 1.1681 - val_accuracy: 0.7824\n",
      "Epoch 43/100\n",
      "22/22 [==============================] - 0s 9ms/step - loss: 1.0907 - accuracy: 0.8057 - val_loss: 1.1696 - val_accuracy: 0.7788\n",
      "Epoch 44/100\n",
      "22/22 [==============================] - 0s 10ms/step - loss: 1.0809 - accuracy: 0.8148 - val_loss: 1.1723 - val_accuracy: 0.7751\n",
      "Epoch 45/100\n",
      "22/22 [==============================] - 0s 9ms/step - loss: 1.0846 - accuracy: 0.8125 - val_loss: 1.1732 - val_accuracy: 0.7633\n",
      "Epoch 46/100\n",
      "22/22 [==============================] - 0s 9ms/step - loss: 1.0665 - accuracy: 0.8176 - val_loss: 1.1776 - val_accuracy: 0.7815\n",
      "Epoch 47/100\n",
      "22/22 [==============================] - 0s 9ms/step - loss: 1.0598 - accuracy: 0.8278 - val_loss: 1.1352 - val_accuracy: 0.7934\n",
      "Epoch 48/100\n",
      "22/22 [==============================] - 0s 9ms/step - loss: 1.0424 - accuracy: 0.8265 - val_loss: 1.1467 - val_accuracy: 0.7824\n",
      "Epoch 49/100\n",
      "22/22 [==============================] - 0s 9ms/step - loss: 1.0320 - accuracy: 0.8315 - val_loss: 1.1476 - val_accuracy: 0.7925\n",
      "Epoch 50/100\n",
      "22/22 [==============================] - 0s 9ms/step - loss: 1.0481 - accuracy: 0.8217 - val_loss: 1.1325 - val_accuracy: 0.7843\n",
      "Epoch 51/100\n",
      "22/22 [==============================] - 0s 9ms/step - loss: 1.0128 - accuracy: 0.8420 - val_loss: 1.1551 - val_accuracy: 0.7806\n",
      "Epoch 52/100\n",
      "22/22 [==============================] - 0s 9ms/step - loss: 1.0027 - accuracy: 0.8413 - val_loss: 1.1174 - val_accuracy: 0.7879\n",
      "Epoch 53/100\n",
      "22/22 [==============================] - 0s 9ms/step - loss: 1.0006 - accuracy: 0.8377 - val_loss: 1.1278 - val_accuracy: 0.7843\n",
      "Epoch 54/100\n",
      "22/22 [==============================] - 0s 10ms/step - loss: 0.9764 - accuracy: 0.8443 - val_loss: 1.1550 - val_accuracy: 0.7834\n",
      "Epoch 55/100\n",
      "22/22 [==============================] - 0s 11ms/step - loss: 0.9765 - accuracy: 0.8475 - val_loss: 1.1005 - val_accuracy: 0.7934\n",
      "Epoch 56/100\n",
      "22/22 [==============================] - 0s 10ms/step - loss: 0.9813 - accuracy: 0.8432 - val_loss: 1.1367 - val_accuracy: 0.7824\n",
      "Epoch 57/100\n",
      "22/22 [==============================] - 0s 10ms/step - loss: 0.9661 - accuracy: 0.8496 - val_loss: 1.1096 - val_accuracy: 0.7962\n",
      "Epoch 58/100\n",
      "22/22 [==============================] - 0s 10ms/step - loss: 0.9646 - accuracy: 0.8487 - val_loss: 1.0919 - val_accuracy: 0.8035\n",
      "Epoch 59/100\n",
      "22/22 [==============================] - 0s 10ms/step - loss: 0.9703 - accuracy: 0.8505 - val_loss: 1.1069 - val_accuracy: 0.7962\n",
      "Epoch 60/100\n",
      "22/22 [==============================] - 0s 10ms/step - loss: 0.9621 - accuracy: 0.8480 - val_loss: 1.0831 - val_accuracy: 0.8126\n",
      "Epoch 61/100\n",
      "22/22 [==============================] - 0s 10ms/step - loss: 0.9387 - accuracy: 0.8541 - val_loss: 1.0950 - val_accuracy: 0.8026\n",
      "Epoch 62/100\n",
      "22/22 [==============================] - 0s 10ms/step - loss: 0.9357 - accuracy: 0.8601 - val_loss: 1.0778 - val_accuracy: 0.8144\n",
      "Epoch 63/100\n",
      "22/22 [==============================] - 0s 10ms/step - loss: 0.9491 - accuracy: 0.8493 - val_loss: 1.1081 - val_accuracy: 0.7989\n",
      "Epoch 64/100\n",
      "22/22 [==============================] - 0s 10ms/step - loss: 0.9329 - accuracy: 0.8603 - val_loss: 1.0975 - val_accuracy: 0.7989\n",
      "Epoch 65/100\n",
      "22/22 [==============================] - 0s 10ms/step - loss: 0.9170 - accuracy: 0.8651 - val_loss: 1.0801 - val_accuracy: 0.8071\n",
      "Epoch 66/100\n",
      "22/22 [==============================] - 0s 10ms/step - loss: 0.9196 - accuracy: 0.8553 - val_loss: 1.1083 - val_accuracy: 0.8044\n",
      "Epoch 67/100\n",
      "22/22 [==============================] - 0s 10ms/step - loss: 0.9334 - accuracy: 0.8532 - val_loss: 1.0797 - val_accuracy: 0.7907\n",
      "Epoch 68/100\n",
      "22/22 [==============================] - 0s 10ms/step - loss: 0.9044 - accuracy: 0.8635 - val_loss: 1.0736 - val_accuracy: 0.8026\n",
      "Epoch 69/100\n",
      "22/22 [==============================] - 0s 9ms/step - loss: 0.8992 - accuracy: 0.8706 - val_loss: 1.1033 - val_accuracy: 0.7916\n",
      "Epoch 70/100\n",
      "22/22 [==============================] - 0s 9ms/step - loss: 0.8976 - accuracy: 0.8621 - val_loss: 1.0621 - val_accuracy: 0.8062\n",
      "Epoch 71/100\n",
      "22/22 [==============================] - 0s 9ms/step - loss: 0.9100 - accuracy: 0.8576 - val_loss: 1.0838 - val_accuracy: 0.8126\n",
      "Epoch 72/100\n",
      "22/22 [==============================] - 0s 10ms/step - loss: 0.8825 - accuracy: 0.8717 - val_loss: 1.0559 - val_accuracy: 0.8108\n",
      "Epoch 73/100\n",
      "22/22 [==============================] - 0s 9ms/step - loss: 0.8827 - accuracy: 0.8715 - val_loss: 1.0371 - val_accuracy: 0.8117\n",
      "Epoch 74/100\n",
      "22/22 [==============================] - 0s 10ms/step - loss: 0.9016 - accuracy: 0.8660 - val_loss: 1.0509 - val_accuracy: 0.8071\n",
      "Epoch 75/100\n",
      "22/22 [==============================] - 0s 10ms/step - loss: 0.8775 - accuracy: 0.8752 - val_loss: 1.0485 - val_accuracy: 0.8117\n",
      "Epoch 76/100\n",
      "22/22 [==============================] - 0s 9ms/step - loss: 0.8698 - accuracy: 0.8706 - val_loss: 1.0367 - val_accuracy: 0.8272\n",
      "Epoch 77/100\n",
      "22/22 [==============================] - 0s 9ms/step - loss: 0.8670 - accuracy: 0.8747 - val_loss: 1.0546 - val_accuracy: 0.8126\n",
      "Epoch 78/100\n",
      "22/22 [==============================] - 0s 10ms/step - loss: 0.8712 - accuracy: 0.8756 - val_loss: 1.0446 - val_accuracy: 0.8135\n",
      "Epoch 79/100\n",
      "22/22 [==============================] - 0s 10ms/step - loss: 0.8618 - accuracy: 0.8740 - val_loss: 1.0158 - val_accuracy: 0.8227\n",
      "Epoch 80/100\n",
      "22/22 [==============================] - 0s 9ms/step - loss: 0.8575 - accuracy: 0.8765 - val_loss: 1.0572 - val_accuracy: 0.8144\n",
      "Epoch 81/100\n",
      "22/22 [==============================] - 0s 9ms/step - loss: 0.8528 - accuracy: 0.8745 - val_loss: 1.0491 - val_accuracy: 0.7989\n",
      "Epoch 82/100\n",
      "22/22 [==============================] - 0s 10ms/step - loss: 0.8674 - accuracy: 0.8679 - val_loss: 1.0575 - val_accuracy: 0.8099\n",
      "Epoch 83/100\n",
      "22/22 [==============================] - 0s 9ms/step - loss: 0.8671 - accuracy: 0.8676 - val_loss: 1.0341 - val_accuracy: 0.8135\n",
      "Epoch 84/100\n",
      "22/22 [==============================] - 0s 10ms/step - loss: 0.8606 - accuracy: 0.8761 - val_loss: 1.0454 - val_accuracy: 0.8062\n",
      "Epoch 85/100\n",
      "22/22 [==============================] - 0s 10ms/step - loss: 0.8470 - accuracy: 0.8797 - val_loss: 1.0203 - val_accuracy: 0.8218\n",
      "Epoch 86/100\n",
      "22/22 [==============================] - 0s 9ms/step - loss: 0.8450 - accuracy: 0.8747 - val_loss: 1.0256 - val_accuracy: 0.8163\n",
      "Epoch 87/100\n",
      "22/22 [==============================] - 0s 9ms/step - loss: 0.8362 - accuracy: 0.8811 - val_loss: 1.0537 - val_accuracy: 0.8062\n",
      "Epoch 88/100\n",
      "22/22 [==============================] - 0s 10ms/step - loss: 0.8457 - accuracy: 0.8770 - val_loss: 1.0382 - val_accuracy: 0.8208\n",
      "Epoch 89/100\n",
      "22/22 [==============================] - 0s 9ms/step - loss: 0.8449 - accuracy: 0.8809 - val_loss: 1.0504 - val_accuracy: 0.8172\n",
      "Epoch 90/100\n",
      "22/22 [==============================] - 0s 9ms/step - loss: 0.8273 - accuracy: 0.8873 - val_loss: 1.0108 - val_accuracy: 0.8218\n",
      "Epoch 91/100\n",
      "22/22 [==============================] - 0s 9ms/step - loss: 0.8354 - accuracy: 0.8777 - val_loss: 1.0218 - val_accuracy: 0.8154\n",
      "Epoch 92/100\n",
      "22/22 [==============================] - 0s 9ms/step - loss: 0.8394 - accuracy: 0.8804 - val_loss: 1.0040 - val_accuracy: 0.8373\n",
      "Epoch 93/100\n",
      "22/22 [==============================] - 0s 9ms/step - loss: 0.8243 - accuracy: 0.8852 - val_loss: 1.0327 - val_accuracy: 0.8190\n",
      "Epoch 94/100\n",
      "22/22 [==============================] - 0s 9ms/step - loss: 0.8235 - accuracy: 0.8802 - val_loss: 0.9980 - val_accuracy: 0.8291\n",
      "Epoch 95/100\n",
      "22/22 [==============================] - 0s 11ms/step - loss: 0.8150 - accuracy: 0.8855 - val_loss: 0.9969 - val_accuracy: 0.8263\n",
      "Epoch 96/100\n",
      "22/22 [==============================] - 0s 10ms/step - loss: 0.7974 - accuracy: 0.8992 - val_loss: 0.9958 - val_accuracy: 0.8208\n",
      "Epoch 97/100\n",
      "22/22 [==============================] - 0s 10ms/step - loss: 0.7982 - accuracy: 0.8896 - val_loss: 1.0185 - val_accuracy: 0.8172\n",
      "Epoch 98/100\n",
      "22/22 [==============================] - 0s 9ms/step - loss: 0.7947 - accuracy: 0.8930 - val_loss: 1.0223 - val_accuracy: 0.8272\n",
      "Epoch 99/100\n",
      "22/22 [==============================] - 0s 10ms/step - loss: 0.8093 - accuracy: 0.8845 - val_loss: 1.0269 - val_accuracy: 0.8208\n",
      "Epoch 100/100\n",
      "22/22 [==============================] - 0s 10ms/step - loss: 0.8176 - accuracy: 0.8811 - val_loss: 0.9931 - val_accuracy: 0.8455\n",
      "CPU times: total: 29.8 s\n",
      "Wall time: 22 s\n"
     ]
    }
   ],
   "source": [
    "%%time\n",
    "batch_size = 200\n",
    "epochs = 100\n",
    "\n",
    "history = model.fit(\n",
    "  X_train, y_train,\n",
    "  batch_size=batch_size,\n",
    "  epochs=epochs,\n",
    "  validation_split=0.2,\n",
    "  shuffle=True,\n",
    "  callbacks=[model_checkpoint_callback, lrate_scheduler_callback]\n",
    ")"
   ]
  },
  {
   "cell_type": "code",
   "execution_count": 26,
   "metadata": {},
   "outputs": [
    {
     "data": {
      "image/png": "[encoded data removed]",
      "text/plain": [
       "<Figure size 1000x600 with 1 Axes>"
      ]
     },
     "metadata": {},
     "output_type": "display_data"
    }
   ],
   "source": [
    "plt.figure(figsize=(10, 6))\n",
    "plt.plot(history.history['accuracy'])\n",
    "plt.plot(history.history['val_accuracy'])\n",
    "plt.title('model accuracy')\n",
    "plt.ylabel('accuracy')\n",
    "plt.xlabel('epoch')\n",
    "plt.legend(['train', 'val'], loc='upper left')\n",
    "plt.show()"
   ]
  },
  {
   "cell_type": "code",
   "execution_count": 27,
   "metadata": {},
   "outputs": [
    {
     "name": "stdout",
     "output_type": "stream",
     "text": [
      "train set accuracy: 0.88\n",
      "validation set accuracy: 0.85\n"
     ]
    }
   ],
   "source": [
    "length = len(history.history['accuracy'])\n",
    "print(\"train set accuracy:\", round(history.history['accuracy'][length-1], 2))\n",
    "print(\"validation set accuracy:\", round(history.history['val_accuracy'][length-1], 2))"
   ]
  },
  {
   "cell_type": "code",
   "execution_count": 28,
   "metadata": {},
   "outputs": [
    {
     "name": "stdout",
     "output_type": "stream",
     "text": [
      "43/43 [==============================] - 0s 3ms/step - loss: 1.0548 - accuracy: 0.8208\n",
      "test set accuracy: 0.82\n"
     ]
    }
   ],
   "source": [
    "# model.load_weights(\"models/checkpoints/famous48_test_model_v2_best.keras\")\n",
    "results = model.evaluate(X_test, y_test)\n",
    "print(\"test set accuracy:\", round(results[1], 2))"
   ]
  }
 ],
 "metadata": {
  "kernelspec": {
   "display_name": "env_torch",
   "language": "python",
   "name": "python3"
  },
  "language_info": {
   "codemirror_mode": {
    "name": "ipython",
    "version": 3
   },
   "file_extension": ".py",
   "mimetype": "text/x-python",
   "name": "python",
   "nbconvert_exporter": "python",
   "pygments_lexer": "ipython3",
   "version": "3.12.3"
  }
 },
 "nbformat": 4,
 "nbformat_minor": 2
}
