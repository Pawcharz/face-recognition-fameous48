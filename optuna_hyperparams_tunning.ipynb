{
 "cells": [
  {
   "cell_type": "code",
   "execution_count": 1,
   "metadata": {},
   "outputs": [],
   "source": [
    "import numpy as np\n",
    "import tensorflow as tf\n",
    "from tensorflow import keras\n",
    "\n",
    "import optuna"
   ]
  },
  {
   "cell_type": "code",
   "execution_count": 2,
   "metadata": {},
   "outputs": [],
   "source": [
    "# make the result reproducible\n",
    "keras.utils.set_random_seed(42)"
   ]
  },
  {
   "cell_type": "code",
   "execution_count": 3,
   "metadata": {},
   "outputs": [
    {
     "name": "stdout",
     "output_type": "stream",
     "text": [
      "[PhysicalDevice(name='/physical_device:CPU:0', device_type='CPU'), PhysicalDevice(name='/physical_device:GPU:0', device_type='GPU')]\n"
     ]
    }
   ],
   "source": [
    "physical_devices = tf.config.list_physical_devices()\n",
    "print(physical_devices)"
   ]
  },
  {
   "cell_type": "code",
   "execution_count": 4,
   "metadata": {},
   "outputs": [],
   "source": [
    "tf.config.set_visible_devices(physical_devices[1], 'GPU')"
   ]
  },
  {
   "cell_type": "code",
   "execution_count": 5,
   "metadata": {},
   "outputs": [],
   "source": [
    "from utils.constrains import CLASSES, IMAGE_SIZE\n",
    "\n",
    "BATCH_SIZE = 200\n",
    "EPOCHS = 60"
   ]
  },
  {
   "cell_type": "code",
   "execution_count": 6,
   "metadata": {},
   "outputs": [],
   "source": [
    "from keras import layers, regularizers, Sequential, Input\n",
    "from keras.optimizers import SGD, Adam\n",
    "from keras.losses import categorical_crossentropy\n",
    "\n",
    "def define_model(trial):\n",
    "\n",
    "  conv_regularizer = regularizers.l2(l=trial.suggest_float(\"conv_regularizer\", 0.0001, 0.001)) # 0.0008\n",
    "  dense_regularizer = regularizers.l2(l=trial.suggest_float(\"dense_regularizer\", 0.005, 0.05)) # 0.01\n",
    "\n",
    "  dropout_base =trial.suggest_float(\"dropout_base\", 0, 0.4)\n",
    "  dropout_increment = trial.suggest_float(\"dropout_increment\", 0, 0.25)\n",
    "  activation_def = 'tanh' # trial.suggest_categorical(\"activation_def\", [\"tanh\", \"relu\"])\n",
    "  \n",
    "  model = Sequential(\n",
    "    [\n",
    "      Input(shape=(IMAGE_SIZE, IMAGE_SIZE, 1)),\n",
    "      layers.Conv2D(6, kernel_size=5, padding='same', activation=activation_def, kernel_regularizer=conv_regularizer),\n",
    "      layers.MaxPooling2D(pool_size=2, strides=2),\n",
    "      \n",
    "      layers.Dropout(dropout_base),\n",
    "      layers.Conv2D(16, kernel_size=5, padding='same', activation=activation_def, kernel_regularizer=conv_regularizer),\n",
    "      layers.MaxPooling2D(pool_size=2, strides=2),\n",
    "      \n",
    "      layers.Dropout(dropout_base + 1*dropout_increment),\n",
    "      layers.Conv2D(120, kernel_size=5, padding='same', activation=activation_def, kernel_regularizer=conv_regularizer),\n",
    "      \n",
    "      layers.Flatten(),\n",
    "      layers.Dropout(dropout_base + 2*dropout_increment),\n",
    "      layers.Dense(84, activation=activation_def, kernel_regularizer=dense_regularizer),\n",
    "      layers.Dense(CLASSES, activation='softmax'),\n",
    "    ]\n",
    "  )\n",
    "  \n",
    "  optimizer = Adam(learning_rate=0.001)\n",
    "\n",
    "  model.compile(loss=categorical_crossentropy, optimizer=optimizer, metrics=[\"accuracy\"])\n",
    "  \n",
    "  return model"
   ]
  },
  {
   "cell_type": "code",
   "execution_count": 7,
   "metadata": {},
   "outputs": [],
   "source": [
    "# Defines training and evaluation.\n",
    "def train_model(model, X_train, y_train):\n",
    "  \n",
    "  history = model.fit(\n",
    "    X_train, y_train,\n",
    "    batch_size=BATCH_SIZE,\n",
    "    epochs=EPOCHS,\n",
    "    validation_split=0.2,\n",
    "    shuffle=True,\n",
    "    verbose=0,\n",
    "  )\n",
    "  \n",
    "  return history\n",
    "\n",
    "def evaluate_trial(history):\n",
    "  MEASUREMENT_SPAN = 5\n",
    "  length = len(history.history['accuracy'])\n",
    "  \n",
    "  acc = np.mean(history.history['accuracy'][length-MEASUREMENT_SPAN:])\n",
    "  val_acc = np.mean(history.history['val_accuracy'][length-MEASUREMENT_SPAN:])\n",
    "\n",
    "  # Should be minimized\n",
    "  difference = acc - val_acc\n",
    "  \n",
    "  return val_acc, difference"
   ]
  },
  {
   "cell_type": "code",
   "execution_count": 8,
   "metadata": {},
   "outputs": [],
   "source": [
    "from utils.load_dataset import load_dataset\n",
    "\n",
    "DIRPATH = './data'\n",
    "X_train, X_test, y_train, y_test = load_dataset(DIRPATH)\n",
    "\n",
    "def objective(trial):  \n",
    "  model = define_model(trial)\n",
    "  \n",
    "  history = train_model(model, X_train, y_train)\n",
    "  val_acc, difference = evaluate_trial(history)\n",
    "  return val_acc, difference"
   ]
  },
  {
   "cell_type": "code",
   "execution_count": 9,
   "metadata": {},
   "outputs": [
    {
     "name": "stderr",
     "output_type": "stream",
     "text": [
      "[I 2024-05-13 17:10:36,013] A new study created in memory with name: no-name-35b0556f-df25-4e7d-9054-eff16d389730\n",
      "[I 2024-05-13 17:10:54,029] Trial 0 finished with values: [0.7396709322929382, -0.021838283538818337] and parameters: {'conv_regularizer': 0.00028613476045069087, 'dense_regularizer': 0.0394008739253034, 'dropout_base': 0.2722574395655608, 'dropout_increment': 0.09478758542340662}. \n",
      "[I 2024-05-13 17:11:07,143] Trial 1 finished with values: [0.7716636061668396, 0.11096098423004153] and parameters: {'conv_regularizer': 0.00028052644960810895, 'dense_regularizer': 0.03011617015950931, 'dropout_base': 0.03421660063882932, 'dropout_increment': 0.06876648844401273}. \n",
      "[I 2024-05-13 17:11:19,998] Trial 2 finished with values: [0.7840950608253479, 0.028250622749328658] and parameters: {'conv_regularizer': 0.0008899988456323993, 'dense_regularizer': 0.018699125115052097, 'dropout_base': 0.14105682038169562, 'dropout_increment': 0.14579671662781815}. \n",
      "[I 2024-05-13 17:11:33,038] Trial 3 finished with values: [0.7875685453414917, 0.05413241386413581] and parameters: {'conv_regularizer': 0.0005544224681888239, 'dense_regularizer': 0.01948434404999381, 'dropout_base': 0.10601452644717511, 'dropout_increment': 0.09281015788360744}. \n",
      "[I 2024-05-13 17:11:46,062] Trial 4 finished with values: [0.7678244829177856, -0.04070971012115476] and parameters: {'conv_regularizer': 0.0002325457881713618, 'dense_regularizer': 0.0066979493877495026, 'dropout_base': 0.25562001627379294, 'dropout_increment': 0.19887852779212642}. \n",
      "[I 2024-05-13 17:11:59,309] Trial 5 finished with values: [0.7542961478233338, 0.021606922149658203] and parameters: {'conv_regularizer': 0.0009272533137992234, 'dense_regularizer': 0.046233287083950775, 'dropout_base': 0.03402798021533533, 'dropout_increment': 0.24800817434409178}. \n",
      "[I 2024-05-13 17:12:12,463] Trial 6 finished with values: [0.6758683681488037, -0.11235669851303098] and parameters: {'conv_regularizer': 0.0005990505200199179, 'dense_regularizer': 0.031823521152815386, 'dropout_base': 0.3827625132416239, 'dropout_increment': 0.188678896734198}. \n",
      "[I 2024-05-13 17:12:25,705] Trial 7 finished with values: [0.7707495331764221, 0.02371778488159182] and parameters: {'conv_regularizer': 0.0005143643342379543, 'dense_regularizer': 0.03103385011080023, 'dropout_base': 0.20694010512297745, 'dropout_increment': 0.0013175102632798918}. \n",
      "[I 2024-05-13 17:12:39,283] Trial 8 finished with values: [0.8080438852310181, 0.12506082057952872] and parameters: {'conv_regularizer': 0.0008378321727008776, 'dense_regularizer': 0.008354572342303267, 'dropout_base': 0.0652291733249815, 'dropout_increment': 0.03184424589629428}. \n",
      "[I 2024-05-13 17:12:52,378] Trial 9 finished with values: [0.7312614321708679, -0.0733739018440247] and parameters: {'conv_regularizer': 0.0008205392082365672, 'dense_regularizer': 0.023340743052087838, 'dropout_base': 0.33042922147648013, 'dropout_increment': 0.14325128881049068}. \n",
      "[I 2024-05-13 17:13:05,527] Trial 10 finished with values: [0.7583180904388428, 0.06426993608474729] and parameters: {'conv_regularizer': 0.0004884670478731636, 'dense_regularizer': 0.049533727316902275, 'dropout_base': 0.030268430927328227, 'dropout_increment': 0.11043610429570092}. \n",
      "[I 2024-05-13 17:13:18,470] Trial 11 finished with values: [0.7654478907585144, -0.019814622402191118] and parameters: {'conv_regularizer': 0.0007827988763964259, 'dense_regularizer': 0.022464410711296134, 'dropout_base': 0.2995202634499693, 'dropout_increment': 0.048449046440435795}. \n",
      "[I 2024-05-13 17:13:31,345] Trial 12 finished with values: [0.7036562919616699, -0.05550814867019649] and parameters: {'conv_regularizer': 0.0004440515802986026, 'dense_regularizer': 0.03285503623812356, 'dropout_base': 0.31309637930417406, 'dropout_increment': 0.16148684317246373}. \n",
      "[I 2024-05-13 17:13:44,176] Trial 13 finished with values: [0.7466179132461548, -0.001396143436431907] and parameters: {'conv_regularizer': 0.0004205575253287522, 'dense_regularizer': 0.03772408131023282, 'dropout_base': 0.15091994069545414, 'dropout_increment': 0.19141708042045769}. \n",
      "[I 2024-05-13 17:13:57,296] Trial 14 finished with values: [0.7672760367393494, 0.06692606210708618] and parameters: {'conv_regularizer': 0.0009281401559351106, 'dense_regularizer': 0.0344068278976343, 'dropout_base': 0.04481501695803432, 'dropout_increment': 0.14610846457692753}. \n",
      "[I 2024-05-13 17:14:10,311] Trial 15 finished with values: [0.8018281579017639, 0.0921818971633912] and parameters: {'conv_regularizer': 0.0009921843973697258, 'dense_regularizer': 0.007734513179305436, 'dropout_base': 0.0006562115124656654, 'dropout_increment': 0.18664166597910836}. \n",
      "[I 2024-05-13 17:14:23,513] Trial 16 finished with values: [0.7957952499389649, 0.055919444561004616] and parameters: {'conv_regularizer': 0.0009096443481619992, 'dense_regularizer': 0.011905583599301073, 'dropout_base': 0.09439855997376015, 'dropout_increment': 0.14131761625994724}. \n",
      "[I 2024-05-13 17:14:36,552] Trial 17 finished with values: [0.6824497222900391, -0.060227489471435525] and parameters: {'conv_regularizer': 0.0008025428103376907, 'dense_regularizer': 0.046364824560717166, 'dropout_base': 0.37677182422829897, 'dropout_increment': 0.10798158268203226}. \n",
      "[I 2024-05-13 17:14:49,476] Trial 18 finished with values: [0.7542961597442627, -0.054890573024749756] and parameters: {'conv_regularizer': 0.00012039235536043577, 'dense_regularizer': 0.0076744601392507794, 'dropout_base': 0.3937043945200693, 'dropout_increment': 0.07357529525488357}. \n",
      "[I 2024-05-13 17:15:02,887] Trial 19 finished with values: [0.7535648941993713, -0.00011267662048342064] and parameters: {'conv_regularizer': 0.000634184333566239, 'dense_regularizer': 0.0269959192048553, 'dropout_base': 0.2647619991302592, 'dropout_increment': 0.03344283914777613}. \n",
      "[I 2024-05-13 17:15:15,985] Trial 20 finished with values: [0.6923217535018921, -0.06740175485610955] and parameters: {'conv_regularizer': 0.0006912679276219511, 'dense_regularizer': 0.03404790403158273, 'dropout_base': 0.34466519355338526, 'dropout_increment': 0.1307131848611337}. \n",
      "[I 2024-05-13 17:15:28,774] Trial 21 finished with values: [0.764716625213623, 0.05974609851837154] and parameters: {'conv_regularizer': 0.0009694544318515044, 'dense_regularizer': 0.04630271049838371, 'dropout_base': 0.026793752819261753, 'dropout_increment': 0.09416750019206357}. \n",
      "[I 2024-05-13 17:15:41,732] Trial 22 finished with values: [0.6873857378959656, -0.06950736045837402] and parameters: {'conv_regularizer': 0.0009227471467316623, 'dense_regularizer': 0.04836745981745929, 'dropout_base': 0.3629925690154926, 'dropout_increment': 0.131698615500973}. \n"
     ]
    },
    {
     "name": "stdout",
     "output_type": "stream",
     "text": [
      "Number of finished trials:  23\n"
     ]
    }
   ],
   "source": [
    "study = optuna.create_study(directions=[\"maximize\", \"minimize\"])\n",
    "study.optimize(objective, n_trials=30, timeout=300)\n",
    "\n",
    "print(\"Number of finished trials: \", len(study.trials))"
   ]
  }
 ],
 "metadata": {
  "kernelspec": {
   "display_name": "env_torch",
   "language": "python",
   "name": "python3"
  },
  "language_info": {
   "codemirror_mode": {
    "name": "ipython",
    "version": 3
   },
   "file_extension": ".py",
   "mimetype": "text/x-python",
   "name": "python",
   "nbconvert_exporter": "python",
   "pygments_lexer": "ipython3",
   "version": "3.10.13"
  }
 },
 "nbformat": 4,
 "nbformat_minor": 2
}
